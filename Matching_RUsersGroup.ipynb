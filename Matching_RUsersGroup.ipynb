{
  "nbformat": 4,
  "nbformat_minor": 0,
  "metadata": {
    "colab": {
      "provenance": [],
      "authorship_tag": "ABX9TyPVWwc5QZ7xSm7HRaj0h7jd",
      "include_colab_link": true
    },
    "kernelspec": {
      "name": "ir",
      "display_name": "R"
    },
    "language_info": {
      "name": "R"
    }
  },
  "cells": [
    {
      "cell_type": "markdown",
      "metadata": {
        "id": "view-in-github",
        "colab_type": "text"
      },
      "source": [
        "<a href=\"https://colab.research.google.com/github/pacayton/Causal_Inference_Sessions/blob/main/Matching_RUsersGroup.ipynb\" target=\"_parent\"><img src=\"https://colab.research.google.com/assets/colab-badge.svg\" alt=\"Open In Colab\"/></a>"
      ]
    },
    {
      "cell_type": "markdown",
      "source": [
        "# Matching Methods for Estimating Causal Effects in R\n",
        "## Peter Julian Cayton\n",
        "### Associate Professor of Forecasting Analytics and Statistics\n",
        "### School  of Statistics, University of the Philippines Diliman\n",
        "### [LinkedIn](https://www.linkedin.com/in/peter-julian-cayton-90a0a524/), [Google Scholar](https://scholar.google.com/citations?user=KtH_mGEAAAAJ),  [X (formerly Twitter)](https://twitter.com/PJACaytonPhD)\n",
        "\n",
        "---\n",
        "\n",
        "In this Google Colab notebook, we will talk about the different methods of matching data that helps us estimate and extract the effect or impact of interventions, treatments, or policies.\n",
        "\n",
        "First, we will talk about causal inference, a budding field in data science and analytics, and its philosophical foundations and basic concepts that will get us started.\n",
        "\n",
        "The next topic that we will talk about is matching methods and how it is used in causal inference. We will discuss about its basic framework and the multiple settings and specifications one can have with matching.\n",
        "\n",
        "This will be followed by some sample runs from existing openly-available data.\n",
        "\n",
        "I will also share some references for those who would like to learn more about matching and causal inference in general that also use R. These references are great for those beginning their journey in causal inference.\n",
        "\n",
        "---"
      ],
      "metadata": {
        "id": "AlQlO46vqb50"
      }
    },
    {
      "cell_type": "markdown",
      "source": [
        "# 1) Causal Inference\n",
        "\n",
        "Causal inference is a field of data analysis that involves a system of methods, algorithms, and approaches for extracting and estimating the causal or treatment effects of interventions, treatments, or policies and making further inferences or generalizations about those effects on a wider scope or population (Bauer 2020; O'Grady 2020).\n",
        "\n",
        "## Basic Terms in Causal Inference\n",
        "\n",
        "### Dependent Variable\n",
        "\n",
        "- \"outcome\" or \"response\" variable\n",
        "- variable of interest of which its changes would be explained by probable causes.\n",
        "- Denoted as the variable Y.\n",
        "- May be discrete/categorical (e.g., Cured/Not, Yes/No, None/Asymptomatic/Mild/Severe/Critical)\n",
        "- May be numerical (Income, Price, Temperature)\n",
        "- May be univariate or multivariate; we generally discuss assuming univariate response.\n",
        "\n",
        "### Treatment Variable\n",
        "- Also known as “intervention”, “exposure”, “policy”\n",
        "- Variable that is assumed to and is tested for being the cause for changes to outcome or response\n",
        "- Denoted by D, T, or X\n",
        "- May be binary (Experimental/Control), categorical (Method A/B/C), continuous (different doses), or multivariate (multiple medicines with differing doses).\n",
        "- Treatment levels = different values of the treatment variable.\n",
        "\n",
        "### Covariates\n",
        "- Also known as control variables\n",
        "- Variable that is assumed to influence the dependent variable but is not generally tested for being the cause for changes to outcome or response\n",
        "- Denoted by Z or X\n",
        "- Generally, they are numerical; categorical variables of similar nature are called “blocking variables” in experimental designs\n",
        "\n",
        "### Error Terms\n",
        "- Sometimes known as residuals, residues, idiosyncratic component, random component\n",
        "- Generally denoted by $ϵ$ or U\n",
        "\n",
        "### Confounders\n",
        "- Variable that may influence both treatment variable and response variable.\n",
        "- Denoted by any Latin letter\n",
        "- Some confounders may be observed and can be included as terms in a statistical model\n",
        "- Often, confounders may be unobserved and may make our causal conclusions invalid or biased.\n",
        "\n",
        "I will skip some other concepts in causal inference, e.g., Potential Outcomes, Causal Directed Acyclic Graphs, the Fundamental Problem of Causal Inference, Stable Unit Treatment Value Assumption (SUTVA), and Validity Concerns in Inference.\n",
        "\n",
        "I highly suggest reading the references for more details.\n",
        "\n",
        "---\n",
        "\n",
        "\n",
        "## Correlation does not imply causation...\n",
        "\n",
        "Also known as \"cum hoc ergo propter hoc\", meaning \"with this, therefore because of this\" fallacy. This is because correlation and association measures between two variables, say X and Y, would manifest because of the following reasons:\n",
        "\n",
        "1. X causes Y ($ X → Y $)\n",
        "2. Y causes X ($ Y → X $)\n",
        "3. X and Y cause each other, also known as endogeneity or biconditionality ($ X ↔ Y$)\n",
        "4. X and Y are linked to a third variable, Z, which is a confounding variable ($ X ← Z → Y $)\n",
        "\n",
        "The problem is that with correlation measures, the direction of causation or its structure is indistinguishable without proper tools to break down which reason.\n",
        "\n",
        "One of the greatest examples of this is Spurious Correlation website by Tyler Vigen (https://www.tylervigen.com/spurious-correlations)\n",
        "\n",
        "## ... however, no correlation does not necessarily mean no causation\n",
        "\n",
        "It is possible to have (Cunningham 2021):\n",
        "\n",
        "1. Nonlinear systems for causality (e.g., quadratic, sinusoidal)\n",
        "2. Complex systems with multiple variables muddying up the causal link\n",
        "3. In time series data, delays in impact where the causal effects are not correlated to occurrence of interventions.\n",
        "\n",
        "\n",
        "---\n",
        "\n",
        "\n",
        "## Scope of Causality for Discussion\n",
        "\n",
        "For our discussion, the type of causality that we will be talking about has the following scope\n",
        "\n",
        "1. *Temporality* = only 1 direction of causality, in which the cause happens first before the effect. We will set aside endogeneity or two-directional causality (Bauer 2020).\n",
        "\n",
        "2. *Probabilistic Causality* = for events A and B, if doing the action A increases the probability of event B, then A probabilistically causes B (Bauer 2020).\n",
        "\n",
        "$$ P(B|do(A), Z =z) > P(B|Z=z)$$\n",
        "\n",
        "---\n",
        "\n",
        "\n",
        "## Five Canons in Proving Causation\n",
        "\n",
        "Here are some ways that we may be able to conclude or prove causation (Mill 1846; quoted in Brumback 2022):\n",
        "\n",
        "1. *Method of Agreement*: if 2 or more instances of the phenomenon under investigation have only 1 common curcumstance, then this common circumstance is the cause or effect of the given phenomenon.\n",
        "> Essentially, an example of this commmon instance would be receiving similar treatment.\n",
        "\n",
        "2. *Method of Difference*: Given an instance in which the phenomenon under investigation occurs and another instance in which the phenomenon does not occur, if these two instances have everything else in common except for one feature, then the feature that is not common to them may be an effect, a cause, or a necessary part of the cause.\n",
        "> This means that to extract or estimate causal or treatment effect, it is important that other factors or variables are similar between units from the treatment and the control groups. This is an important principle for matching.\n",
        "\n",
        "3. *Joint Method of Agreement and Difference*: If two or more instances of the phenomenon in which the phenomenon occurs have 1 feature in common, while 2 or more instances in which it does not occurs does not have the feature, then the feature may be the effect, cause, or a necessary part of the cause.\n",
        "> This just combines the first 2 canons and thus is self-explanatory.\n",
        "\n",
        "4. *Method of Residues*: Subtracting any previously known effect or impact other factors or antecedents, the residue/residual of the phenomenon is the effect of remaining antecedents or causes.\n",
        "> This just opens the idea that we can refine estimation of causal or treatment effects by taking account of other factors, but still in keeping with the first 3 canons.\n",
        "\n",
        "5. *Method of Concomitant Variations*: Whatever phenomenon varies in any manner whenever another phenomenon varies in some particular manner is either the cause, the effect, or connected with it through some fact of causation.\n",
        "> This is similar to the concept that underlies analysis of variance decomposition and R-Square, where the variability of the outcome can be explained by the variability or behavior of input or independent variables.\n",
        "\n",
        "You might notice that common in these canons that they mention the phrase \"may be the cause or the effect\", in which temporality plays a factor to determine whether it is a cause or an effect.\n",
        "\n",
        "---\n",
        "\n",
        "## The Estimation Problem for Causal Inference\n",
        "\n",
        "Often, when we think about estimating the average treatment effect [ATE] between the treatment ($T =1$) and the control ($T=0$) groups, we may start with the simple difference of group means [SDGM].\n",
        "\n",
        "However, it is shown by Cunningham (2021) that SDGM is potentially biased and can be decomposed into:\n",
        "\n",
        "$$ SDGM = ATE + Selection Bias + Heterogenous Treatment Effect Bias $$\n",
        "\n",
        "In a balanced research design, heterogenous treatment effect can become 0, so a well-planned experiment or research design is necessary to address this.\n",
        "\n",
        "Selection bias can be eliminated by randomization of assigned treatment so properly designed randomized experiments already have this type of bias as 0.\n",
        "\n",
        "However for observational studies, selection bias is still problematic as researchers are not able to randomize the group assignment of units.\n",
        "\n",
        "In addressing selection bias, often an alternative paradigm of inference is used, and matching methods helps in addressing this bias.\n",
        "\n",
        "\n",
        "---\n",
        "\n",
        "\n",
        "## Selection on Observables\n",
        "\n",
        "In doing causal research, the gold standard to estimate causal effect would be a properly designed experiment in which (Cunningham 2021; O'Grady 2020):\n",
        "\n",
        "1. units are assigned to treatment or control groups via a random assignment [randomized experiment], and\n",
        "\n",
        "2. the treatment and control groups have similar distribution of values for all relevant covariates, for both observed and unobserved variables [covariate balance].\n",
        "\n",
        "With clinical settings, this can be easily planned and executed, but for observational research, e.g. field surveys or social experiments, these features may be difficult to be achieved.\n",
        "\n",
        "An example where this may difficult are in causal studies in smoking vis-a-vis deadly diseases: we cannot randomize people being smokers or nonsmokers. That is unethical! However, it is still of interest to assess the effect, so alternative paradigms for identification of causal effects is considered.\n",
        "\n",
        "The *selection on observables* identification strategy assumes that (O'Grady 2020): conditional on observable covariates Z, the assignment of treatment/control T is independent of the potential outcome $(Y_{potential|T=1}, Y_{potential|T=0})$ of a unit or individual. In terms of notation:\n",
        "\n",
        "$$ (Y_{potential|T=1}, Y_{potential|T=0}) \\perp T | Z=z $$\n",
        "\n",
        "Note that $ (Y_{potential|T=1}, Y_{potential|T=0}) \\not \\perp T $ as Z is a confounder variable.\n",
        "\n",
        "### Comment on Selection on Observables\n",
        "\n",
        "- Selection on observables closely resembles random assignment so that observational studies can estimate causal effect in as close as a fashion with randomized experiment.\n",
        "- Covariate adjustment via regression analysis or matching, often with both, and help estimate causal effect with better accuracy.\n",
        "- However, it means one should have a good set of observable covariates in which they can supplant or are highly correlated with all possible unobservable covariates that affect both treatment and outcome variables.\n",
        "- Poor covariates can make causal effect estimation invalid or biased.\n",
        "- Sadly, it is untestable whether the available observable covariates are sufficient or not.\n",
        "\n",
        "---\n",
        "\n",
        "## Covariate Balance\n",
        "\n",
        "In estimating causal effects, one should have a balanced design. In statistics, this is commonly manifested with equal or approximately equal sample sizes between treatment and control groups.\n",
        "\n",
        "However for causal inference, this means that, for all observable covariates, the treatment and control groups have a similar distribution of values, e.g., same mean values and standard deviations, but most preferred to be stricter than just looking at a few measures. This is known as *covariate balance* (Bauer 2020).\n",
        "\n",
        "The two groups having covariate balance is linked to the 2nd canon: if everything else being similar except the treatment assignment/variable, then the differences in outcomes can be attributed as effect of the treatment.\n",
        "\n",
        "---"
      ],
      "metadata": {
        "id": "dz099O1r52kh"
      }
    },
    {
      "cell_type": "markdown",
      "source": [
        "# 2) Matching Methods\n",
        "\n",
        "- It is a methodology in which \"for every treated unit, one (or more) non-treated unit(s) with similar observable characteristics against whom the effect of the treated can be estimated\" (Bauer 2020).\n",
        "\n",
        "- (O’Grady 2020) apples-to-apples comparisons are made possible\n",
        "\n",
        "- (Bauer 2020) Treatment and control groups as similar as possible except for the treatment status, in a way achieving balance between the groups.\n",
        "\n",
        "- (Bauer 2020) It involves excluding or down-weighting units that do not have similar covariates in both the treated and control groups.\n",
        "\n",
        "### Key assumptions:\n",
        "\n",
        "1. Ignorability/No Omitted Variables\n",
        "> This means that no unobservable covariates can impact the treatment assignment and outcome; or that if there are unobservable covariates, then they can be ignored as they are highly correlated with observable covariates that are already in the dataset.  \n",
        "\n",
        "2. Common Support\n",
        "> This means that the ranges of values for the all the observable covariates are similar for the treated and control groups.\n",
        "\n",
        "### Comments on Matching\n",
        "\n",
        "- A pure regression approach is being increasingly questioned, especially on the problem of lack of common support\n",
        "- Matching methods can be used along with regression methods (e.g., ANCOVA)\n",
        "- They enforces balance or reduces imbalances\n",
        "- This is similar to analyzing paired samples.\n",
        "\n",
        "---\n",
        "\n",
        "### Steps in Matching\n",
        "\n",
        "1. Choosing variables to Match on\n",
        "2. Selecting a Distance Criterion\n",
        "3. Matching Approach\n",
        "4. Balance Assessment\n",
        "5. Data Analysis from Matched Data\n",
        "\n",
        "---\n",
        "\n",
        "### 1. Choosing Variables to Match on\n",
        "\n",
        "- Generally, one uses covariates that are observable before the treatment may be assigned (pre-treatment covariates) or that are predictive but not affected by the treatment (outcome predictive covariates).\n",
        "\n",
        "- One should not choose mediator variables or covariates that may be affected by the treatment to avoid post-treatment or overcontrol bias.\n",
        "\n",
        "- One can use nonlinear terms, e.g., quadratic or polynomial terms, when they make sense in theory.\n",
        "\n",
        "---\n",
        "\n",
        "### 2. Selecting a Distance Criterion\n",
        "\n",
        "#### a. Exact Matching\n",
        "\n",
        "- A matching algorithm where each treated unit is matched to a control unit with the exact same values for the covariates.\n",
        "- Easy to do when there are only few baseline covariates; difficulty of matching increases as more covariates are used.\n",
        "- Ex: For smoking vs. cancer, we can match by biological sex (Male/Female)\n",
        "\n",
        "#### b. Coarsened Exact Matching\n",
        "\n",
        "- Numerical covariates are discretized to make matching easier\n",
        "- Still easy to do when there are only few baseline covariates; but still,  difficulty of matching increases as more covariates are used.\n",
        "- Ex: For smoking vs. cancer, we can match by biological sex (Male/Female) and age group\n",
        "\n",
        "#### c. Approximate Matching\n",
        "\n",
        "- A matching algorithm where each treated unit is matched to a control unit with the approximately similar values for the covariates.\n",
        "- This requires a distance metric and minimum threshold for approximate similarity to be used\n",
        "\n",
        "#### *Distance Metrics*\n",
        "\n",
        "We will use $ D(\\underline{x}_i, \\underline{x}_j)  $ to denote distance between two points $\\underline{x}_i$ and $\\underline{x}_j$, where $\\underline{x}_i = (x_{1,i},x_{2,i},..., x_{k,i})'$ is a vector of covariate values for the $i^{th}$ unit.\n",
        "\n",
        "Euclidean Distance\n",
        "\n",
        "$$ D(\\underline{x}_i, \\underline{x}_j) = \\sqrt{(\\underline{x}_i- \\underline{x}_j)^T(\\underline{x}_i- \\underline{x}_j)} = \\sqrt{\\sum_{m =1}^{k} (x_{m,i}- x_{m,j})^2}   $$\n",
        "\n",
        "Mahalanobis Distance\n",
        "\n",
        "$$ D(\\underline{x}_i, \\underline{x}_j) = \\sqrt{(\\underline{x}_i- \\underline{x}_j)^T\\hat{\\Sigma}_{\\underline{x}}^{-1} (\\underline{x}_i- \\underline{x}_j)}  $$\n",
        "\n",
        "where $\\hat{\\Sigma}_{\\underline{x}} =  \\{\\hat{\\sigma}_{p,q} \\} = \\{ \\frac{1}{n} \\sum_{i=1}^n (x_{p,i}- \\bar{x}_{p})(x_{q,i}- \\bar{x}_{q}) \\} $\n",
        "\n",
        "Propensity Score Distances\n",
        "\n",
        "A propensity score is the estimated probability of being a member of a group, in this case, the treatment group.\n",
        "\n",
        "Fit a logistic regression model or a machine learning model for with treatment variable T (binary 0/1) as the model outcome and the covariates as model input variables. From this model, generate the predicted probabilities $\\hat{\\pi}(\\underline{x}_i)=\\hat{P(T=1|\\underline{x}_i)}$ or linear predictor values $ logit [ \\hat{\\pi}(\\underline{x}_i) ] =\\underline{x}_i^T \\hat{\\underline{\\beta}}_{logistic}  $ if using a logistic regression.\n",
        "\n",
        "Propensity Score Distance:\n",
        "$$  D(\\underline{x}_i, \\underline{x}_j) = |\\hat{\\pi}(\\underline{x}_i) -  \\hat{\\pi}(\\underline{x}_j)| $$\n",
        "\n",
        "Linear Predictor of Propensity Distance\n",
        "$$ D(\\underline{x}_i, \\underline{x}_j) = | logit [ \\hat{\\pi}(\\underline{x}_i) ] - logit [ \\hat{\\pi}(\\underline{x}_j) ] | $$\n",
        "\n",
        "---\n",
        "\n",
        "### 3. Matching Approach\n",
        "\n",
        "#### With/Without Replacement Matching\n",
        "\n",
        "- *With Replacement Matching* = a control unit may be matched to more than 1 treated unit\n",
        "\n",
        "- *Without Replacement Matching* = a control unit can only be matched to 1 treated unit. If a treated unit does not have a match, then it is removed as well.\n",
        "\n",
        "#### Nearest Neighbour Matching\n",
        "\n",
        "- *One-to-One Nearest Neighbour* = for each $i^{th}$ unit in the treatment group, select only 1 member from the control group that is closest in distance\n",
        "\n",
        "- *One-to-k Nearest Neighbour* = for each $i^{th}$ unit in the treatment group, select k members from the control group that is closest in distance\n",
        "\n",
        "- *Caliper Approach* = For each of the $i^{th}$ unit in the treatment group, select $k_i$ members from the control group such that $ D(\\underline{x}_i, \\underline{x}_j) < α $, where $α$ is the caliper. Typically, $\\alpha = 0.1$ for Mahalanobis and propensity score distance.\n",
        "\n",
        "#### Concern on With/Without Replacement Matching\n",
        "\n",
        "- For less complexity in procedure, with replacement is used\n",
        "- More likely for overlaps with control units possibly matched with more than 1 treatment\n",
        "- Matching with replacement makes analysis complex because matched controls are no longer independent\n",
        "- One can use a smaller k for nearest neighbor methods to reduce overlapping groups, at the price of high variance of estimators.\n",
        "\n",
        "---\n",
        "\n",
        "### 4. Balance Assessment\n",
        "\n",
        "- One can use the two-sample z or t test statistics for difference of means or the two-sample Kolmogorov-Smirnov test statistic for equal distributions for each of the baseline or pre-treatment covariates\n",
        "- One can also use histograms and plots to check balance.\n",
        "- Matching may be repeated until balance is achieved.\n",
        "\n",
        "---\n",
        "\n",
        "### 5. Data Analysis from Matched Data\n",
        "\n",
        "- If using one-to-one, matching, then one can estimate average treatment effect using mean difference.\n",
        "\n",
        "- If one is using one-to-k matching, the average treatment effect among the treated (ATT) is estimated as the effect of interest and it is estimated as (Imai 2021):\n",
        "\n",
        "$$ \\hat{ATT} = \\frac{1}{n_1} \\sum_{i=1}^{n_1}(Y_{i, treated} - \\hat{Y}_i (0)) \\quad ; \\quad  \\hat{Y}_i (0) = \\frac{1}{k_i} \\sum_{j=1}^{k_i} Y_{j, Matched Control(i)}$$\n",
        "\n",
        "- One can also use ANCOVA or regression analysis for causal inference with matching as a data preprocessing step.\n",
        "\n",
        "---\n",
        "\n",
        "### Caveats of Matching\n",
        "\n",
        "- Matching may still cause some imbalance and thus some bias. There are possible corrections that may be used (Imai 2021):\n",
        " $$  \\hat{Y}_i (0) = \\frac{1}{k_i} \\sum_{j=1}^{k_i} [Y_{j, Matched Control(i)} - \\hat{\\beta}^T(\\underline{X}_i - \\underline{X}_{j, Matched Control(i)})] $$\n",
        " where $\\hat{\\beta}^T$ comes from the coefficients of the linear regression model with $Y_{j, Matched Control(i)}$ is the model outcome and $ \\underline{X}_{j, Matched Control(i)}$ are the model inputs.\n",
        "\n",
        "- Matching does result in removing a unit or observation from the analysis, which may be wasteful.\n",
        "\n",
        "- Matching can still be ineffective at balancing\n",
        "\n",
        "- Matching estimators are not generally efficient; one can achieve better efficiency if matching is used with regression or ANCOVA methods\n",
        "\n",
        "---"
      ],
      "metadata": {
        "id": "ZNM0_oDk8l5e"
      }
    },
    {
      "cell_type": "markdown",
      "source": [
        "# 3) Sample Codes\n",
        "\n",
        "First, let's use the example from Bauer (2020)\n",
        "\n",
        "Data Link: https://drive.google.com/file/d/1WifSODzbCzf0LlP09u9rG914LcUlL08_/view?usp=drive_link\n",
        "\n",
        "Source paper: Bauer PC (2015). “Negative Experiences and Trust: A Causal Analysis of the Effects of Victimization on Generalized Trust.” Eur. Sociol. Rev. 31 (4): 397–417. https://doi.org/10.1093/esr/jcu096.\n",
        "\n",
        "Data Variables:\n",
        "\n",
        "y_trust*: Generalized trust (0-10) at t (Outcome Y)\n",
        "\n",
        "d_threat*: Experiencing a threat (0,1) in year before t (Treatment D)\n",
        "\n",
        "x_age*: Age measure at t\n",
        "\n",
        "x_male*: Gender at t (Male = 1, Female = 0)\n",
        "\n",
        "x_education*: Level of education (0-10) at t\n",
        "\n",
        "x_income*: Income ordinal (0,3) at t"
      ],
      "metadata": {
        "id": "yi4JpmOl8oUs"
      }
    },
    {
      "cell_type": "markdown",
      "source": [
        "### Initial R Codes\n",
        "\n",
        "First, a preamble of necessary packages"
      ],
      "metadata": {
        "id": "hTu7Ouzy7xtJ"
      }
    },
    {
      "cell_type": "code",
      "source": [
        "## Preamble: List of Packages\n",
        "install.packages(\"stargazer\")\n",
        "library(stargazer) ## for beautiful table presentation of results\n",
        "\n",
        "install.packages(\"Matching\")\n",
        "library(Matching) ## package for matching methods\n",
        "\n",
        "install.packages(\"rgenoud\")\n",
        "library(rgenoud) ## necessary for genetic algorithm matching\n",
        "\n",
        "install.packages(\"cobalt\")\n",
        "library(cobalt) ## For beautiful plots to show or check for covariate balance\n",
        "\n",
        "library(tidyverse) ## for data processing thru the tidyverse ecosystem, preinstalled in Google Colab\n",
        "\n"
      ],
      "metadata": {
        "colab": {
          "base_uri": "https://localhost:8080/"
        },
        "id": "X_PotHzW6USR",
        "outputId": "ee4412e5-7f66-4daf-9182-e23e54facb74"
      },
      "execution_count": null,
      "outputs": [
        {
          "output_type": "stream",
          "name": "stderr",
          "text": [
            "Installing package into ‘/usr/local/lib/R/site-library’\n",
            "(as ‘lib’ is unspecified)\n",
            "\n",
            "Installing package into ‘/usr/local/lib/R/site-library’\n",
            "(as ‘lib’ is unspecified)\n",
            "\n",
            "Installing package into ‘/usr/local/lib/R/site-library’\n",
            "(as ‘lib’ is unspecified)\n",
            "\n",
            "Installing package into ‘/usr/local/lib/R/site-library’\n",
            "(as ‘lib’ is unspecified)\n",
            "\n"
          ]
        }
      ]
    },
    {
      "cell_type": "markdown",
      "source": [
        "Then download the data and place on the temporary Files tab in Google Colab."
      ],
      "metadata": {
        "id": "YKsKTRZE8qPE"
      }
    },
    {
      "cell_type": "code",
      "source": [
        "# download and import data at : https://drive.google.com/file/d/1WifSODzbCzf0LlP09u9rG914LcUlL08_/view?usp=drive_link\n",
        "\n",
        "data <- readr::read_csv(\"/content/data-matching.csv\")"
      ],
      "metadata": {
        "colab": {
          "base_uri": "https://localhost:8080/"
        },
        "id": "Ia27f2kX8nTJ",
        "outputId": "b45ed235-f5b2-492f-cab6-0c0035e57f6e"
      },
      "execution_count": null,
      "outputs": [
        {
          "output_type": "stream",
          "name": "stderr",
          "text": [
            "\u001b[1mRows: \u001b[22m\u001b[34m23243\u001b[39m \u001b[1mColumns: \u001b[22m\u001b[34m25\u001b[39m\n",
            "\u001b[36m──\u001b[39m \u001b[1mColumn specification\u001b[22m \u001b[36m────────────────────────────────────────────────────────\u001b[39m\n",
            "\u001b[1mDelimiter:\u001b[22m \",\"\n",
            "\u001b[32mdbl\u001b[39m (25): y_trust2005, y_trust2006, y_trust2007, y_trust2008, x_age2005, x_a...\n",
            "\n",
            "\u001b[36mℹ\u001b[39m Use `spec()` to retrieve the full column specification for this data.\n",
            "\u001b[36mℹ\u001b[39m Specify the column types or set `show_col_types = FALSE` to quiet this message.\n"
          ]
        }
      ]
    },
    {
      "cell_type": "markdown",
      "source": [
        "Let's show some initial regression runs with the data."
      ],
      "metadata": {
        "id": "QNj-7OAV8FlE"
      }
    },
    {
      "cell_type": "code",
      "source": [
        "\n",
        "\n",
        "fit1 <- lm(y_trust2006 ~ d_threat2006, data = data)\n",
        "fit2 <- lm(y_trust2006 ~ d_threat2006 + x_age2006 + x_male2006 + x_education2006, data = data)\n",
        "fit3 <- lm(y_trust2006 ~ d_threat2006 + x_age2006 + x_male2006 + x_education2006 + x_income2006, data = data)\n",
        "\n",
        "stargazer(fit1, fit2, fit3, type= \"text\", no.space = TRUE, single.row = TRUE)"
      ],
      "metadata": {
        "colab": {
          "base_uri": "https://localhost:8080/"
        },
        "id": "NzgUjt_C5hfX",
        "outputId": "75f75217-3af3-464d-ab8d-3a379ac881e7"
      },
      "execution_count": null,
      "outputs": [
        {
          "output_type": "stream",
          "name": "stdout",
          "text": [
            "\n",
            "==============================================================================================\n",
            "                                               Dependent variable:                            \n",
            "                    --------------------------------------------------------------------------\n",
            "                                                   y_trust2006                                \n",
            "                              (1)                      (2)                      (3)           \n",
            "----------------------------------------------------------------------------------------------\n",
            "d_threat2006           -0.726*** (0.094)        -0.669*** (0.094)        -0.633*** (0.103)    \n",
            "x_age2006                                        -0.003* (0.002)          0.012*** (0.002)    \n",
            "x_male2006                                      -0.169*** (0.057)        -0.261*** (0.071)    \n",
            "x_education2006                                  0.134*** (0.010)         0.133*** (0.012)    \n",
            "x_income2006                                                               -0.036 (0.035)     \n",
            "Constant                6.204*** (0.030)         5.734*** (0.089)         5.308*** (0.115)    \n",
            "----------------------------------------------------------------------------------------------\n",
            "Observations                 6,633                    6,633                    4,394          \n",
            "R2                           0.009                    0.038                    0.055          \n",
            "Adjusted R2                  0.009                    0.037                    0.054          \n",
            "Residual Std. Error    2.293 (df = 6631)        2.259 (df = 6628)        2.122 (df = 4388)    \n",
            "F Statistic         60.142*** (df = 1; 6631) 65.502*** (df = 4; 6628) 50.706*** (df = 5; 4388)\n",
            "==============================================================================================\n",
            "Note:                                                              *p<0.1; **p<0.05; ***p<0.01\n"
          ]
        }
      ]
    },
    {
      "cell_type": "markdown",
      "source": [
        "### Propensity Score Matching\n",
        "\n",
        "Let's try to do some propensity score matching. First, let's simplify our dataset for focus in a specific year, 2006."
      ],
      "metadata": {
        "id": "uabe8Qv79ExZ"
      }
    },
    {
      "cell_type": "code",
      "source": [
        "# Create a new dataset\n",
        "data2 <- data %>% dplyr::select(y_trust2006, d_threat2006, x_age2006,\n",
        "                          x_education2006, x_male2006, x_income2006) %>%\n",
        "                              na.omit() # delete missings"
      ],
      "metadata": {
        "id": "PZ6iXUPv9A0v"
      },
      "execution_count": null,
      "outputs": []
    },
    {
      "cell_type": "markdown",
      "source": [
        "For our propensity score matching, let's use a logistic regression model.\n",
        "\n",
        "For such model, the d_threat2006 will be the model outcome and the covariates x_age2006 and its square, x_education2006 and its square, x_male2006, and x_income2006 are the model inputs."
      ],
      "metadata": {
        "id": "jxRu149g-DUG"
      }
    },
    {
      "cell_type": "code",
      "source": [
        "glm1  <- glm(d_threat2006 ~ x_age2006 + I(x_age2006^2) + x_education2006 + I(x_education2006^2) + x_male2006 + x_income2006,\n",
        "             family=binomial, data=data2)\n",
        "stargazer(glm1, type = \"text\")"
      ],
      "metadata": {
        "colab": {
          "base_uri": "https://localhost:8080/"
        },
        "id": "WrKeHG7u-n2G",
        "outputId": "7aab4853-17fe-43ee-8544-8b1591c29ff8"
      },
      "execution_count": null,
      "outputs": [
        {
          "output_type": "stream",
          "name": "stdout",
          "text": [
            "\n",
            "===============================================\n",
            "                        Dependent variable:    \n",
            "                    ---------------------------\n",
            "                           d_threat2006        \n",
            "-----------------------------------------------\n",
            "x_age2006                    -0.068***         \n",
            "                              (0.023)          \n",
            "                                               \n",
            "I(x_age20062)                 0.0005*          \n",
            "                             (0.0003)          \n",
            "                                               \n",
            "x_education2006               -0.019           \n",
            "                              (0.066)          \n",
            "                                               \n",
            "I(x_education20062)           0.0004           \n",
            "                              (0.006)          \n",
            "                                               \n",
            "x_male2006                   0.452***          \n",
            "                              (0.108)          \n",
            "                                               \n",
            "x_income2006                  -0.010           \n",
            "                              (0.060)          \n",
            "                                               \n",
            "Constant                      -0.346           \n",
            "                              (0.371)          \n",
            "                                               \n",
            "-----------------------------------------------\n",
            "Observations                   4,394           \n",
            "Log Likelihood              -1,489.628         \n",
            "Akaike Inf. Crit.            2,993.256         \n",
            "===============================================\n",
            "Note:               *p<0.1; **p<0.05; ***p<0.01\n"
          ]
        }
      ]
    },
    {
      "cell_type": "markdown",
      "source": [
        "Next, let's extract the propensity score based on the logistic regression model. We should also visualize the propensity score using histograms for the treatment (green) and control (maroon)."
      ],
      "metadata": {
        "id": "vtFucu9Y_AlL"
      }
    },
    {
      "cell_type": "code",
      "source": [
        "# Calculate (predict) propensity score for each unit and create dataframe\n",
        "data_treatment_propscore <- data.frame(pr_score = predict(glm1, type = \"response\"),\n",
        "                     treatment = glm1$model$d_threat2006)\n",
        "\n",
        "# Ideally, visualize prop scores by treatment status (histograms)\n",
        "# Continue using the prop score for matching...\n",
        "hist(data_treatment_propscore$pr_score[data_treatment_propscore$treatment==0], xlim=c(0,0.5), ylim=c(0,1000),\n",
        "     main = \"Propensity scores and treatment groups\", xlab = \"Propensity score (green = treated, white = control)\", col = \"white\")\n",
        "hist(data_treatment_propscore$pr_score[data_treatment_propscore$treatment==1], add = TRUE, col = \"green\")"
      ],
      "metadata": {
        "colab": {
          "base_uri": "https://localhost:8080/",
          "height": 437
        },
        "id": "4LILfuA2_adu",
        "outputId": "22285f17-fab8-414a-e3b6-5d73f3d06f11"
      },
      "execution_count": null,
      "outputs": [
        {
          "output_type": "display_data",
          "data": {
            "text/plain": [
              "Plot with title “Propensity scores and treatment groups”"
            ],
            "image/png": "[encoded data removed]"
          },
          "metadata": {
            "image/png": {
              "width": 420,
              "height": 420
            }
          }
        }
      ]
    },
    {
      "cell_type": "markdown",
      "source": [
        "Given the generated propensity scores from the logistic regression, we can estimate the average treatment effect among the treated using the functions of the *Matching* package."
      ],
      "metadata": {
        "id": "wyD8OgNaA7vn"
      }
    },
    {
      "cell_type": "code",
      "source": [
        "# save data objects needed for matching\n",
        "X  <- glm1$fitted ## Propensity Scores as covariates for matching\n",
        "Y  <- data2$y_trust2006 ## Outcome Variable: Generalized Trust\n",
        "Tr  <- data2$d_threat2006 ## Treatment Variable: Yes/No question on Feeling Threatened\n",
        "\n",
        "# Estimating the treatment effect on the treated (the \"estimand\" option defaults to ATT).\n",
        "rr  <- Match(Y=Y, Tr=Tr, X=X, M=1)\n",
        "summary(rr)"
      ],
      "metadata": {
        "colab": {
          "base_uri": "https://localhost:8080/"
        },
        "id": "EtvIEz6CBe_w",
        "outputId": "4961a0c1-b7f4-4ce3-c832-4ad1967680a7"
      },
      "execution_count": null,
      "outputs": [
        {
          "output_type": "stream",
          "name": "stdout",
          "text": [
            "\n",
            "Estimate...  -0.65135 \n",
            "AI SE......  0.12558 \n",
            "T-stat.....  -5.1867 \n",
            "p.val......  2.14e-07 \n",
            "\n",
            "Original number of observations..............  4394 \n",
            "Original number of treated obs...............  497 \n",
            "Matched number of observations...............  497 \n",
            "Matched number of observations  (unweighted).  5901 \n",
            "\n"
          ]
        }
      ]
    },
    {
      "cell_type": "markdown",
      "source": [
        "The estimated causal effect of feeling threatened to generalized trust is -0.65135, with very low p-value signifying that there is sufficient evidence for a nonzero causal effect.\n",
        "\n",
        "We can conclude that feeling threatened generally reduce general trust on society.\n",
        "\n",
        "Let's check for the covariate balance which can support our estimation of the causal effect."
      ],
      "metadata": {
        "id": "idbZpQvpCfxg"
      }
    },
    {
      "cell_type": "code",
      "source": [
        "## MatchBalance() helps us generate balance statistics\n",
        "\n",
        "mb  <- MatchBalance(d_threat2006 ~ x_age2006 + I(x_age2006^2) + x_education2006 +\n",
        "               I(x_education2006^2) + x_male2006 + x_income2006,\n",
        "               data=data2, match.out=rr, nboots=1000)\n",
        "\n",
        "## Using the cobalt package, we present the statistics thru the bal.tab() function\n",
        "balance.table <- bal.tab(rr, d_threat2006 ~ x_age2006 + I(x_age2006^2) + x_education2006 +\n",
        "               I(x_education2006^2) + x_male2006 + x_income2006, data = data2, un= TRUE)\n",
        "balance.table"
      ],
      "metadata": {
        "colab": {
          "base_uri": "https://localhost:8080/",
          "height": 1000
        },
        "id": "5eBcSQppDUxU",
        "outputId": "0bb1e6ed-5039-4027-8f42-b944e61d07fb"
      },
      "execution_count": null,
      "outputs": [
        {
          "output_type": "stream",
          "name": "stdout",
          "text": [
            "\n",
            "***** (V1) x_age2006 *****\n",
            "                       Before Matching \t \t After Matching\n",
            "mean treatment........     35.714 \t \t     35.714 \n",
            "mean control..........     42.054 \t \t      35.99 \n",
            "std mean diff.........    -44.504 \t \t    -1.9355 \n",
            "\n",
            "mean raw eQQ diff.....     6.3581 \t \t    0.64769 \n",
            "med  raw eQQ diff.....          6 \t \t          0 \n",
            "max  raw eQQ diff.....         12 \t \t          6 \n",
            "\n",
            "mean eCDF diff........   0.090769 \t \t   0.009475 \n",
            "med  eCDF diff........   0.090635 \t \t  0.0033893 \n",
            "max  eCDF diff........    0.20444 \t \t   0.042196 \n",
            "\n",
            "var ratio (Tr/Co).....      1.113 \t \t     0.9632 \n",
            "T-test p-value........ < 2.22e-16 \t \t    0.39586 \n",
            "KS Bootstrap p-value.. < 2.22e-16 \t \t < 2.22e-16 \n",
            "KS Naive p-value...... 2.2204e-16 \t \t 5.4696e-05 \n",
            "KS Statistic..........    0.20444 \t \t   0.042196 \n",
            "\n",
            "\n",
            "***** (V2) I(x_age2006^2) *****\n",
            "                       Before Matching \t \t After Matching\n",
            "mean treatment........       1478 \t \t       1478 \n",
            "mean control..........     1950.8 \t \t     1505.5 \n",
            "std mean diff.........    -42.916 \t \t    -2.4968 \n",
            "\n",
            "mean raw eQQ diff.....     477.63 \t \t     66.572 \n",
            "med  raw eQQ diff.....        520 \t \t          0 \n",
            "max  raw eQQ diff.....       1680 \t \t        984 \n",
            "\n",
            "mean eCDF diff........   0.090769 \t \t   0.009475 \n",
            "med  eCDF diff........   0.090635 \t \t  0.0033893 \n",
            "max  eCDF diff........    0.20444 \t \t   0.042196 \n",
            "\n",
            "var ratio (Tr/Co).....    0.93602 \t \t     0.9635 \n",
            "T-test p-value........ < 2.22e-16 \t \t     0.3716 \n",
            "KS Bootstrap p-value.. < 2.22e-16 \t \t < 2.22e-16 \n",
            "KS Naive p-value...... 2.2204e-16 \t \t 5.4696e-05 \n",
            "KS Statistic..........    0.20444 \t \t   0.042196 \n",
            "\n",
            "\n",
            "***** (V3) x_education2006 *****\n",
            "                       Before Matching \t \t After Matching\n",
            "mean treatment........     4.9577 \t \t     4.9577 \n",
            "mean control..........     5.5486 \t \t     4.8675 \n",
            "std mean diff.........    -18.931 \t \t      2.891 \n",
            "\n",
            "mean raw eQQ diff.....    0.58551 \t \t   0.052364 \n",
            "med  raw eQQ diff.....          0 \t \t          0 \n",
            "max  raw eQQ diff.....          3 \t \t          1 \n",
            "\n",
            "mean eCDF diff........   0.053716 \t \t  0.0047604 \n",
            "med  eCDF diff........   0.047811 \t \t  0.0033893 \n",
            "max  eCDF diff........    0.10036 \t \t   0.016268 \n",
            "\n",
            "var ratio (Tr/Co).....     1.1602 \t \t     1.0032 \n",
            "T-test p-value........ 6.9401e-05 \t \t    0.50487 \n",
            "KS Bootstrap p-value.. < 2.22e-16 \t \t      0.187 \n",
            "KS Naive p-value...... 0.00027872 \t \t    0.41566 \n",
            "KS Statistic..........    0.10036 \t \t   0.016268 \n",
            "\n",
            "\n",
            "***** (V4) I(x_education2006^2) *****\n",
            "                       Before Matching \t \t After Matching\n",
            "mean treatment........     34.302 \t \t     34.302 \n",
            "mean control..........     39.182 \t \t     33.384 \n",
            "std mean diff.........    -14.429 \t \t     2.7127 \n",
            "\n",
            "mean raw eQQ diff.....     4.8551 \t \t    0.63057 \n",
            "med  raw eQQ diff.....          0 \t \t          0 \n",
            "max  raw eQQ diff.....         32 \t \t         19 \n",
            "\n",
            "mean eCDF diff........   0.053716 \t \t  0.0047604 \n",
            "med  eCDF diff........   0.047811 \t \t  0.0033893 \n",
            "max  eCDF diff........    0.10036 \t \t   0.016268 \n",
            "\n",
            "var ratio (Tr/Co).....    0.99376 \t \t      1.018 \n",
            "T-test p-value........  0.0025592 \t \t    0.57849 \n",
            "KS Bootstrap p-value.. < 2.22e-16 \t \t      0.187 \n",
            "KS Naive p-value...... 0.00027872 \t \t    0.41566 \n",
            "KS Statistic..........    0.10036 \t \t   0.016268 \n",
            "\n",
            "\n",
            "***** (V5) x_male2006 *****\n",
            "                       Before Matching \t \t After Matching\n",
            "mean treatment........     0.5835 \t \t     0.5835 \n",
            "mean control..........    0.47806 \t \t    0.59377 \n",
            "std mean diff.........     21.367 \t \t    -2.0816 \n",
            "\n",
            "mean raw eQQ diff.....    0.10463 \t \t   0.021352 \n",
            "med  raw eQQ diff.....          0 \t \t          0 \n",
            "max  raw eQQ diff.....          1 \t \t          1 \n",
            "\n",
            "mean eCDF diff........    0.05272 \t \t   0.010676 \n",
            "med  eCDF diff........    0.05272 \t \t   0.010676 \n",
            "max  eCDF diff........    0.10544 \t \t   0.021352 \n",
            "\n",
            "var ratio (Tr/Co).....     0.9757 \t \t     1.0075 \n",
            "T-test p-value........ 8.8711e-06 \t \t    0.60714 \n",
            "\n",
            "\n",
            "***** (V6) x_income2006 *****\n",
            "                       Before Matching \t \t After Matching\n",
            "mean treatment........     1.2636 \t \t     1.2636 \n",
            "mean control..........     1.4285 \t \t     1.2579 \n",
            "std mean diff.........    -14.494 \t \t    0.49732 \n",
            "\n",
            "mean raw eQQ diff.....    0.16298 \t \t   0.028809 \n",
            "med  raw eQQ diff.....          0 \t \t          0 \n",
            "max  raw eQQ diff.....          1 \t \t          1 \n",
            "\n",
            "mean eCDF diff........   0.041238 \t \t  0.0072022 \n",
            "med  eCDF diff........   0.050727 \t \t  0.0051686 \n",
            "max  eCDF diff........   0.063499 \t \t   0.018471 \n",
            "\n",
            "var ratio (Tr/Co).....    0.99178 \t \t    0.97733 \n",
            "T-test p-value........  0.0024519 \t \t    0.91047 \n",
            "KS Bootstrap p-value..       0.01 \t \t      0.069 \n",
            "KS Naive p-value......   0.057186 \t \t    0.26644 \n",
            "KS Statistic..........   0.063499 \t \t   0.018471 \n",
            "\n",
            "\n",
            "Before Matching Minimum p.value: < 2.22e-16 \n",
            "Variable Name(s): x_age2006 I(x_age2006^2) x_education2006 I(x_education2006^2)  Number(s): 1 2 3 4 \n",
            "\n",
            "After Matching Minimum p.value: < 2.22e-16 \n",
            "Variable Name(s): x_age2006 I(x_age2006^2)  Number(s): 1 2 \n",
            "\n"
          ]
        },
        {
          "output_type": "display_data",
          "data": {
            "text/plain": [
              "\u001b[4mBalance Measures\u001b[24m\n",
              "                        Type Diff.Un Diff.Adj\n",
              "x_age2006            Contin. -0.4450  -0.0194\n",
              "I(x_age2006^2)       Contin. -0.4292  -0.0250\n",
              "x_education2006      Contin. -0.1893   0.0289\n",
              "I(x_education2006^2) Contin. -0.1443   0.0271\n",
              "x_male2006            Binary  0.1054  -0.0103\n",
              "x_income2006         Contin. -0.1449   0.0050\n",
              "\n",
              "\u001b[4mSample sizes\u001b[24m\n",
              "                     Control Treated\n",
              "All                  3897.       497\n",
              "Matched (ESS)        1190.57     497\n",
              "Matched (Unweighted) 2759.       497\n",
              "Unmatched            1138.         0"
            ]
          },
          "metadata": {}
        }
      ]
    },
    {
      "cell_type": "markdown",
      "source": [
        "The balance statistics may be too daunting to read and check.\n",
        "\n",
        "One quick way would be to use the love.plot() function in the *cobalt* package."
      ],
      "metadata": {
        "id": "24fJBI30D8TH"
      }
    },
    {
      "cell_type": "code",
      "source": [
        "love.plot(balance.table,\n",
        "          threshold =.1,\n",
        "          line = TRUE,\n",
        "          stars = \"std\")"
      ],
      "metadata": {
        "colab": {
          "base_uri": "https://localhost:8080/",
          "height": 437
        },
        "id": "chr28yqDEIah",
        "outputId": "5325a73d-f900-4994-e282-11191e2d1f07"
      },
      "execution_count": null,
      "outputs": [
        {
          "output_type": "display_data",
          "data": {
            "text/plain": [
              "plot without title"
            ],
            "image/png": "[encoded data removed]"
          },
          "metadata": {
            "image/png": {
              "width": 420,
              "height": 420
            }
          }
        }
      ]
    },
    {
      "cell_type": "markdown",
      "source": [
        "### Genetic Matching\n",
        "\n",
        "Genetic matching uses the genetic algorithm to determine the optimal weights for the covariates to facilitate matching. Propensity score matching and Mahalanobis distance matching are special limiting cases of genetic matching. (Bauer 2020)\n",
        "\n",
        "#### Genetic Matching for 1 variable\n",
        "\n",
        "Let's try using genetic matching for a single variable: x_education2006"
      ],
      "metadata": {
        "id": "J5izYxoqE341"
      }
    },
    {
      "cell_type": "code",
      "source": [
        "# Define covariate matrix, outcome, treatment\n",
        "  X  <- as.matrix(data2 %>% dplyr::select(x_education2006)) # covariate matrix to be balanced\n",
        "  Y  <- data2$y_trust2006 # outcome/Response vector\n",
        "  Tr  <- data2$d_threat2006 # treatment vector\n",
        "\n",
        "gen1 <- GenMatch(Tr = Tr, X = X,\n",
        "                 estimand = \"ATT\",\n",
        "                 M = 1,\n",
        "                 replace=FALSE,\n",
        "                 exact = TRUE,\n",
        "                 pop.size=16,\n",
        "                 max.generations=10,\n",
        "                 wait.generations=1)"
      ],
      "metadata": {
        "colab": {
          "base_uri": "https://localhost:8080/"
        },
        "id": "wwy9oNGxGsOV",
        "outputId": "6da37d77-4086-4a34-87a7-8ce21cb6cd2e"
      },
      "execution_count": null,
      "outputs": [
        {
          "output_type": "stream",
          "name": "stdout",
          "text": [
            "\n",
            "\n",
            "Wed Nov 15 08:54:25 2023\n",
            "Domains:\n",
            " 0.000000e+00   <=  X1   <=    1.000000e+03 \n",
            "\n",
            "Data Type: Floating Point\n",
            "Operators (code number, name, population) \n",
            "\t(1) Cloning........................... \t1\n",
            "\t(2) Uniform Mutation.................. \t2\n",
            "\t(3) Boundary Mutation................. \t2\n",
            "\t(4) Non-Uniform Mutation.............. \t2\n",
            "\t(5) Polytope Crossover................ \t2\n",
            "\t(6) Simple Crossover.................. \t2\n",
            "\t(7) Whole Non-Uniform Mutation........ \t2\n",
            "\t(8) Heuristic Crossover............... \t2\n",
            "\t(9) Local-Minimum Crossover........... \t0\n",
            "\n",
            "SOFT Maximum Number of Generations: 10\n",
            "Maximum Nonchanging Generations: 1\n",
            "Population size       : 16\n",
            "Convergence Tolerance: 1.000000e-03\n",
            "\n",
            "Not Using the BFGS Derivative Based Optimizer on the Best Individual Each Generation.\n",
            "Not Checking Gradients before Stopping.\n",
            "Using Out of Bounds Individuals.\n",
            "\n",
            "Maximization Problem.\n",
            "GENERATION: 0 (initializing the population)\n",
            "Lexical Fit..... 1.000000e+00  1.000000e+00  \n",
            "#unique......... 16, #Total UniqueCount: 16\n",
            "var 1:\n",
            "best............ 1.000000e+00\n",
            "mean............ 5.155821e+02\n",
            "variance........ 1.078531e+05\n",
            "\n",
            "GENERATION: 1\n",
            "Lexical Fit..... 1.000000e+00  1.000000e+00  \n",
            "#unique......... 9, #Total UniqueCount: 25\n",
            "var 1:\n",
            "best............ 1.000000e+00\n",
            "mean............ 2.223116e+02\n",
            "variance........ 4.238768e+04\n",
            "\n",
            "GENERATION: 2\n",
            "Lexical Fit..... 1.000000e+00  1.000000e+00  \n",
            "#unique......... 10, #Total UniqueCount: 35\n",
            "var 1:\n",
            "best............ 1.000000e+00\n",
            "mean............ 1.560653e+02\n",
            "variance........ 4.330115e+04\n",
            "\n",
            "'wait.generations' limit reached.\n",
            "No significant improvement in 1 generations.\n",
            "\n",
            "Solution Lexical Fitness Value:\n",
            "1.000000e+00  1.000000e+00  \n",
            "\n",
            "Parameters at the Solution:\n",
            "\n",
            " X[ 1] :\t1.000000e+00\n",
            "\n",
            "Solution Found Generation 1\n",
            "Number of Generations Run 2\n",
            "\n",
            "Wed Nov 15 08:54:31 2023\n",
            "Total run time : 0 hours 0 minutes and 6 seconds\n"
          ]
        }
      ]
    },
    {
      "cell_type": "markdown",
      "source": [
        "Now, let's see what the causal effect estimate would be:"
      ],
      "metadata": {
        "id": "Rte0eUshHsCZ"
      }
    },
    {
      "cell_type": "code",
      "source": [
        "  mgens <- Match(Y=Y, Tr= Tr, X = X,\n",
        "                 estimand=\"ATT\",\n",
        "                 M = 1,\n",
        "                 replace=FALSE,\n",
        "                 exact = TRUE,\n",
        "                 Weight.matrix = gen1)\n",
        "  summary(mgens)"
      ],
      "metadata": {
        "colab": {
          "base_uri": "https://localhost:8080/"
        },
        "id": "b9xxyjvyHxu7",
        "outputId": "dd11cb5a-0eae-449a-9703-a57b337ab1e9"
      },
      "execution_count": null,
      "outputs": [
        {
          "output_type": "stream",
          "name": "stdout",
          "text": [
            "\n",
            "Estimate...  -0.82696 \n",
            "SE.........  0.14427 \n",
            "T-stat.....  -5.7321 \n",
            "p.val......  9.9201e-09 \n",
            "\n",
            "Original number of observations..............  4394 \n",
            "Original number of treated obs...............  497 \n",
            "Matched number of observations...............  497 \n",
            "Matched number of observations  (unweighted).  497 \n",
            "\n",
            "Number of obs dropped by 'exact' or 'caliper'  0 \n",
            "\n"
          ]
        }
      ]
    },
    {
      "cell_type": "markdown",
      "source": [
        "Let's check the balance of our 1 covariate:"
      ],
      "metadata": {
        "id": "Z8Zq7XYHIE_S"
      }
    },
    {
      "cell_type": "code",
      "source": [
        "  mb <- MatchBalance(Tr ~  x_education2006,\n",
        "                     match.out = mgens, nboots = 1000, data = data2)"
      ],
      "metadata": {
        "colab": {
          "base_uri": "https://localhost:8080/"
        },
        "id": "-e6bSut0IJU5",
        "outputId": "04aaf162-c5d7-435d-e9ef-355c073febd2"
      },
      "execution_count": null,
      "outputs": [
        {
          "output_type": "stream",
          "name": "stdout",
          "text": [
            "\n",
            "***** (V1) x_education2006 *****\n",
            "                       Before Matching \t \t After Matching\n",
            "mean treatment........     4.9577 \t \t     4.9577 \n",
            "mean control..........     5.5486 \t \t     4.9577 \n",
            "std mean diff.........    -18.931 \t \t          0 \n",
            "\n",
            "mean raw eQQ diff.....    0.58551 \t \t          0 \n",
            "med  raw eQQ diff.....          0 \t \t          0 \n",
            "max  raw eQQ diff.....          3 \t \t          0 \n",
            "\n",
            "mean eCDF diff........   0.053716 \t \t          0 \n",
            "med  eCDF diff........   0.047811 \t \t          0 \n",
            "max  eCDF diff........    0.10036 \t \t          0 \n",
            "\n",
            "var ratio (Tr/Co).....     1.1602 \t \t          1 \n",
            "T-test p-value........ 6.9401e-05 \t \t          1 \n",
            "KS Bootstrap p-value..      0.001 \t \t          1 \n",
            "KS Naive p-value...... 0.00027872 \t \t          1 \n",
            "KS Statistic..........    0.10036 \t \t          0 \n",
            "\n"
          ]
        }
      ]
    },
    {
      "cell_type": "markdown",
      "source": [
        "#### Genetic Matching with multiple covariates and transformations of covariates\n",
        "\n",
        "Using the same reduced data from propensity score matching which uses age, education, male, and income variables, let's do a genetic matching approach with multiple variables and functions of those variables."
      ],
      "metadata": {
        "id": "IHxbiZXjI6At"
      }
    },
    {
      "cell_type": "code",
      "source": [
        "X  <- data2 %>% dplyr::select(x_age2006, x_education2006,\n",
        "                          x_male2006, x_income2006) # Define covariates\n",
        "Y  <- data2$y_trust2006 # Define outcome/Response vector\n",
        "Tr  <- data2$d_threat2006 # Define treatment vector\n",
        "\n",
        "# A matrix containing the variables we wish to achieve balance on.\n",
        "# Default = X\n",
        "BalanceMat <- cbind(data2$x_age2006, data2$x_education2006,\n",
        "                    data2$x_male2006, data2$x_income2006,\n",
        "                    I(data2$x_age2006^2), I(data2$x_education2006^2),\n",
        "                    I(data2$x_income2006^2))"
      ],
      "metadata": {
        "id": "LB9_6ahtKS7r"
      },
      "execution_count": null,
      "outputs": []
    },
    {
      "cell_type": "markdown",
      "source": [
        "Next, we do the genetic matching codes. Population size *pop.size =* should be very large in practice; we will use *pop.size = 16* for a quick run."
      ],
      "metadata": {
        "id": "fENDOSFSKjZv"
      }
    },
    {
      "cell_type": "code",
      "source": [
        "gen1 <- GenMatch(Tr = Tr, X = X,\n",
        "                 BalanceMatrix = BalanceMat,\n",
        "                 estimand = \"ATT\",\n",
        "                   M = 1,\n",
        "                   replace=FALSE,\n",
        "                   exact = TRUE,\n",
        "                   pop.size=16,\n",
        "                   max.generations=10,\n",
        "                   wait.generations=1)"
      ],
      "metadata": {
        "colab": {
          "base_uri": "https://localhost:8080/"
        },
        "id": "8-AjqRnvKxLU",
        "outputId": "4840e401-19e2-4568-f0bc-8996df0c6f4e"
      },
      "execution_count": null,
      "outputs": [
        {
          "output_type": "stream",
          "name": "stdout",
          "text": [
            "\n",
            "\n",
            "Wed Nov 15 08:54:34 2023\n",
            "Domains:\n",
            " 0.000000e+00   <=  X1   <=    1.000000e+03 \n",
            " 0.000000e+00   <=  X2   <=    1.000000e+03 \n",
            " 0.000000e+00   <=  X3   <=    1.000000e+03 \n",
            " 0.000000e+00   <=  X4   <=    1.000000e+03 \n",
            "\n",
            "Data Type: Floating Point\n",
            "Operators (code number, name, population) \n",
            "\t(1) Cloning........................... \t1\n",
            "\t(2) Uniform Mutation.................. \t2\n",
            "\t(3) Boundary Mutation................. \t2\n",
            "\t(4) Non-Uniform Mutation.............. \t2\n",
            "\t(5) Polytope Crossover................ \t2\n",
            "\t(6) Simple Crossover.................. \t2\n",
            "\t(7) Whole Non-Uniform Mutation........ \t2\n",
            "\t(8) Heuristic Crossover............... \t2\n",
            "\t(9) Local-Minimum Crossover........... \t0\n",
            "\n",
            "SOFT Maximum Number of Generations: 10\n",
            "Maximum Nonchanging Generations: 1\n",
            "Population size       : 16\n",
            "Convergence Tolerance: 1.000000e-03\n",
            "\n",
            "Not Using the BFGS Derivative Based Optimizer on the Best Individual Each Generation.\n",
            "Not Checking Gradients before Stopping.\n",
            "Using Out of Bounds Individuals.\n",
            "\n",
            "Maximization Problem.\n",
            "GENERATION: 0 (initializing the population)\n",
            "Lexical Fit..... 1.000000e+00  1.000000e+00  1.000000e+00  1.000000e+00  1.000000e+00  1.000000e+00  1.000000e+00  1.000000e+00  1.000000e+00  1.000000e+00  1.000000e+00  1.000000e+00  1.000000e+00  1.000000e+00  \n",
            "#unique......... 16, #Total UniqueCount: 16\n",
            "var 1:\n",
            "best............ 1.000000e+00\n",
            "mean............ 5.376447e+02\n",
            "variance........ 1.057897e+05\n",
            "var 2:\n",
            "best............ 1.000000e+00\n",
            "mean............ 4.904006e+02\n",
            "variance........ 9.006730e+04\n",
            "var 3:\n",
            "best............ 1.000000e+00\n",
            "mean............ 4.594396e+02\n",
            "variance........ 1.250889e+05\n",
            "var 4:\n",
            "best............ 1.000000e+00\n",
            "mean............ 5.214394e+02\n",
            "variance........ 1.046851e+05\n",
            "\n",
            "GENERATION: 1\n",
            "Lexical Fit..... 1.000000e+00  1.000000e+00  1.000000e+00  1.000000e+00  1.000000e+00  1.000000e+00  1.000000e+00  1.000000e+00  1.000000e+00  1.000000e+00  1.000000e+00  1.000000e+00  1.000000e+00  1.000000e+00  \n",
            "#unique......... 13, #Total UniqueCount: 29\n",
            "var 1:\n",
            "best............ 1.000000e+00\n",
            "mean............ 3.829867e+02\n",
            "variance........ 1.717010e+05\n",
            "var 2:\n",
            "best............ 1.000000e+00\n",
            "mean............ 2.481154e+02\n",
            "variance........ 9.681348e+04\n",
            "var 3:\n",
            "best............ 1.000000e+00\n",
            "mean............ 3.894713e+02\n",
            "variance........ 1.171472e+05\n",
            "var 4:\n",
            "best............ 1.000000e+00\n",
            "mean............ 2.767899e+02\n",
            "variance........ 1.178245e+05\n",
            "\n",
            "GENERATION: 2\n",
            "Lexical Fit..... 1.000000e+00  1.000000e+00  1.000000e+00  1.000000e+00  1.000000e+00  1.000000e+00  1.000000e+00  1.000000e+00  1.000000e+00  1.000000e+00  1.000000e+00  1.000000e+00  1.000000e+00  1.000000e+00  \n",
            "#unique......... 12, #Total UniqueCount: 41\n",
            "var 1:\n",
            "best............ 1.000000e+00\n",
            "mean............ 2.872814e+02\n",
            "variance........ 1.350538e+05\n",
            "var 2:\n",
            "best............ 1.000000e+00\n",
            "mean............ 2.454066e+02\n",
            "variance........ 9.926707e+04\n",
            "var 3:\n",
            "best............ 1.000000e+00\n",
            "mean............ 3.101086e+02\n",
            "variance........ 7.950480e+04\n",
            "var 4:\n",
            "best............ 1.000000e+00\n",
            "mean............ 3.764922e+02\n",
            "variance........ 1.484803e+05\n",
            "\n",
            "'wait.generations' limit reached.\n",
            "No significant improvement in 1 generations.\n",
            "\n",
            "Solution Lexical Fitness Value:\n",
            "1.000000e+00  1.000000e+00  1.000000e+00  1.000000e+00  1.000000e+00  1.000000e+00  1.000000e+00  1.000000e+00  1.000000e+00  1.000000e+00  1.000000e+00  1.000000e+00  1.000000e+00  1.000000e+00  \n",
            "\n",
            "Parameters at the Solution:\n",
            "\n",
            " X[ 1] :\t1.000000e+00\n",
            " X[ 2] :\t1.000000e+00\n",
            " X[ 3] :\t1.000000e+00\n",
            " X[ 4] :\t1.000000e+00\n",
            "\n",
            "Solution Found Generation 1\n",
            "Number of Generations Run 2\n",
            "\n",
            "Wed Nov 15 08:54:39 2023\n",
            "Total run time : 0 hours 0 minutes and 5 seconds\n"
          ]
        }
      ]
    },
    {
      "cell_type": "markdown",
      "source": [
        "Based on the generated weights of the *GenMatch()* function, let's check the estimated causal effect:"
      ],
      "metadata": {
        "id": "PfNeoShmK8JN"
      }
    },
    {
      "cell_type": "code",
      "source": [
        "mgens <- Match(Y=Y, Tr= Tr, X = X,\n",
        "                 estimand = \"ATT\",\n",
        "                   M = 1,\n",
        "                   replace=FALSE,\n",
        "                   exact = TRUE,\n",
        "               Weight.matrix = gen1)\n",
        "summary(mgens)"
      ],
      "metadata": {
        "colab": {
          "base_uri": "https://localhost:8080/"
        },
        "id": "Vl9RWXVsLIgo",
        "outputId": "7ee221bb-65fb-4aae-cceb-1de3d9161b8a"
      },
      "execution_count": null,
      "outputs": [
        {
          "output_type": "stream",
          "name": "stdout",
          "text": [
            "\n",
            "Estimate...  -0.61497 \n",
            "SE.........  0.16026 \n",
            "T-stat.....  -3.8373 \n",
            "p.val......  0.00012439 \n",
            "\n",
            "Original number of observations..............  4394 \n",
            "Original number of treated obs...............  497 \n",
            "Matched number of observations...............  374 \n",
            "Matched number of observations  (unweighted).  374 \n",
            "\n",
            "Number of obs dropped by 'exact' or 'caliper'  123 \n",
            "\n"
          ]
        }
      ]
    },
    {
      "cell_type": "markdown",
      "source": [
        "Checking for covariate balance:"
      ],
      "metadata": {
        "id": "wPxK6KckLPZ1"
      }
    },
    {
      "cell_type": "code",
      "source": [
        "mb <- MatchBalance(Tr ~ x_age2006 + x_education2006 +\n",
        "                     x_male2006 + x_income2006 +\n",
        "                     I(x_age2006^2) + I(x_education2006^2) +\n",
        "                     I(x_income2006^2),\n",
        "                   match.out = mgens, nboots = 1000, data = data2)"
      ],
      "metadata": {
        "colab": {
          "base_uri": "https://localhost:8080/"
        },
        "id": "GP2UPduZLT9k",
        "outputId": "fb38681c-049c-45e5-9ad8-8511fa027695"
      },
      "execution_count": null,
      "outputs": [
        {
          "output_type": "stream",
          "name": "stdout",
          "text": [
            "\n",
            "***** (V1) x_age2006 *****\n",
            "                       Before Matching \t \t After Matching\n",
            "mean treatment........     35.714 \t \t     34.516 \n",
            "mean control..........     42.054 \t \t     34.516 \n",
            "std mean diff.........    -44.504 \t \t          0 \n",
            "\n",
            "mean raw eQQ diff.....     6.3581 \t \t          0 \n",
            "med  raw eQQ diff.....          6 \t \t          0 \n",
            "max  raw eQQ diff.....         12 \t \t          0 \n",
            "\n",
            "mean eCDF diff........   0.090769 \t \t          0 \n",
            "med  eCDF diff........   0.090635 \t \t          0 \n",
            "max  eCDF diff........    0.20444 \t \t          0 \n",
            "\n",
            "var ratio (Tr/Co).....      1.113 \t \t          1 \n",
            "T-test p-value........ < 2.22e-16 \t \t          1 \n",
            "KS Bootstrap p-value.. < 2.22e-16 \t \t          1 \n",
            "KS Naive p-value...... 2.2204e-16 \t \t          1 \n",
            "KS Statistic..........    0.20444 \t \t          0 \n",
            "\n",
            "\n",
            "***** (V2) x_education2006 *****\n",
            "                       Before Matching \t \t After Matching\n",
            "mean treatment........     4.9577 \t \t     4.6631 \n",
            "mean control..........     5.5486 \t \t     4.6631 \n",
            "std mean diff.........    -18.931 \t \t          0 \n",
            "\n",
            "mean raw eQQ diff.....    0.58551 \t \t          0 \n",
            "med  raw eQQ diff.....          0 \t \t          0 \n",
            "max  raw eQQ diff.....          3 \t \t          0 \n",
            "\n",
            "mean eCDF diff........   0.053716 \t \t          0 \n",
            "med  eCDF diff........   0.047811 \t \t          0 \n",
            "max  eCDF diff........    0.10036 \t \t          0 \n",
            "\n",
            "var ratio (Tr/Co).....     1.1602 \t \t          1 \n",
            "T-test p-value........ 6.9401e-05 \t \t          1 \n",
            "KS Bootstrap p-value.. < 2.22e-16 \t \t          1 \n",
            "KS Naive p-value...... 0.00027872 \t \t          1 \n",
            "KS Statistic..........    0.10036 \t \t          0 \n",
            "\n",
            "\n",
            "***** (V3) x_male2006 *****\n",
            "                       Before Matching \t \t After Matching\n",
            "mean treatment........     0.5835 \t \t    0.58556 \n",
            "mean control..........    0.47806 \t \t    0.58556 \n",
            "std mean diff.........     21.367 \t \t          0 \n",
            "\n",
            "mean raw eQQ diff.....    0.10463 \t \t          0 \n",
            "med  raw eQQ diff.....          0 \t \t          0 \n",
            "max  raw eQQ diff.....          1 \t \t          0 \n",
            "\n",
            "mean eCDF diff........    0.05272 \t \t          0 \n",
            "med  eCDF diff........    0.05272 \t \t          0 \n",
            "max  eCDF diff........    0.10544 \t \t          0 \n",
            "\n",
            "var ratio (Tr/Co).....     0.9757 \t \t          1 \n",
            "T-test p-value........ 8.8711e-06 \t \t          1 \n",
            "\n",
            "\n",
            "***** (V4) x_income2006 *****\n",
            "                       Before Matching \t \t After Matching\n",
            "mean treatment........     1.2636 \t \t     1.2594 \n",
            "mean control..........     1.4285 \t \t     1.2594 \n",
            "std mean diff.........    -14.494 \t \t          0 \n",
            "\n",
            "mean raw eQQ diff.....    0.16298 \t \t          0 \n",
            "med  raw eQQ diff.....          0 \t \t          0 \n",
            "max  raw eQQ diff.....          1 \t \t          0 \n",
            "\n",
            "mean eCDF diff........   0.041238 \t \t          0 \n",
            "med  eCDF diff........   0.050727 \t \t          0 \n",
            "max  eCDF diff........   0.063499 \t \t          0 \n",
            "\n",
            "var ratio (Tr/Co).....    0.99178 \t \t          1 \n",
            "T-test p-value........  0.0024519 \t \t          1 \n",
            "KS Bootstrap p-value..      0.019 \t \t          1 \n",
            "KS Naive p-value......   0.057186 \t \t          1 \n",
            "KS Statistic..........   0.063499 \t \t          0 \n",
            "\n",
            "\n",
            "***** (V5) I(x_age2006^2) *****\n",
            "                       Before Matching \t \t After Matching\n",
            "mean treatment........       1478 \t \t     1376.1 \n",
            "mean control..........     1950.8 \t \t     1376.1 \n",
            "std mean diff.........    -42.916 \t \t          0 \n",
            "\n",
            "mean raw eQQ diff.....     477.63 \t \t          0 \n",
            "med  raw eQQ diff.....        520 \t \t          0 \n",
            "max  raw eQQ diff.....       1680 \t \t          0 \n",
            "\n",
            "mean eCDF diff........   0.090769 \t \t          0 \n",
            "med  eCDF diff........   0.090635 \t \t          0 \n",
            "max  eCDF diff........    0.20444 \t \t          0 \n",
            "\n",
            "var ratio (Tr/Co).....    0.93602 \t \t          1 \n",
            "T-test p-value........ < 2.22e-16 \t \t          1 \n",
            "KS Bootstrap p-value.. < 2.22e-16 \t \t          1 \n",
            "KS Naive p-value...... 2.2204e-16 \t \t          1 \n",
            "KS Statistic..........    0.20444 \t \t          0 \n",
            "\n",
            "\n",
            "***** (V6) I(x_education2006^2) *****\n",
            "                       Before Matching \t \t After Matching\n",
            "mean treatment........     34.302 \t \t     31.529 \n",
            "mean control..........     39.182 \t \t     31.529 \n",
            "std mean diff.........    -14.429 \t \t          0 \n",
            "\n",
            "mean raw eQQ diff.....     4.8551 \t \t          0 \n",
            "med  raw eQQ diff.....          0 \t \t          0 \n",
            "max  raw eQQ diff.....         32 \t \t          0 \n",
            "\n",
            "mean eCDF diff........   0.053716 \t \t          0 \n",
            "med  eCDF diff........   0.047811 \t \t          0 \n",
            "max  eCDF diff........    0.10036 \t \t          0 \n",
            "\n",
            "var ratio (Tr/Co).....    0.99376 \t \t          1 \n",
            "T-test p-value........  0.0025592 \t \t          1 \n",
            "KS Bootstrap p-value.. < 2.22e-16 \t \t          1 \n",
            "KS Naive p-value...... 0.00027872 \t \t          1 \n",
            "KS Statistic..........    0.10036 \t \t          0 \n",
            "\n",
            "\n",
            "***** (V7) I(x_income2006^2) *****\n",
            "                       Before Matching \t \t After Matching\n",
            "mean treatment........     2.8893 \t \t     2.9759 \n",
            "mean control..........     3.3464 \t \t     2.9759 \n",
            "std mean diff.........    -13.196 \t \t          0 \n",
            "\n",
            "mean raw eQQ diff.....    0.45272 \t \t          0 \n",
            "med  raw eQQ diff.....          0 \t \t          0 \n",
            "max  raw eQQ diff.....          5 \t \t          0 \n",
            "\n",
            "mean eCDF diff........   0.041238 \t \t          0 \n",
            "med  eCDF diff........   0.050727 \t \t          0 \n",
            "max  eCDF diff........   0.063499 \t \t          0 \n",
            "\n",
            "var ratio (Tr/Co).....      0.927 \t \t          1 \n",
            "T-test p-value........  0.0059771 \t \t          1 \n",
            "KS Bootstrap p-value..      0.019 \t \t          1 \n",
            "KS Naive p-value......   0.057186 \t \t          1 \n",
            "KS Statistic..........   0.063499 \t \t          0 \n",
            "\n",
            "\n",
            "Before Matching Minimum p.value: < 2.22e-16 \n",
            "Variable Name(s): x_age2006 x_education2006 I(x_age2006^2) I(x_education2006^2)  Number(s): 1 2 5 6 \n",
            "\n",
            "After Matching Minimum p.value: 1\n",
            "\n"
          ]
        }
      ]
    },
    {
      "cell_type": "markdown",
      "source": [
        "Visualizing the balance with the *cobalt* package functions:"
      ],
      "metadata": {
        "id": "4inrbpEZLbyD"
      }
    },
    {
      "cell_type": "code",
      "source": [
        "# Visualize balance with bal.tab (cobalt package)\n",
        "balance.table <- bal.tab(mgens, d_threat2006 ~ x_age2006 + x_education2006 +\n",
        "                     x_male2006 + x_income2006 +\n",
        "                     I(x_age2006^2) + I(x_education2006^2) +\n",
        "                     I(x_income2006^2), data = data2, un=TRUE)\n",
        "\n",
        "love.plot(balance.table,\n",
        "          threshold =.1,\n",
        "          line = TRUE,\n",
        "          stars = \"std\")"
      ],
      "metadata": {
        "colab": {
          "base_uri": "https://localhost:8080/",
          "height": 437
        },
        "id": "dTK7q0EnLbdM",
        "outputId": "d8aaab82-46f4-4229-f14a-a4643e844e30"
      },
      "execution_count": null,
      "outputs": [
        {
          "output_type": "display_data",
          "data": {
            "text/plain": [
              "plot without title"
            ],
            "image/png": "[encoded data removed]"
          },
          "metadata": {
            "image/png": {
              "width": 420,
              "height": 420
            }
          }
        }
      ]
    },
    {
      "cell_type": "markdown",
      "source": [
        "# 4) References\n",
        "\n",
        "Bauer PC (2020). Applied Causal Analysis (with R). https://bookdown.org/paul/applied-causal-analysis/.\n",
        "> The codes in this work are a good starting point for using R in causal analysis. A good secondary reference for causal inference.\n",
        "\n",
        "Brumback BA (2022). Fundamentals of Causal Inference with R. CRC Press.\n",
        "> An advanced level book on causal inference, typically for MS or PhD students. It does require some solid background in probability and statistics.\n",
        "\n",
        "Cunningham S (2021). Causal Inference: the Mixtape, Yale Press. https://mixtape.scunning.com/.\n",
        "> A great online book to introduce the complex concepts of causal inference. It is an easily absorbable book for a wider audience, and also has codes for Stata, R, and Python for those who would also like to do some of the examples.\n",
        "\n",
        "Imai K (2021). STAT 286/GOV 2003: Causal Inference with Applications Lecture Slides. Harvard University. https://imai.fas.harvard.edu/teaching/cause.html.\n",
        "> Imai's online lecture page where you can access his slides. He does have a Youtube lecture series on causal inference here: https://www.youtube.com/@imaikosuke.\n",
        "\n",
        "Nguyen M (2020). A Guide on Data Analysis. Bookdown. https://bookdown.org/mike/data_analysis/\n",
        "> A comprehensive book on data analysis with a section on causal inference. A good starting point for reading on and doing some data analytics learning with R codes.\n",
        "\n",
        "O'Grady T (2020). Causal Inference for Beginning Undergraduates, https://github.com/verenakunz/Causal-Inference-for-Beginning-Undergraduates/tree/master.\n",
        "> A good learning reference for those who also like to do some exercises with solutions\n",
        "\n"
      ],
      "metadata": {
        "id": "3hDWEaWx8sz3"
      }
    }
  ]
}