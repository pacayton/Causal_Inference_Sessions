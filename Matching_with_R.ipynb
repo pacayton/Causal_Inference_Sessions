{
  "nbformat": 4,
  "nbformat_minor": 0,
  "metadata": {
    "colab": {
      "provenance": [],
      "authorship_tag": "ABX9TyMV+E3iNIJhLSKpka4TlshE",
      "include_colab_link": true
    },
    "kernelspec": {
      "name": "ir",
      "display_name": "R"
    },
    "language_info": {
      "name": "R"
    }
  },
  "cells": [
    {
      "cell_type": "markdown",
      "metadata": {
        "id": "view-in-github",
        "colab_type": "text"
      },
      "source": [
        "<a href=\"https://colab.research.google.com/github/pacayton/Causal_Inference_Sessions/blob/main/Matching_with_R.ipynb\" target=\"_parent\"><img src=\"https://colab.research.google.com/assets/colab-badge.svg\" alt=\"Open In Colab\"/></a>"
      ]
    },
    {
      "cell_type": "markdown",
      "source": [
        "Source: https://mixtape.scunning.com/05-matching_and_subclassification"
      ],
      "metadata": {
        "id": "ZeIdI0gi9LRa"
      }
    },
    {
      "cell_type": "code",
      "source": [
        "## Training Data Example for Exact Matching\n",
        "\n",
        "library(tidyverse)\n",
        "library(haven)\n",
        "\n",
        "read_data <- function(df)\n",
        "{\n",
        "  full_path <- paste(\"https://github.com/scunning1975/mixtape/raw/master/\", \n",
        "                     df, sep = \"\")\n",
        "  df <- read_dta(full_path)\n",
        "  return(df)\n",
        "}\n",
        "\n",
        "training_example <- read_data(\"training_example.dta\") %>% \n",
        "  slice(1:20)\n",
        "\n",
        "ggplot(training_example, aes(x=age_treat)) +\n",
        "  stat_bin(bins = 10, na.rm = TRUE)\n",
        "\n",
        "ggplot(training_example, aes(x=age_control)) +\n",
        "  geom_histogram(bins = 10, na.rm = TRUE)"
      ],
      "metadata": {
        "id": "KljUgQR1Cgjo"
      },
      "execution_count": null,
      "outputs": []
    },
    {
      "cell_type": "code",
      "source": [
        "### Training Data with Bias Reduction\n",
        "\n",
        "library(tidyverse)\n",
        "library(haven)\n",
        "\n",
        "read_data <- function(df)\n",
        "{\n",
        "  full_path <- paste(\"https://github.com/scunning1975/mixtape/raw/master/\", \n",
        "                     df, sep = \"\")\n",
        "  df <- read_dta(full_path)\n",
        "  return(df)\n",
        "}\n",
        "\n",
        "training_bias_reduction <- read_data(\"training_bias_reduction.dta\") %>% \n",
        "  mutate(\n",
        "    Y1 = case_when(Unit %in% c(1,2,3,4) ~ Y),\n",
        "    Y0 = c(4,0,5,1,4,0,5,1))\n",
        "\n",
        "train_reg <- lm(Y ~ X, training_bias_reduction)\n",
        "\n",
        "training_bias_reduction <- training_bias_reduction %>% \n",
        "  mutate(u_hat0 = predict(train_reg))\n",
        "\n",
        "training_bias_reduction"
      ],
      "metadata": {
        "colab": {
          "base_uri": "https://localhost:8080/",
          "height": 349
        },
        "id": "07KQ9l8f78R_",
        "outputId": "b19dc23b-823e-4c2b-e127-7d4f20fa4115"
      },
      "execution_count": 3,
      "outputs": [
        {
          "output_type": "display_data",
          "data": {
            "text/html": [
              "<table class=\"dataframe\">\n",
              "<caption>A tibble: 8 × 7</caption>\n",
              "<thead>\n",
              "\t<tr><th scope=col>Unit</th><th scope=col>Y</th><th scope=col>D</th><th scope=col>X</th><th scope=col>Y1</th><th scope=col>Y0</th><th scope=col>u_hat0</th></tr>\n",
              "\t<tr><th scope=col>&lt;dbl&gt;</th><th scope=col>&lt;dbl&gt;</th><th scope=col>&lt;dbl&gt;</th><th scope=col>&lt;dbl&gt;</th><th scope=col>&lt;dbl&gt;</th><th scope=col>&lt;dbl&gt;</th><th scope=col>&lt;dbl&gt;</th></tr>\n",
              "</thead>\n",
              "<tbody>\n",
              "\t<tr><td>1</td><td> 5</td><td>1</td><td>11</td><td> 5</td><td>4</td><td>3.888071</td></tr>\n",
              "\t<tr><td>2</td><td> 2</td><td>1</td><td> 7</td><td> 2</td><td>0</td><td>4.082474</td></tr>\n",
              "\t<tr><td>3</td><td>10</td><td>1</td><td> 5</td><td>10</td><td>5</td><td>4.179676</td></tr>\n",
              "\t<tr><td>4</td><td> 6</td><td>1</td><td> 3</td><td> 6</td><td>1</td><td>4.276878</td></tr>\n",
              "\t<tr><td>5</td><td> 4</td><td>0</td><td>10</td><td>NA</td><td>4</td><td>3.936672</td></tr>\n",
              "\t<tr><td>6</td><td> 0</td><td>0</td><td> 8</td><td>NA</td><td>0</td><td>4.033873</td></tr>\n",
              "\t<tr><td>7</td><td> 5</td><td>0</td><td> 4</td><td>NA</td><td>5</td><td>4.228277</td></tr>\n",
              "\t<tr><td>8</td><td> 1</td><td>0</td><td> 1</td><td>NA</td><td>1</td><td>4.374080</td></tr>\n",
              "</tbody>\n",
              "</table>\n"
            ],
            "text/markdown": "\nA tibble: 8 × 7\n\n| Unit &lt;dbl&gt; | Y &lt;dbl&gt; | D &lt;dbl&gt; | X &lt;dbl&gt; | Y1 &lt;dbl&gt; | Y0 &lt;dbl&gt; | u_hat0 &lt;dbl&gt; |\n|---|---|---|---|---|---|---|\n| 1 |  5 | 1 | 11 |  5 | 4 | 3.888071 |\n| 2 |  2 | 1 |  7 |  2 | 0 | 4.082474 |\n| 3 | 10 | 1 |  5 | 10 | 5 | 4.179676 |\n| 4 |  6 | 1 |  3 |  6 | 1 | 4.276878 |\n| 5 |  4 | 0 | 10 | NA | 4 | 3.936672 |\n| 6 |  0 | 0 |  8 | NA | 0 | 4.033873 |\n| 7 |  5 | 0 |  4 | NA | 5 | 4.228277 |\n| 8 |  1 | 0 |  1 | NA | 1 | 4.374080 |\n\n",
            "text/latex": "A tibble: 8 × 7\n\\begin{tabular}{lllllll}\n Unit & Y & D & X & Y1 & Y0 & u\\_hat0\\\\\n <dbl> & <dbl> & <dbl> & <dbl> & <dbl> & <dbl> & <dbl>\\\\\n\\hline\n\t 1 &  5 & 1 & 11 &  5 & 4 & 3.888071\\\\\n\t 2 &  2 & 1 &  7 &  2 & 0 & 4.082474\\\\\n\t 3 & 10 & 1 &  5 & 10 & 5 & 4.179676\\\\\n\t 4 &  6 & 1 &  3 &  6 & 1 & 4.276878\\\\\n\t 5 &  4 & 0 & 10 & NA & 4 & 3.936672\\\\\n\t 6 &  0 & 0 &  8 & NA & 0 & 4.033873\\\\\n\t 7 &  5 & 0 &  4 & NA & 5 & 4.228277\\\\\n\t 8 &  1 & 0 &  1 & NA & 1 & 4.374080\\\\\n\\end{tabular}\n",
            "text/plain": [
              "  Unit Y  D X  Y1 Y0 u_hat0  \n",
              "1 1     5 1 11  5 4  3.888071\n",
              "2 2     2 1  7  2 0  4.082474\n",
              "3 3    10 1  5 10 5  4.179676\n",
              "4 4     6 1  3  6 1  4.276878\n",
              "5 5     4 0 10 NA 4  3.936672\n",
              "6 6     0 0  8 NA 0  4.033873\n",
              "7 7     5 0  4 NA 5  4.228277\n",
              "8 8     1 0  1 NA 1  4.374080"
            ]
          },
          "metadata": {}
        }
      ]
    },
    {
      "cell_type": "code",
      "source": [
        "## NSW Experimental\n",
        "\n",
        "library(tidyverse)\n",
        "library(haven)\n",
        "\n",
        "read_data <- function(df)\n",
        "{\n",
        "  full_path <- paste(\"https://github.com/scunning1975/mixtape/raw/master/\", \n",
        "                     df, sep = \"\")\n",
        "  df <- read_dta(full_path)\n",
        "  return(df)\n",
        "}\n",
        "\n",
        "nsw_dw <- read_data(\"nsw_mixtape.dta\")\n",
        "\n",
        "nsw_dw %>% \n",
        "  filter(treat == 1) %>% \n",
        "  summary(re78)\n",
        "\n",
        "mean1 <- nsw_dw %>% \n",
        "  filter(treat == 1) %>% \n",
        "  pull(re78) %>% \n",
        "  mean()\n",
        "\n",
        "nsw_dw$y1 <- mean1\n",
        "\n",
        "nsw_dw %>% \n",
        "  filter(treat == 0) %>% \n",
        "  summary(re78)\n",
        "\n",
        "mean0 <- nsw_dw %>% \n",
        "  filter(treat == 0) %>% \n",
        "  pull(re78) %>% \n",
        "  mean()\n",
        "\n",
        "nsw_dw$y0 <- mean0\n",
        "\n",
        "ate <- unique(nsw_dw$y1 - nsw_dw$y0)\n",
        "\n",
        "nsw_dw <- nsw_dw %>% \n",
        "  filter(treat == 1) %>% \n",
        "  select(-y1, -y0)"
      ],
      "metadata": {
        "colab": {
          "base_uri": "https://localhost:8080/",
          "height": 746
        },
        "id": "bkwByrLY8ErP",
        "outputId": "85ad8f55-372e-46cc-e9c6-80831902706d"
      },
      "execution_count": 5,
      "outputs": [
        {
          "output_type": "display_data",
          "data": {
            "text/plain": [
              "   data_id              treat        age             educ      \n",
              " Length:185         Min.   :1   Min.   :17.00   Min.   : 4.00  \n",
              " Class :character   1st Qu.:1   1st Qu.:20.00   1st Qu.: 9.00  \n",
              " Mode  :character   Median :1   Median :25.00   Median :11.00  \n",
              "                    Mean   :1   Mean   :25.82   Mean   :10.35  \n",
              "                    3rd Qu.:1   3rd Qu.:29.00   3rd Qu.:12.00  \n",
              "                    Max.   :1   Max.   :48.00   Max.   :16.00  \n",
              "     black             hisp              marr           nodegree     \n",
              " Min.   :0.0000   Min.   :0.00000   Min.   :0.0000   Min.   :0.0000  \n",
              " 1st Qu.:1.0000   1st Qu.:0.00000   1st Qu.:0.0000   1st Qu.:0.0000  \n",
              " Median :1.0000   Median :0.00000   Median :0.0000   Median :1.0000  \n",
              " Mean   :0.8432   Mean   :0.05946   Mean   :0.1892   Mean   :0.7081  \n",
              " 3rd Qu.:1.0000   3rd Qu.:0.00000   3rd Qu.:0.0000   3rd Qu.:1.0000  \n",
              " Max.   :1.0000   Max.   :1.00000   Max.   :1.0000   Max.   :1.0000  \n",
              "      re74            re75            re78        \n",
              " Min.   :    0   Min.   :    0   Min.   :    0.0  \n",
              " 1st Qu.:    0   1st Qu.:    0   1st Qu.:  485.2  \n",
              " Median :    0   Median :    0   Median : 4232.3  \n",
              " Mean   : 2096   Mean   : 1532   Mean   : 6349.1  \n",
              " 3rd Qu.: 1291   3rd Qu.: 1817   3rd Qu.: 9643.0  \n",
              " Max.   :35040   Max.   :25142   Max.   :60307.9  "
            ]
          },
          "metadata": {}
        },
        {
          "output_type": "display_data",
          "data": {
            "text/plain": [
              "   data_id              treat        age             educ      \n",
              " Length:260         Min.   :0   Min.   :17.00   Min.   : 3.00  \n",
              " Class :character   1st Qu.:0   1st Qu.:19.00   1st Qu.: 9.00  \n",
              " Mode  :character   Median :0   Median :24.00   Median :10.00  \n",
              "                    Mean   :0   Mean   :25.05   Mean   :10.09  \n",
              "                    3rd Qu.:0   3rd Qu.:28.00   3rd Qu.:11.00  \n",
              "                    Max.   :0   Max.   :55.00   Max.   :14.00  \n",
              "     black             hisp             marr           nodegree     \n",
              " Min.   :0.0000   Min.   :0.0000   Min.   :0.0000   Min.   :0.0000  \n",
              " 1st Qu.:1.0000   1st Qu.:0.0000   1st Qu.:0.0000   1st Qu.:1.0000  \n",
              " Median :1.0000   Median :0.0000   Median :0.0000   Median :1.0000  \n",
              " Mean   :0.8269   Mean   :0.1077   Mean   :0.1538   Mean   :0.8346  \n",
              " 3rd Qu.:1.0000   3rd Qu.:0.0000   3rd Qu.:0.0000   3rd Qu.:1.0000  \n",
              " Max.   :1.0000   Max.   :1.0000   Max.   :1.0000   Max.   :1.0000  \n",
              "      re74              re75              re78             y1      \n",
              " Min.   :    0.0   Min.   :    0.0   Min.   :    0   Min.   :6349  \n",
              " 1st Qu.:    0.0   1st Qu.:    0.0   1st Qu.:    0   1st Qu.:6349  \n",
              " Median :    0.0   Median :    0.0   Median : 3139   Median :6349  \n",
              " Mean   : 2107.0   Mean   : 1266.9   Mean   : 4555   Mean   :6349  \n",
              " 3rd Qu.:  139.4   3rd Qu.:  650.1   3rd Qu.: 7288   3rd Qu.:6349  \n",
              " Max.   :39570.7   Max.   :23032.0   Max.   :39484   Max.   :6349  "
            ]
          },
          "metadata": {}
        }
      ]
    },
    {
      "cell_type": "code",
      "source": [
        "## NSW Propensity Score Weighting\n",
        "\n",
        "library(tidyverse)\n",
        "library(haven)\n",
        "\n",
        "read_data <- function(df)\n",
        "{\n",
        "  full_path <- paste(\"https://github.com/scunning1975/mixtape/raw/master/\", \n",
        "                     df, sep = \"\")\n",
        "  df <- read_dta(full_path)\n",
        "  return(df)\n",
        "}\n",
        "\n",
        "nsw_dw_cpscontrol <- read_data(\"cps_mixtape.dta\") %>% \n",
        "  bind_rows(nsw_dw) %>% \n",
        "  mutate(agesq = age^2,\n",
        "         agecube = age^3,\n",
        "         educsq = educ*educ,\n",
        "         u74 = case_when(re74 == 0 ~ 1, TRUE ~ 0),\n",
        "         u75 = case_when(re75 == 0 ~ 1, TRUE ~ 0),\n",
        "         interaction1 = educ*re74,\n",
        "         re74sq = re74^2,\n",
        "         re75sq = re75^2,\n",
        "         interaction2 = u74*hisp)\n",
        "\n",
        "# estimating\n",
        "logit_nsw <- glm(treat ~ age + agesq + agecube + educ + educsq + \n",
        "                   marr + nodegree + black + hisp + re74 + re75 + u74 +\n",
        "                   u75 + interaction1, family = binomial(link = \"logit\"), \n",
        "                 data = nsw_dw_cpscontrol)\n",
        "\n",
        "nsw_dw_cpscontrol <- nsw_dw_cpscontrol %>% \n",
        "  mutate(pscore = logit_nsw$fitted.values)\n",
        "\n",
        "# mean pscore \n",
        "pscore_control <- nsw_dw_cpscontrol %>% \n",
        "  filter(treat == 0) %>% \n",
        "  pull(pscore) %>% \n",
        "  mean()\n",
        "\n",
        "pscore_treated <- nsw_dw_cpscontrol %>% \n",
        "  filter(treat == 1) %>% \n",
        "  pull(pscore) %>% \n",
        "  mean()\n",
        "\n",
        "# histogram\n",
        "nsw_dw_cpscontrol %>% \n",
        "  filter(treat == 0) %>% \n",
        "  ggplot() +\n",
        "  geom_histogram(aes(x = pscore))\n",
        "\n",
        "nsw_dw_cpscontrol %>% \n",
        "  filter(treat == 1) %>% \n",
        "  ggplot() +\n",
        "  geom_histogram(aes(x = pscore))"
      ],
      "metadata": {
        "colab": {
          "base_uri": "https://localhost:8080/",
          "height": 892
        },
        "id": "7IOpt3Jy-Mh4",
        "outputId": "543c1063-2764-42bd-cc76-a6ab5e63003e"
      },
      "execution_count": 7,
      "outputs": [
        {
          "output_type": "stream",
          "name": "stderr",
          "text": [
            "\u001b[1m\u001b[22m`stat_bin()` using `bins = 30`. Pick better value with `binwidth`.\n",
            "\u001b[1m\u001b[22m`stat_bin()` using `bins = 30`. Pick better value with `binwidth`.\n"
          ]
        },
        {
          "output_type": "display_data",
          "data": {
            "text/plain": [
              "plot without title"
            ],
            "image/png": "[encoded data removed]"
          },
          "metadata": {
            "image/png": {
              "width": 420,
              "height": 420
            }
          }
        },
        {
          "output_type": "display_data",
          "data": {
            "text/plain": [
              "plot without title"
            ],
            "image/png": "[encoded data removed]"
          },
          "metadata": {
            "image/png": {
              "width": 420,
              "height": 420
            }
          }
        }
      ]
    },
    {
      "cell_type": "code",
      "source": [
        "## Inverse Propensity Weighting\n",
        "\n",
        "library(tidyverse)\n",
        "library(haven)\n",
        "\n",
        "#continuation\n",
        "N <- nrow(nsw_dw_cpscontrol)\n",
        "#- Manual with non-normalized weights using all data\n",
        "nsw_dw_cpscontrol <- nsw_dw_cpscontrol %>% \n",
        "  mutate(d1 = treat/pscore,\n",
        "         d0 = (1-treat)/(1-pscore))\n",
        "\n",
        "s1 <- sum(nsw_dw_cpscontrol$d1)\n",
        "s0 <- sum(nsw_dw_cpscontrol$d0)\n",
        "\n",
        "\n",
        "nsw_dw_cpscontrol <- nsw_dw_cpscontrol %>% \n",
        "  mutate(y1 = treat * re78/pscore,\n",
        "         y0 = (1-treat) * re78/(1-pscore),\n",
        "         ht = y1 - y0)\n",
        "\n",
        "#- Manual with normalized weights\n",
        "nsw_dw_cpscontrol <- nsw_dw_cpscontrol %>% \n",
        "  mutate(y1 = (treat*re78/pscore)/(s1/N),\n",
        "         y0 = ((1-treat)*re78/(1-pscore))/(s0/N),\n",
        "         norm = y1 - y0)\n",
        "\n",
        "nsw_dw_cpscontrol %>% \n",
        "  pull(ht) %>% \n",
        "  mean()\n",
        "\n",
        "nsw_dw_cpscontrol %>% \n",
        "  pull(norm) %>% \n",
        "  mean()\n",
        "\n",
        "#-- trimming propensity score\n",
        "nsw_dw_cpscontrol <- nsw_dw_cpscontrol %>% \n",
        "  select(-d1, -d0, -y1, -y0, -ht, -norm) %>% \n",
        "  filter(!(pscore >= 0.9)) %>% \n",
        "  filter(!(pscore <= 0.1))\n",
        "\n",
        "N <- nrow(nsw_dw_cpscontrol)\n",
        "\n",
        "#- Manual with non-normalized weights using trimmed data\n",
        "nsw_dw_cpscontrol <- nsw_dw_cpscontrol %>% \n",
        "  mutate(d1 = treat/pscore,\n",
        "         d0 = (1-treat)/(1-pscore))\n",
        "\n",
        "s1 <- sum(nsw_dw_cpscontrol$d1)\n",
        "s0 <- sum(nsw_dw_cpscontrol$d0)\n",
        "\n",
        "nsw_dw_cpscontrol <- nsw_dw_cpscontrol %>% \n",
        "  mutate(y1 = treat * re78/pscore,\n",
        "         y0 = (1-treat) * re78/(1-pscore),\n",
        "         ht = y1 - y0)\n",
        "\n",
        "#- Manual with normalized weights with trimmed data\n",
        "nsw_dw_cpscontrol <- nsw_dw_cpscontrol %>% \n",
        "  mutate(y1 = (treat*re78/pscore)/(s1/N),\n",
        "         y0 = ((1-treat)*re78/(1-pscore))/(s0/N),\n",
        "         norm = y1 - y0)\n",
        "\n",
        "nsw_dw_cpscontrol %>% \n",
        "  pull(ht) %>% \n",
        "  mean()\n",
        "\n",
        "nsw_dw_cpscontrol %>% \n",
        "  pull(norm) %>% \n",
        "  mean()"
      ],
      "metadata": {
        "colab": {
          "base_uri": "https://localhost:8080/",
          "height": 86
        },
        "id": "ghxFLmjw99NA",
        "outputId": "84216d73-cb38-4cea-8649-149da60d3c6e"
      },
      "execution_count": 8,
      "outputs": [
        {
          "output_type": "display_data",
          "data": {
            "text/html": [
              "-11876.7877393861"
            ],
            "text/markdown": "-11876.7877393861",
            "text/latex": "-11876.7877393861",
            "text/plain": [
              "[1] -11876.79"
            ]
          },
          "metadata": {}
        },
        {
          "output_type": "display_data",
          "data": {
            "text/html": [
              "-7238.14033740398"
            ],
            "text/markdown": "-7238.14033740398",
            "text/latex": "-7238.14033740398",
            "text/plain": [
              "[1] -7238.14"
            ]
          },
          "metadata": {}
        },
        {
          "output_type": "display_data",
          "data": {
            "text/html": [
              "2006.36525503975"
            ],
            "text/markdown": "2006.36525503975",
            "text/latex": "2006.36525503975",
            "text/plain": [
              "[1] 2006.365"
            ]
          },
          "metadata": {}
        },
        {
          "output_type": "display_data",
          "data": {
            "text/html": [
              "1806.73006902287"
            ],
            "text/markdown": "1806.73006902287",
            "text/latex": "1806.73006902287",
            "text/plain": [
              "[1] 1806.73"
            ]
          },
          "metadata": {}
        }
      ]
    },
    {
      "cell_type": "code",
      "source": [
        "## Nearest Neighbor Matching\n",
        "install.packages(c(\"MatchIt\"))\n",
        "devtools::install_github('IQSS/Zelig')\n",
        "\n",
        "library(MatchIt)\n",
        "library(Zelig)\n",
        "\n",
        "m_out <- matchit(treat ~ age + agesq + agecube + educ +\n",
        "                 educsq + marr + nodegree +\n",
        "                 black + hisp + re74 + re75 + u74 + u75 + interaction1,\n",
        "                 data = nsw_dw_cpscontrol, method = \"nearest\", \n",
        "                 distance = \"logit\", ratio =5)\n",
        "\n",
        "m_data <- match.data(m_out)\n",
        "\n",
        "z_out <- zelig(re78 ~ treat + age + agesq + agecube + educ +\n",
        "               educsq + marr + nodegree +\n",
        "               black + hisp + re74 + re75 + u74 + u75 + interaction1, \n",
        "               model = \"ls\", data = m_data)\n",
        "\n",
        "x_out <- setx(z_out, treat = 0)\n",
        "x1_out <- setx(z_out, treat = 1)\n",
        "\n",
        "s_out <- sim(z_out, x = x_out, x1 = x1_out)\n",
        "\n",
        "summary(s_out)"
      ],
      "metadata": {
        "colab": {
          "base_uri": "https://localhost:8080/"
        },
        "id": "2fE3jPC2-cj-",
        "outputId": "d3bc3c7b-f87a-4f69-db68-d616d65b207e"
      },
      "execution_count": 16,
      "outputs": [
        {
          "output_type": "stream",
          "name": "stderr",
          "text": [
            "Installing package into ‘/usr/local/lib/R/site-library’\n",
            "(as ‘lib’ is unspecified)\n",
            "\n",
            "Downloading GitHub repo IQSS/Zelig@HEAD\n",
            "\n"
          ]
        },
        {
          "output_type": "stream",
          "name": "stdout",
          "text": [
            "MatrixModels (NA     -> 0.5-1     ) [CRAN]\n",
            "SparseM      (NA     -> 1.81      ) [CRAN]\n",
            "zoo          (NA     -> 1.8-12    ) [CRAN]\n",
            "digest       (0.6.30 -> 0.6.31    ) [CRAN]\n",
            "rlang        (1.1.0  -> 1.1.1     ) [CRAN]\n",
            "vctrs        (0.6.1  -> 0.6.2     ) [CRAN]\n",
            "stringr      (1.4.1  -> 1.5.0     ) [CRAN]\n",
            "dplyr        (1.1.1  -> 1.1.2     ) [CRAN]\n",
            "fs           (1.6.1  -> 1.6.2     ) [CRAN]\n",
            "waldo        (0.4.0  -> 0.5.0     ) [CRAN]\n",
            "ps           (1.7.4  -> 1.7.5     ) [CRAN]\n",
            "processx     (3.8.0  -> 3.8.1     ) [CRAN]\n",
            "pkgload      (1.3.1  -> 1.3.2     ) [CRAN]\n",
            "jsonlite     (1.8.3  -> 1.8.4     ) [CRAN]\n",
            "viridisLite  (0.4.1  -> 0.4.2     ) [CRAN]\n",
            "numDeriv     (NA     -> 2016.8-1.1) [CRAN]\n",
            "RcppEigen    (NA     -> 0.3.3.9.3 ) [CRAN]\n",
            "nloptr       (NA     -> 2.0.3     ) [CRAN]\n",
            "minqa        (NA     -> 1.2.5     ) [CRAN]\n",
            "lme4         (NA     -> 1.1-33    ) [CRAN]\n",
            "quantreg     (NA     -> 5.95      ) [CRAN]\n",
            "pbkrtest     (NA     -> 0.5.2     ) [CRAN]\n",
            "abind        (NA     -> 1.4-5     ) [CRAN]\n",
            "carData      (NA     -> 3.0-5     ) [CRAN]\n",
            "mitools      (NA     -> 2.4       ) [CRAN]\n",
            "mcmc         (NA     -> 0.9-7     ) [CRAN]\n",
            "coda         (NA     -> 0.19-4    ) [CRAN]\n",
            "sandwich     (NA     -> 3.0-2     ) [CRAN]\n",
            "miscTools    (NA     -> 0.6-26    ) [CRAN]\n",
            "RcppArmad... (NA     -> 0.12.2.0.0) [CRAN]\n",
            "Formula      (NA     -> 1.2-5     ) [CRAN]\n",
            "lmtest       (NA     -> 0.9-40    ) [CRAN]\n",
            "car          (NA     -> 3.1-2     ) [CRAN]\n",
            "VGAM         (NA     -> 1.1-8     ) [CRAN]\n",
            "survey       (NA     -> 4.2-1     ) [CRAN]\n",
            "MCMCpack     (NA     -> 1.6-3     ) [CRAN]\n",
            "maxLik       (NA     -> 1.5-2     ) [CRAN]\n",
            "geepack      (NA     -> 1.3.9     ) [CRAN]\n",
            "Amelia       (NA     -> 1.8.1     ) [CRAN]\n",
            "AER          (NA     -> 1.2-10    ) [CRAN]\n"
          ]
        },
        {
          "output_type": "stream",
          "name": "stderr",
          "text": [
            "Installing 40 packages: MatrixModels, SparseM, zoo, digest, rlang, vctrs, stringr, dplyr, fs, waldo, ps, processx, pkgload, jsonlite, viridisLite, numDeriv, RcppEigen, nloptr, minqa, lme4, quantreg, pbkrtest, abind, carData, mitools, mcmc, coda, sandwich, miscTools, RcppArmadillo, Formula, lmtest, car, VGAM, survey, MCMCpack, maxLik, geepack, Amelia, AER\n",
            "\n",
            "Installing packages into ‘/usr/local/lib/R/site-library’\n",
            "(as ‘lib’ is unspecified)\n",
            "\n"
          ]
        },
        {
          "output_type": "stream",
          "name": "stdout",
          "text": [
            "\u001b[36m──\u001b[39m \u001b[36mR CMD build\u001b[39m \u001b[36m─────────────────────────────────────────────────────────────────\u001b[39m\n",
            "* checking for file ‘/tmp/RtmpToVgo2/remotesd143da3ad4/IQSS-Zelig-4774793/DESCRIPTION’ ... OK\n",
            "* preparing ‘Zelig’:\n",
            "* checking DESCRIPTION meta-information ... OK\n",
            "* checking for LF line-endings in source and make files and shell scripts\n",
            "* checking for empty or unneeded directories\n",
            "* looking to see if a ‘data/datalist’ file should be added\n",
            "* building ‘Zelig_5.1.7.tar.gz’\n",
            "\n"
          ]
        },
        {
          "output_type": "stream",
          "name": "stderr",
          "text": [
            "Installing package into ‘/usr/local/lib/R/site-library’\n",
            "(as ‘lib’ is unspecified)\n",
            "\n",
            "Loading required package: survival\n",
            "\n",
            "\n",
            "Attaching package: ‘Zelig’\n",
            "\n",
            "\n",
            "The following object is masked from ‘package:purrr’:\n",
            "\n",
            "    reduce\n",
            "\n",
            "\n",
            "The following object is masked from ‘package:ggplot2’:\n",
            "\n",
            "    stat\n",
            "\n",
            "\n",
            "Warning message:\n",
            "“Not all treated units will get 5 matches.”\n",
            "Warning message:\n",
            "“\u001b[1m\u001b[22m`tbl_df()` was deprecated in dplyr 1.0.0.\n",
            "\u001b[36mℹ\u001b[39m Please use `tibble::as_tibble()` instead.\n",
            "\u001b[36mℹ\u001b[39m The deprecated feature was likely used in the \u001b[34mZelig\u001b[39m package.\n",
            "  Please report the issue at \u001b[3m\u001b[34m<https://github.com/IQSS/Zelig/issues>\u001b[39m\u001b[23m.”\n",
            "Warning message:\n",
            "“\u001b[1m\u001b[22m`group_by_()` was deprecated in dplyr 0.7.0.\n",
            "\u001b[36mℹ\u001b[39m Please use `group_by()` instead.\n",
            "\u001b[36mℹ\u001b[39m See vignette('programming') for more help\n",
            "\u001b[36mℹ\u001b[39m The deprecated feature was likely used in the \u001b[34mZelig\u001b[39m package.\n",
            "  Please report the issue at \u001b[3m\u001b[34m<https://github.com/IQSS/Zelig/issues>\u001b[39m\u001b[23m.”\n"
          ]
        },
        {
          "output_type": "stream",
          "name": "stdout",
          "text": [
            "How to cite this model in Zelig:\n",
            "  R Core Team. 2007.\n",
            "  ls: Least Squares Regression for Continuous Dependent Variables\n",
            "  in Christine Choirat, Christopher Gandrud, James Honaker, Kosuke Imai, Gary King, and Olivia Lau,\n",
            "  \"Zelig: Everyone's Statistical Software,\" https://zeligproject.org/\n",
            "\n",
            " sim x :\n",
            " -----\n",
            "ev\n",
            "      mean      sd      50%     2.5%   97.5%\n",
            "1 4583.486 445.516 4584.894 3752.092 5452.42\n",
            "pv\n",
            "         mean       sd      50%      2.5%   97.5%\n",
            "[1,] 5068.585 6604.886 4838.255 -7165.615 18360.2\n",
            "\n",
            " sim x1 :\n",
            " -----\n",
            "ev\n",
            "      mean       sd      50%     2.5%    97.5%\n",
            "1 6304.197 614.6484 6327.197 5064.359 7512.231\n",
            "pv\n",
            "         mean       sd      50%      2.5%    97.5%\n",
            "[1,] 6363.469 6730.601 6615.663 -7276.236 19046.59\n",
            "fd\n",
            "     mean       sd      50%     2.5%    97.5%\n",
            "1 1720.71 797.4361 1741.006 119.5451 3226.596\n"
          ]
        }
      ]
    },
    {
      "cell_type": "code",
      "source": [
        "## Coarsened Exact Matching\n",
        "install.packages(c(\"cem\",\"estimatr\"))\n",
        "library(cem)\n",
        "library(MatchIt)\n",
        "library(Zelig)\n",
        "library(tidyverse)\n",
        "library(estimatr)\n",
        "\n",
        "\n",
        "m_out <- matchit(treat ~ age + agesq + agecube + educ +\n",
        "                   educsq + marr + nodegree +\n",
        "                   black + hisp + re74 + re75 + \n",
        "                   u74 + u75 + interaction1,\n",
        "                 data = nsw_dw_cpscontrol, \n",
        "                 method = \"cem\", \n",
        "                 distance = \"logit\")\n",
        "\n",
        "m_data <- match.data(m_out)\n",
        "\n",
        "m_ate <- lm_robust(re78 ~ treat, \n",
        "               data = m_data,\n",
        "               weights = m_data$weights)"
      ],
      "metadata": {
        "colab": {
          "base_uri": "https://localhost:8080/"
        },
        "id": "eEV4POSpB3fv",
        "outputId": "92c18151-fe89-42af-c69d-1916ba2c48cd"
      },
      "execution_count": 17,
      "outputs": [
        {
          "output_type": "stream",
          "name": "stderr",
          "text": [
            "Installing packages into ‘/usr/local/lib/R/site-library’\n",
            "(as ‘lib’ is unspecified)\n",
            "\n",
            "also installing the dependencies ‘combinat’, ‘randomForest’\n",
            "\n",
            "\n",
            "Loading required package: tcltk\n",
            "\n",
            "Warning message:\n",
            "“no DISPLAY variable so Tk is not available”\n",
            "Loading required package: lattice\n",
            "\n",
            "\n",
            "How to use CEM? Type vignette(\"cem\")\n",
            "\n",
            "\n",
            "Warning message:\n",
            "“The argument 'distance' is not used with `method = \"cem\"` and will be ignored.”\n"
          ]
        }
      ]
    },
    {
      "cell_type": "markdown",
      "source": [
        "Source: https://bookdown.org/paul/applied-causal-analysis/lab-1.html"
      ],
      "metadata": {
        "id": "pG-nDzBpDL2b"
      }
    },
    {
      "cell_type": "markdown",
      "source": [
        "Data Source: https://drive.google.com/drive/folders/1o4OD9QTNfmMJCfGpAWHOhPx824ucqmFb"
      ],
      "metadata": {
        "id": "5kSHoh27DUnn"
      }
    },
    {
      "cell_type": "code",
      "source": [
        "library(tidyverse)\n",
        "install.packages(c(\"Matching\",\"cem\",\"MatchIt\",\"cobalt\",\"quickmatch\",\"rgenoud\"))"
      ],
      "metadata": {
        "colab": {
          "base_uri": "https://localhost:8080/"
        },
        "id": "9cH0GDn5Eio4",
        "outputId": "19ba344a-8c79-4f13-eefa-60ed8c997fb4"
      },
      "execution_count": 18,
      "outputs": [
        {
          "output_type": "stream",
          "name": "stderr",
          "text": [
            "Installing packages into ‘/usr/local/lib/R/site-library’\n",
            "(as ‘lib’ is unspecified)\n",
            "\n",
            "also installing the dependencies ‘gridExtra’, ‘distances’, ‘scclust’\n",
            "\n",
            "\n"
          ]
        }
      ]
    },
    {
      "cell_type": "code",
      "source": [
        "\n",
        "# Directly import data from shared google folder into R\n",
        "  data <- readr::read_csv(sprintf(\"https://docs.google.com/uc?id=%s&export=download\", \"1WifSODzbCzf0LlP09u9rG914LcUlL08_\"))\n",
        "  # Or download and import: data <- readr::read_csv(\"data-matching.csv\")\n",
        "\n",
        "fit1 <- lm(y_trust2006 ~ d_threat2006, data = data)\n",
        "fit2 <- lm(y_trust2006 ~ d_threat2006 + x_age2006 + x_male2006 + x_education2006, data = data)\n",
        "fit3 <- lm(y_trust2006 ~ d_threat2006 + x_age2006 + x_male2006 + x_education2006 + x_income2006, data = data)\n",
        "summary(fit1)\n",
        "summary(fit2)\n",
        "summary(fit3)"
      ],
      "metadata": {
        "colab": {
          "base_uri": "https://localhost:8080/",
          "height": 1000
        },
        "id": "10Z5hGMyD_HG",
        "outputId": "28f57407-43d7-47cd-e637-d09bb9c596bc"
      },
      "execution_count": 23,
      "outputs": [
        {
          "output_type": "stream",
          "name": "stderr",
          "text": [
            "\u001b[1mRows: \u001b[22m\u001b[34m23243\u001b[39m \u001b[1mColumns: \u001b[22m\u001b[34m25\u001b[39m\n",
            "\u001b[36m──\u001b[39m \u001b[1mColumn specification\u001b[22m \u001b[36m────────────────────────────────────────────────────────\u001b[39m\n",
            "\u001b[1mDelimiter:\u001b[22m \",\"\n",
            "\u001b[32mdbl\u001b[39m (25): y_trust2005, y_trust2006, y_trust2007, y_trust2008, x_age2005, x_a...\n",
            "\n",
            "\u001b[36mℹ\u001b[39m Use `spec()` to retrieve the full column specification for this data.\n",
            "\u001b[36mℹ\u001b[39m Specify the column types or set `show_col_types = FALSE` to quiet this message.\n"
          ]
        },
        {
          "output_type": "display_data",
          "data": {
            "text/plain": [
              "\n",
              "Call:\n",
              "lm(formula = y_trust2006 ~ d_threat2006, data = data)\n",
              "\n",
              "Residuals:\n",
              "    Min      1Q  Median      3Q     Max \n",
              "-6.2042 -1.2042  0.7958  1.7958  4.5217 \n",
              "\n",
              "Coefficients:\n",
              "             Estimate Std. Error t value Pr(>|t|)    \n",
              "(Intercept)   6.20416    0.02968 209.021  < 2e-16 ***\n",
              "d_threat2006 -0.72590    0.09360  -7.755 1.02e-14 ***\n",
              "---\n",
              "Signif. codes:  0 ‘***’ 0.001 ‘**’ 0.01 ‘*’ 0.05 ‘.’ 0.1 ‘ ’ 1\n",
              "\n",
              "Residual standard error: 2.293 on 6631 degrees of freedom\n",
              "  (16610 observations deleted due to missingness)\n",
              "Multiple R-squared:  0.008988,\tAdjusted R-squared:  0.008839 \n",
              "F-statistic: 60.14 on 1 and 6631 DF,  p-value: 1.015e-14\n"
            ]
          },
          "metadata": {}
        },
        {
          "output_type": "display_data",
          "data": {
            "text/plain": [
              "\n",
              "Call:\n",
              "lm(formula = y_trust2006 ~ d_threat2006 + x_age2006 + x_male2006 + \n",
              "    x_education2006, data = data)\n",
              "\n",
              "Residuals:\n",
              "    Min      1Q  Median      3Q     Max \n",
              "-6.8547 -1.1423  0.2436  1.5478  5.1913 \n",
              "\n",
              "Coefficients:\n",
              "                 Estimate Std. Error t value Pr(>|t|)    \n",
              "(Intercept)      5.734271   0.089054  64.391  < 2e-16 ***\n",
              "d_threat2006    -0.669070   0.093795  -7.133 1.08e-12 ***\n",
              "x_age2006       -0.002997   0.001590  -1.885  0.05948 .  \n",
              "x_male2006      -0.168975   0.056795  -2.975  0.00294 ** \n",
              "x_education2006  0.134221   0.009504  14.122  < 2e-16 ***\n",
              "---\n",
              "Signif. codes:  0 ‘***’ 0.001 ‘**’ 0.01 ‘*’ 0.05 ‘.’ 0.1 ‘ ’ 1\n",
              "\n",
              "Residual standard error: 2.259 on 6628 degrees of freedom\n",
              "  (16610 observations deleted due to missingness)\n",
              "Multiple R-squared:  0.03803,\tAdjusted R-squared:  0.03745 \n",
              "F-statistic:  65.5 on 4 and 6628 DF,  p-value: < 2.2e-16\n"
            ]
          },
          "metadata": {}
        },
        {
          "output_type": "display_data",
          "data": {
            "text/plain": [
              "\n",
              "Call:\n",
              "lm(formula = y_trust2006 ~ d_threat2006 + x_age2006 + x_male2006 + \n",
              "    x_education2006 + x_income2006, data = data)\n",
              "\n",
              "Residuals:\n",
              "    Min      1Q  Median      3Q     Max \n",
              "-7.4539 -1.2053  0.2528  1.4463  5.2247 \n",
              "\n",
              "Coefficients:\n",
              "                 Estimate Std. Error t value Pr(>|t|)    \n",
              "(Intercept)      5.308402   0.114759  46.257  < 2e-16 ***\n",
              "d_threat2006    -0.633480   0.102551  -6.177 7.12e-10 ***\n",
              "x_age2006        0.011507   0.002479   4.642 3.56e-06 ***\n",
              "x_male2006      -0.261041   0.070757  -3.689 0.000228 ***\n",
              "x_education2006  0.133029   0.012461  10.676  < 2e-16 ***\n",
              "x_income2006    -0.036245   0.035205  -1.030 0.303282    \n",
              "---\n",
              "Signif. codes:  0 ‘***’ 0.001 ‘**’ 0.01 ‘*’ 0.05 ‘.’ 0.1 ‘ ’ 1\n",
              "\n",
              "Residual standard error: 2.122 on 4388 degrees of freedom\n",
              "  (18849 observations deleted due to missingness)\n",
              "Multiple R-squared:  0.05462,\tAdjusted R-squared:  0.05354 \n",
              "F-statistic: 50.71 on 5 and 4388 DF,  p-value: < 2.2e-16\n"
            ]
          },
          "metadata": {}
        }
      ]
    },
    {
      "cell_type": "code",
      "source": [
        "# Load the data\n",
        "data <- readr::read_csv(sprintf(\"https://docs.google.com/uc?id=%s&export=download\", \"1WifSODzbCzf0LlP09u9rG914LcUlL08_\"))\n",
        "\n",
        "# Create a new dataset\n",
        "data2 <- data %>% dplyr::select(y_trust2006, d_threat2006, x_age2006,\n",
        "                          x_education2006, x_male2006, x_income2006) %>% \n",
        "                              na.omit() # delete missings"
      ],
      "metadata": {
        "colab": {
          "base_uri": "https://localhost:8080/"
        },
        "id": "tyCarklTEHCW",
        "outputId": "553c2aba-9bbf-4422-fff7-e1e121c52dc8"
      },
      "execution_count": 25,
      "outputs": [
        {
          "output_type": "stream",
          "name": "stderr",
          "text": [
            "\u001b[1mRows: \u001b[22m\u001b[34m23243\u001b[39m \u001b[1mColumns: \u001b[22m\u001b[34m25\u001b[39m\n",
            "\u001b[36m──\u001b[39m \u001b[1mColumn specification\u001b[22m \u001b[36m────────────────────────────────────────────────────────\u001b[39m\n",
            "\u001b[1mDelimiter:\u001b[22m \",\"\n",
            "\u001b[32mdbl\u001b[39m (25): y_trust2005, y_trust2006, y_trust2007, y_trust2008, x_age2005, x_a...\n",
            "\n",
            "\u001b[36mℹ\u001b[39m Use `spec()` to retrieve the full column specification for this data.\n",
            "\u001b[36mℹ\u001b[39m Specify the column types or set `show_col_types = FALSE` to quiet this message.\n"
          ]
        }
      ]
    },
    {
      "cell_type": "code",
      "source": [
        "# Estimate the propensity score\n",
        "# Prob. that someone is victimized as a function of covariates\n",
        "glm1  <- glm(d_threat2006 ~ x_age2006 + I(x_age2006^2) + x_education2006 + \n",
        "               I(x_education2006^2) + x_male2006 + x_income2006, \n",
        "             family=binomial, data=data2)\n",
        "summary(glm1)"
      ],
      "metadata": {
        "colab": {
          "base_uri": "https://localhost:8080/",
          "height": 451
        },
        "id": "aGelhqFbEKVC",
        "outputId": "b7691823-8d25-4008-c051-5550bf710cf8"
      },
      "execution_count": 26,
      "outputs": [
        {
          "output_type": "display_data",
          "data": {
            "text/plain": [
              "\n",
              "Call:\n",
              "glm(formula = d_threat2006 ~ x_age2006 + I(x_age2006^2) + x_education2006 + \n",
              "    I(x_education2006^2) + x_male2006 + x_income2006, family = binomial, \n",
              "    data = data2)\n",
              "\n",
              "Coefficients:\n",
              "                       Estimate Std. Error z value Pr(>|z|)    \n",
              "(Intercept)          -0.3463729  0.3709073  -0.934  0.35038    \n",
              "x_age2006            -0.0676577  0.0229783  -2.944  0.00324 ** \n",
              "I(x_age2006^2)        0.0004567  0.0002749   1.661  0.09663 .  \n",
              "x_education2006      -0.0189138  0.0655368  -0.289  0.77289    \n",
              "I(x_education2006^2)  0.0003818  0.0055737   0.068  0.94539    \n",
              "x_male2006            0.4520637  0.1082699   4.175 2.98e-05 ***\n",
              "x_income2006         -0.0097880  0.0595634  -0.164  0.86947    \n",
              "---\n",
              "Signif. codes:  0 ‘***’ 0.001 ‘**’ 0.01 ‘*’ 0.05 ‘.’ 0.1 ‘ ’ 1\n",
              "\n",
              "(Dispersion parameter for binomial family taken to be 1)\n",
              "\n",
              "    Null deviance: 3101.9  on 4393  degrees of freedom\n",
              "Residual deviance: 2979.3  on 4387  degrees of freedom\n",
              "AIC: 2993.3\n",
              "\n",
              "Number of Fisher Scoring iterations: 5\n"
            ]
          },
          "metadata": {}
        }
      ]
    },
    {
      "cell_type": "code",
      "source": [
        "# Calculate (predict) propensity score for each unit and create dataframe\n",
        "data_treatment_propscore <- data.frame(pr_score = predict(glm1, type = \"response\"),\n",
        "                     treatment = glm1$model$d_threat2006)\n",
        "\n",
        "# Ideally, visualize prop scores by treatment status (histograms)\n",
        "# Continue using the prop score for matching...\n",
        "hist(data_treatment_propscore$pr_score[data_treatment_propscore$treatment==0], xlim=c(0,0.5), ylim=c(0,1000), \n",
        "     main = \"Propensity scores and treatment groups\", xlab = \"Propensity score (gray = treated, white = control)\")\n",
        "hist(data_treatment_propscore$pr_score[data_treatment_propscore$treatment==1], add = TRUE, col = \"gray\")"
      ],
      "metadata": {
        "colab": {
          "base_uri": "https://localhost:8080/",
          "height": 437
        },
        "id": "1Fm2INfiEMKG",
        "outputId": "03917c2b-304a-4f63-8990-12346c5387ce"
      },
      "execution_count": 27,
      "outputs": [
        {
          "output_type": "display_data",
          "data": {
            "text/plain": [
              "Plot with title “Propensity scores and treatment groups”"
            ],
            "image/png": "[encoded data removed]"
          },
          "metadata": {
            "image/png": {
              "width": 420,
              "height": 420
            }
          }
        }
      ]
    },
    {
      "cell_type": "code",
      "source": [
        "# save data objects\n",
        "X  <- glm1$fitted\n",
        "Y  <- data2$y_trust2006\n",
        "Tr  <- data2$d_threat2006\n",
        "\n",
        "# Estimating the treatment effect on the treated (the \"estimand\" option defaults to ATT).\n",
        "rr  <- Matching::Match(Y=Y, Tr=Tr, X=X, M=1)\n",
        "summary(rr)"
      ],
      "metadata": {
        "colab": {
          "base_uri": "https://localhost:8080/"
        },
        "id": "f2Fnz4inEXEH",
        "outputId": "a80e23ad-eae5-4673-afba-f33c2391d95c"
      },
      "execution_count": 29,
      "outputs": [
        {
          "output_type": "stream",
          "name": "stdout",
          "text": [
            "\n",
            "Estimate...  -0.65135 \n",
            "AI SE......  0.12558 \n",
            "T-stat.....  -5.1867 \n",
            "p.val......  2.14e-07 \n",
            "\n",
            "Original number of observations..............  4394 \n",
            "Original number of treated obs...............  497 \n",
            "Matched number of observations...............  497 \n",
            "Matched number of observations  (unweighted).  5901 \n",
            "\n"
          ]
        }
      ]
    },
    {
      "cell_type": "code",
      "source": [
        "mb  <- Matching::MatchBalance(d_threat2006 ~ x_age2006 + I(x_age2006^2) + x_education2006 + \n",
        "               I(x_education2006^2) + x_male2006 + x_income2006, \n",
        "               data=data2, match.out=rr, nboots=10) # use higher nboots in applications"
      ],
      "metadata": {
        "colab": {
          "base_uri": "https://localhost:8080/"
        },
        "id": "OvT7Urw4EcAw",
        "outputId": "29054045-39a2-4cb3-c32d-f02e99a55211"
      },
      "execution_count": 31,
      "outputs": [
        {
          "output_type": "stream",
          "name": "stdout",
          "text": [
            "\n",
            "***** (V1) x_age2006 *****\n",
            "                       Before Matching \t \t After Matching\n",
            "mean treatment........     35.714 \t \t     35.714 \n",
            "mean control..........     42.054 \t \t      35.99 \n",
            "std mean diff.........    -44.504 \t \t    -1.9355 \n",
            "\n",
            "mean raw eQQ diff.....     6.3581 \t \t    0.64769 \n",
            "med  raw eQQ diff.....          6 \t \t          0 \n",
            "max  raw eQQ diff.....         12 \t \t          6 \n",
            "\n",
            "mean eCDF diff........   0.090769 \t \t   0.009475 \n",
            "med  eCDF diff........   0.090635 \t \t  0.0033893 \n",
            "max  eCDF diff........    0.20444 \t \t   0.042196 \n",
            "\n",
            "var ratio (Tr/Co).....      1.113 \t \t     0.9632 \n",
            "T-test p-value........ < 2.22e-16 \t \t    0.39586 \n",
            "KS Bootstrap p-value.. < 2.22e-16 \t \t < 2.22e-16 \n",
            "KS Naive p-value...... 2.2204e-16 \t \t 5.4696e-05 \n",
            "KS Statistic..........    0.20444 \t \t   0.042196 \n",
            "\n",
            "\n",
            "***** (V2) I(x_age2006^2) *****\n",
            "                       Before Matching \t \t After Matching\n",
            "mean treatment........       1478 \t \t       1478 \n",
            "mean control..........     1950.8 \t \t     1505.5 \n",
            "std mean diff.........    -42.916 \t \t    -2.4968 \n",
            "\n",
            "mean raw eQQ diff.....     477.63 \t \t     66.572 \n",
            "med  raw eQQ diff.....        520 \t \t          0 \n",
            "max  raw eQQ diff.....       1680 \t \t        984 \n",
            "\n",
            "mean eCDF diff........   0.090769 \t \t   0.009475 \n",
            "med  eCDF diff........   0.090635 \t \t  0.0033893 \n",
            "max  eCDF diff........    0.20444 \t \t   0.042196 \n",
            "\n",
            "var ratio (Tr/Co).....    0.93602 \t \t     0.9635 \n",
            "T-test p-value........ < 2.22e-16 \t \t     0.3716 \n",
            "KS Bootstrap p-value.. < 2.22e-16 \t \t < 2.22e-16 \n",
            "KS Naive p-value...... 2.2204e-16 \t \t 5.4696e-05 \n",
            "KS Statistic..........    0.20444 \t \t   0.042196 \n",
            "\n",
            "\n",
            "***** (V3) x_education2006 *****\n",
            "                       Before Matching \t \t After Matching\n",
            "mean treatment........     4.9577 \t \t     4.9577 \n",
            "mean control..........     5.5486 \t \t     4.8675 \n",
            "std mean diff.........    -18.931 \t \t      2.891 \n",
            "\n",
            "mean raw eQQ diff.....    0.58551 \t \t   0.052364 \n",
            "med  raw eQQ diff.....          0 \t \t          0 \n",
            "max  raw eQQ diff.....          3 \t \t          1 \n",
            "\n",
            "mean eCDF diff........   0.053716 \t \t  0.0047604 \n",
            "med  eCDF diff........   0.047811 \t \t  0.0033893 \n",
            "max  eCDF diff........    0.10036 \t \t   0.016268 \n",
            "\n",
            "var ratio (Tr/Co).....     1.1602 \t \t     1.0032 \n",
            "T-test p-value........ 6.9401e-05 \t \t    0.50487 \n",
            "KS Bootstrap p-value.. < 2.22e-16 \t \t        0.1 \n",
            "KS Naive p-value...... 0.00027872 \t \t    0.41566 \n",
            "KS Statistic..........    0.10036 \t \t   0.016268 \n",
            "\n",
            "\n",
            "***** (V4) I(x_education2006^2) *****\n",
            "                       Before Matching \t \t After Matching\n",
            "mean treatment........     34.302 \t \t     34.302 \n",
            "mean control..........     39.182 \t \t     33.384 \n",
            "std mean diff.........    -14.429 \t \t     2.7127 \n",
            "\n",
            "mean raw eQQ diff.....     4.8551 \t \t    0.63057 \n",
            "med  raw eQQ diff.....          0 \t \t          0 \n",
            "max  raw eQQ diff.....         32 \t \t         19 \n",
            "\n",
            "mean eCDF diff........   0.053716 \t \t  0.0047604 \n",
            "med  eCDF diff........   0.047811 \t \t  0.0033893 \n",
            "max  eCDF diff........    0.10036 \t \t   0.016268 \n",
            "\n",
            "var ratio (Tr/Co).....    0.99376 \t \t      1.018 \n",
            "T-test p-value........  0.0025592 \t \t    0.57849 \n",
            "KS Bootstrap p-value.. < 2.22e-16 \t \t        0.1 \n",
            "KS Naive p-value...... 0.00027872 \t \t    0.41566 \n",
            "KS Statistic..........    0.10036 \t \t   0.016268 \n",
            "\n",
            "\n",
            "***** (V5) x_male2006 *****\n",
            "                       Before Matching \t \t After Matching\n",
            "mean treatment........     0.5835 \t \t     0.5835 \n",
            "mean control..........    0.47806 \t \t    0.59377 \n",
            "std mean diff.........     21.367 \t \t    -2.0816 \n",
            "\n",
            "mean raw eQQ diff.....    0.10463 \t \t   0.021352 \n",
            "med  raw eQQ diff.....          0 \t \t          0 \n",
            "max  raw eQQ diff.....          1 \t \t          1 \n",
            "\n",
            "mean eCDF diff........    0.05272 \t \t   0.010676 \n",
            "med  eCDF diff........    0.05272 \t \t   0.010676 \n",
            "max  eCDF diff........    0.10544 \t \t   0.021352 \n",
            "\n",
            "var ratio (Tr/Co).....     0.9757 \t \t     1.0075 \n",
            "T-test p-value........ 8.8711e-06 \t \t    0.60714 \n",
            "\n",
            "\n",
            "***** (V6) x_income2006 *****\n",
            "                       Before Matching \t \t After Matching\n",
            "mean treatment........     1.2636 \t \t     1.2636 \n",
            "mean control..........     1.4285 \t \t     1.2579 \n",
            "std mean diff.........    -14.494 \t \t    0.49732 \n",
            "\n",
            "mean raw eQQ diff.....    0.16298 \t \t   0.028809 \n",
            "med  raw eQQ diff.....          0 \t \t          0 \n",
            "max  raw eQQ diff.....          1 \t \t          1 \n",
            "\n",
            "mean eCDF diff........   0.041238 \t \t  0.0072022 \n",
            "med  eCDF diff........   0.050727 \t \t  0.0051686 \n",
            "max  eCDF diff........   0.063499 \t \t   0.018471 \n",
            "\n",
            "var ratio (Tr/Co).....    0.99178 \t \t    0.97733 \n",
            "T-test p-value........  0.0024519 \t \t    0.91047 \n",
            "KS Bootstrap p-value.. < 2.22e-16 \t \t < 2.22e-16 \n",
            "KS Naive p-value......   0.057186 \t \t    0.26644 \n",
            "KS Statistic..........   0.063499 \t \t   0.018471 \n",
            "\n",
            "\n",
            "Before Matching Minimum p.value: < 2.22e-16 \n",
            "Variable Name(s): x_age2006 I(x_age2006^2) x_education2006 I(x_education2006^2) x_income2006  Number(s): 1 2 3 4 6 \n",
            "\n",
            "After Matching Minimum p.value: < 2.22e-16 \n",
            "Variable Name(s): x_age2006 I(x_age2006^2) x_income2006  Number(s): 1 2 6 \n",
            "\n"
          ]
        }
      ]
    },
    {
      "cell_type": "code",
      "source": [
        "balance.table <- cobalt::bal.tab(rr, d_threat2006 ~ x_age2006 + I(x_age2006^2) + x_education2006 + \n",
        "               I(x_education2006^2) + x_male2006 + x_income2006, data = data2, un = TRUE, quick = FALSE)\n",
        "balance.table"
      ],
      "metadata": {
        "colab": {
          "base_uri": "https://localhost:8080/",
          "height": 277
        },
        "id": "JPhv6o2NFPuD",
        "outputId": "5602afb7-8d2c-4d4a-8320-ae0a5acc4a33"
      },
      "execution_count": 39,
      "outputs": [
        {
          "output_type": "display_data",
          "data": {
            "text/plain": [
              "\u001b[4mBalance Measures\u001b[24m\n",
              "                        Type Diff.Un Diff.Adj\n",
              "x_age2006            Contin. -0.4450  -0.0194\n",
              "I(x_age2006^2)       Contin. -0.4292  -0.0250\n",
              "x_education2006      Contin. -0.1893   0.0289\n",
              "I(x_education2006^2) Contin. -0.1443   0.0271\n",
              "x_male2006            Binary  0.1054  -0.0103\n",
              "x_income2006         Contin. -0.1449   0.0050\n",
              "\n",
              "\u001b[4mSample sizes\u001b[24m\n",
              "                     Control Treated\n",
              "All                  3897.       497\n",
              "Matched (ESS)        1190.57     497\n",
              "Matched (Unweighted) 2759.       497\n",
              "Unmatched            1138.         0"
            ]
          },
          "metadata": {}
        }
      ]
    },
    {
      "cell_type": "code",
      "source": [
        "cobalt::love.plot(balance.table, \n",
        "          threshold =.1,\n",
        "          line = TRUE,\n",
        "          stars = \"std\")"
      ],
      "metadata": {
        "colab": {
          "base_uri": "https://localhost:8080/",
          "height": 437
        },
        "id": "pm6p3s3qFU21",
        "outputId": "bef4cea4-290c-49bf-bd31-d3219746a835"
      },
      "execution_count": 40,
      "outputs": [
        {
          "output_type": "display_data",
          "data": {
            "text/plain": [
              "plot without title"
            ],
            "image/png": "[encoded data removed]"
          },
          "metadata": {
            "image/png": {
              "width": 420,
              "height": 420
            }
          }
        }
      ]
    },
    {
      "cell_type": "code",
      "source": [
        "## Genetic Matching\n",
        "\n",
        "# Load the data\n",
        "data <- readr::read_csv(sprintf(\"https://docs.google.com/uc?id=%s&export=download\", \"1WifSODzbCzf0LlP09u9rG914LcUlL08_\"))\n",
        "\n",
        "# Subset the data\n",
        "data2 <- data %>% dplyr::select(y_trust2006, d_threat2006, \n",
        "                          x_education2006)\n",
        "\n",
        "# then delete missings (Q: Why not the other way round?)\n",
        "data2 <- na.omit(data2)\n",
        "\n",
        "# ?GenMatch\n",
        "# Define covariat matrix, outcome, treatment\n",
        "  X  <- as.matrix(data2 %>% dplyr::select(x_education2006))\n",
        "  Y  <- data2$y_trust2006 # Define outcome/Response vector\n",
        "  Tr  <- data2$d_threat2006 # Define treatment vector\n",
        "\n",
        "# GenMatch() finds the optimal weight to give each\n",
        "# covariate in 'X' so as we have achieved balance on the covariates in\n",
        "# See description http://sekhon.berkeley.edu/papers/MatchingJSS.pdf\n",
        "  gen1 <- Matching::GenMatch(Tr = Tr, X = X, \n",
        "                   estimand = \"ATT\", \n",
        "                   M = 1, \n",
        "                   replace=FALSE,\n",
        "                   exact = TRUE,\n",
        "                   pop.size=16,\n",
        "                   max.generations=10, \n",
        "                   wait.generations=1)"
      ],
      "metadata": {
        "colab": {
          "base_uri": "https://localhost:8080/"
        },
        "id": "kHjKBi6eFYpd",
        "outputId": "f00bc0ef-34e5-48ca-9794-f0a302952e1d"
      },
      "execution_count": 42,
      "outputs": [
        {
          "output_type": "stream",
          "name": "stderr",
          "text": [
            "\u001b[1mRows: \u001b[22m\u001b[34m23243\u001b[39m \u001b[1mColumns: \u001b[22m\u001b[34m25\u001b[39m\n",
            "\u001b[36m──\u001b[39m \u001b[1mColumn specification\u001b[22m \u001b[36m────────────────────────────────────────────────────────\u001b[39m\n",
            "\u001b[1mDelimiter:\u001b[22m \",\"\n",
            "\u001b[32mdbl\u001b[39m (25): y_trust2005, y_trust2006, y_trust2007, y_trust2008, x_age2005, x_a...\n",
            "\n",
            "\u001b[36mℹ\u001b[39m Use `spec()` to retrieve the full column specification for this data.\n",
            "\u001b[36mℹ\u001b[39m Specify the column types or set `show_col_types = FALSE` to quiet this message.\n",
            "Loading required namespace: rgenoud\n",
            "\n"
          ]
        },
        {
          "output_type": "stream",
          "name": "stdout",
          "text": [
            "\n",
            "\n",
            "Wed May  3 15:27:05 2023\n",
            "Domains:\n",
            " 0.000000e+00   <=  X1   <=    1.000000e+03 \n",
            "\n",
            "Data Type: Floating Point\n",
            "Operators (code number, name, population) \n",
            "\t(1) Cloning........................... \t1\n",
            "\t(2) Uniform Mutation.................. \t2\n",
            "\t(3) Boundary Mutation................. \t2\n",
            "\t(4) Non-Uniform Mutation.............. \t2\n",
            "\t(5) Polytope Crossover................ \t2\n",
            "\t(6) Simple Crossover.................. \t2\n",
            "\t(7) Whole Non-Uniform Mutation........ \t2\n",
            "\t(8) Heuristic Crossover............... \t2\n",
            "\t(9) Local-Minimum Crossover........... \t0\n",
            "\n",
            "SOFT Maximum Number of Generations: 10\n",
            "Maximum Nonchanging Generations: 1\n",
            "Population size       : 16\n",
            "Convergence Tolerance: 1.000000e-03\n",
            "\n",
            "Not Using the BFGS Derivative Based Optimizer on the Best Individual Each Generation.\n",
            "Not Checking Gradients before Stopping.\n",
            "Using Out of Bounds Individuals.\n",
            "\n",
            "Maximization Problem.\n",
            "GENERATION: 0 (initializing the population)\n",
            "Lexical Fit..... 1.000000e+00  1.000000e+00  \n",
            "#unique......... 16, #Total UniqueCount: 16\n",
            "var 1:\n",
            "best............ 1.000000e+00\n",
            "mean............ 3.711387e+02\n",
            "variance........ 8.604526e+04\n",
            "\n",
            "GENERATION: 1\n",
            "Lexical Fit..... 1.000000e+00  1.000000e+00  \n",
            "#unique......... 9, #Total UniqueCount: 25\n",
            "var 1:\n",
            "best............ 1.000000e+00\n",
            "mean............ 3.581337e+02\n",
            "variance........ 1.007791e+05\n",
            "\n",
            "GENERATION: 2\n",
            "Lexical Fit..... 1.000000e+00  1.000000e+00  \n",
            "#unique......... 9, #Total UniqueCount: 34\n",
            "var 1:\n",
            "best............ 1.000000e+00\n",
            "mean............ 2.289528e+02\n",
            "variance........ 8.265245e+04\n",
            "\n",
            "'wait.generations' limit reached.\n",
            "No significant improvement in 1 generations.\n",
            "\n",
            "Solution Lexical Fitness Value:\n",
            "1.000000e+00  1.000000e+00  \n",
            "\n",
            "Parameters at the Solution:\n",
            "\n",
            " X[ 1] :\t1.000000e+00\n",
            "\n",
            "Solution Found Generation 1\n",
            "Number of Generations Run 2\n",
            "\n",
            "Wed May  3 15:27:15 2023\n",
            "Total run time : 0 hours 0 minutes and 10 seconds\n"
          ]
        }
      ]
    },
    {
      "cell_type": "code",
      "source": [
        "  mgens <- Match(Y=Y, Tr= Tr, X = X, \n",
        "                 estimand=\"ATT\",\n",
        "                 M = 1,\n",
        "                 replace=FALSE,\n",
        "                 exact = TRUE,\n",
        "                 Weight.matrix = gen1)\n",
        "  summary(mgens)"
      ],
      "metadata": {
        "id": "SQN76JqhFrg5"
      },
      "execution_count": null,
      "outputs": []
    },
    {
      "cell_type": "code",
      "source": [
        "  mb <- MatchBalance(Tr ~  x_education2006,\n",
        "                     match.out = mgens, nboots = 10, data = data2)"
      ],
      "metadata": {
        "id": "2E39SuR-Ft7f"
      },
      "execution_count": null,
      "outputs": []
    },
    {
      "cell_type": "code",
      "source": [
        "data.matched <- bind_rows(data2 %>% slice(mgens$index.treated), # subset data\n",
        "                          data2 %>% slice(mgens$index.control))\n",
        "\n",
        "data.matched <- bind_cols(data.matched, # Add vector of weights\n",
        "                          weights = rep(mgens$weights, 2))"
      ],
      "metadata": {
        "id": "J-pPgKkqFwB9"
      },
      "execution_count": null,
      "outputs": []
    },
    {
      "cell_type": "code",
      "source": [
        "summary(lm(y_trust2006 ~ d_threat2006 + x_education2006, data = data.matched))"
      ],
      "metadata": {
        "id": "Eg-zeXFRFycG"
      },
      "execution_count": null,
      "outputs": []
    },
    {
      "cell_type": "code",
      "source": [
        "  # Create original dataset with dummy for matching   \n",
        "    data3 <- data2\n",
        "    data3$matched <- FALSE\n",
        "    data3$matched[mgens$index.treated] <- TRUE\n",
        "    data3$matched[mgens$index.control] <- TRUE"
      ],
      "metadata": {
        "id": "ZxI9M7V-F1Ji"
      },
      "execution_count": null,
      "outputs": []
    },
    {
      "cell_type": "code",
      "source": [
        "### Matching on more variables and polynomials..\n",
        "\n",
        "data <- readr::read_csv(sprintf(\"https://docs.google.com/uc?id=%s&export=download\", \"1WifSODzbCzf0LlP09u9rG914LcUlL08_\"))\n",
        "\n",
        "data2 <- data %>% dplyr::select(y_trust2006, d_threat2006, \n",
        "                          x_age2006, x_education2006, \n",
        "                          x_male2006, x_income2006)\n",
        "data2 <- na.omit(data2)\n",
        "\n",
        "X  <- data2 %>% dplyr::select(x_age2006, x_education2006, \n",
        "                          x_male2006, x_income2006) # Define covariates\n",
        "Y  <- data2$y_trust2006 # Define outcome/Response vector\n",
        "Tr  <- data2$d_threat2006 # Define treatment vector\n",
        "\n",
        "# A matrix containing the variables we wish to achieve balance on. \n",
        "# Default = X\n",
        "BalanceMat <- cbind(data2$x_age2006, data2$x_education2006, \n",
        "                    data2$x_male2006, data2$x_income2006, \n",
        "                    I(data2$x_age2006^2), I(data2$x_education2006^2),\n",
        "                    I(data2$x_income2006^2))\n",
        "\n",
        "# GenMatch() finds the optimal weight to give each\n",
        "# covariate in 'X' so as we have achieved balance on the covariates in\n",
        "# 'BalanceMat'. Quick example with 'pop.size = 16'\n",
        "# Should much bigger see\n",
        "# http://sekhon.berkeley.edu/papers/MatchingJSS.pdf\n",
        "\n",
        "gen1 <- GenMatch(Tr = Tr, X = X, \n",
        "                 BalanceMatrix = BalanceMat, \n",
        "                 estimand = \"ATT\", \n",
        "                   M = 1, \n",
        "                   replace=FALSE,\n",
        "                   exact = TRUE,\n",
        "                   pop.size=16,\n",
        "                   max.generations=10, \n",
        "                   wait.generations=1)"
      ],
      "metadata": {
        "id": "cUyUqTwoF5yU"
      },
      "execution_count": null,
      "outputs": []
    },
    {
      "cell_type": "code",
      "source": [
        "mgens <- Match(Y=Y, Tr= Tr, X = X, \n",
        "                 estimand = \"ATT\", \n",
        "                   M = 1, \n",
        "                   replace=FALSE,\n",
        "                   exact = TRUE,\n",
        "               Weight.matrix = gen1)\n",
        "summary(mgens)"
      ],
      "metadata": {
        "id": "g1-ZKc3IGB3a"
      },
      "execution_count": null,
      "outputs": []
    },
    {
      "cell_type": "code",
      "source": [
        "#Let's determine if balance has actually been obtained on the variables of interest\n",
        "mb <- MatchBalance(Tr ~ x_age2006 + x_education2006 + \n",
        "                     x_male2006 + x_income2006 + \n",
        "                     I(x_age2006^2) + I(x_education2006^2) + \n",
        "                     I(x_income2006^2),\n",
        "                   match.out = mgens, nboots = 10, data = data2) "
      ],
      "metadata": {
        "id": "eybEhOufGJFf"
      },
      "execution_count": null,
      "outputs": []
    },
    {
      "cell_type": "code",
      "source": [
        "# Visualize balance with bal.tab (cobalt package)\n",
        "balance.table <- bal.tab(mgens, d_threat2006 ~ x_age2006 + x_education2006 + \n",
        "                     x_male2006 + x_income2006 + \n",
        "                     I(x_age2006^2) + I(x_education2006^2) + \n",
        "                     I(x_income2006^2), data = data2)\n",
        "\n",
        "love.plot(balance.table, \n",
        "          threshold =.1,\n",
        "          line = TRUE,\n",
        "          stars = \"std\") # check ?love.plot; * variables have been standardized"
      ],
      "metadata": {
        "id": "dca7yMRGGLwm"
      },
      "execution_count": null,
      "outputs": []
    },
    {
      "cell_type": "markdown",
      "source": [
        "Source: https://bookdown.org/mike/data_analysis/matching-methods.html"
      ],
      "metadata": {
        "id": "o9os-khNGmAZ"
      }
    },
    {
      "cell_type": "markdown",
      "source": [
        "Using MatchIt"
      ],
      "metadata": {
        "id": "fddb4gKIIjE2"
      }
    },
    {
      "cell_type": "code",
      "source": [
        "## Using MatchIt\n",
        "\n",
        "library(MatchIt)\n",
        "data(\"lalonde\")"
      ],
      "metadata": {
        "id": "sYYgk_6_HRBI"
      },
      "execution_count": null,
      "outputs": []
    },
    {
      "cell_type": "code",
      "source": [
        "# No matching; constructing a pre-match matchit object\n",
        "m.out0 <- matchit(\n",
        "    formula(treat ~ age + educ + race + married + nodegree + re74 + re75, env = lalonde),\n",
        "    data = data.frame(lalonde),\n",
        "    method = NULL,\n",
        "    # assess balance before matching\n",
        "    distance = \"glm\" # logistic regression\n",
        ")\n",
        "\n",
        "# Checking balance prior to matching\n",
        "summary(m.out0)"
      ],
      "metadata": {
        "id": "7zBokZ47HUQB"
      },
      "execution_count": null,
      "outputs": []
    },
    {
      "cell_type": "code",
      "source": [
        "# 1:1 NN PS matching w/o replacement\n",
        "m.out1 <- matchit(\n",
        "    treat ~ age + educ, #+ race + married + nodegree + re74 + re75,\n",
        "    data = lalonde,\n",
        "    method = \"nearest\",\n",
        "    distance = \"glm\"\n",
        ")\n",
        "m.out1\n",
        "#> A matchit object\n",
        "#>  - method: 1:1 nearest neighbor matching without replacement\n",
        "#>  - distance: Propensity score\n",
        "#>              - estimated with logistic regression\n",
        "#>  - number of obs.: 614 (original), 370 (matched)\n",
        "#>  - target estimand: ATT\n",
        "#>  - covariates: age, educ"
      ],
      "metadata": {
        "id": "ZhQUaQi-HrUx"
      },
      "execution_count": null,
      "outputs": []
    },
    {
      "cell_type": "code",
      "source": [
        "# Checking balance after NN matching\n",
        "summary(m.out1, un = FALSE)\n",
        "#> \n",
        "#> Call:\n",
        "#> matchit(formula = treat ~ age + educ, data = lalonde, method = \"nearest\", \n",
        "#>     distance = \"glm\")\n",
        "#> \n",
        "#> Summary of Balance for Matched Data:\n",
        "#>          Means Treated Means Control Std. Mean Diff. Var. Ratio eCDF Mean\n",
        "#> distance        0.3080        0.3077          0.0094     0.9963    0.0033\n",
        "#> age            25.8162       25.8649         -0.0068     1.0300    0.0050\n",
        "#> educ           10.3459       10.2865          0.0296     0.5886    0.0253\n",
        "#>          eCDF Max Std. Pair Dist.\n",
        "#> distance   0.0432          0.0146\n",
        "#> age        0.0162          0.0597\n",
        "#> educ       0.1189          0.8146\n",
        "#> \n",
        "#> Sample Sizes:\n",
        "#>           Control Treated\n",
        "#> All           429     185\n",
        "#> Matched       185     185\n",
        "#> Unmatched     244       0\n",
        "#> Discarded       0       0\n",
        "\n",
        "# examine visually\n",
        "plot(m.out1, type = \"jitter\", interactive = FALSE)"
      ],
      "metadata": {
        "id": "x8CXXFFUHwzW"
      },
      "execution_count": null,
      "outputs": []
    },
    {
      "cell_type": "code",
      "source": [
        "\n",
        "plot(\n",
        "    m.out1,\n",
        "    type = \"qq\",\n",
        "    interactive = FALSE,\n",
        "    which.xs = c(\"age\")#, \"married\", \"re75\")\n",
        ")"
      ],
      "metadata": {
        "id": "-AZFRdQ4H3X2"
      },
      "execution_count": null,
      "outputs": []
    },
    {
      "cell_type": "code",
      "source": [
        "# Full matching on a probit PS\n",
        "m.out2 <- matchit(treat ~ age + educ, # + race + married + nodegree + re74 + re75, \n",
        "                  data = lalonde,\n",
        "                  method = \"full\", \n",
        "                  distance = \"glm\", \n",
        "                  link = \"probit\")\n",
        "m.out2\n",
        "#> A matchit object\n",
        "#>  - method: Optimal full matching\n",
        "#>  - distance: Propensity score\n",
        "#>              - estimated with probit regression\n",
        "#>  - number of obs.: 614 (original), 614 (matched)\n",
        "#>  - target estimand: ATT\n",
        "#>  - covariates: age, educ"
      ],
      "metadata": {
        "id": "9VG09N_aH5bP"
      },
      "execution_count": null,
      "outputs": []
    },
    {
      "cell_type": "code",
      "source": [
        "# Checking balance after full matching\n",
        "summary(m.out2, un = FALSE)\n",
        "#> \n",
        "#> Call:\n",
        "#> matchit(formula = treat ~ age + educ, data = lalonde, method = \"full\", \n",
        "#>     distance = \"glm\", link = \"probit\")\n",
        "#> \n",
        "#> Summary of Balance for Matched Data:\n",
        "#>          Means Treated Means Control Std. Mean Diff. Var. Ratio eCDF Mean\n",
        "#> distance        0.3082        0.3082          0.0015     0.9837    0.0042\n",
        "#> age            25.8162       25.8670         -0.0071     0.9966    0.0064\n",
        "#> educ           10.3459       10.4669         -0.0602     0.4703    0.0416\n",
        "#>          eCDF Max Std. Pair Dist.\n",
        "#> distance   0.0270          0.0453\n",
        "#> age        0.0264          0.1369\n",
        "#> educ       0.1613          1.3057\n",
        "#> \n",
        "#> Sample Sizes:\n",
        "#>               Control Treated\n",
        "#> All            429.       185\n",
        "#> Matched (ESS)  216.09     185\n",
        "#> Matched        429.       185\n",
        "#> Unmatched        0.         0\n",
        "#> Discarded        0.         0\n",
        "\n",
        "plot(summary(m.out2))"
      ],
      "metadata": {
        "id": "J3BZnP8qH9Nc"
      },
      "execution_count": null,
      "outputs": []
    },
    {
      "cell_type": "code",
      "source": [
        "# Full matching on a probit PS\n",
        "m.out3 <-\n",
        "    matchit(\n",
        "        treat ~ age + educ, # + race + married + nodegree + re74 + re75,\n",
        "        data = lalonde,\n",
        "        method = \"exact\"\n",
        "    )\n",
        "m.out3\n",
        "#> A matchit object\n",
        "#>  - method: Exact matching\n",
        "#>  - number of obs.: 614 (original), 332 (matched)\n",
        "#>  - target estimand: ATT\n",
        "#>  - covariates: age, educ"
      ],
      "metadata": {
        "id": "CcGZKUqAIBkU"
      },
      "execution_count": null,
      "outputs": []
    },
    {
      "cell_type": "code",
      "source": [
        "m.out4 <- matchit(\n",
        "    treat ~ age + educ, # + race + married + nodegree + re74 + re75,\n",
        "    data = lalonde,\n",
        "    method = \"subclass\"\n",
        ")\n",
        "m.out4\n",
        "#> A matchit object\n",
        "#>  - method: Subclassification (6 subclasses)\n",
        "#>  - distance: Propensity score\n",
        "#>              - estimated with logistic regression\n",
        "#>  - number of obs.: 614 (original), 614 (matched)\n",
        "#>  - target estimand: ATT\n",
        "#>  - covariates: age, educ\n",
        "\n",
        "# Or you can use in conjunction with \"nearest\"\n",
        "m.out4 <- matchit(\n",
        "    treat ~ age + educ, # + race + married +  nodegree + re74 + re75,\n",
        "    data = lalonde,\n",
        "    method = \"nearest\",\n",
        "    option = \"subclass\"\n",
        ")\n",
        "m.out4\n",
        "#> A matchit object\n",
        "#>  - method: 1:1 nearest neighbor matching without replacement\n",
        "#>  - distance: Propensity score\n",
        "#>              - estimated with logistic regression\n",
        "#>  - number of obs.: 614 (original), 370 (matched)\n",
        "#>  - target estimand: ATT\n",
        "#>  - covariates: age, educ"
      ],
      "metadata": {
        "id": "1pwfxoUbIF2d"
      },
      "execution_count": null,
      "outputs": []
    },
    {
      "cell_type": "code",
      "source": [
        "m.out5 <- matchit(\n",
        "    treat ~ age + educ, # + race + married + nodegree + re74 + re75,\n",
        "    data = lalonde,\n",
        "    method = \"optimal\",\n",
        "    ratio = 2\n",
        ")\n",
        "m.out5\n",
        "#> A matchit object\n",
        "#>  - method: 2:1 optimal pair matching\n",
        "#>  - distance: Propensity score\n",
        "#>              - estimated with logistic regression\n",
        "#>  - number of obs.: 614 (original), 555 (matched)\n",
        "#>  - target estimand: ATT\n",
        "#>  - covariates: age, educ"
      ],
      "metadata": {
        "id": "S8HMEPY0ILQZ"
      },
      "execution_count": null,
      "outputs": []
    },
    {
      "cell_type": "code",
      "source": [
        "m.out6 <- matchit(\n",
        "    treat ~ age + educ, # + race + married + nodegree + re74 + re75,\n",
        "    data = lalonde,\n",
        "    method = \"genetic\"\n",
        ")\n",
        "m.out6\n",
        "#> A matchit object\n",
        "#>  - method: 1:1 genetic matching without replacement\n",
        "#>  - distance: Propensity score\n",
        "#>              - estimated with logistic regression\n",
        "#>  - number of obs.: 614 (original), 370 (matched)\n",
        "#>  - target estimand: ATT\n",
        "#>  - covariates: age, educ"
      ],
      "metadata": {
        "id": "cK20bTvDIPXw"
      },
      "execution_count": null,
      "outputs": []
    },
    {
      "cell_type": "code",
      "source": [
        "# get matched data\n",
        "m.data1 <- match.data(m.out1)\n",
        "\n",
        "head(m.data1)\n",
        "#>      treat age educ   race married nodegree re74 re75       re78  distance\n",
        "#> NSW1     1  37   11  black       1        1    0    0  9930.0460 0.2536942\n",
        "#> NSW2     1  22    9 hispan       0        1    0    0  3595.8940 0.3245468\n",
        "#> NSW3     1  30   12  black       0        0    0    0 24909.4500 0.2881139\n",
        "#> NSW4     1  27   11  black       0        1    0    0  7506.1460 0.3016672\n",
        "#> NSW5     1  33    8  black       0        1    0    0   289.7899 0.2683025\n",
        "#> NSW6     1  22    9  black       0        1    0    0  4056.4940 0.3245468\n",
        "#>      weights subclass\n",
        "#> NSW1       1        1\n",
        "#> NSW2       1       98\n",
        "#> NSW3       1      109\n",
        "#> NSW4       1      120\n",
        "#> NSW5       1      131\n",
        "#> NSW6       1      142"
      ],
      "metadata": {
        "id": "xOpKo3CgISlX"
      },
      "execution_count": null,
      "outputs": []
    },
    {
      "cell_type": "code",
      "source": [
        "library(\"lmtest\") #coeftest\n",
        "library(\"sandwich\") #vcovCL\n",
        "\n",
        "# imbalance matched dataset\n",
        "fit1 <- lm(re78 ~ treat + age + educ , #+ race + married + nodegree + re74 + re75, \n",
        "           data = m.data1, \n",
        "           weights = weights)\n",
        "\n",
        "coeftest(fit1, vcov. = vcovCL, cluster = ~subclass)\n",
        "#> \n",
        "#> t test of coefficients:\n",
        "#> \n",
        "#>              Estimate Std. Error t value Pr(>|t|)   \n",
        "#> (Intercept)  -106.555   2464.875 -0.0432 0.965542   \n",
        "#> treat       -1221.832    785.492 -1.5555 0.120691   \n",
        "#> age           152.118     53.241  2.8571 0.004519 **\n",
        "#> educ          362.502    171.893  2.1089 0.035634 * \n",
        "#> ---\n",
        "#> Signif. codes:  0 '***' 0.001 '**' 0.01 '*' 0.05 '.' 0.1 ' ' 1"
      ],
      "metadata": {
        "id": "mcmqnUOWIVwL"
      },
      "execution_count": null,
      "outputs": []
    },
    {
      "cell_type": "code",
      "source": [
        "# balance matched dataset \n",
        "m.data2 <- match.data(m.out2)\n",
        "\n",
        "fit2 <- lm(re78 ~ treat + age + educ , #+ race + married + nodegree + re74 + re75, \n",
        "           data = m.data2, weights = weights)\n",
        "\n",
        "coeftest(fit2, vcov. = vcovCL, cluster = ~subclass)\n",
        "#> \n",
        "#> t test of coefficients:\n",
        "#> \n",
        "#>             Estimate Std. Error t value Pr(>|t|)   \n",
        "#> (Intercept) -588.890   2890.500 -0.2037 0.838630   \n",
        "#> treat       -380.494    685.482 -0.5551 0.579047   \n",
        "#> age          169.097     53.592  3.1553 0.001682 **\n",
        "#> educ         285.433    206.986  1.3790 0.168400   \n",
        "#> ---\n",
        "#> Signif. codes:  0 '***' 0.001 '**' 0.01 '*' 0.05 '.' 0.1 ' ' 1"
      ],
      "metadata": {
        "id": "PPASCH3KIb0y"
      },
      "execution_count": null,
      "outputs": []
    },
    {
      "cell_type": "markdown",
      "source": [
        "Using MatchingFrontier"
      ],
      "metadata": {
        "id": "PS0fowJiJhNA"
      }
    },
    {
      "cell_type": "code",
      "source": [
        "# library(devtools)\n",
        "# install_github('ChristopherLucas/MatchingFrontier')\n",
        "library(MatchingFrontier)\n",
        "data(\"lalonde\")\n",
        "# choose var to match on\n",
        "match.on <- colnames(lalonde)[!(colnames(lalonde) %in% c('re78', 'treat'))]\n",
        "match.on\n",
        "\n",
        "# Mahanlanobis frontier (default)\n",
        "mahal.frontier <-\n",
        "    makeFrontier(\n",
        "        dataset = lalonde,\n",
        "        treatment = \"treat\",\n",
        "        match.on = match.on\n",
        "    )\n",
        "mahal.frontier\n",
        "\n",
        "# L1 frontier\n",
        "L1.frontier <-\n",
        "    makeFrontier(\n",
        "        dataset = lalonde,\n",
        "        treatment = 'treat',\n",
        "        match.on = match.on,\n",
        "        QOI = 'SATT',\n",
        "        metric = 'L1',\n",
        "        ratio = 'fixed'\n",
        "    )\n",
        "L1.frontier\n",
        "\n",
        "# estimate effects along the frontier\n",
        "\n",
        "# Set base form\n",
        "my.form <-\n",
        "    as.formula(re78 ~ treat + age + black + education + hispanic + married + nodegree + re74 + re75)\n",
        "\n",
        "# Estimate effects for the mahalanobis frontier\n",
        "mahal.estimates <-\n",
        "    estimateEffects(\n",
        "        mahal.frontier,\n",
        "        're78 ~ treat',\n",
        "        mod.dependence.formula = my.form,\n",
        "        continuous.vars = c('age', 'education', 're74', 're75'),\n",
        "        prop.estimated = .1,\n",
        "        means.as.cutpoints = TRUE\n",
        "    )\n",
        "\n",
        "# Estimate effects for the L1 frontier\n",
        "L1.estimates <-\n",
        "    estimateEffects(\n",
        "        L1.frontier,\n",
        "        're78 ~ treat',\n",
        "        mod.dependence.formula = my.form,\n",
        "        continuous.vars = c('age', 'education', 're74', 're75'),\n",
        "        prop.estimated = .1,\n",
        "        means.as.cutpoints = TRUE\n",
        "    )\n",
        "\n",
        "# Plot covariates means \n",
        "# plotPrunedMeans()\n",
        "\n",
        "\n",
        "# Plot estimates (deprecated)\n",
        "# plotEstimates(\n",
        "#     L1.estimates,\n",
        "#     ylim = c(-10000, 3000),\n",
        "#     cex.lab = 1.4,\n",
        "#     cex.axis = 1.4,\n",
        "#     panel.first = grid(NULL, NULL, lwd = 2,)\n",
        "# )\n",
        "\n",
        "# Plot estimates\n",
        "plotMeans(L1.frontier)\n",
        "\n",
        "\n",
        "# parallel plot\n",
        "parallelPlot(\n",
        "    L1.frontier,\n",
        "    N = 400,\n",
        "    variables = c('age', 're74', 're75', 'black'),\n",
        "    treated.col = 'blue',\n",
        "    control.col = 'gray'\n",
        ")\n",
        "\n",
        "# export matched dataset\n",
        "matched.data <- generateDataset(L1.frontier, N = 400) # take 400 units"
      ],
      "metadata": {
        "id": "ji-GyutdKhMu"
      },
      "execution_count": null,
      "outputs": []
    },
    {
      "cell_type": "markdown",
      "source": [
        "Using cem for Coarsened Exact Matching"
      ],
      "metadata": {
        "id": "51VcFy9gKlvi"
      }
    },
    {
      "cell_type": "code",
      "source": [
        "library(cem)\n",
        "data(LeLonde)\n",
        "\n",
        "Le <- data.frame(na.omit(LeLonde)) # remove missing data\n",
        "# treated and control groups\n",
        "tr <- which(Le$treated==1)\n",
        "ct <- which(Le$treated==0)\n",
        "ntr <- length(tr)\n",
        "nct <- length(ct)\n",
        "\n",
        "# unadjusted, biased difference in means\n",
        "mean(Le$re78[tr]) - mean(Le$re78[ct])\n",
        "#> [1] 759.0479\n",
        "\n",
        "# pre-treatment covariates\n",
        "vars <-\n",
        "    c(\n",
        "        \"age\",\n",
        "        \"education\",\n",
        "        \"black\",\n",
        "        \"married\",\n",
        "        \"nodegree\",\n",
        "        \"re74\",\n",
        "        \"re75\",\n",
        "        \"hispanic\",\n",
        "        \"u74\",\n",
        "        \"u75\",\n",
        "        \"q1\"\n",
        "    )\n",
        "\n",
        "# overall imbalance statistics\n",
        "imbalance(group=Le$treated, data=Le[vars]) # L1 = 0.902\n",
        "#> \n",
        "#> Multivariate Imbalance Measure: L1=0.902\n",
        "#> Percentage of local common support: LCS=5.8%\n",
        "#> \n",
        "#> Univariate Imbalance Measures:\n",
        "#> \n",
        "#>               statistic   type           L1 min 25%      50%       75%\n",
        "#> age        -0.252373042 (diff) 5.102041e-03   0   0   0.0000   -1.0000\n",
        "#> education   0.153634710 (diff) 8.463851e-02   1   0   1.0000    1.0000\n",
        "#> black      -0.010322734 (diff) 1.032273e-02   0   0   0.0000    0.0000\n",
        "#> married    -0.009551495 (diff) 9.551495e-03   0   0   0.0000    0.0000\n",
        "#> nodegree   -0.081217371 (diff) 8.121737e-02   0  -1   0.0000    0.0000\n",
        "#> re74      -18.160446880 (diff) 5.551115e-17   0   0 284.0715  806.3452\n",
        "#> re75      101.501761679 (diff) 5.551115e-17   0   0 485.6310 1238.4114\n",
        "#> hispanic   -0.010144756 (diff) 1.014476e-02   0   0   0.0000    0.0000\n",
        "#> u74        -0.045582186 (diff) 4.558219e-02   0   0   0.0000    0.0000\n",
        "#> u75        -0.065555292 (diff) 6.555529e-02   0   0   0.0000    0.0000\n",
        "#> q1          7.494021189 (Chi2) 1.067078e-01  NA  NA       NA        NA\n",
        "#>                  max\n",
        "#> age          -6.0000\n",
        "#> education     1.0000\n",
        "#> black         0.0000\n",
        "#> married       0.0000\n",
        "#> nodegree      0.0000\n",
        "#> re74      -2139.0195\n",
        "#> re75        490.3945\n",
        "#> hispanic      0.0000\n",
        "#> u74           0.0000\n",
        "#> u75           0.0000\n",
        "#> q1                NA\n",
        "\n",
        "# drop other variables that are not pre-treatmentt matching variables\n",
        "todrop <- c(\"treated\", \"re78\")\n",
        "imbalance(group=Le$treated, data=Le, drop=todrop)\n",
        "#> \n",
        "#> Multivariate Imbalance Measure: L1=0.902\n",
        "#> Percentage of local common support: LCS=5.8%\n",
        "#> \n",
        "#> Univariate Imbalance Measures:\n",
        "#> \n",
        "#>               statistic   type           L1 min 25%      50%       75%\n",
        "#> age        -0.252373042 (diff) 5.102041e-03   0   0   0.0000   -1.0000\n",
        "#> education   0.153634710 (diff) 8.463851e-02   1   0   1.0000    1.0000\n",
        "#> black      -0.010322734 (diff) 1.032273e-02   0   0   0.0000    0.0000\n",
        "#> married    -0.009551495 (diff) 9.551495e-03   0   0   0.0000    0.0000\n",
        "#> nodegree   -0.081217371 (diff) 8.121737e-02   0  -1   0.0000    0.0000\n",
        "#> re74      -18.160446880 (diff) 5.551115e-17   0   0 284.0715  806.3452\n",
        "#> re75      101.501761679 (diff) 5.551115e-17   0   0 485.6310 1238.4114\n",
        "#> hispanic   -0.010144756 (diff) 1.014476e-02   0   0   0.0000    0.0000\n",
        "#> u74        -0.045582186 (diff) 4.558219e-02   0   0   0.0000    0.0000\n",
        "#> u75        -0.065555292 (diff) 6.555529e-02   0   0   0.0000    0.0000\n",
        "#> q1          7.494021189 (Chi2) 1.067078e-01  NA  NA       NA        NA\n",
        "#>                  max\n",
        "#> age          -6.0000\n",
        "#> education     1.0000\n",
        "#> black         0.0000\n",
        "#> married       0.0000\n",
        "#> nodegree      0.0000\n",
        "#> re74      -2139.0195\n",
        "#> re75        490.3945\n",
        "#> hispanic      0.0000\n",
        "#> u74           0.0000\n",
        "#> u75           0.0000\n",
        "#> q1                NA"
      ],
      "metadata": {
        "id": "O_wCAxYSKjXS"
      },
      "execution_count": null,
      "outputs": []
    },
    {
      "cell_type": "code",
      "source": [
        "## Automated Coarsening\n",
        "\n",
        "mat <- cem(treatment = \"treated\", data = Le, drop = \"re78\",keep.all=TRUE)\n",
        "#> \n",
        "#> Using 'treated'='1' as baseline group\n",
        "mat\n",
        "#>            G0  G1\n",
        "#> All       392 258\n",
        "#> Matched    95  84\n",
        "#> Unmatched 297 174\n",
        "\n",
        "# mat$w"
      ],
      "metadata": {
        "id": "5fzmXYksKuyi"
      },
      "execution_count": null,
      "outputs": []
    },
    {
      "cell_type": "code",
      "source": [
        "## Coarsening by Explicit User Choice\n",
        "\n",
        "# categorial variables\n",
        "levels(Le$q1) # grouping option\n",
        "#> [1] \"agree\"             \"disagree\"          \"neutral\"          \n",
        "#> [4] \"no opinion\"        \"strongly agree\"    \"strongly disagree\"\n",
        "q1.grp <- list(c(\"strongly agree\", \"agree\"), c(\"neutral\", \"no opinion\"), c(\"strongly disagree\",\"disagree\")) # if you want ordered categories\n",
        "\n",
        "# continuous variables \n",
        "table(Le$education)\n",
        "#> \n",
        "#>   3   4   5   6   7   8   9  10  11  12  13  14  15 \n",
        "#>   1   5   4   6  12  55 106 146 173 113  19   9   1\n",
        "educut <- c(0, 6.5, 8.5, 12.5, 17)  # use cutpoints\n",
        "\n",
        "mat1 <- cem(treatment = \"treated\", data = Le, drop = \"re78\", cutpoints = list(education=educut), grouping=list(q1=q1.grp))\n",
        "#> \n",
        "#> Using 'treated'='1' as baseline group\n",
        "mat1\n",
        "#>            G0  G1\n",
        "#> All       392 258\n",
        "#> Matched   158 115\n",
        "#> Unmatched 234 143"
      ],
      "metadata": {
        "id": "tzQqUlWTKwpq"
      },
      "execution_count": null,
      "outputs": []
    },
    {
      "cell_type": "markdown",
      "source": [
        "Genetic Matching"
      ],
      "metadata": {
        "id": "WdZZBrMHK1CG"
      }
    },
    {
      "cell_type": "code",
      "source": [
        "library(Matching)\n",
        "data(lalonde)\n",
        "attach(lalonde)\n",
        "\n",
        "#The covariates we want to match on\n",
        "X = cbind(age, educ, black, hisp, married, nodegr, u74, u75, re75, re74)\n",
        "\n",
        "#The covariates we want to obtain balance on\n",
        "BalanceMat <- cbind(age, educ, black, hisp, married, nodegr, u74, u75, re75, re74,\n",
        "                    I(re74*re75))\n",
        "\n",
        "#\n",
        "#Let's call GenMatch() to find the optimal weight to give each\n",
        "#covariate in 'X' so as we have achieved balance on the covariates in\n",
        "#'BalanceMat'. This is only an example so we want GenMatch to be quick\n",
        "#so the population size has been set to be only 16 via the 'pop.size'\n",
        "#option. This is *WAY* too small for actual problems.\n",
        "#For details see http://sekhon.berkeley.edu/papers/MatchingJSS.pdf.\n",
        "#\n",
        "genout <- GenMatch(Tr=treat, X=X, BalanceMatrix=BalanceMat, estimand=\"ATE\", M=1,\n",
        "                   pop.size=16, max.generations=10, wait.generations=1)\n",
        "\n",
        "#The outcome variable\n",
        "Y=re78/1000\n",
        "\n",
        "#\n",
        "# Now that GenMatch() has found the optimal weights, let's estimate\n",
        "# our causal effect of interest using those weights\n",
        "#\n",
        "mout <- Match(Y=Y, Tr=treat, X=X, estimand=\"ATE\", Weight.matrix=genout)\n",
        "summary(mout)\n",
        "\n",
        "#                        \n",
        "#Let's determine if balance has actually been obtained on the variables of interest\n",
        "#                        \n",
        "mb <- MatchBalance(treat~age +educ+black+ hisp+ married+ nodegr+ u74+ u75+\n",
        "                   re75+ re74+ I(re74*re75),\n",
        "                   match.out=mout, nboots=500)"
      ],
      "metadata": {
        "id": "vzaJciD6LHn3"
      },
      "execution_count": null,
      "outputs": []
    }
  ]
}