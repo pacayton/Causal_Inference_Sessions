{
  "nbformat": 4,
  "nbformat_minor": 0,
  "metadata": {
    "colab": {
      "provenance": [],
      "authorship_tag": "ABX9TyPVouRasAQNJpMZSZR1kvb3",
      "include_colab_link": true
    },
    "kernelspec": {
      "name": "ir",
      "display_name": "R"
    },
    "language_info": {
      "name": "R"
    }
  },
  "cells": [
    {
      "cell_type": "markdown",
      "metadata": {
        "id": "view-in-github",
        "colab_type": "text"
      },
      "source": [
        "<a href=\"https://colab.research.google.com/github/pacayton/Causal_Inference_Sessions/blob/main/Matching_with_R.ipynb\" target=\"_parent\"><img src=\"https://colab.research.google.com/assets/colab-badge.svg\" alt=\"Open In Colab\"/></a>"
      ]
    },
    {
      "cell_type": "markdown",
      "source": [
        "Source: https://mixtape.scunning.com/05-matching_and_subclassification"
      ],
      "metadata": {
        "id": "ZeIdI0gi9LRa"
      }
    },
    {
      "cell_type": "code",
      "source": [
        "## Training Data Example for Exact Matching\n",
        "\n",
        "library(tidyverse)\n",
        "library(haven)\n",
        "\n",
        "read_data <- function(df)\n",
        "{\n",
        "  full_path <- paste(\"https://github.com/scunning1975/mixtape/raw/master/\", \n",
        "                     df, sep = \"\")\n",
        "  df <- read_dta(full_path)\n",
        "  return(df)\n",
        "}\n",
        "\n",
        "training_example <- read_data(\"training_example.dta\") %>% \n",
        "  slice(1:20)\n",
        "\n",
        "ggplot(training_example, aes(x=age_treat)) +\n",
        "  stat_bin(bins = 10, na.rm = TRUE)\n",
        "\n",
        "ggplot(training_example, aes(x=age_control)) +\n",
        "  geom_histogram(bins = 10, na.rm = TRUE)\n",
        "\n",
        "(training_example)"
      ],
      "metadata": {
        "id": "KljUgQR1Cgjo",
        "outputId": "06762c3f-94ff-44c5-e0f4-6b41b6465f9d",
        "colab": {
          "base_uri": "https://localhost:8080/",
          "height": 1000
        }
      },
      "execution_count": null,
      "outputs": [
        {
          "output_type": "stream",
          "name": "stderr",
          "text": [
            "── \u001b[1mAttaching packages\u001b[22m ─────────────────────────────────────── tidyverse 1.3.1 ──\n",
            "\n",
            "\u001b[32m✔\u001b[39m \u001b[34mggplot2\u001b[39m 3.4.2     \u001b[32m✔\u001b[39m \u001b[34mpurrr  \u001b[39m 1.0.1\n",
            "\u001b[32m✔\u001b[39m \u001b[34mtibble \u001b[39m 3.2.1     \u001b[32m✔\u001b[39m \u001b[34mdplyr  \u001b[39m 1.1.2\n",
            "\u001b[32m✔\u001b[39m \u001b[34mtidyr  \u001b[39m 1.3.0     \u001b[32m✔\u001b[39m \u001b[34mstringr\u001b[39m 1.5.0\n",
            "\u001b[32m✔\u001b[39m \u001b[34mreadr  \u001b[39m 2.1.4     \u001b[32m✔\u001b[39m \u001b[34mforcats\u001b[39m 1.0.0\n",
            "\n",
            "── \u001b[1mConflicts\u001b[22m ────────────────────────────────────────── tidyverse_conflicts() ──\n",
            "\u001b[31m✖\u001b[39m \u001b[34mdplyr\u001b[39m::\u001b[32mfilter()\u001b[39m masks \u001b[34mstats\u001b[39m::filter()\n",
            "\u001b[31m✖\u001b[39m \u001b[34mdplyr\u001b[39m::\u001b[32mlag()\u001b[39m    masks \u001b[34mstats\u001b[39m::lag()\n",
            "\n"
          ]
        },
        {
          "output_type": "display_data",
          "data": {
            "text/plain": [
              "plot without title"
            ],
            "image/png": "[encoded data removed]"
          },
          "metadata": {
            "image/png": {
              "width": 420,
              "height": 420
            }
          }
        },
        {
          "output_type": "display_data",
          "data": {
            "text/html": [
              "<table class=\"dataframe\">\n",
              "<caption>A tibble: 20 × 9</caption>\n",
              "<thead>\n",
              "\t<tr><th scope=col>unit_treat</th><th scope=col>age_treat</th><th scope=col>earnings_treat</th><th scope=col>unit_control</th><th scope=col>age_control</th><th scope=col>earnings_control</th><th scope=col>unit_matched</th><th scope=col>age_matched</th><th scope=col>earnings_matched</th></tr>\n",
              "\t<tr><th scope=col>&lt;dbl&gt;</th><th scope=col>&lt;dbl&gt;</th><th scope=col>&lt;chr&gt;</th><th scope=col>&lt;dbl&gt;</th><th scope=col>&lt;dbl&gt;</th><th scope=col>&lt;dbl&gt;</th><th scope=col>&lt;dbl&gt;</th><th scope=col>&lt;dbl&gt;</th><th scope=col>&lt;dbl&gt;</th></tr>\n",
              "</thead>\n",
              "<tbody>\n",
              "\t<tr><td> 1</td><td>18</td><td>9500 </td><td> 1</td><td>20</td><td> 8500</td><td> 1</td><td>18</td><td> 8050</td></tr>\n",
              "\t<tr><td> 2</td><td>29</td><td>12250</td><td> 2</td><td>27</td><td>10075</td><td> 2</td><td>29</td><td>10525</td></tr>\n",
              "\t<tr><td> 3</td><td>24</td><td>11000</td><td> 3</td><td>21</td><td> 8725</td><td> 3</td><td>24</td><td> 9400</td></tr>\n",
              "\t<tr><td> 4</td><td>27</td><td>11750</td><td> 4</td><td>39</td><td>12775</td><td> 4</td><td>27</td><td>10075</td></tr>\n",
              "\t<tr><td> 5</td><td>33</td><td>13250</td><td> 5</td><td>38</td><td>12550</td><td> 5</td><td>33</td><td>11425</td></tr>\n",
              "\t<tr><td> 6</td><td>22</td><td>10500</td><td> 6</td><td>29</td><td>10525</td><td> 6</td><td>22</td><td> 8950</td></tr>\n",
              "\t<tr><td> 7</td><td>19</td><td>9750 </td><td> 7</td><td>39</td><td>12775</td><td> 7</td><td>19</td><td> 8275</td></tr>\n",
              "\t<tr><td> 8</td><td>20</td><td>10000</td><td> 8</td><td>33</td><td>11425</td><td> 8</td><td>20</td><td> 8500</td></tr>\n",
              "\t<tr><td> 9</td><td>21</td><td>10250</td><td> 9</td><td>24</td><td> 9400</td><td> 9</td><td>21</td><td> 8725</td></tr>\n",
              "\t<tr><td>10</td><td>30</td><td>12500</td><td>10</td><td>30</td><td>10750</td><td>10</td><td>30</td><td> 9875</td></tr>\n",
              "\t<tr><td>NA</td><td>NA</td><td>     </td><td>11</td><td>33</td><td>11425</td><td>NA</td><td>NA</td><td>   NA</td></tr>\n",
              "\t<tr><td>NA</td><td>NA</td><td>     </td><td>12</td><td>36</td><td>12100</td><td>NA</td><td>NA</td><td>   NA</td></tr>\n",
              "\t<tr><td>NA</td><td>NA</td><td>     </td><td>13</td><td>22</td><td> 8950</td><td>NA</td><td>NA</td><td>   NA</td></tr>\n",
              "\t<tr><td>NA</td><td>NA</td><td>     </td><td>14</td><td>18</td><td> 8050</td><td>NA</td><td>NA</td><td>   NA</td></tr>\n",
              "\t<tr><td>NA</td><td>NA</td><td>     </td><td>15</td><td>43</td><td>13675</td><td>NA</td><td>NA</td><td>   NA</td></tr>\n",
              "\t<tr><td>NA</td><td>NA</td><td>     </td><td>16</td><td>39</td><td>12775</td><td>NA</td><td>NA</td><td>   NA</td></tr>\n",
              "\t<tr><td>NA</td><td>NA</td><td>     </td><td>17</td><td>19</td><td> 8275</td><td>NA</td><td>NA</td><td>   NA</td></tr>\n",
              "\t<tr><td>NA</td><td>NA</td><td>     </td><td>18</td><td>30</td><td> 9000</td><td>NA</td><td>NA</td><td>   NA</td></tr>\n",
              "\t<tr><td>NA</td><td>NA</td><td>     </td><td>19</td><td>51</td><td>15475</td><td>NA</td><td>NA</td><td>   NA</td></tr>\n",
              "\t<tr><td>NA</td><td>NA</td><td>     </td><td>20</td><td>48</td><td>14800</td><td>NA</td><td>NA</td><td>   NA</td></tr>\n",
              "</tbody>\n",
              "</table>\n"
            ],
            "text/markdown": "\nA tibble: 20 × 9\n\n| unit_treat &lt;dbl&gt; | age_treat &lt;dbl&gt; | earnings_treat &lt;chr&gt; | unit_control &lt;dbl&gt; | age_control &lt;dbl&gt; | earnings_control &lt;dbl&gt; | unit_matched &lt;dbl&gt; | age_matched &lt;dbl&gt; | earnings_matched &lt;dbl&gt; |\n|---|---|---|---|---|---|---|---|---|\n|  1 | 18 | 9500  |  1 | 20 |  8500 |  1 | 18 |  8050 |\n|  2 | 29 | 12250 |  2 | 27 | 10075 |  2 | 29 | 10525 |\n|  3 | 24 | 11000 |  3 | 21 |  8725 |  3 | 24 |  9400 |\n|  4 | 27 | 11750 |  4 | 39 | 12775 |  4 | 27 | 10075 |\n|  5 | 33 | 13250 |  5 | 38 | 12550 |  5 | 33 | 11425 |\n|  6 | 22 | 10500 |  6 | 29 | 10525 |  6 | 22 |  8950 |\n|  7 | 19 | 9750  |  7 | 39 | 12775 |  7 | 19 |  8275 |\n|  8 | 20 | 10000 |  8 | 33 | 11425 |  8 | 20 |  8500 |\n|  9 | 21 | 10250 |  9 | 24 |  9400 |  9 | 21 |  8725 |\n| 10 | 30 | 12500 | 10 | 30 | 10750 | 10 | 30 |  9875 |\n| NA | NA | <!----> | 11 | 33 | 11425 | NA | NA |    NA |\n| NA | NA | <!----> | 12 | 36 | 12100 | NA | NA |    NA |\n| NA | NA | <!----> | 13 | 22 |  8950 | NA | NA |    NA |\n| NA | NA | <!----> | 14 | 18 |  8050 | NA | NA |    NA |\n| NA | NA | <!----> | 15 | 43 | 13675 | NA | NA |    NA |\n| NA | NA | <!----> | 16 | 39 | 12775 | NA | NA |    NA |\n| NA | NA | <!----> | 17 | 19 |  8275 | NA | NA |    NA |\n| NA | NA | <!----> | 18 | 30 |  9000 | NA | NA |    NA |\n| NA | NA | <!----> | 19 | 51 | 15475 | NA | NA |    NA |\n| NA | NA | <!----> | 20 | 48 | 14800 | NA | NA |    NA |\n\n",
            "text/latex": "A tibble: 20 × 9\n\\begin{tabular}{lllllllll}\n unit\\_treat & age\\_treat & earnings\\_treat & unit\\_control & age\\_control & earnings\\_control & unit\\_matched & age\\_matched & earnings\\_matched\\\\\n <dbl> & <dbl> & <chr> & <dbl> & <dbl> & <dbl> & <dbl> & <dbl> & <dbl>\\\\\n\\hline\n\t  1 & 18 & 9500  &  1 & 20 &  8500 &  1 & 18 &  8050\\\\\n\t  2 & 29 & 12250 &  2 & 27 & 10075 &  2 & 29 & 10525\\\\\n\t  3 & 24 & 11000 &  3 & 21 &  8725 &  3 & 24 &  9400\\\\\n\t  4 & 27 & 11750 &  4 & 39 & 12775 &  4 & 27 & 10075\\\\\n\t  5 & 33 & 13250 &  5 & 38 & 12550 &  5 & 33 & 11425\\\\\n\t  6 & 22 & 10500 &  6 & 29 & 10525 &  6 & 22 &  8950\\\\\n\t  7 & 19 & 9750  &  7 & 39 & 12775 &  7 & 19 &  8275\\\\\n\t  8 & 20 & 10000 &  8 & 33 & 11425 &  8 & 20 &  8500\\\\\n\t  9 & 21 & 10250 &  9 & 24 &  9400 &  9 & 21 &  8725\\\\\n\t 10 & 30 & 12500 & 10 & 30 & 10750 & 10 & 30 &  9875\\\\\n\t NA & NA &       & 11 & 33 & 11425 & NA & NA &    NA\\\\\n\t NA & NA &       & 12 & 36 & 12100 & NA & NA &    NA\\\\\n\t NA & NA &       & 13 & 22 &  8950 & NA & NA &    NA\\\\\n\t NA & NA &       & 14 & 18 &  8050 & NA & NA &    NA\\\\\n\t NA & NA &       & 15 & 43 & 13675 & NA & NA &    NA\\\\\n\t NA & NA &       & 16 & 39 & 12775 & NA & NA &    NA\\\\\n\t NA & NA &       & 17 & 19 &  8275 & NA & NA &    NA\\\\\n\t NA & NA &       & 18 & 30 &  9000 & NA & NA &    NA\\\\\n\t NA & NA &       & 19 & 51 & 15475 & NA & NA &    NA\\\\\n\t NA & NA &       & 20 & 48 & 14800 & NA & NA &    NA\\\\\n\\end{tabular}\n",
            "text/plain": [
              "   unit_treat age_treat earnings_treat unit_control age_control\n",
              "1   1         18        9500            1           20         \n",
              "2   2         29        12250           2           27         \n",
              "3   3         24        11000           3           21         \n",
              "4   4         27        11750           4           39         \n",
              "5   5         33        13250           5           38         \n",
              "6   6         22        10500           6           29         \n",
              "7   7         19        9750            7           39         \n",
              "8   8         20        10000           8           33         \n",
              "9   9         21        10250           9           24         \n",
              "10 10         30        12500          10           30         \n",
              "11 NA         NA                       11           33         \n",
              "12 NA         NA                       12           36         \n",
              "13 NA         NA                       13           22         \n",
              "14 NA         NA                       14           18         \n",
              "15 NA         NA                       15           43         \n",
              "16 NA         NA                       16           39         \n",
              "17 NA         NA                       17           19         \n",
              "18 NA         NA                       18           30         \n",
              "19 NA         NA                       19           51         \n",
              "20 NA         NA                       20           48         \n",
              "   earnings_control unit_matched age_matched earnings_matched\n",
              "1   8500             1           18           8050           \n",
              "2  10075             2           29          10525           \n",
              "3   8725             3           24           9400           \n",
              "4  12775             4           27          10075           \n",
              "5  12550             5           33          11425           \n",
              "6  10525             6           22           8950           \n",
              "7  12775             7           19           8275           \n",
              "8  11425             8           20           8500           \n",
              "9   9400             9           21           8725           \n",
              "10 10750            10           30           9875           \n",
              "11 11425            NA           NA             NA           \n",
              "12 12100            NA           NA             NA           \n",
              "13  8950            NA           NA             NA           \n",
              "14  8050            NA           NA             NA           \n",
              "15 13675            NA           NA             NA           \n",
              "16 12775            NA           NA             NA           \n",
              "17  8275            NA           NA             NA           \n",
              "18  9000            NA           NA             NA           \n",
              "19 15475            NA           NA             NA           \n",
              "20 14800            NA           NA             NA           "
            ]
          },
          "metadata": {}
        },
        {
          "output_type": "display_data",
          "data": {
            "text/plain": [
              "plot without title"
            ],
            "image/png": "[encoded data removed]"
          },
          "metadata": {
            "image/png": {
              "width": 420,
              "height": 420
            }
          }
        }
      ]
    },
    {
      "cell_type": "code",
      "source": [
        "### Training Data with Bias Reduction\n",
        "\n",
        "library(tidyverse)\n",
        "library(haven)\n",
        "\n",
        "read_data <- function(df)\n",
        "{\n",
        "  full_path <- paste(\"https://github.com/scunning1975/mixtape/raw/master/\", \n",
        "                     df, sep = \"\")\n",
        "  df <- read_dta(full_path)\n",
        "  return(df)\n",
        "}\n",
        "\n",
        "training_bias_reduction <- read_data(\"training_bias_reduction.dta\") %>% \n",
        "  mutate(\n",
        "    Y1 = case_when(Unit %in% c(1,2,3,4) ~ Y),\n",
        "    Y0 = c(4,0,5,1,4,0,5,1))\n",
        "\n",
        "train_reg <- lm(Y ~ X, training_bias_reduction)\n",
        "\n",
        "training_bias_reduction <- training_bias_reduction %>% \n",
        "  mutate(u_hat0 = predict(train_reg))\n",
        "\n",
        "training_bias_reduction"
      ],
      "metadata": {
        "colab": {
          "base_uri": "https://localhost:8080/",
          "height": 349
        },
        "id": "07KQ9l8f78R_",
        "outputId": "7ecba93b-e759-4803-d87c-fe0803eddc23"
      },
      "execution_count": null,
      "outputs": [
        {
          "output_type": "display_data",
          "data": {
            "text/html": [
              "<table class=\"dataframe\">\n",
              "<caption>A tibble: 8 × 7</caption>\n",
              "<thead>\n",
              "\t<tr><th scope=col>Unit</th><th scope=col>Y</th><th scope=col>D</th><th scope=col>X</th><th scope=col>Y1</th><th scope=col>Y0</th><th scope=col>u_hat0</th></tr>\n",
              "\t<tr><th scope=col>&lt;dbl&gt;</th><th scope=col>&lt;dbl&gt;</th><th scope=col>&lt;dbl&gt;</th><th scope=col>&lt;dbl&gt;</th><th scope=col>&lt;dbl&gt;</th><th scope=col>&lt;dbl&gt;</th><th scope=col>&lt;dbl&gt;</th></tr>\n",
              "</thead>\n",
              "<tbody>\n",
              "\t<tr><td>1</td><td> 5</td><td>1</td><td>11</td><td> 5</td><td>4</td><td>3.888071</td></tr>\n",
              "\t<tr><td>2</td><td> 2</td><td>1</td><td> 7</td><td> 2</td><td>0</td><td>4.082474</td></tr>\n",
              "\t<tr><td>3</td><td>10</td><td>1</td><td> 5</td><td>10</td><td>5</td><td>4.179676</td></tr>\n",
              "\t<tr><td>4</td><td> 6</td><td>1</td><td> 3</td><td> 6</td><td>1</td><td>4.276878</td></tr>\n",
              "\t<tr><td>5</td><td> 4</td><td>0</td><td>10</td><td>NA</td><td>4</td><td>3.936672</td></tr>\n",
              "\t<tr><td>6</td><td> 0</td><td>0</td><td> 8</td><td>NA</td><td>0</td><td>4.033873</td></tr>\n",
              "\t<tr><td>7</td><td> 5</td><td>0</td><td> 4</td><td>NA</td><td>5</td><td>4.228277</td></tr>\n",
              "\t<tr><td>8</td><td> 1</td><td>0</td><td> 1</td><td>NA</td><td>1</td><td>4.374080</td></tr>\n",
              "</tbody>\n",
              "</table>\n"
            ],
            "text/markdown": "\nA tibble: 8 × 7\n\n| Unit &lt;dbl&gt; | Y &lt;dbl&gt; | D &lt;dbl&gt; | X &lt;dbl&gt; | Y1 &lt;dbl&gt; | Y0 &lt;dbl&gt; | u_hat0 &lt;dbl&gt; |\n|---|---|---|---|---|---|---|\n| 1 |  5 | 1 | 11 |  5 | 4 | 3.888071 |\n| 2 |  2 | 1 |  7 |  2 | 0 | 4.082474 |\n| 3 | 10 | 1 |  5 | 10 | 5 | 4.179676 |\n| 4 |  6 | 1 |  3 |  6 | 1 | 4.276878 |\n| 5 |  4 | 0 | 10 | NA | 4 | 3.936672 |\n| 6 |  0 | 0 |  8 | NA | 0 | 4.033873 |\n| 7 |  5 | 0 |  4 | NA | 5 | 4.228277 |\n| 8 |  1 | 0 |  1 | NA | 1 | 4.374080 |\n\n",
            "text/latex": "A tibble: 8 × 7\n\\begin{tabular}{lllllll}\n Unit & Y & D & X & Y1 & Y0 & u\\_hat0\\\\\n <dbl> & <dbl> & <dbl> & <dbl> & <dbl> & <dbl> & <dbl>\\\\\n\\hline\n\t 1 &  5 & 1 & 11 &  5 & 4 & 3.888071\\\\\n\t 2 &  2 & 1 &  7 &  2 & 0 & 4.082474\\\\\n\t 3 & 10 & 1 &  5 & 10 & 5 & 4.179676\\\\\n\t 4 &  6 & 1 &  3 &  6 & 1 & 4.276878\\\\\n\t 5 &  4 & 0 & 10 & NA & 4 & 3.936672\\\\\n\t 6 &  0 & 0 &  8 & NA & 0 & 4.033873\\\\\n\t 7 &  5 & 0 &  4 & NA & 5 & 4.228277\\\\\n\t 8 &  1 & 0 &  1 & NA & 1 & 4.374080\\\\\n\\end{tabular}\n",
            "text/plain": [
              "  Unit Y  D X  Y1 Y0 u_hat0  \n",
              "1 1     5 1 11  5 4  3.888071\n",
              "2 2     2 1  7  2 0  4.082474\n",
              "3 3    10 1  5 10 5  4.179676\n",
              "4 4     6 1  3  6 1  4.276878\n",
              "5 5     4 0 10 NA 4  3.936672\n",
              "6 6     0 0  8 NA 0  4.033873\n",
              "7 7     5 0  4 NA 5  4.228277\n",
              "8 8     1 0  1 NA 1  4.374080"
            ]
          },
          "metadata": {}
        }
      ]
    },
    {
      "cell_type": "code",
      "source": [
        "## NSW Experimental\n",
        "\n",
        "library(tidyverse)\n",
        "library(haven)\n",
        "\n",
        "read_data <- function(df)\n",
        "{\n",
        "  full_path <- paste(\"https://github.com/scunning1975/mixtape/raw/master/\", \n",
        "                     df, sep = \"\")\n",
        "  df <- read_dta(full_path)\n",
        "  return(df)\n",
        "}\n",
        "\n",
        "(nsw_dw <- read_data(\"nsw_mixtape.dta\"))\n",
        "\n",
        "nsw_dw %>% \n",
        "  filter(treat == 1) %>% \n",
        "  summary(re78)\n",
        "\n",
        "mean1 <- nsw_dw %>% \n",
        "  filter(treat == 1) %>% \n",
        "  pull(re78) %>% \n",
        "  mean()\n",
        "\n",
        "(nsw_dw$y1 <- mean1)\n",
        "\n",
        "nsw_dw %>% \n",
        "  filter(treat == 0) %>% \n",
        "  summary(re78)\n",
        "\n",
        "mean0 <- nsw_dw %>% \n",
        "  filter(treat == 0) %>% \n",
        "  pull(re78) %>% \n",
        "  mean()\n",
        "\n",
        "(nsw_dw$y0 <- mean0)\n",
        "\n",
        "(ate <- unique(nsw_dw$y1 - nsw_dw$y0))\n",
        "\n",
        "nsw_dw <- nsw_dw %>% \n",
        "  filter(treat == 1) %>% \n",
        "  select(-y1, -y0)"
      ],
      "metadata": {
        "colab": {
          "base_uri": "https://localhost:8080/",
          "height": 1000
        },
        "id": "bkwByrLY8ErP",
        "outputId": "0131d8a5-ce32-4695-a262-a460e962be0b"
      },
      "execution_count": null,
      "outputs": [
        {
          "output_type": "display_data",
          "data": {
            "text/html": [
              "<table class=\"dataframe\">\n",
              "<caption>A tibble: 445 × 11</caption>\n",
              "<thead>\n",
              "\t<tr><th scope=col>data_id</th><th scope=col>treat</th><th scope=col>age</th><th scope=col>educ</th><th scope=col>black</th><th scope=col>hisp</th><th scope=col>marr</th><th scope=col>nodegree</th><th scope=col>re74</th><th scope=col>re75</th><th scope=col>re78</th></tr>\n",
              "\t<tr><th scope=col>&lt;chr&gt;</th><th scope=col>&lt;dbl&gt;</th><th scope=col>&lt;dbl&gt;</th><th scope=col>&lt;dbl&gt;</th><th scope=col>&lt;dbl&gt;</th><th scope=col>&lt;dbl&gt;</th><th scope=col>&lt;dbl&gt;</th><th scope=col>&lt;dbl&gt;</th><th scope=col>&lt;dbl&gt;</th><th scope=col>&lt;dbl&gt;</th><th scope=col>&lt;dbl&gt;</th></tr>\n",
              "</thead>\n",
              "<tbody>\n",
              "\t<tr><td>Dehejia-Wahba Sample</td><td>1</td><td>37</td><td>11</td><td>1</td><td>0</td><td>1</td><td>1</td><td>0</td><td>0</td><td> 9930.0459</td></tr>\n",
              "\t<tr><td>Dehejia-Wahba Sample</td><td>1</td><td>22</td><td> 9</td><td>0</td><td>1</td><td>0</td><td>1</td><td>0</td><td>0</td><td> 3595.8940</td></tr>\n",
              "\t<tr><td>Dehejia-Wahba Sample</td><td>1</td><td>30</td><td>12</td><td>1</td><td>0</td><td>0</td><td>0</td><td>0</td><td>0</td><td>24909.4492</td></tr>\n",
              "\t<tr><td>Dehejia-Wahba Sample</td><td>1</td><td>27</td><td>11</td><td>1</td><td>0</td><td>0</td><td>1</td><td>0</td><td>0</td><td> 7506.1460</td></tr>\n",
              "\t<tr><td>Dehejia-Wahba Sample</td><td>1</td><td>33</td><td> 8</td><td>1</td><td>0</td><td>0</td><td>1</td><td>0</td><td>0</td><td>  289.7899</td></tr>\n",
              "\t<tr><td>Dehejia-Wahba Sample</td><td>1</td><td>22</td><td> 9</td><td>1</td><td>0</td><td>0</td><td>1</td><td>0</td><td>0</td><td> 4056.4939</td></tr>\n",
              "\t<tr><td>Dehejia-Wahba Sample</td><td>1</td><td>23</td><td>12</td><td>1</td><td>0</td><td>0</td><td>0</td><td>0</td><td>0</td><td>    0.0000</td></tr>\n",
              "\t<tr><td>Dehejia-Wahba Sample</td><td>1</td><td>32</td><td>11</td><td>1</td><td>0</td><td>0</td><td>1</td><td>0</td><td>0</td><td> 8472.1582</td></tr>\n",
              "\t<tr><td>Dehejia-Wahba Sample</td><td>1</td><td>22</td><td>16</td><td>1</td><td>0</td><td>0</td><td>0</td><td>0</td><td>0</td><td> 2164.0220</td></tr>\n",
              "\t<tr><td>Dehejia-Wahba Sample</td><td>1</td><td>33</td><td>12</td><td>0</td><td>0</td><td>1</td><td>0</td><td>0</td><td>0</td><td>12418.0703</td></tr>\n",
              "\t<tr><td>Dehejia-Wahba Sample</td><td>1</td><td>19</td><td> 9</td><td>1</td><td>0</td><td>0</td><td>1</td><td>0</td><td>0</td><td> 8173.9082</td></tr>\n",
              "\t<tr><td>Dehejia-Wahba Sample</td><td>1</td><td>21</td><td>13</td><td>1</td><td>0</td><td>0</td><td>0</td><td>0</td><td>0</td><td>17094.6406</td></tr>\n",
              "\t<tr><td>Dehejia-Wahba Sample</td><td>1</td><td>18</td><td> 8</td><td>1</td><td>0</td><td>0</td><td>1</td><td>0</td><td>0</td><td>    0.0000</td></tr>\n",
              "\t<tr><td>Dehejia-Wahba Sample</td><td>1</td><td>27</td><td>10</td><td>1</td><td>0</td><td>1</td><td>1</td><td>0</td><td>0</td><td>18739.9297</td></tr>\n",
              "\t<tr><td>Dehejia-Wahba Sample</td><td>1</td><td>17</td><td> 7</td><td>1</td><td>0</td><td>0</td><td>1</td><td>0</td><td>0</td><td> 3023.8789</td></tr>\n",
              "\t<tr><td>Dehejia-Wahba Sample</td><td>1</td><td>19</td><td>10</td><td>1</td><td>0</td><td>0</td><td>1</td><td>0</td><td>0</td><td> 3228.5029</td></tr>\n",
              "\t<tr><td>Dehejia-Wahba Sample</td><td>1</td><td>27</td><td>13</td><td>1</td><td>0</td><td>0</td><td>0</td><td>0</td><td>0</td><td>14581.8604</td></tr>\n",
              "\t<tr><td>Dehejia-Wahba Sample</td><td>1</td><td>23</td><td>10</td><td>1</td><td>0</td><td>0</td><td>1</td><td>0</td><td>0</td><td> 7693.3999</td></tr>\n",
              "\t<tr><td>Dehejia-Wahba Sample</td><td>1</td><td>40</td><td>12</td><td>1</td><td>0</td><td>0</td><td>0</td><td>0</td><td>0</td><td>10804.3203</td></tr>\n",
              "\t<tr><td>Dehejia-Wahba Sample</td><td>1</td><td>26</td><td>12</td><td>1</td><td>0</td><td>0</td><td>0</td><td>0</td><td>0</td><td>10747.3496</td></tr>\n",
              "\t<tr><td>Dehejia-Wahba Sample</td><td>1</td><td>23</td><td>11</td><td>1</td><td>0</td><td>0</td><td>1</td><td>0</td><td>0</td><td>    0.0000</td></tr>\n",
              "\t<tr><td>Dehejia-Wahba Sample</td><td>1</td><td>41</td><td>14</td><td>0</td><td>0</td><td>0</td><td>0</td><td>0</td><td>0</td><td> 5149.5010</td></tr>\n",
              "\t<tr><td>Dehejia-Wahba Sample</td><td>1</td><td>38</td><td> 9</td><td>0</td><td>0</td><td>0</td><td>1</td><td>0</td><td>0</td><td> 6408.9502</td></tr>\n",
              "\t<tr><td>Dehejia-Wahba Sample</td><td>1</td><td>24</td><td>11</td><td>1</td><td>0</td><td>0</td><td>1</td><td>0</td><td>0</td><td> 1991.4000</td></tr>\n",
              "\t<tr><td>Dehejia-Wahba Sample</td><td>1</td><td>18</td><td>10</td><td>1</td><td>0</td><td>0</td><td>1</td><td>0</td><td>0</td><td>11163.1699</td></tr>\n",
              "\t<tr><td>Dehejia-Wahba Sample</td><td>1</td><td>29</td><td>11</td><td>1</td><td>0</td><td>1</td><td>1</td><td>0</td><td>0</td><td> 9642.9990</td></tr>\n",
              "\t<tr><td>Dehejia-Wahba Sample</td><td>1</td><td>25</td><td>11</td><td>1</td><td>0</td><td>0</td><td>1</td><td>0</td><td>0</td><td> 9897.0488</td></tr>\n",
              "\t<tr><td>Dehejia-Wahba Sample</td><td>1</td><td>27</td><td>10</td><td>0</td><td>1</td><td>0</td><td>1</td><td>0</td><td>0</td><td>11142.8701</td></tr>\n",
              "\t<tr><td>Dehejia-Wahba Sample</td><td>1</td><td>17</td><td>10</td><td>1</td><td>0</td><td>0</td><td>1</td><td>0</td><td>0</td><td>16218.0400</td></tr>\n",
              "\t<tr><td>Dehejia-Wahba Sample</td><td>1</td><td>24</td><td>11</td><td>1</td><td>0</td><td>0</td><td>1</td><td>0</td><td>0</td><td>  995.7002</td></tr>\n",
              "\t<tr><td>⋮</td><td>⋮</td><td>⋮</td><td>⋮</td><td>⋮</td><td>⋮</td><td>⋮</td><td>⋮</td><td>⋮</td><td>⋮</td><td>⋮</td></tr>\n",
              "\t<tr><td>Dehejia-Wahba Sample</td><td>0</td><td>17</td><td>11</td><td>1</td><td>0</td><td>0</td><td>1</td><td> 4080.7300</td><td> 3796.029</td><td>    0.0000</td></tr>\n",
              "\t<tr><td>Dehejia-Wahba Sample</td><td>0</td><td>43</td><td>10</td><td>1</td><td>0</td><td>0</td><td>1</td><td> 2502.8679</td><td> 4128.443</td><td> 7565.2729</td></tr>\n",
              "\t<tr><td>Dehejia-Wahba Sample</td><td>0</td><td>26</td><td>11</td><td>1</td><td>0</td><td>1</td><td>1</td><td>    0.0000</td><td> 4184.732</td><td>    0.0000</td></tr>\n",
              "\t<tr><td>Dehejia-Wahba Sample</td><td>0</td><td>27</td><td>11</td><td>1</td><td>0</td><td>1</td><td>1</td><td>    0.0000</td><td> 4491.884</td><td>    0.0000</td></tr>\n",
              "\t<tr><td>Dehejia-Wahba Sample</td><td>0</td><td>19</td><td>11</td><td>1</td><td>0</td><td>0</td><td>1</td><td> 6337.4922</td><td> 4503.064</td><td>    0.0000</td></tr>\n",
              "\t<tr><td>Dehejia-Wahba Sample</td><td>0</td><td>28</td><td>11</td><td>1</td><td>0</td><td>1</td><td>1</td><td> 8593.1631</td><td> 5393.895</td><td> 4974.5859</td></tr>\n",
              "\t<tr><td>Dehejia-Wahba Sample</td><td>0</td><td>28</td><td>12</td><td>1</td><td>0</td><td>1</td><td>0</td><td>10585.1299</td><td> 5551.456</td><td>12780.0195</td></tr>\n",
              "\t<tr><td>Dehejia-Wahba Sample</td><td>0</td><td>26</td><td> 8</td><td>1</td><td>0</td><td>0</td><td>1</td><td> 1126.2900</td><td> 5562.598</td><td> 3523.5779</td></tr>\n",
              "\t<tr><td>Dehejia-Wahba Sample</td><td>0</td><td>31</td><td>12</td><td>1</td><td>0</td><td>0</td><td>0</td><td>    0.0000</td><td> 5613.909</td><td>    0.0000</td></tr>\n",
              "\t<tr><td>Dehejia-Wahba Sample</td><td>0</td><td>23</td><td>11</td><td>1</td><td>0</td><td>0</td><td>1</td><td> 7617.3618</td><td> 5716.407</td><td>10274.8398</td></tr>\n",
              "\t<tr><td>Dehejia-Wahba Sample</td><td>0</td><td>20</td><td>12</td><td>1</td><td>0</td><td>0</td><td>0</td><td> 7182.4922</td><td> 6004.728</td><td> 4779.7202</td></tr>\n",
              "\t<tr><td>Dehejia-Wahba Sample</td><td>0</td><td>28</td><td>10</td><td>1</td><td>0</td><td>1</td><td>1</td><td> 8293.3447</td><td> 6449.480</td><td>16988.1797</td></tr>\n",
              "\t<tr><td>Dehejia-Wahba Sample</td><td>0</td><td>39</td><td>12</td><td>1</td><td>0</td><td>1</td><td>0</td><td>19785.3203</td><td> 6608.137</td><td>  499.2572</td></tr>\n",
              "\t<tr><td>Dehejia-Wahba Sample</td><td>0</td><td>21</td><td> 8</td><td>1</td><td>0</td><td>0</td><td>1</td><td>39570.6797</td><td> 6608.304</td><td> 3083.5811</td></tr>\n",
              "\t<tr><td>Dehejia-Wahba Sample</td><td>0</td><td>22</td><td>11</td><td>1</td><td>0</td><td>0</td><td>1</td><td> 8810.0674</td><td> 6974.484</td><td> 3708.7190</td></tr>\n",
              "\t<tr><td>Dehejia-Wahba Sample</td><td>0</td><td>20</td><td>11</td><td>1</td><td>0</td><td>0</td><td>1</td><td> 8009.1641</td><td> 7666.875</td><td> 7659.2178</td></tr>\n",
              "\t<tr><td>Dehejia-Wahba Sample</td><td>0</td><td>21</td><td>11</td><td>0</td><td>1</td><td>0</td><td>1</td><td> 2992.5339</td><td> 8920.471</td><td>20857.8398</td></tr>\n",
              "\t<tr><td>Dehejia-Wahba Sample</td><td>0</td><td>23</td><td>12</td><td>0</td><td>1</td><td>0</td><td>0</td><td> 5721.6958</td><td> 8960.684</td><td> 7078.1782</td></tr>\n",
              "\t<tr><td>Dehejia-Wahba Sample</td><td>0</td><td>29</td><td> 9</td><td>1</td><td>0</td><td>0</td><td>1</td><td> 9268.9434</td><td> 9160.693</td><td>    0.0000</td></tr>\n",
              "\t<tr><td>Dehejia-Wahba Sample</td><td>0</td><td>28</td><td> 9</td><td>1</td><td>0</td><td>1</td><td>1</td><td>10222.4102</td><td> 9210.447</td><td> 1239.8440</td></tr>\n",
              "\t<tr><td>Dehejia-Wahba Sample</td><td>0</td><td>30</td><td>11</td><td>1</td><td>0</td><td>1</td><td>1</td><td>    0.0000</td><td> 9311.938</td><td> 3982.8010</td></tr>\n",
              "\t<tr><td>Dehejia-Wahba Sample</td><td>0</td><td>25</td><td>10</td><td>1</td><td>0</td><td>1</td><td>1</td><td>13519.9697</td><td> 9319.444</td><td>    0.0000</td></tr>\n",
              "\t<tr><td>Dehejia-Wahba Sample</td><td>0</td><td>28</td><td>11</td><td>1</td><td>0</td><td>1</td><td>1</td><td>  824.3889</td><td>10033.910</td><td>    0.0000</td></tr>\n",
              "\t<tr><td>Dehejia-Wahba Sample</td><td>0</td><td>22</td><td>10</td><td>0</td><td>0</td><td>0</td><td>1</td><td>27864.3594</td><td>10598.670</td><td> 7094.9199</td></tr>\n",
              "\t<tr><td>Dehejia-Wahba Sample</td><td>0</td><td>44</td><td> 9</td><td>1</td><td>0</td><td>1</td><td>1</td><td>12260.7803</td><td>10857.240</td><td>12359.3096</td></tr>\n",
              "\t<tr><td>Dehejia-Wahba Sample</td><td>0</td><td>21</td><td> 9</td><td>1</td><td>0</td><td>0</td><td>1</td><td>31886.4297</td><td>12357.220</td><td>    0.0000</td></tr>\n",
              "\t<tr><td>Dehejia-Wahba Sample</td><td>0</td><td>28</td><td>11</td><td>1</td><td>0</td><td>0</td><td>1</td><td>17491.4492</td><td>13371.250</td><td>    0.0000</td></tr>\n",
              "\t<tr><td>Dehejia-Wahba Sample</td><td>0</td><td>29</td><td> 9</td><td>0</td><td>1</td><td>0</td><td>1</td><td> 9594.3076</td><td>16341.160</td><td>16900.3008</td></tr>\n",
              "\t<tr><td>Dehejia-Wahba Sample</td><td>0</td><td>25</td><td> 9</td><td>1</td><td>0</td><td>1</td><td>1</td><td>24731.6191</td><td>16946.631</td><td> 7343.9639</td></tr>\n",
              "\t<tr><td>Dehejia-Wahba Sample</td><td>0</td><td>22</td><td>10</td><td>0</td><td>0</td><td>1</td><td>1</td><td>25720.9199</td><td>23031.980</td><td> 5448.8008</td></tr>\n",
              "</tbody>\n",
              "</table>\n"
            ],
            "text/markdown": "\nA tibble: 445 × 11\n\n| data_id &lt;chr&gt; | treat &lt;dbl&gt; | age &lt;dbl&gt; | educ &lt;dbl&gt; | black &lt;dbl&gt; | hisp &lt;dbl&gt; | marr &lt;dbl&gt; | nodegree &lt;dbl&gt; | re74 &lt;dbl&gt; | re75 &lt;dbl&gt; | re78 &lt;dbl&gt; |\n|---|---|---|---|---|---|---|---|---|---|---|\n| Dehejia-Wahba Sample | 1 | 37 | 11 | 1 | 0 | 1 | 1 | 0 | 0 |  9930.0459 |\n| Dehejia-Wahba Sample | 1 | 22 |  9 | 0 | 1 | 0 | 1 | 0 | 0 |  3595.8940 |\n| Dehejia-Wahba Sample | 1 | 30 | 12 | 1 | 0 | 0 | 0 | 0 | 0 | 24909.4492 |\n| Dehejia-Wahba Sample | 1 | 27 | 11 | 1 | 0 | 0 | 1 | 0 | 0 |  7506.1460 |\n| Dehejia-Wahba Sample | 1 | 33 |  8 | 1 | 0 | 0 | 1 | 0 | 0 |   289.7899 |\n| Dehejia-Wahba Sample | 1 | 22 |  9 | 1 | 0 | 0 | 1 | 0 | 0 |  4056.4939 |\n| Dehejia-Wahba Sample | 1 | 23 | 12 | 1 | 0 | 0 | 0 | 0 | 0 |     0.0000 |\n| Dehejia-Wahba Sample | 1 | 32 | 11 | 1 | 0 | 0 | 1 | 0 | 0 |  8472.1582 |\n| Dehejia-Wahba Sample | 1 | 22 | 16 | 1 | 0 | 0 | 0 | 0 | 0 |  2164.0220 |\n| Dehejia-Wahba Sample | 1 | 33 | 12 | 0 | 0 | 1 | 0 | 0 | 0 | 12418.0703 |\n| Dehejia-Wahba Sample | 1 | 19 |  9 | 1 | 0 | 0 | 1 | 0 | 0 |  8173.9082 |\n| Dehejia-Wahba Sample | 1 | 21 | 13 | 1 | 0 | 0 | 0 | 0 | 0 | 17094.6406 |\n| Dehejia-Wahba Sample | 1 | 18 |  8 | 1 | 0 | 0 | 1 | 0 | 0 |     0.0000 |\n| Dehejia-Wahba Sample | 1 | 27 | 10 | 1 | 0 | 1 | 1 | 0 | 0 | 18739.9297 |\n| Dehejia-Wahba Sample | 1 | 17 |  7 | 1 | 0 | 0 | 1 | 0 | 0 |  3023.8789 |\n| Dehejia-Wahba Sample | 1 | 19 | 10 | 1 | 0 | 0 | 1 | 0 | 0 |  3228.5029 |\n| Dehejia-Wahba Sample | 1 | 27 | 13 | 1 | 0 | 0 | 0 | 0 | 0 | 14581.8604 |\n| Dehejia-Wahba Sample | 1 | 23 | 10 | 1 | 0 | 0 | 1 | 0 | 0 |  7693.3999 |\n| Dehejia-Wahba Sample | 1 | 40 | 12 | 1 | 0 | 0 | 0 | 0 | 0 | 10804.3203 |\n| Dehejia-Wahba Sample | 1 | 26 | 12 | 1 | 0 | 0 | 0 | 0 | 0 | 10747.3496 |\n| Dehejia-Wahba Sample | 1 | 23 | 11 | 1 | 0 | 0 | 1 | 0 | 0 |     0.0000 |\n| Dehejia-Wahba Sample | 1 | 41 | 14 | 0 | 0 | 0 | 0 | 0 | 0 |  5149.5010 |\n| Dehejia-Wahba Sample | 1 | 38 |  9 | 0 | 0 | 0 | 1 | 0 | 0 |  6408.9502 |\n| Dehejia-Wahba Sample | 1 | 24 | 11 | 1 | 0 | 0 | 1 | 0 | 0 |  1991.4000 |\n| Dehejia-Wahba Sample | 1 | 18 | 10 | 1 | 0 | 0 | 1 | 0 | 0 | 11163.1699 |\n| Dehejia-Wahba Sample | 1 | 29 | 11 | 1 | 0 | 1 | 1 | 0 | 0 |  9642.9990 |\n| Dehejia-Wahba Sample | 1 | 25 | 11 | 1 | 0 | 0 | 1 | 0 | 0 |  9897.0488 |\n| Dehejia-Wahba Sample | 1 | 27 | 10 | 0 | 1 | 0 | 1 | 0 | 0 | 11142.8701 |\n| Dehejia-Wahba Sample | 1 | 17 | 10 | 1 | 0 | 0 | 1 | 0 | 0 | 16218.0400 |\n| Dehejia-Wahba Sample | 1 | 24 | 11 | 1 | 0 | 0 | 1 | 0 | 0 |   995.7002 |\n| ⋮ | ⋮ | ⋮ | ⋮ | ⋮ | ⋮ | ⋮ | ⋮ | ⋮ | ⋮ | ⋮ |\n| Dehejia-Wahba Sample | 0 | 17 | 11 | 1 | 0 | 0 | 1 |  4080.7300 |  3796.029 |     0.0000 |\n| Dehejia-Wahba Sample | 0 | 43 | 10 | 1 | 0 | 0 | 1 |  2502.8679 |  4128.443 |  7565.2729 |\n| Dehejia-Wahba Sample | 0 | 26 | 11 | 1 | 0 | 1 | 1 |     0.0000 |  4184.732 |     0.0000 |\n| Dehejia-Wahba Sample | 0 | 27 | 11 | 1 | 0 | 1 | 1 |     0.0000 |  4491.884 |     0.0000 |\n| Dehejia-Wahba Sample | 0 | 19 | 11 | 1 | 0 | 0 | 1 |  6337.4922 |  4503.064 |     0.0000 |\n| Dehejia-Wahba Sample | 0 | 28 | 11 | 1 | 0 | 1 | 1 |  8593.1631 |  5393.895 |  4974.5859 |\n| Dehejia-Wahba Sample | 0 | 28 | 12 | 1 | 0 | 1 | 0 | 10585.1299 |  5551.456 | 12780.0195 |\n| Dehejia-Wahba Sample | 0 | 26 |  8 | 1 | 0 | 0 | 1 |  1126.2900 |  5562.598 |  3523.5779 |\n| Dehejia-Wahba Sample | 0 | 31 | 12 | 1 | 0 | 0 | 0 |     0.0000 |  5613.909 |     0.0000 |\n| Dehejia-Wahba Sample | 0 | 23 | 11 | 1 | 0 | 0 | 1 |  7617.3618 |  5716.407 | 10274.8398 |\n| Dehejia-Wahba Sample | 0 | 20 | 12 | 1 | 0 | 0 | 0 |  7182.4922 |  6004.728 |  4779.7202 |\n| Dehejia-Wahba Sample | 0 | 28 | 10 | 1 | 0 | 1 | 1 |  8293.3447 |  6449.480 | 16988.1797 |\n| Dehejia-Wahba Sample | 0 | 39 | 12 | 1 | 0 | 1 | 0 | 19785.3203 |  6608.137 |   499.2572 |\n| Dehejia-Wahba Sample | 0 | 21 |  8 | 1 | 0 | 0 | 1 | 39570.6797 |  6608.304 |  3083.5811 |\n| Dehejia-Wahba Sample | 0 | 22 | 11 | 1 | 0 | 0 | 1 |  8810.0674 |  6974.484 |  3708.7190 |\n| Dehejia-Wahba Sample | 0 | 20 | 11 | 1 | 0 | 0 | 1 |  8009.1641 |  7666.875 |  7659.2178 |\n| Dehejia-Wahba Sample | 0 | 21 | 11 | 0 | 1 | 0 | 1 |  2992.5339 |  8920.471 | 20857.8398 |\n| Dehejia-Wahba Sample | 0 | 23 | 12 | 0 | 1 | 0 | 0 |  5721.6958 |  8960.684 |  7078.1782 |\n| Dehejia-Wahba Sample | 0 | 29 |  9 | 1 | 0 | 0 | 1 |  9268.9434 |  9160.693 |     0.0000 |\n| Dehejia-Wahba Sample | 0 | 28 |  9 | 1 | 0 | 1 | 1 | 10222.4102 |  9210.447 |  1239.8440 |\n| Dehejia-Wahba Sample | 0 | 30 | 11 | 1 | 0 | 1 | 1 |     0.0000 |  9311.938 |  3982.8010 |\n| Dehejia-Wahba Sample | 0 | 25 | 10 | 1 | 0 | 1 | 1 | 13519.9697 |  9319.444 |     0.0000 |\n| Dehejia-Wahba Sample | 0 | 28 | 11 | 1 | 0 | 1 | 1 |   824.3889 | 10033.910 |     0.0000 |\n| Dehejia-Wahba Sample | 0 | 22 | 10 | 0 | 0 | 0 | 1 | 27864.3594 | 10598.670 |  7094.9199 |\n| Dehejia-Wahba Sample | 0 | 44 |  9 | 1 | 0 | 1 | 1 | 12260.7803 | 10857.240 | 12359.3096 |\n| Dehejia-Wahba Sample | 0 | 21 |  9 | 1 | 0 | 0 | 1 | 31886.4297 | 12357.220 |     0.0000 |\n| Dehejia-Wahba Sample | 0 | 28 | 11 | 1 | 0 | 0 | 1 | 17491.4492 | 13371.250 |     0.0000 |\n| Dehejia-Wahba Sample | 0 | 29 |  9 | 0 | 1 | 0 | 1 |  9594.3076 | 16341.160 | 16900.3008 |\n| Dehejia-Wahba Sample | 0 | 25 |  9 | 1 | 0 | 1 | 1 | 24731.6191 | 16946.631 |  7343.9639 |\n| Dehejia-Wahba Sample | 0 | 22 | 10 | 0 | 0 | 1 | 1 | 25720.9199 | 23031.980 |  5448.8008 |\n\n",
            "text/latex": "A tibble: 445 × 11\n\\begin{tabular}{lllllllllll}\n data\\_id & treat & age & educ & black & hisp & marr & nodegree & re74 & re75 & re78\\\\\n <chr> & <dbl> & <dbl> & <dbl> & <dbl> & <dbl> & <dbl> & <dbl> & <dbl> & <dbl> & <dbl>\\\\\n\\hline\n\t Dehejia-Wahba Sample & 1 & 37 & 11 & 1 & 0 & 1 & 1 & 0 & 0 &  9930.0459\\\\\n\t Dehejia-Wahba Sample & 1 & 22 &  9 & 0 & 1 & 0 & 1 & 0 & 0 &  3595.8940\\\\\n\t Dehejia-Wahba Sample & 1 & 30 & 12 & 1 & 0 & 0 & 0 & 0 & 0 & 24909.4492\\\\\n\t Dehejia-Wahba Sample & 1 & 27 & 11 & 1 & 0 & 0 & 1 & 0 & 0 &  7506.1460\\\\\n\t Dehejia-Wahba Sample & 1 & 33 &  8 & 1 & 0 & 0 & 1 & 0 & 0 &   289.7899\\\\\n\t Dehejia-Wahba Sample & 1 & 22 &  9 & 1 & 0 & 0 & 1 & 0 & 0 &  4056.4939\\\\\n\t Dehejia-Wahba Sample & 1 & 23 & 12 & 1 & 0 & 0 & 0 & 0 & 0 &     0.0000\\\\\n\t Dehejia-Wahba Sample & 1 & 32 & 11 & 1 & 0 & 0 & 1 & 0 & 0 &  8472.1582\\\\\n\t Dehejia-Wahba Sample & 1 & 22 & 16 & 1 & 0 & 0 & 0 & 0 & 0 &  2164.0220\\\\\n\t Dehejia-Wahba Sample & 1 & 33 & 12 & 0 & 0 & 1 & 0 & 0 & 0 & 12418.0703\\\\\n\t Dehejia-Wahba Sample & 1 & 19 &  9 & 1 & 0 & 0 & 1 & 0 & 0 &  8173.9082\\\\\n\t Dehejia-Wahba Sample & 1 & 21 & 13 & 1 & 0 & 0 & 0 & 0 & 0 & 17094.6406\\\\\n\t Dehejia-Wahba Sample & 1 & 18 &  8 & 1 & 0 & 0 & 1 & 0 & 0 &     0.0000\\\\\n\t Dehejia-Wahba Sample & 1 & 27 & 10 & 1 & 0 & 1 & 1 & 0 & 0 & 18739.9297\\\\\n\t Dehejia-Wahba Sample & 1 & 17 &  7 & 1 & 0 & 0 & 1 & 0 & 0 &  3023.8789\\\\\n\t Dehejia-Wahba Sample & 1 & 19 & 10 & 1 & 0 & 0 & 1 & 0 & 0 &  3228.5029\\\\\n\t Dehejia-Wahba Sample & 1 & 27 & 13 & 1 & 0 & 0 & 0 & 0 & 0 & 14581.8604\\\\\n\t Dehejia-Wahba Sample & 1 & 23 & 10 & 1 & 0 & 0 & 1 & 0 & 0 &  7693.3999\\\\\n\t Dehejia-Wahba Sample & 1 & 40 & 12 & 1 & 0 & 0 & 0 & 0 & 0 & 10804.3203\\\\\n\t Dehejia-Wahba Sample & 1 & 26 & 12 & 1 & 0 & 0 & 0 & 0 & 0 & 10747.3496\\\\\n\t Dehejia-Wahba Sample & 1 & 23 & 11 & 1 & 0 & 0 & 1 & 0 & 0 &     0.0000\\\\\n\t Dehejia-Wahba Sample & 1 & 41 & 14 & 0 & 0 & 0 & 0 & 0 & 0 &  5149.5010\\\\\n\t Dehejia-Wahba Sample & 1 & 38 &  9 & 0 & 0 & 0 & 1 & 0 & 0 &  6408.9502\\\\\n\t Dehejia-Wahba Sample & 1 & 24 & 11 & 1 & 0 & 0 & 1 & 0 & 0 &  1991.4000\\\\\n\t Dehejia-Wahba Sample & 1 & 18 & 10 & 1 & 0 & 0 & 1 & 0 & 0 & 11163.1699\\\\\n\t Dehejia-Wahba Sample & 1 & 29 & 11 & 1 & 0 & 1 & 1 & 0 & 0 &  9642.9990\\\\\n\t Dehejia-Wahba Sample & 1 & 25 & 11 & 1 & 0 & 0 & 1 & 0 & 0 &  9897.0488\\\\\n\t Dehejia-Wahba Sample & 1 & 27 & 10 & 0 & 1 & 0 & 1 & 0 & 0 & 11142.8701\\\\\n\t Dehejia-Wahba Sample & 1 & 17 & 10 & 1 & 0 & 0 & 1 & 0 & 0 & 16218.0400\\\\\n\t Dehejia-Wahba Sample & 1 & 24 & 11 & 1 & 0 & 0 & 1 & 0 & 0 &   995.7002\\\\\n\t ⋮ & ⋮ & ⋮ & ⋮ & ⋮ & ⋮ & ⋮ & ⋮ & ⋮ & ⋮ & ⋮\\\\\n\t Dehejia-Wahba Sample & 0 & 17 & 11 & 1 & 0 & 0 & 1 &  4080.7300 &  3796.029 &     0.0000\\\\\n\t Dehejia-Wahba Sample & 0 & 43 & 10 & 1 & 0 & 0 & 1 &  2502.8679 &  4128.443 &  7565.2729\\\\\n\t Dehejia-Wahba Sample & 0 & 26 & 11 & 1 & 0 & 1 & 1 &     0.0000 &  4184.732 &     0.0000\\\\\n\t Dehejia-Wahba Sample & 0 & 27 & 11 & 1 & 0 & 1 & 1 &     0.0000 &  4491.884 &     0.0000\\\\\n\t Dehejia-Wahba Sample & 0 & 19 & 11 & 1 & 0 & 0 & 1 &  6337.4922 &  4503.064 &     0.0000\\\\\n\t Dehejia-Wahba Sample & 0 & 28 & 11 & 1 & 0 & 1 & 1 &  8593.1631 &  5393.895 &  4974.5859\\\\\n\t Dehejia-Wahba Sample & 0 & 28 & 12 & 1 & 0 & 1 & 0 & 10585.1299 &  5551.456 & 12780.0195\\\\\n\t Dehejia-Wahba Sample & 0 & 26 &  8 & 1 & 0 & 0 & 1 &  1126.2900 &  5562.598 &  3523.5779\\\\\n\t Dehejia-Wahba Sample & 0 & 31 & 12 & 1 & 0 & 0 & 0 &     0.0000 &  5613.909 &     0.0000\\\\\n\t Dehejia-Wahba Sample & 0 & 23 & 11 & 1 & 0 & 0 & 1 &  7617.3618 &  5716.407 & 10274.8398\\\\\n\t Dehejia-Wahba Sample & 0 & 20 & 12 & 1 & 0 & 0 & 0 &  7182.4922 &  6004.728 &  4779.7202\\\\\n\t Dehejia-Wahba Sample & 0 & 28 & 10 & 1 & 0 & 1 & 1 &  8293.3447 &  6449.480 & 16988.1797\\\\\n\t Dehejia-Wahba Sample & 0 & 39 & 12 & 1 & 0 & 1 & 0 & 19785.3203 &  6608.137 &   499.2572\\\\\n\t Dehejia-Wahba Sample & 0 & 21 &  8 & 1 & 0 & 0 & 1 & 39570.6797 &  6608.304 &  3083.5811\\\\\n\t Dehejia-Wahba Sample & 0 & 22 & 11 & 1 & 0 & 0 & 1 &  8810.0674 &  6974.484 &  3708.7190\\\\\n\t Dehejia-Wahba Sample & 0 & 20 & 11 & 1 & 0 & 0 & 1 &  8009.1641 &  7666.875 &  7659.2178\\\\\n\t Dehejia-Wahba Sample & 0 & 21 & 11 & 0 & 1 & 0 & 1 &  2992.5339 &  8920.471 & 20857.8398\\\\\n\t Dehejia-Wahba Sample & 0 & 23 & 12 & 0 & 1 & 0 & 0 &  5721.6958 &  8960.684 &  7078.1782\\\\\n\t Dehejia-Wahba Sample & 0 & 29 &  9 & 1 & 0 & 0 & 1 &  9268.9434 &  9160.693 &     0.0000\\\\\n\t Dehejia-Wahba Sample & 0 & 28 &  9 & 1 & 0 & 1 & 1 & 10222.4102 &  9210.447 &  1239.8440\\\\\n\t Dehejia-Wahba Sample & 0 & 30 & 11 & 1 & 0 & 1 & 1 &     0.0000 &  9311.938 &  3982.8010\\\\\n\t Dehejia-Wahba Sample & 0 & 25 & 10 & 1 & 0 & 1 & 1 & 13519.9697 &  9319.444 &     0.0000\\\\\n\t Dehejia-Wahba Sample & 0 & 28 & 11 & 1 & 0 & 1 & 1 &   824.3889 & 10033.910 &     0.0000\\\\\n\t Dehejia-Wahba Sample & 0 & 22 & 10 & 0 & 0 & 0 & 1 & 27864.3594 & 10598.670 &  7094.9199\\\\\n\t Dehejia-Wahba Sample & 0 & 44 &  9 & 1 & 0 & 1 & 1 & 12260.7803 & 10857.240 & 12359.3096\\\\\n\t Dehejia-Wahba Sample & 0 & 21 &  9 & 1 & 0 & 0 & 1 & 31886.4297 & 12357.220 &     0.0000\\\\\n\t Dehejia-Wahba Sample & 0 & 28 & 11 & 1 & 0 & 0 & 1 & 17491.4492 & 13371.250 &     0.0000\\\\\n\t Dehejia-Wahba Sample & 0 & 29 &  9 & 0 & 1 & 0 & 1 &  9594.3076 & 16341.160 & 16900.3008\\\\\n\t Dehejia-Wahba Sample & 0 & 25 &  9 & 1 & 0 & 1 & 1 & 24731.6191 & 16946.631 &  7343.9639\\\\\n\t Dehejia-Wahba Sample & 0 & 22 & 10 & 0 & 0 & 1 & 1 & 25720.9199 & 23031.980 &  5448.8008\\\\\n\\end{tabular}\n",
            "text/plain": [
              "    data_id              treat age educ black hisp marr nodegree re74      \n",
              "1   Dehejia-Wahba Sample 1     37  11   1     0    1    1        0         \n",
              "2   Dehejia-Wahba Sample 1     22   9   0     1    0    1        0         \n",
              "3   Dehejia-Wahba Sample 1     30  12   1     0    0    0        0         \n",
              "4   Dehejia-Wahba Sample 1     27  11   1     0    0    1        0         \n",
              "5   Dehejia-Wahba Sample 1     33   8   1     0    0    1        0         \n",
              "6   Dehejia-Wahba Sample 1     22   9   1     0    0    1        0         \n",
              "7   Dehejia-Wahba Sample 1     23  12   1     0    0    0        0         \n",
              "8   Dehejia-Wahba Sample 1     32  11   1     0    0    1        0         \n",
              "9   Dehejia-Wahba Sample 1     22  16   1     0    0    0        0         \n",
              "10  Dehejia-Wahba Sample 1     33  12   0     0    1    0        0         \n",
              "11  Dehejia-Wahba Sample 1     19   9   1     0    0    1        0         \n",
              "12  Dehejia-Wahba Sample 1     21  13   1     0    0    0        0         \n",
              "13  Dehejia-Wahba Sample 1     18   8   1     0    0    1        0         \n",
              "14  Dehejia-Wahba Sample 1     27  10   1     0    1    1        0         \n",
              "15  Dehejia-Wahba Sample 1     17   7   1     0    0    1        0         \n",
              "16  Dehejia-Wahba Sample 1     19  10   1     0    0    1        0         \n",
              "17  Dehejia-Wahba Sample 1     27  13   1     0    0    0        0         \n",
              "18  Dehejia-Wahba Sample 1     23  10   1     0    0    1        0         \n",
              "19  Dehejia-Wahba Sample 1     40  12   1     0    0    0        0         \n",
              "20  Dehejia-Wahba Sample 1     26  12   1     0    0    0        0         \n",
              "21  Dehejia-Wahba Sample 1     23  11   1     0    0    1        0         \n",
              "22  Dehejia-Wahba Sample 1     41  14   0     0    0    0        0         \n",
              "23  Dehejia-Wahba Sample 1     38   9   0     0    0    1        0         \n",
              "24  Dehejia-Wahba Sample 1     24  11   1     0    0    1        0         \n",
              "25  Dehejia-Wahba Sample 1     18  10   1     0    0    1        0         \n",
              "26  Dehejia-Wahba Sample 1     29  11   1     0    1    1        0         \n",
              "27  Dehejia-Wahba Sample 1     25  11   1     0    0    1        0         \n",
              "28  Dehejia-Wahba Sample 1     27  10   0     1    0    1        0         \n",
              "29  Dehejia-Wahba Sample 1     17  10   1     0    0    1        0         \n",
              "30  Dehejia-Wahba Sample 1     24  11   1     0    0    1        0         \n",
              "⋮   ⋮                    ⋮     ⋮   ⋮    ⋮     ⋮    ⋮    ⋮        ⋮         \n",
              "416 Dehejia-Wahba Sample 0     17  11   1     0    0    1         4080.7300\n",
              "417 Dehejia-Wahba Sample 0     43  10   1     0    0    1         2502.8679\n",
              "418 Dehejia-Wahba Sample 0     26  11   1     0    1    1            0.0000\n",
              "419 Dehejia-Wahba Sample 0     27  11   1     0    1    1            0.0000\n",
              "420 Dehejia-Wahba Sample 0     19  11   1     0    0    1         6337.4922\n",
              "421 Dehejia-Wahba Sample 0     28  11   1     0    1    1         8593.1631\n",
              "422 Dehejia-Wahba Sample 0     28  12   1     0    1    0        10585.1299\n",
              "423 Dehejia-Wahba Sample 0     26   8   1     0    0    1         1126.2900\n",
              "424 Dehejia-Wahba Sample 0     31  12   1     0    0    0            0.0000\n",
              "425 Dehejia-Wahba Sample 0     23  11   1     0    0    1         7617.3618\n",
              "426 Dehejia-Wahba Sample 0     20  12   1     0    0    0         7182.4922\n",
              "427 Dehejia-Wahba Sample 0     28  10   1     0    1    1         8293.3447\n",
              "428 Dehejia-Wahba Sample 0     39  12   1     0    1    0        19785.3203\n",
              "429 Dehejia-Wahba Sample 0     21   8   1     0    0    1        39570.6797\n",
              "430 Dehejia-Wahba Sample 0     22  11   1     0    0    1         8810.0674\n",
              "431 Dehejia-Wahba Sample 0     20  11   1     0    0    1         8009.1641\n",
              "432 Dehejia-Wahba Sample 0     21  11   0     1    0    1         2992.5339\n",
              "433 Dehejia-Wahba Sample 0     23  12   0     1    0    0         5721.6958\n",
              "434 Dehejia-Wahba Sample 0     29   9   1     0    0    1         9268.9434\n",
              "435 Dehejia-Wahba Sample 0     28   9   1     0    1    1        10222.4102\n",
              "436 Dehejia-Wahba Sample 0     30  11   1     0    1    1            0.0000\n",
              "437 Dehejia-Wahba Sample 0     25  10   1     0    1    1        13519.9697\n",
              "438 Dehejia-Wahba Sample 0     28  11   1     0    1    1          824.3889\n",
              "439 Dehejia-Wahba Sample 0     22  10   0     0    0    1        27864.3594\n",
              "440 Dehejia-Wahba Sample 0     44   9   1     0    1    1        12260.7803\n",
              "441 Dehejia-Wahba Sample 0     21   9   1     0    0    1        31886.4297\n",
              "442 Dehejia-Wahba Sample 0     28  11   1     0    0    1        17491.4492\n",
              "443 Dehejia-Wahba Sample 0     29   9   0     1    0    1         9594.3076\n",
              "444 Dehejia-Wahba Sample 0     25   9   1     0    1    1        24731.6191\n",
              "445 Dehejia-Wahba Sample 0     22  10   0     0    1    1        25720.9199\n",
              "    re75      re78      \n",
              "1   0          9930.0459\n",
              "2   0          3595.8940\n",
              "3   0         24909.4492\n",
              "4   0          7506.1460\n",
              "5   0           289.7899\n",
              "6   0          4056.4939\n",
              "7   0             0.0000\n",
              "8   0          8472.1582\n",
              "9   0          2164.0220\n",
              "10  0         12418.0703\n",
              "11  0          8173.9082\n",
              "12  0         17094.6406\n",
              "13  0             0.0000\n",
              "14  0         18739.9297\n",
              "15  0          3023.8789\n",
              "16  0          3228.5029\n",
              "17  0         14581.8604\n",
              "18  0          7693.3999\n",
              "19  0         10804.3203\n",
              "20  0         10747.3496\n",
              "21  0             0.0000\n",
              "22  0          5149.5010\n",
              "23  0          6408.9502\n",
              "24  0          1991.4000\n",
              "25  0         11163.1699\n",
              "26  0          9642.9990\n",
              "27  0          9897.0488\n",
              "28  0         11142.8701\n",
              "29  0         16218.0400\n",
              "30  0           995.7002\n",
              "⋮   ⋮         ⋮         \n",
              "416  3796.029     0.0000\n",
              "417  4128.443  7565.2729\n",
              "418  4184.732     0.0000\n",
              "419  4491.884     0.0000\n",
              "420  4503.064     0.0000\n",
              "421  5393.895  4974.5859\n",
              "422  5551.456 12780.0195\n",
              "423  5562.598  3523.5779\n",
              "424  5613.909     0.0000\n",
              "425  5716.407 10274.8398\n",
              "426  6004.728  4779.7202\n",
              "427  6449.480 16988.1797\n",
              "428  6608.137   499.2572\n",
              "429  6608.304  3083.5811\n",
              "430  6974.484  3708.7190\n",
              "431  7666.875  7659.2178\n",
              "432  8920.471 20857.8398\n",
              "433  8960.684  7078.1782\n",
              "434  9160.693     0.0000\n",
              "435  9210.447  1239.8440\n",
              "436  9311.938  3982.8010\n",
              "437  9319.444     0.0000\n",
              "438 10033.910     0.0000\n",
              "439 10598.670  7094.9199\n",
              "440 10857.240 12359.3096\n",
              "441 12357.220     0.0000\n",
              "442 13371.250     0.0000\n",
              "443 16341.160 16900.3008\n",
              "444 16946.631  7343.9639\n",
              "445 23031.980  5448.8008"
            ]
          },
          "metadata": {}
        },
        {
          "output_type": "display_data",
          "data": {
            "text/plain": [
              "   data_id              treat        age             educ      \n",
              " Length:185         Min.   :1   Min.   :17.00   Min.   : 4.00  \n",
              " Class :character   1st Qu.:1   1st Qu.:20.00   1st Qu.: 9.00  \n",
              " Mode  :character   Median :1   Median :25.00   Median :11.00  \n",
              "                    Mean   :1   Mean   :25.82   Mean   :10.35  \n",
              "                    3rd Qu.:1   3rd Qu.:29.00   3rd Qu.:12.00  \n",
              "                    Max.   :1   Max.   :48.00   Max.   :16.00  \n",
              "     black             hisp              marr           nodegree     \n",
              " Min.   :0.0000   Min.   :0.00000   Min.   :0.0000   Min.   :0.0000  \n",
              " 1st Qu.:1.0000   1st Qu.:0.00000   1st Qu.:0.0000   1st Qu.:0.0000  \n",
              " Median :1.0000   Median :0.00000   Median :0.0000   Median :1.0000  \n",
              " Mean   :0.8432   Mean   :0.05946   Mean   :0.1892   Mean   :0.7081  \n",
              " 3rd Qu.:1.0000   3rd Qu.:0.00000   3rd Qu.:0.0000   3rd Qu.:1.0000  \n",
              " Max.   :1.0000   Max.   :1.00000   Max.   :1.0000   Max.   :1.0000  \n",
              "      re74            re75            re78        \n",
              " Min.   :    0   Min.   :    0   Min.   :    0.0  \n",
              " 1st Qu.:    0   1st Qu.:    0   1st Qu.:  485.2  \n",
              " Median :    0   Median :    0   Median : 4232.3  \n",
              " Mean   : 2096   Mean   : 1532   Mean   : 6349.1  \n",
              " 3rd Qu.: 1291   3rd Qu.: 1817   3rd Qu.: 9643.0  \n",
              " Max.   :35040   Max.   :25142   Max.   :60307.9  "
            ]
          },
          "metadata": {}
        },
        {
          "output_type": "display_data",
          "data": {
            "text/html": [
              "6349.1435020653"
            ],
            "text/markdown": "6349.1435020653",
            "text/latex": "6349.1435020653",
            "text/plain": [
              "[1] 6349.144"
            ]
          },
          "metadata": {}
        },
        {
          "output_type": "display_data",
          "data": {
            "text/plain": [
              "   data_id              treat        age             educ      \n",
              " Length:260         Min.   :0   Min.   :17.00   Min.   : 3.00  \n",
              " Class :character   1st Qu.:0   1st Qu.:19.00   1st Qu.: 9.00  \n",
              " Mode  :character   Median :0   Median :24.00   Median :10.00  \n",
              "                    Mean   :0   Mean   :25.05   Mean   :10.09  \n",
              "                    3rd Qu.:0   3rd Qu.:28.00   3rd Qu.:11.00  \n",
              "                    Max.   :0   Max.   :55.00   Max.   :14.00  \n",
              "     black             hisp             marr           nodegree     \n",
              " Min.   :0.0000   Min.   :0.0000   Min.   :0.0000   Min.   :0.0000  \n",
              " 1st Qu.:1.0000   1st Qu.:0.0000   1st Qu.:0.0000   1st Qu.:1.0000  \n",
              " Median :1.0000   Median :0.0000   Median :0.0000   Median :1.0000  \n",
              " Mean   :0.8269   Mean   :0.1077   Mean   :0.1538   Mean   :0.8346  \n",
              " 3rd Qu.:1.0000   3rd Qu.:0.0000   3rd Qu.:0.0000   3rd Qu.:1.0000  \n",
              " Max.   :1.0000   Max.   :1.0000   Max.   :1.0000   Max.   :1.0000  \n",
              "      re74              re75              re78             y1      \n",
              " Min.   :    0.0   Min.   :    0.0   Min.   :    0   Min.   :6349  \n",
              " 1st Qu.:    0.0   1st Qu.:    0.0   1st Qu.:    0   1st Qu.:6349  \n",
              " Median :    0.0   Median :    0.0   Median : 3139   Median :6349  \n",
              " Mean   : 2107.0   Mean   : 1266.9   Mean   : 4555   Mean   :6349  \n",
              " 3rd Qu.:  139.4   3rd Qu.:  650.1   3rd Qu.: 7288   3rd Qu.:6349  \n",
              " Max.   :39570.7   Max.   :23032.0   Max.   :39484   Max.   :6349  "
            ]
          },
          "metadata": {}
        },
        {
          "output_type": "display_data",
          "data": {
            "text/html": [
              "4554.8011202152"
            ],
            "text/markdown": "4554.8011202152",
            "text/latex": "4554.8011202152",
            "text/plain": [
              "[1] 4554.801"
            ]
          },
          "metadata": {}
        },
        {
          "output_type": "display_data",
          "data": {
            "text/html": [
              "1794.3423818501"
            ],
            "text/markdown": "1794.3423818501",
            "text/latex": "1794.3423818501",
            "text/plain": [
              "[1] 1794.342"
            ]
          },
          "metadata": {}
        }
      ]
    },
    {
      "cell_type": "code",
      "source": [
        "## NSW Propensity Score Weighting\n",
        "\n",
        "library(tidyverse)\n",
        "library(haven)\n",
        "\n",
        "read_data <- function(df)\n",
        "{\n",
        "  full_path <- paste(\"https://github.com/scunning1975/mixtape/raw/master/\", \n",
        "                     df, sep = \"\")\n",
        "  df <- read_dta(full_path)\n",
        "  return(df)\n",
        "}\n",
        "\n",
        "nsw_dw_cpscontrol <- read_data(\"cps_mixtape.dta\") %>% \n",
        "  bind_rows(nsw_dw) %>% \n",
        "  mutate(agesq = age^2,\n",
        "         agecube = age^3,\n",
        "         educsq = educ*educ,\n",
        "         u74 = case_when(re74 == 0 ~ 1, TRUE ~ 0),\n",
        "         u75 = case_when(re75 == 0 ~ 1, TRUE ~ 0),\n",
        "         interaction1 = educ*re74,\n",
        "         re74sq = re74^2,\n",
        "         re75sq = re75^2,\n",
        "         interaction2 = u74*hisp)\n",
        "\n",
        "nsw_dw_cpscontrol\n",
        "\n",
        "# estimating\n",
        "logit_nsw <- glm(treat ~ age + agesq + agecube + educ + educsq + \n",
        "                   marr + nodegree + black + hisp + re74 + re75 + u74 +\n",
        "                   u75 + interaction1, family = binomial(link = \"logit\"), \n",
        "                 data = nsw_dw_cpscontrol)\n",
        "\n",
        "nsw_dw_cpscontrol <- nsw_dw_cpscontrol %>% \n",
        "  mutate(pscore = logit_nsw$fitted.values)\n",
        "\n",
        "# mean pscore \n",
        "pscore_control <- nsw_dw_cpscontrol %>% \n",
        "  filter(treat == 0) %>% \n",
        "  pull(pscore) %>% \n",
        "  mean()\n",
        "\n",
        "pscore_treated <- nsw_dw_cpscontrol %>% \n",
        "  filter(treat == 1) %>% \n",
        "  pull(pscore) %>% \n",
        "  mean()\n",
        "\n",
        "# histogram\n",
        "nsw_dw_cpscontrol %>% \n",
        "  filter(treat == 0) %>% \n",
        "  ggplot() +\n",
        "  geom_histogram(aes(x = pscore))\n",
        "\n",
        "nsw_dw_cpscontrol %>% \n",
        "  filter(treat == 1) %>% \n",
        "  ggplot() +\n",
        "  geom_histogram(aes(x = pscore))"
      ],
      "metadata": {
        "colab": {
          "base_uri": "https://localhost:8080/",
          "height": 1000
        },
        "id": "7IOpt3Jy-Mh4",
        "outputId": "3a8cc466-b540-4245-d1e4-b660db25a706"
      },
      "execution_count": null,
      "outputs": [
        {
          "output_type": "display_data",
          "data": {
            "text/html": [
              "<table class=\"dataframe\">\n",
              "<caption>A tibble: 16177 × 20</caption>\n",
              "<thead>\n",
              "\t<tr><th scope=col>data_id</th><th scope=col>treat</th><th scope=col>age</th><th scope=col>educ</th><th scope=col>black</th><th scope=col>hisp</th><th scope=col>marr</th><th scope=col>nodegree</th><th scope=col>re74</th><th scope=col>re75</th><th scope=col>re78</th><th scope=col>agesq</th><th scope=col>agecube</th><th scope=col>educsq</th><th scope=col>u74</th><th scope=col>u75</th><th scope=col>interaction1</th><th scope=col>re74sq</th><th scope=col>re75sq</th><th scope=col>interaction2</th></tr>\n",
              "\t<tr><th scope=col>&lt;chr&gt;</th><th scope=col>&lt;dbl&gt;</th><th scope=col>&lt;dbl&gt;</th><th scope=col>&lt;dbl&gt;</th><th scope=col>&lt;dbl&gt;</th><th scope=col>&lt;dbl&gt;</th><th scope=col>&lt;dbl&gt;</th><th scope=col>&lt;dbl&gt;</th><th scope=col>&lt;dbl&gt;</th><th scope=col>&lt;dbl&gt;</th><th scope=col>&lt;dbl&gt;</th><th scope=col>&lt;dbl&gt;</th><th scope=col>&lt;dbl&gt;</th><th scope=col>&lt;dbl&gt;</th><th scope=col>&lt;dbl&gt;</th><th scope=col>&lt;dbl&gt;</th><th scope=col>&lt;dbl&gt;</th><th scope=col>&lt;dbl&gt;</th><th scope=col>&lt;dbl&gt;</th><th scope=col>&lt;dbl&gt;</th></tr>\n",
              "</thead>\n",
              "<tbody>\n",
              "\t<tr><td>CPS1</td><td>0</td><td>45</td><td>11</td><td>0</td><td>0</td><td>1</td><td>1</td><td>21516.6699</td><td>25243.551</td><td>25564.670</td><td>2025</td><td> 91125</td><td>121</td><td>0</td><td>0</td><td>236683.369</td><td>462967084.5</td><td>637236856</td><td>0</td></tr>\n",
              "\t<tr><td>CPS1</td><td>0</td><td>21</td><td>14</td><td>0</td><td>0</td><td>0</td><td>0</td><td> 3175.9709</td><td> 5852.565</td><td>13496.080</td><td> 441</td><td>  9261</td><td>196</td><td>0</td><td>0</td><td> 44463.593</td><td> 10086791.5</td><td> 34252516</td><td>0</td></tr>\n",
              "\t<tr><td>CPS1</td><td>0</td><td>38</td><td>12</td><td>0</td><td>0</td><td>1</td><td>0</td><td>23039.0195</td><td>25130.760</td><td>25564.670</td><td>1444</td><td> 54872</td><td>144</td><td>0</td><td>0</td><td>276468.234</td><td>530796421.0</td><td>631555086</td><td>0</td></tr>\n",
              "\t<tr><td>CPS1</td><td>0</td><td>48</td><td> 6</td><td>0</td><td>0</td><td>1</td><td>1</td><td>24994.3691</td><td>25243.551</td><td>25564.670</td><td>2304</td><td>110592</td><td> 36</td><td>0</td><td>0</td><td>149966.215</td><td>624718488.7</td><td>637236856</td><td>0</td></tr>\n",
              "\t<tr><td>CPS1</td><td>0</td><td>18</td><td> 8</td><td>0</td><td>0</td><td>1</td><td>1</td><td> 1669.2950</td><td>10727.610</td><td> 9860.869</td><td> 324</td><td>  5832</td><td> 64</td><td>0</td><td>0</td><td> 13354.360</td><td>  2786545.9</td><td>115081624</td><td>0</td></tr>\n",
              "\t<tr><td>CPS1</td><td>0</td><td>22</td><td>11</td><td>0</td><td>0</td><td>1</td><td>1</td><td>16365.7598</td><td>18449.270</td><td>25564.670</td><td> 484</td><td> 10648</td><td>121</td><td>0</td><td>0</td><td>180023.357</td><td>267838092.7</td><td>340375546</td><td>0</td></tr>\n",
              "\t<tr><td>CPS1</td><td>0</td><td>48</td><td>10</td><td>0</td><td>0</td><td>1</td><td>1</td><td>16804.6309</td><td>16354.600</td><td>18059.301</td><td>2304</td><td>110592</td><td>100</td><td>0</td><td>0</td><td>168046.309</td><td>282395618.3</td><td>267472928</td><td>0</td></tr>\n",
              "\t<tr><td>CPS1</td><td>0</td><td>18</td><td>11</td><td>0</td><td>0</td><td>0</td><td>1</td><td> 1144.2120</td><td> 3620.032</td><td>15739.270</td><td> 324</td><td>  5832</td><td>121</td><td>0</td><td>0</td><td> 12586.332</td><td>  1309221.2</td><td> 13104632</td><td>0</td></tr>\n",
              "\t<tr><td>CPS1</td><td>0</td><td>48</td><td> 9</td><td>0</td><td>0</td><td>1</td><td>1</td><td>25862.3203</td><td>25243.551</td><td>25564.670</td><td>2304</td><td>110592</td><td> 81</td><td>0</td><td>0</td><td>232760.883</td><td>668859611.9</td><td>637236856</td><td>0</td></tr>\n",
              "\t<tr><td>CPS1</td><td>0</td><td>45</td><td>12</td><td>0</td><td>0</td><td>1</td><td>0</td><td>25862.3203</td><td>    0.000</td><td> 3924.842</td><td>2025</td><td> 91125</td><td>144</td><td>0</td><td>1</td><td>310347.844</td><td>668859611.9</td><td>        0</td><td>0</td></tr>\n",
              "\t<tr><td>CPS1</td><td>0</td><td>34</td><td>14</td><td>0</td><td>0</td><td>1</td><td>0</td><td>25862.3203</td><td>23746.840</td><td>25564.670</td><td>1156</td><td> 39304</td><td>196</td><td>0</td><td>0</td><td>362072.484</td><td>668859611.9</td><td>563912403</td><td>0</td></tr>\n",
              "\t<tr><td>CPS1</td><td>0</td><td>16</td><td>10</td><td>0</td><td>0</td><td>0</td><td>1</td><td> 1026.6560</td><td> 1224.581</td><td> 6847.785</td><td> 256</td><td>  4096</td><td>100</td><td>0</td><td>0</td><td> 10266.560</td><td>  1054022.6</td><td>  1499599</td><td>0</td></tr>\n",
              "\t<tr><td>CPS1</td><td>0</td><td>53</td><td>10</td><td>0</td><td>0</td><td>1</td><td>1</td><td>25862.3203</td><td>25243.551</td><td>25564.670</td><td>2809</td><td>148877</td><td>100</td><td>0</td><td>0</td><td>258623.203</td><td>668859611.9</td><td>637236856</td><td>0</td></tr>\n",
              "\t<tr><td>CPS1</td><td>0</td><td>19</td><td>12</td><td>0</td><td>0</td><td>0</td><td>0</td><td>  867.9552</td><td> 4386.290</td><td> 8777.696</td><td> 361</td><td>  6859</td><td>144</td><td>0</td><td>0</td><td> 10415.462</td><td>   753346.2</td><td> 19239540</td><td>0</td></tr>\n",
              "\t<tr><td>CPS1</td><td>0</td><td>27</td><td>12</td><td>0</td><td>0</td><td>1</td><td>0</td><td>25862.3203</td><td>19047.240</td><td>19214.881</td><td> 729</td><td> 19683</td><td>144</td><td>0</td><td>0</td><td>310347.844</td><td>668859611.9</td><td>362797361</td><td>0</td></tr>\n",
              "\t<tr><td>CPS1</td><td>0</td><td>32</td><td>10</td><td>0</td><td>0</td><td>1</td><td>1</td><td>20427.3203</td><td>23374.449</td><td> 9179.637</td><td>1024</td><td> 32768</td><td>100</td><td>0</td><td>0</td><td>204273.203</td><td>417275415.1</td><td>546364876</td><td>0</td></tr>\n",
              "\t<tr><td>CPS1</td><td>0</td><td>27</td><td>12</td><td>0</td><td>0</td><td>1</td><td>0</td><td>20983.7500</td><td>14822.080</td><td>25564.670</td><td> 729</td><td> 19683</td><td>144</td><td>0</td><td>0</td><td>251805.000</td><td>440317764.1</td><td>219694058</td><td>0</td></tr>\n",
              "\t<tr><td>CPS1</td><td>0</td><td>46</td><td> 7</td><td>0</td><td>0</td><td>1</td><td>1</td><td>19171.4297</td><td> 1317.677</td><td>    0.000</td><td>2116</td><td> 97336</td><td> 49</td><td>0</td><td>0</td><td>134200.008</td><td>367543716.3</td><td>  1736273</td><td>0</td></tr>\n",
              "\t<tr><td>CPS1</td><td>0</td><td>24</td><td>13</td><td>0</td><td>0</td><td>0</td><td>0</td><td>20830.9199</td><td>25243.551</td><td>23903.711</td><td> 576</td><td> 13824</td><td>169</td><td>0</td><td>0</td><td>270801.959</td><td>433927224.8</td><td>637236856</td><td>0</td></tr>\n",
              "\t<tr><td>CPS1</td><td>0</td><td>22</td><td>13</td><td>0</td><td>0</td><td>0</td><td>0</td><td>11036.5498</td><td>10351.650</td><td> 6556.673</td><td> 484</td><td> 10648</td><td>169</td><td>0</td><td>0</td><td>143475.147</td><td>121805431.6</td><td>107156666</td><td>0</td></tr>\n",
              "\t<tr><td>CPS1</td><td>0</td><td>49</td><td>10</td><td>0</td><td>0</td><td>1</td><td>1</td><td>  391.8534</td><td>    0.000</td><td>    0.000</td><td>2401</td><td>117649</td><td>100</td><td>0</td><td>1</td><td>  3918.534</td><td>   153549.1</td><td>        0</td><td>0</td></tr>\n",
              "\t<tr><td>CPS1</td><td>0</td><td>17</td><td>10</td><td>0</td><td>0</td><td>0</td><td>1</td><td>    0.0000</td><td>    0.000</td><td> 4755.324</td><td> 289</td><td>  4913</td><td>100</td><td>1</td><td>1</td><td>     0.000</td><td>        0.0</td><td>        0</td><td>0</td></tr>\n",
              "\t<tr><td>CPS1</td><td>0</td><td>29</td><td>14</td><td>0</td><td>0</td><td>1</td><td>0</td><td>21499.0293</td><td>22586.711</td><td>20923.131</td><td> 841</td><td> 24389</td><td>196</td><td>0</td><td>0</td><td>300986.410</td><td>462208260.7</td><td>510159511</td><td>0</td></tr>\n",
              "\t<tr><td>CPS1</td><td>0</td><td>28</td><td>16</td><td>0</td><td>0</td><td>1</td><td>0</td><td>16500.9492</td><td>    0.000</td><td>10267.240</td><td> 784</td><td> 21952</td><td>256</td><td>0</td><td>1</td><td>264015.188</td><td>272281325.1</td><td>        0</td><td>0</td></tr>\n",
              "\t<tr><td>CPS1</td><td>0</td><td>46</td><td>12</td><td>0</td><td>0</td><td>1</td><td>0</td><td>24814.1094</td><td>24967.840</td><td>19339.010</td><td>2116</td><td> 97336</td><td>144</td><td>0</td><td>0</td><td>297769.312</td><td>615740024.1</td><td>623393026</td><td>0</td></tr>\n",
              "\t<tr><td>CPS1</td><td>0</td><td>26</td><td>17</td><td>1</td><td>0</td><td>1</td><td>0</td><td>    0.0000</td><td>    0.000</td><td> 4753.846</td><td> 676</td><td> 17576</td><td>289</td><td>1</td><td>1</td><td>     0.000</td><td>        0.0</td><td>        0</td><td>0</td></tr>\n",
              "\t<tr><td>CPS1</td><td>0</td><td>49</td><td>12</td><td>0</td><td>0</td><td>0</td><td>0</td><td>25862.3203</td><td>25243.551</td><td>25564.670</td><td>2401</td><td>117649</td><td>144</td><td>0</td><td>0</td><td>310347.844</td><td>668859611.9</td><td>637236856</td><td>0</td></tr>\n",
              "\t<tr><td>CPS1</td><td>0</td><td>51</td><td>10</td><td>0</td><td>0</td><td>1</td><td>1</td><td>25862.3203</td><td>25243.551</td><td>25564.670</td><td>2601</td><td>132651</td><td>100</td><td>0</td><td>0</td><td>258623.203</td><td>668859611.9</td><td>637236856</td><td>0</td></tr>\n",
              "\t<tr><td>CPS1</td><td>0</td><td>51</td><td>10</td><td>0</td><td>0</td><td>1</td><td>1</td><td>22923.4199</td><td>21725.561</td><td>10348.520</td><td>2601</td><td>132651</td><td>100</td><td>0</td><td>0</td><td>229234.199</td><td>525483180.9</td><td>471999981</td><td>0</td></tr>\n",
              "\t<tr><td>CPS1</td><td>0</td><td>27</td><td>11</td><td>0</td><td>0</td><td>1</td><td>1</td><td>17022.1094</td><td>18123.439</td><td>18490.789</td><td> 729</td><td> 19683</td><td>121</td><td>0</td><td>0</td><td>187243.203</td><td>289752207.6</td><td>328459058</td><td>0</td></tr>\n",
              "\t<tr><td>⋮</td><td>⋮</td><td>⋮</td><td>⋮</td><td>⋮</td><td>⋮</td><td>⋮</td><td>⋮</td><td>⋮</td><td>⋮</td><td>⋮</td><td>⋮</td><td>⋮</td><td>⋮</td><td>⋮</td><td>⋮</td><td>⋮</td><td>⋮</td><td>⋮</td><td>⋮</td></tr>\n",
              "\t<tr><td>Dehejia-Wahba Sample</td><td>1</td><td>25</td><td>13</td><td>1</td><td>0</td><td>0</td><td>0</td><td>12362.9297</td><td> 3090.732</td><td>    0.0000</td><td> 625</td><td>15625</td><td>169</td><td>0</td><td>0</td><td>160718.086</td><td> 152842030.5</td><td>  9552624</td><td>0</td></tr>\n",
              "\t<tr><td>Dehejia-Wahba Sample</td><td>1</td><td>18</td><td> 9</td><td>1</td><td>0</td><td>0</td><td>1</td><td>    0.0000</td><td> 3287.375</td><td> 5010.3418</td><td> 324</td><td> 5832</td><td> 81</td><td>1</td><td>0</td><td>     0.000</td><td>         0.0</td><td> 10806834</td><td>0</td></tr>\n",
              "\t<tr><td>Dehejia-Wahba Sample</td><td>1</td><td>21</td><td>12</td><td>1</td><td>0</td><td>0</td><td>0</td><td> 6473.6831</td><td> 3332.409</td><td> 9371.0371</td><td> 441</td><td> 9261</td><td>144</td><td>0</td><td>0</td><td> 77684.197</td><td>  41908573.0</td><td> 11104949</td><td>0</td></tr>\n",
              "\t<tr><td>Dehejia-Wahba Sample</td><td>1</td><td>27</td><td>10</td><td>1</td><td>0</td><td>0</td><td>1</td><td> 1001.1460</td><td> 3550.075</td><td>    0.0000</td><td> 729</td><td>19683</td><td>100</td><td>0</td><td>0</td><td> 10011.460</td><td>   1002293.3</td><td> 12603032</td><td>0</td></tr>\n",
              "\t<tr><td>Dehejia-Wahba Sample</td><td>1</td><td>21</td><td> 8</td><td>1</td><td>0</td><td>0</td><td>1</td><td>  989.2678</td><td> 3695.897</td><td> 4279.6128</td><td> 441</td><td> 9261</td><td> 64</td><td>0</td><td>0</td><td>  7914.143</td><td>    978650.8</td><td> 13659654</td><td>0</td></tr>\n",
              "\t<tr><td>Dehejia-Wahba Sample</td><td>1</td><td>22</td><td> 9</td><td>1</td><td>0</td><td>0</td><td>1</td><td> 2192.8770</td><td> 3836.986</td><td> 3462.5640</td><td> 484</td><td>10648</td><td> 81</td><td>0</td><td>0</td><td> 19735.893</td><td>   4808709.3</td><td> 14722462</td><td>0</td></tr>\n",
              "\t<tr><td>Dehejia-Wahba Sample</td><td>1</td><td>31</td><td> 4</td><td>1</td><td>0</td><td>0</td><td>1</td><td> 8517.5889</td><td> 4023.211</td><td> 7382.5488</td><td> 961</td><td>29791</td><td> 16</td><td>0</td><td>0</td><td> 34070.355</td><td>  72549320.1</td><td> 16186226</td><td>0</td></tr>\n",
              "\t<tr><td>Dehejia-Wahba Sample</td><td>1</td><td>24</td><td>10</td><td>1</td><td>0</td><td>1</td><td>1</td><td>11703.2002</td><td> 4078.152</td><td>    0.0000</td><td> 576</td><td>13824</td><td>100</td><td>0</td><td>0</td><td>117032.002</td><td> 136964894.8</td><td> 16631325</td><td>0</td></tr>\n",
              "\t<tr><td>Dehejia-Wahba Sample</td><td>1</td><td>29</td><td>10</td><td>1</td><td>0</td><td>0</td><td>1</td><td>    0.0000</td><td> 4398.950</td><td>    0.0000</td><td> 841</td><td>24389</td><td>100</td><td>1</td><td>0</td><td>     0.000</td><td>         0.0</td><td> 19350763</td><td>0</td></tr>\n",
              "\t<tr><td>Dehejia-Wahba Sample</td><td>1</td><td>29</td><td>12</td><td>1</td><td>0</td><td>0</td><td>0</td><td> 9748.3867</td><td> 4878.937</td><td>10976.5098</td><td> 841</td><td>24389</td><td>144</td><td>0</td><td>0</td><td>116980.641</td><td>  95031043.6</td><td> 23804026</td><td>0</td></tr>\n",
              "\t<tr><td>Dehejia-Wahba Sample</td><td>1</td><td>19</td><td>10</td><td>0</td><td>0</td><td>0</td><td>1</td><td>    0.0000</td><td> 5324.109</td><td>13829.6201</td><td> 361</td><td> 6859</td><td>100</td><td>1</td><td>0</td><td>     0.000</td><td>         0.0</td><td> 28346135</td><td>0</td></tr>\n",
              "\t<tr><td>Dehejia-Wahba Sample</td><td>1</td><td>19</td><td>11</td><td>0</td><td>1</td><td>1</td><td>1</td><td> 5424.4849</td><td> 5463.803</td><td> 6788.4629</td><td> 361</td><td> 6859</td><td>121</td><td>0</td><td>0</td><td> 59669.333</td><td>  29425036.0</td><td> 29853146</td><td>0</td></tr>\n",
              "\t<tr><td>Dehejia-Wahba Sample</td><td>1</td><td>31</td><td> 9</td><td>1</td><td>0</td><td>0</td><td>1</td><td>10717.0303</td><td> 5517.841</td><td> 9558.5010</td><td> 961</td><td>29791</td><td> 81</td><td>0</td><td>0</td><td> 96453.272</td><td> 114854737.9</td><td> 30446567</td><td>0</td></tr>\n",
              "\t<tr><td>Dehejia-Wahba Sample</td><td>1</td><td>22</td><td>10</td><td>1</td><td>0</td><td>1</td><td>1</td><td> 1468.3480</td><td> 5588.664</td><td>13228.2803</td><td> 484</td><td>10648</td><td>100</td><td>0</td><td>0</td><td> 14683.480</td><td>   2156045.9</td><td> 31233166</td><td>0</td></tr>\n",
              "\t<tr><td>Dehejia-Wahba Sample</td><td>1</td><td>21</td><td> 9</td><td>1</td><td>0</td><td>0</td><td>1</td><td> 6416.4702</td><td> 5749.331</td><td>  743.6666</td><td> 441</td><td> 9261</td><td> 81</td><td>0</td><td>0</td><td> 57748.232</td><td>  41171090.0</td><td> 33054808</td><td>0</td></tr>\n",
              "\t<tr><td>Dehejia-Wahba Sample</td><td>1</td><td>17</td><td>10</td><td>1</td><td>0</td><td>0</td><td>1</td><td> 1291.4680</td><td> 5793.852</td><td> 5522.7881</td><td> 289</td><td> 4913</td><td>100</td><td>0</td><td>0</td><td> 12914.680</td><td>   1667889.6</td><td> 33568722</td><td>0</td></tr>\n",
              "\t<tr><td>Dehejia-Wahba Sample</td><td>1</td><td>26</td><td>12</td><td>1</td><td>0</td><td>1</td><td>0</td><td> 8408.7617</td><td> 5794.831</td><td> 1424.9440</td><td> 676</td><td>17576</td><td>144</td><td>0</td><td>0</td><td>100905.141</td><td>  70707273.6</td><td> 33580067</td><td>0</td></tr>\n",
              "\t<tr><td>Dehejia-Wahba Sample</td><td>1</td><td>20</td><td> 9</td><td>0</td><td>1</td><td>0</td><td>1</td><td>12260.7803</td><td> 5875.049</td><td> 1358.6429</td><td> 400</td><td> 8000</td><td> 81</td><td>0</td><td>0</td><td>110347.022</td><td> 150326732.9</td><td> 34516199</td><td>0</td></tr>\n",
              "\t<tr><td>Dehejia-Wahba Sample</td><td>1</td><td>19</td><td>10</td><td>1</td><td>0</td><td>0</td><td>1</td><td> 4121.9492</td><td> 6056.754</td><td>    0.0000</td><td> 361</td><td> 6859</td><td>100</td><td>0</td><td>0</td><td> 41219.492</td><td>  16990465.4</td><td> 36684268</td><td>0</td></tr>\n",
              "\t<tr><td>Dehejia-Wahba Sample</td><td>1</td><td>26</td><td>10</td><td>1</td><td>0</td><td>0</td><td>1</td><td>25929.6797</td><td> 6788.958</td><td>  672.8773</td><td> 676</td><td>17576</td><td>100</td><td>0</td><td>0</td><td>259296.797</td><td> 672348288.7</td><td> 46089951</td><td>0</td></tr>\n",
              "\t<tr><td>Dehejia-Wahba Sample</td><td>1</td><td>28</td><td>11</td><td>1</td><td>0</td><td>0</td><td>1</td><td> 1929.0291</td><td> 6871.856</td><td>    0.0000</td><td> 784</td><td>21952</td><td>121</td><td>0</td><td>0</td><td> 21219.320</td><td>   3721153.1</td><td> 47222404</td><td>0</td></tr>\n",
              "\t<tr><td>Dehejia-Wahba Sample</td><td>1</td><td>22</td><td>12</td><td>0</td><td>1</td><td>1</td><td>0</td><td>  492.2305</td><td> 7055.702</td><td>10092.8301</td><td> 484</td><td>10648</td><td>144</td><td>0</td><td>0</td><td>  5906.766</td><td>    242290.9</td><td> 49782933</td><td>0</td></tr>\n",
              "\t<tr><td>Dehejia-Wahba Sample</td><td>1</td><td>33</td><td>11</td><td>1</td><td>0</td><td>0</td><td>1</td><td>    0.0000</td><td> 7867.916</td><td> 6281.4331</td><td>1089</td><td>35937</td><td>121</td><td>1</td><td>0</td><td>     0.000</td><td>         0.0</td><td> 61904102</td><td>0</td></tr>\n",
              "\t<tr><td>Dehejia-Wahba Sample</td><td>1</td><td>22</td><td>12</td><td>0</td><td>0</td><td>0</td><td>0</td><td> 6759.9941</td><td> 8455.504</td><td>12590.7100</td><td> 484</td><td>10648</td><td>144</td><td>0</td><td>0</td><td> 81119.930</td><td>  45697520.8</td><td> 71495546</td><td>0</td></tr>\n",
              "\t<tr><td>Dehejia-Wahba Sample</td><td>1</td><td>29</td><td>10</td><td>0</td><td>1</td><td>0</td><td>1</td><td>    0.0000</td><td> 8853.674</td><td> 5112.0142</td><td> 841</td><td>24389</td><td>100</td><td>1</td><td>0</td><td>     0.000</td><td>         0.0</td><td> 78387540</td><td>1</td></tr>\n",
              "\t<tr><td>Dehejia-Wahba Sample</td><td>1</td><td>33</td><td>12</td><td>1</td><td>0</td><td>1</td><td>0</td><td>20279.9492</td><td>10941.350</td><td>15952.5996</td><td>1089</td><td>35937</td><td>144</td><td>0</td><td>0</td><td>243359.391</td><td> 411276340.3</td><td>119713131</td><td>0</td></tr>\n",
              "\t<tr><td>Dehejia-Wahba Sample</td><td>1</td><td>25</td><td>14</td><td>1</td><td>0</td><td>1</td><td>0</td><td>35040.0703</td><td>11536.570</td><td>36646.9492</td><td> 625</td><td>15625</td><td>196</td><td>0</td><td>0</td><td>490560.984</td><td>1227806527.5</td><td>133092455</td><td>0</td></tr>\n",
              "\t<tr><td>Dehejia-Wahba Sample</td><td>1</td><td>35</td><td> 9</td><td>1</td><td>0</td><td>1</td><td>1</td><td>13602.4297</td><td>13830.640</td><td>12803.9697</td><td>1225</td><td>42875</td><td> 81</td><td>0</td><td>0</td><td>122421.867</td><td> 185026093.4</td><td>191286593</td><td>0</td></tr>\n",
              "\t<tr><td>Dehejia-Wahba Sample</td><td>1</td><td>35</td><td> 8</td><td>1</td><td>0</td><td>1</td><td>1</td><td>13732.0703</td><td>17976.150</td><td> 3786.6279</td><td>1225</td><td>42875</td><td> 64</td><td>0</td><td>0</td><td>109856.562</td><td> 188569755.1</td><td>323141983</td><td>0</td></tr>\n",
              "\t<tr><td>Dehejia-Wahba Sample</td><td>1</td><td>33</td><td>11</td><td>1</td><td>0</td><td>1</td><td>1</td><td>14660.7100</td><td>25142.240</td><td> 4181.9419</td><td>1089</td><td>35937</td><td>121</td><td>0</td><td>0</td><td>161267.810</td><td> 214936416.6</td><td>632132244</td><td>0</td></tr>\n",
              "</tbody>\n",
              "</table>\n"
            ],
            "text/markdown": "\nA tibble: 16177 × 20\n\n| data_id &lt;chr&gt; | treat &lt;dbl&gt; | age &lt;dbl&gt; | educ &lt;dbl&gt; | black &lt;dbl&gt; | hisp &lt;dbl&gt; | marr &lt;dbl&gt; | nodegree &lt;dbl&gt; | re74 &lt;dbl&gt; | re75 &lt;dbl&gt; | re78 &lt;dbl&gt; | agesq &lt;dbl&gt; | agecube &lt;dbl&gt; | educsq &lt;dbl&gt; | u74 &lt;dbl&gt; | u75 &lt;dbl&gt; | interaction1 &lt;dbl&gt; | re74sq &lt;dbl&gt; | re75sq &lt;dbl&gt; | interaction2 &lt;dbl&gt; |\n|---|---|---|---|---|---|---|---|---|---|---|---|---|---|---|---|---|---|---|---|\n| CPS1 | 0 | 45 | 11 | 0 | 0 | 1 | 1 | 21516.6699 | 25243.551 | 25564.670 | 2025 |  91125 | 121 | 0 | 0 | 236683.369 | 462967084.5 | 637236856 | 0 |\n| CPS1 | 0 | 21 | 14 | 0 | 0 | 0 | 0 |  3175.9709 |  5852.565 | 13496.080 |  441 |   9261 | 196 | 0 | 0 |  44463.593 |  10086791.5 |  34252516 | 0 |\n| CPS1 | 0 | 38 | 12 | 0 | 0 | 1 | 0 | 23039.0195 | 25130.760 | 25564.670 | 1444 |  54872 | 144 | 0 | 0 | 276468.234 | 530796421.0 | 631555086 | 0 |\n| CPS1 | 0 | 48 |  6 | 0 | 0 | 1 | 1 | 24994.3691 | 25243.551 | 25564.670 | 2304 | 110592 |  36 | 0 | 0 | 149966.215 | 624718488.7 | 637236856 | 0 |\n| CPS1 | 0 | 18 |  8 | 0 | 0 | 1 | 1 |  1669.2950 | 10727.610 |  9860.869 |  324 |   5832 |  64 | 0 | 0 |  13354.360 |   2786545.9 | 115081624 | 0 |\n| CPS1 | 0 | 22 | 11 | 0 | 0 | 1 | 1 | 16365.7598 | 18449.270 | 25564.670 |  484 |  10648 | 121 | 0 | 0 | 180023.357 | 267838092.7 | 340375546 | 0 |\n| CPS1 | 0 | 48 | 10 | 0 | 0 | 1 | 1 | 16804.6309 | 16354.600 | 18059.301 | 2304 | 110592 | 100 | 0 | 0 | 168046.309 | 282395618.3 | 267472928 | 0 |\n| CPS1 | 0 | 18 | 11 | 0 | 0 | 0 | 1 |  1144.2120 |  3620.032 | 15739.270 |  324 |   5832 | 121 | 0 | 0 |  12586.332 |   1309221.2 |  13104632 | 0 |\n| CPS1 | 0 | 48 |  9 | 0 | 0 | 1 | 1 | 25862.3203 | 25243.551 | 25564.670 | 2304 | 110592 |  81 | 0 | 0 | 232760.883 | 668859611.9 | 637236856 | 0 |\n| CPS1 | 0 | 45 | 12 | 0 | 0 | 1 | 0 | 25862.3203 |     0.000 |  3924.842 | 2025 |  91125 | 144 | 0 | 1 | 310347.844 | 668859611.9 |         0 | 0 |\n| CPS1 | 0 | 34 | 14 | 0 | 0 | 1 | 0 | 25862.3203 | 23746.840 | 25564.670 | 1156 |  39304 | 196 | 0 | 0 | 362072.484 | 668859611.9 | 563912403 | 0 |\n| CPS1 | 0 | 16 | 10 | 0 | 0 | 0 | 1 |  1026.6560 |  1224.581 |  6847.785 |  256 |   4096 | 100 | 0 | 0 |  10266.560 |   1054022.6 |   1499599 | 0 |\n| CPS1 | 0 | 53 | 10 | 0 | 0 | 1 | 1 | 25862.3203 | 25243.551 | 25564.670 | 2809 | 148877 | 100 | 0 | 0 | 258623.203 | 668859611.9 | 637236856 | 0 |\n| CPS1 | 0 | 19 | 12 | 0 | 0 | 0 | 0 |   867.9552 |  4386.290 |  8777.696 |  361 |   6859 | 144 | 0 | 0 |  10415.462 |    753346.2 |  19239540 | 0 |\n| CPS1 | 0 | 27 | 12 | 0 | 0 | 1 | 0 | 25862.3203 | 19047.240 | 19214.881 |  729 |  19683 | 144 | 0 | 0 | 310347.844 | 668859611.9 | 362797361 | 0 |\n| CPS1 | 0 | 32 | 10 | 0 | 0 | 1 | 1 | 20427.3203 | 23374.449 |  9179.637 | 1024 |  32768 | 100 | 0 | 0 | 204273.203 | 417275415.1 | 546364876 | 0 |\n| CPS1 | 0 | 27 | 12 | 0 | 0 | 1 | 0 | 20983.7500 | 14822.080 | 25564.670 |  729 |  19683 | 144 | 0 | 0 | 251805.000 | 440317764.1 | 219694058 | 0 |\n| CPS1 | 0 | 46 |  7 | 0 | 0 | 1 | 1 | 19171.4297 |  1317.677 |     0.000 | 2116 |  97336 |  49 | 0 | 0 | 134200.008 | 367543716.3 |   1736273 | 0 |\n| CPS1 | 0 | 24 | 13 | 0 | 0 | 0 | 0 | 20830.9199 | 25243.551 | 23903.711 |  576 |  13824 | 169 | 0 | 0 | 270801.959 | 433927224.8 | 637236856 | 0 |\n| CPS1 | 0 | 22 | 13 | 0 | 0 | 0 | 0 | 11036.5498 | 10351.650 |  6556.673 |  484 |  10648 | 169 | 0 | 0 | 143475.147 | 121805431.6 | 107156666 | 0 |\n| CPS1 | 0 | 49 | 10 | 0 | 0 | 1 | 1 |   391.8534 |     0.000 |     0.000 | 2401 | 117649 | 100 | 0 | 1 |   3918.534 |    153549.1 |         0 | 0 |\n| CPS1 | 0 | 17 | 10 | 0 | 0 | 0 | 1 |     0.0000 |     0.000 |  4755.324 |  289 |   4913 | 100 | 1 | 1 |      0.000 |         0.0 |         0 | 0 |\n| CPS1 | 0 | 29 | 14 | 0 | 0 | 1 | 0 | 21499.0293 | 22586.711 | 20923.131 |  841 |  24389 | 196 | 0 | 0 | 300986.410 | 462208260.7 | 510159511 | 0 |\n| CPS1 | 0 | 28 | 16 | 0 | 0 | 1 | 0 | 16500.9492 |     0.000 | 10267.240 |  784 |  21952 | 256 | 0 | 1 | 264015.188 | 272281325.1 |         0 | 0 |\n| CPS1 | 0 | 46 | 12 | 0 | 0 | 1 | 0 | 24814.1094 | 24967.840 | 19339.010 | 2116 |  97336 | 144 | 0 | 0 | 297769.312 | 615740024.1 | 623393026 | 0 |\n| CPS1 | 0 | 26 | 17 | 1 | 0 | 1 | 0 |     0.0000 |     0.000 |  4753.846 |  676 |  17576 | 289 | 1 | 1 |      0.000 |         0.0 |         0 | 0 |\n| CPS1 | 0 | 49 | 12 | 0 | 0 | 0 | 0 | 25862.3203 | 25243.551 | 25564.670 | 2401 | 117649 | 144 | 0 | 0 | 310347.844 | 668859611.9 | 637236856 | 0 |\n| CPS1 | 0 | 51 | 10 | 0 | 0 | 1 | 1 | 25862.3203 | 25243.551 | 25564.670 | 2601 | 132651 | 100 | 0 | 0 | 258623.203 | 668859611.9 | 637236856 | 0 |\n| CPS1 | 0 | 51 | 10 | 0 | 0 | 1 | 1 | 22923.4199 | 21725.561 | 10348.520 | 2601 | 132651 | 100 | 0 | 0 | 229234.199 | 525483180.9 | 471999981 | 0 |\n| CPS1 | 0 | 27 | 11 | 0 | 0 | 1 | 1 | 17022.1094 | 18123.439 | 18490.789 |  729 |  19683 | 121 | 0 | 0 | 187243.203 | 289752207.6 | 328459058 | 0 |\n| ⋮ | ⋮ | ⋮ | ⋮ | ⋮ | ⋮ | ⋮ | ⋮ | ⋮ | ⋮ | ⋮ | ⋮ | ⋮ | ⋮ | ⋮ | ⋮ | ⋮ | ⋮ | ⋮ | ⋮ |\n| Dehejia-Wahba Sample | 1 | 25 | 13 | 1 | 0 | 0 | 0 | 12362.9297 |  3090.732 |     0.0000 |  625 | 15625 | 169 | 0 | 0 | 160718.086 |  152842030.5 |   9552624 | 0 |\n| Dehejia-Wahba Sample | 1 | 18 |  9 | 1 | 0 | 0 | 1 |     0.0000 |  3287.375 |  5010.3418 |  324 |  5832 |  81 | 1 | 0 |      0.000 |          0.0 |  10806834 | 0 |\n| Dehejia-Wahba Sample | 1 | 21 | 12 | 1 | 0 | 0 | 0 |  6473.6831 |  3332.409 |  9371.0371 |  441 |  9261 | 144 | 0 | 0 |  77684.197 |   41908573.0 |  11104949 | 0 |\n| Dehejia-Wahba Sample | 1 | 27 | 10 | 1 | 0 | 0 | 1 |  1001.1460 |  3550.075 |     0.0000 |  729 | 19683 | 100 | 0 | 0 |  10011.460 |    1002293.3 |  12603032 | 0 |\n| Dehejia-Wahba Sample | 1 | 21 |  8 | 1 | 0 | 0 | 1 |   989.2678 |  3695.897 |  4279.6128 |  441 |  9261 |  64 | 0 | 0 |   7914.143 |     978650.8 |  13659654 | 0 |\n| Dehejia-Wahba Sample | 1 | 22 |  9 | 1 | 0 | 0 | 1 |  2192.8770 |  3836.986 |  3462.5640 |  484 | 10648 |  81 | 0 | 0 |  19735.893 |    4808709.3 |  14722462 | 0 |\n| Dehejia-Wahba Sample | 1 | 31 |  4 | 1 | 0 | 0 | 1 |  8517.5889 |  4023.211 |  7382.5488 |  961 | 29791 |  16 | 0 | 0 |  34070.355 |   72549320.1 |  16186226 | 0 |\n| Dehejia-Wahba Sample | 1 | 24 | 10 | 1 | 0 | 1 | 1 | 11703.2002 |  4078.152 |     0.0000 |  576 | 13824 | 100 | 0 | 0 | 117032.002 |  136964894.8 |  16631325 | 0 |\n| Dehejia-Wahba Sample | 1 | 29 | 10 | 1 | 0 | 0 | 1 |     0.0000 |  4398.950 |     0.0000 |  841 | 24389 | 100 | 1 | 0 |      0.000 |          0.0 |  19350763 | 0 |\n| Dehejia-Wahba Sample | 1 | 29 | 12 | 1 | 0 | 0 | 0 |  9748.3867 |  4878.937 | 10976.5098 |  841 | 24389 | 144 | 0 | 0 | 116980.641 |   95031043.6 |  23804026 | 0 |\n| Dehejia-Wahba Sample | 1 | 19 | 10 | 0 | 0 | 0 | 1 |     0.0000 |  5324.109 | 13829.6201 |  361 |  6859 | 100 | 1 | 0 |      0.000 |          0.0 |  28346135 | 0 |\n| Dehejia-Wahba Sample | 1 | 19 | 11 | 0 | 1 | 1 | 1 |  5424.4849 |  5463.803 |  6788.4629 |  361 |  6859 | 121 | 0 | 0 |  59669.333 |   29425036.0 |  29853146 | 0 |\n| Dehejia-Wahba Sample | 1 | 31 |  9 | 1 | 0 | 0 | 1 | 10717.0303 |  5517.841 |  9558.5010 |  961 | 29791 |  81 | 0 | 0 |  96453.272 |  114854737.9 |  30446567 | 0 |\n| Dehejia-Wahba Sample | 1 | 22 | 10 | 1 | 0 | 1 | 1 |  1468.3480 |  5588.664 | 13228.2803 |  484 | 10648 | 100 | 0 | 0 |  14683.480 |    2156045.9 |  31233166 | 0 |\n| Dehejia-Wahba Sample | 1 | 21 |  9 | 1 | 0 | 0 | 1 |  6416.4702 |  5749.331 |   743.6666 |  441 |  9261 |  81 | 0 | 0 |  57748.232 |   41171090.0 |  33054808 | 0 |\n| Dehejia-Wahba Sample | 1 | 17 | 10 | 1 | 0 | 0 | 1 |  1291.4680 |  5793.852 |  5522.7881 |  289 |  4913 | 100 | 0 | 0 |  12914.680 |    1667889.6 |  33568722 | 0 |\n| Dehejia-Wahba Sample | 1 | 26 | 12 | 1 | 0 | 1 | 0 |  8408.7617 |  5794.831 |  1424.9440 |  676 | 17576 | 144 | 0 | 0 | 100905.141 |   70707273.6 |  33580067 | 0 |\n| Dehejia-Wahba Sample | 1 | 20 |  9 | 0 | 1 | 0 | 1 | 12260.7803 |  5875.049 |  1358.6429 |  400 |  8000 |  81 | 0 | 0 | 110347.022 |  150326732.9 |  34516199 | 0 |\n| Dehejia-Wahba Sample | 1 | 19 | 10 | 1 | 0 | 0 | 1 |  4121.9492 |  6056.754 |     0.0000 |  361 |  6859 | 100 | 0 | 0 |  41219.492 |   16990465.4 |  36684268 | 0 |\n| Dehejia-Wahba Sample | 1 | 26 | 10 | 1 | 0 | 0 | 1 | 25929.6797 |  6788.958 |   672.8773 |  676 | 17576 | 100 | 0 | 0 | 259296.797 |  672348288.7 |  46089951 | 0 |\n| Dehejia-Wahba Sample | 1 | 28 | 11 | 1 | 0 | 0 | 1 |  1929.0291 |  6871.856 |     0.0000 |  784 | 21952 | 121 | 0 | 0 |  21219.320 |    3721153.1 |  47222404 | 0 |\n| Dehejia-Wahba Sample | 1 | 22 | 12 | 0 | 1 | 1 | 0 |   492.2305 |  7055.702 | 10092.8301 |  484 | 10648 | 144 | 0 | 0 |   5906.766 |     242290.9 |  49782933 | 0 |\n| Dehejia-Wahba Sample | 1 | 33 | 11 | 1 | 0 | 0 | 1 |     0.0000 |  7867.916 |  6281.4331 | 1089 | 35937 | 121 | 1 | 0 |      0.000 |          0.0 |  61904102 | 0 |\n| Dehejia-Wahba Sample | 1 | 22 | 12 | 0 | 0 | 0 | 0 |  6759.9941 |  8455.504 | 12590.7100 |  484 | 10648 | 144 | 0 | 0 |  81119.930 |   45697520.8 |  71495546 | 0 |\n| Dehejia-Wahba Sample | 1 | 29 | 10 | 0 | 1 | 0 | 1 |     0.0000 |  8853.674 |  5112.0142 |  841 | 24389 | 100 | 1 | 0 |      0.000 |          0.0 |  78387540 | 1 |\n| Dehejia-Wahba Sample | 1 | 33 | 12 | 1 | 0 | 1 | 0 | 20279.9492 | 10941.350 | 15952.5996 | 1089 | 35937 | 144 | 0 | 0 | 243359.391 |  411276340.3 | 119713131 | 0 |\n| Dehejia-Wahba Sample | 1 | 25 | 14 | 1 | 0 | 1 | 0 | 35040.0703 | 11536.570 | 36646.9492 |  625 | 15625 | 196 | 0 | 0 | 490560.984 | 1227806527.5 | 133092455 | 0 |\n| Dehejia-Wahba Sample | 1 | 35 |  9 | 1 | 0 | 1 | 1 | 13602.4297 | 13830.640 | 12803.9697 | 1225 | 42875 |  81 | 0 | 0 | 122421.867 |  185026093.4 | 191286593 | 0 |\n| Dehejia-Wahba Sample | 1 | 35 |  8 | 1 | 0 | 1 | 1 | 13732.0703 | 17976.150 |  3786.6279 | 1225 | 42875 |  64 | 0 | 0 | 109856.562 |  188569755.1 | 323141983 | 0 |\n| Dehejia-Wahba Sample | 1 | 33 | 11 | 1 | 0 | 1 | 1 | 14660.7100 | 25142.240 |  4181.9419 | 1089 | 35937 | 121 | 0 | 0 | 161267.810 |  214936416.6 | 632132244 | 0 |\n\n",
            "text/latex": "A tibble: 16177 × 20\n\\begin{tabular}{llllllllllllllllllll}\n data\\_id & treat & age & educ & black & hisp & marr & nodegree & re74 & re75 & re78 & agesq & agecube & educsq & u74 & u75 & interaction1 & re74sq & re75sq & interaction2\\\\\n <chr> & <dbl> & <dbl> & <dbl> & <dbl> & <dbl> & <dbl> & <dbl> & <dbl> & <dbl> & <dbl> & <dbl> & <dbl> & <dbl> & <dbl> & <dbl> & <dbl> & <dbl> & <dbl> & <dbl>\\\\\n\\hline\n\t CPS1 & 0 & 45 & 11 & 0 & 0 & 1 & 1 & 21516.6699 & 25243.551 & 25564.670 & 2025 &  91125 & 121 & 0 & 0 & 236683.369 & 462967084.5 & 637236856 & 0\\\\\n\t CPS1 & 0 & 21 & 14 & 0 & 0 & 0 & 0 &  3175.9709 &  5852.565 & 13496.080 &  441 &   9261 & 196 & 0 & 0 &  44463.593 &  10086791.5 &  34252516 & 0\\\\\n\t CPS1 & 0 & 38 & 12 & 0 & 0 & 1 & 0 & 23039.0195 & 25130.760 & 25564.670 & 1444 &  54872 & 144 & 0 & 0 & 276468.234 & 530796421.0 & 631555086 & 0\\\\\n\t CPS1 & 0 & 48 &  6 & 0 & 0 & 1 & 1 & 24994.3691 & 25243.551 & 25564.670 & 2304 & 110592 &  36 & 0 & 0 & 149966.215 & 624718488.7 & 637236856 & 0\\\\\n\t CPS1 & 0 & 18 &  8 & 0 & 0 & 1 & 1 &  1669.2950 & 10727.610 &  9860.869 &  324 &   5832 &  64 & 0 & 0 &  13354.360 &   2786545.9 & 115081624 & 0\\\\\n\t CPS1 & 0 & 22 & 11 & 0 & 0 & 1 & 1 & 16365.7598 & 18449.270 & 25564.670 &  484 &  10648 & 121 & 0 & 0 & 180023.357 & 267838092.7 & 340375546 & 0\\\\\n\t CPS1 & 0 & 48 & 10 & 0 & 0 & 1 & 1 & 16804.6309 & 16354.600 & 18059.301 & 2304 & 110592 & 100 & 0 & 0 & 168046.309 & 282395618.3 & 267472928 & 0\\\\\n\t CPS1 & 0 & 18 & 11 & 0 & 0 & 0 & 1 &  1144.2120 &  3620.032 & 15739.270 &  324 &   5832 & 121 & 0 & 0 &  12586.332 &   1309221.2 &  13104632 & 0\\\\\n\t CPS1 & 0 & 48 &  9 & 0 & 0 & 1 & 1 & 25862.3203 & 25243.551 & 25564.670 & 2304 & 110592 &  81 & 0 & 0 & 232760.883 & 668859611.9 & 637236856 & 0\\\\\n\t CPS1 & 0 & 45 & 12 & 0 & 0 & 1 & 0 & 25862.3203 &     0.000 &  3924.842 & 2025 &  91125 & 144 & 0 & 1 & 310347.844 & 668859611.9 &         0 & 0\\\\\n\t CPS1 & 0 & 34 & 14 & 0 & 0 & 1 & 0 & 25862.3203 & 23746.840 & 25564.670 & 1156 &  39304 & 196 & 0 & 0 & 362072.484 & 668859611.9 & 563912403 & 0\\\\\n\t CPS1 & 0 & 16 & 10 & 0 & 0 & 0 & 1 &  1026.6560 &  1224.581 &  6847.785 &  256 &   4096 & 100 & 0 & 0 &  10266.560 &   1054022.6 &   1499599 & 0\\\\\n\t CPS1 & 0 & 53 & 10 & 0 & 0 & 1 & 1 & 25862.3203 & 25243.551 & 25564.670 & 2809 & 148877 & 100 & 0 & 0 & 258623.203 & 668859611.9 & 637236856 & 0\\\\\n\t CPS1 & 0 & 19 & 12 & 0 & 0 & 0 & 0 &   867.9552 &  4386.290 &  8777.696 &  361 &   6859 & 144 & 0 & 0 &  10415.462 &    753346.2 &  19239540 & 0\\\\\n\t CPS1 & 0 & 27 & 12 & 0 & 0 & 1 & 0 & 25862.3203 & 19047.240 & 19214.881 &  729 &  19683 & 144 & 0 & 0 & 310347.844 & 668859611.9 & 362797361 & 0\\\\\n\t CPS1 & 0 & 32 & 10 & 0 & 0 & 1 & 1 & 20427.3203 & 23374.449 &  9179.637 & 1024 &  32768 & 100 & 0 & 0 & 204273.203 & 417275415.1 & 546364876 & 0\\\\\n\t CPS1 & 0 & 27 & 12 & 0 & 0 & 1 & 0 & 20983.7500 & 14822.080 & 25564.670 &  729 &  19683 & 144 & 0 & 0 & 251805.000 & 440317764.1 & 219694058 & 0\\\\\n\t CPS1 & 0 & 46 &  7 & 0 & 0 & 1 & 1 & 19171.4297 &  1317.677 &     0.000 & 2116 &  97336 &  49 & 0 & 0 & 134200.008 & 367543716.3 &   1736273 & 0\\\\\n\t CPS1 & 0 & 24 & 13 & 0 & 0 & 0 & 0 & 20830.9199 & 25243.551 & 23903.711 &  576 &  13824 & 169 & 0 & 0 & 270801.959 & 433927224.8 & 637236856 & 0\\\\\n\t CPS1 & 0 & 22 & 13 & 0 & 0 & 0 & 0 & 11036.5498 & 10351.650 &  6556.673 &  484 &  10648 & 169 & 0 & 0 & 143475.147 & 121805431.6 & 107156666 & 0\\\\\n\t CPS1 & 0 & 49 & 10 & 0 & 0 & 1 & 1 &   391.8534 &     0.000 &     0.000 & 2401 & 117649 & 100 & 0 & 1 &   3918.534 &    153549.1 &         0 & 0\\\\\n\t CPS1 & 0 & 17 & 10 & 0 & 0 & 0 & 1 &     0.0000 &     0.000 &  4755.324 &  289 &   4913 & 100 & 1 & 1 &      0.000 &         0.0 &         0 & 0\\\\\n\t CPS1 & 0 & 29 & 14 & 0 & 0 & 1 & 0 & 21499.0293 & 22586.711 & 20923.131 &  841 &  24389 & 196 & 0 & 0 & 300986.410 & 462208260.7 & 510159511 & 0\\\\\n\t CPS1 & 0 & 28 & 16 & 0 & 0 & 1 & 0 & 16500.9492 &     0.000 & 10267.240 &  784 &  21952 & 256 & 0 & 1 & 264015.188 & 272281325.1 &         0 & 0\\\\\n\t CPS1 & 0 & 46 & 12 & 0 & 0 & 1 & 0 & 24814.1094 & 24967.840 & 19339.010 & 2116 &  97336 & 144 & 0 & 0 & 297769.312 & 615740024.1 & 623393026 & 0\\\\\n\t CPS1 & 0 & 26 & 17 & 1 & 0 & 1 & 0 &     0.0000 &     0.000 &  4753.846 &  676 &  17576 & 289 & 1 & 1 &      0.000 &         0.0 &         0 & 0\\\\\n\t CPS1 & 0 & 49 & 12 & 0 & 0 & 0 & 0 & 25862.3203 & 25243.551 & 25564.670 & 2401 & 117649 & 144 & 0 & 0 & 310347.844 & 668859611.9 & 637236856 & 0\\\\\n\t CPS1 & 0 & 51 & 10 & 0 & 0 & 1 & 1 & 25862.3203 & 25243.551 & 25564.670 & 2601 & 132651 & 100 & 0 & 0 & 258623.203 & 668859611.9 & 637236856 & 0\\\\\n\t CPS1 & 0 & 51 & 10 & 0 & 0 & 1 & 1 & 22923.4199 & 21725.561 & 10348.520 & 2601 & 132651 & 100 & 0 & 0 & 229234.199 & 525483180.9 & 471999981 & 0\\\\\n\t CPS1 & 0 & 27 & 11 & 0 & 0 & 1 & 1 & 17022.1094 & 18123.439 & 18490.789 &  729 &  19683 & 121 & 0 & 0 & 187243.203 & 289752207.6 & 328459058 & 0\\\\\n\t ⋮ & ⋮ & ⋮ & ⋮ & ⋮ & ⋮ & ⋮ & ⋮ & ⋮ & ⋮ & ⋮ & ⋮ & ⋮ & ⋮ & ⋮ & ⋮ & ⋮ & ⋮ & ⋮ & ⋮\\\\\n\t Dehejia-Wahba Sample & 1 & 25 & 13 & 1 & 0 & 0 & 0 & 12362.9297 &  3090.732 &     0.0000 &  625 & 15625 & 169 & 0 & 0 & 160718.086 &  152842030.5 &   9552624 & 0\\\\\n\t Dehejia-Wahba Sample & 1 & 18 &  9 & 1 & 0 & 0 & 1 &     0.0000 &  3287.375 &  5010.3418 &  324 &  5832 &  81 & 1 & 0 &      0.000 &          0.0 &  10806834 & 0\\\\\n\t Dehejia-Wahba Sample & 1 & 21 & 12 & 1 & 0 & 0 & 0 &  6473.6831 &  3332.409 &  9371.0371 &  441 &  9261 & 144 & 0 & 0 &  77684.197 &   41908573.0 &  11104949 & 0\\\\\n\t Dehejia-Wahba Sample & 1 & 27 & 10 & 1 & 0 & 0 & 1 &  1001.1460 &  3550.075 &     0.0000 &  729 & 19683 & 100 & 0 & 0 &  10011.460 &    1002293.3 &  12603032 & 0\\\\\n\t Dehejia-Wahba Sample & 1 & 21 &  8 & 1 & 0 & 0 & 1 &   989.2678 &  3695.897 &  4279.6128 &  441 &  9261 &  64 & 0 & 0 &   7914.143 &     978650.8 &  13659654 & 0\\\\\n\t Dehejia-Wahba Sample & 1 & 22 &  9 & 1 & 0 & 0 & 1 &  2192.8770 &  3836.986 &  3462.5640 &  484 & 10648 &  81 & 0 & 0 &  19735.893 &    4808709.3 &  14722462 & 0\\\\\n\t Dehejia-Wahba Sample & 1 & 31 &  4 & 1 & 0 & 0 & 1 &  8517.5889 &  4023.211 &  7382.5488 &  961 & 29791 &  16 & 0 & 0 &  34070.355 &   72549320.1 &  16186226 & 0\\\\\n\t Dehejia-Wahba Sample & 1 & 24 & 10 & 1 & 0 & 1 & 1 & 11703.2002 &  4078.152 &     0.0000 &  576 & 13824 & 100 & 0 & 0 & 117032.002 &  136964894.8 &  16631325 & 0\\\\\n\t Dehejia-Wahba Sample & 1 & 29 & 10 & 1 & 0 & 0 & 1 &     0.0000 &  4398.950 &     0.0000 &  841 & 24389 & 100 & 1 & 0 &      0.000 &          0.0 &  19350763 & 0\\\\\n\t Dehejia-Wahba Sample & 1 & 29 & 12 & 1 & 0 & 0 & 0 &  9748.3867 &  4878.937 & 10976.5098 &  841 & 24389 & 144 & 0 & 0 & 116980.641 &   95031043.6 &  23804026 & 0\\\\\n\t Dehejia-Wahba Sample & 1 & 19 & 10 & 0 & 0 & 0 & 1 &     0.0000 &  5324.109 & 13829.6201 &  361 &  6859 & 100 & 1 & 0 &      0.000 &          0.0 &  28346135 & 0\\\\\n\t Dehejia-Wahba Sample & 1 & 19 & 11 & 0 & 1 & 1 & 1 &  5424.4849 &  5463.803 &  6788.4629 &  361 &  6859 & 121 & 0 & 0 &  59669.333 &   29425036.0 &  29853146 & 0\\\\\n\t Dehejia-Wahba Sample & 1 & 31 &  9 & 1 & 0 & 0 & 1 & 10717.0303 &  5517.841 &  9558.5010 &  961 & 29791 &  81 & 0 & 0 &  96453.272 &  114854737.9 &  30446567 & 0\\\\\n\t Dehejia-Wahba Sample & 1 & 22 & 10 & 1 & 0 & 1 & 1 &  1468.3480 &  5588.664 & 13228.2803 &  484 & 10648 & 100 & 0 & 0 &  14683.480 &    2156045.9 &  31233166 & 0\\\\\n\t Dehejia-Wahba Sample & 1 & 21 &  9 & 1 & 0 & 0 & 1 &  6416.4702 &  5749.331 &   743.6666 &  441 &  9261 &  81 & 0 & 0 &  57748.232 &   41171090.0 &  33054808 & 0\\\\\n\t Dehejia-Wahba Sample & 1 & 17 & 10 & 1 & 0 & 0 & 1 &  1291.4680 &  5793.852 &  5522.7881 &  289 &  4913 & 100 & 0 & 0 &  12914.680 &    1667889.6 &  33568722 & 0\\\\\n\t Dehejia-Wahba Sample & 1 & 26 & 12 & 1 & 0 & 1 & 0 &  8408.7617 &  5794.831 &  1424.9440 &  676 & 17576 & 144 & 0 & 0 & 100905.141 &   70707273.6 &  33580067 & 0\\\\\n\t Dehejia-Wahba Sample & 1 & 20 &  9 & 0 & 1 & 0 & 1 & 12260.7803 &  5875.049 &  1358.6429 &  400 &  8000 &  81 & 0 & 0 & 110347.022 &  150326732.9 &  34516199 & 0\\\\\n\t Dehejia-Wahba Sample & 1 & 19 & 10 & 1 & 0 & 0 & 1 &  4121.9492 &  6056.754 &     0.0000 &  361 &  6859 & 100 & 0 & 0 &  41219.492 &   16990465.4 &  36684268 & 0\\\\\n\t Dehejia-Wahba Sample & 1 & 26 & 10 & 1 & 0 & 0 & 1 & 25929.6797 &  6788.958 &   672.8773 &  676 & 17576 & 100 & 0 & 0 & 259296.797 &  672348288.7 &  46089951 & 0\\\\\n\t Dehejia-Wahba Sample & 1 & 28 & 11 & 1 & 0 & 0 & 1 &  1929.0291 &  6871.856 &     0.0000 &  784 & 21952 & 121 & 0 & 0 &  21219.320 &    3721153.1 &  47222404 & 0\\\\\n\t Dehejia-Wahba Sample & 1 & 22 & 12 & 0 & 1 & 1 & 0 &   492.2305 &  7055.702 & 10092.8301 &  484 & 10648 & 144 & 0 & 0 &   5906.766 &     242290.9 &  49782933 & 0\\\\\n\t Dehejia-Wahba Sample & 1 & 33 & 11 & 1 & 0 & 0 & 1 &     0.0000 &  7867.916 &  6281.4331 & 1089 & 35937 & 121 & 1 & 0 &      0.000 &          0.0 &  61904102 & 0\\\\\n\t Dehejia-Wahba Sample & 1 & 22 & 12 & 0 & 0 & 0 & 0 &  6759.9941 &  8455.504 & 12590.7100 &  484 & 10648 & 144 & 0 & 0 &  81119.930 &   45697520.8 &  71495546 & 0\\\\\n\t Dehejia-Wahba Sample & 1 & 29 & 10 & 0 & 1 & 0 & 1 &     0.0000 &  8853.674 &  5112.0142 &  841 & 24389 & 100 & 1 & 0 &      0.000 &          0.0 &  78387540 & 1\\\\\n\t Dehejia-Wahba Sample & 1 & 33 & 12 & 1 & 0 & 1 & 0 & 20279.9492 & 10941.350 & 15952.5996 & 1089 & 35937 & 144 & 0 & 0 & 243359.391 &  411276340.3 & 119713131 & 0\\\\\n\t Dehejia-Wahba Sample & 1 & 25 & 14 & 1 & 0 & 1 & 0 & 35040.0703 & 11536.570 & 36646.9492 &  625 & 15625 & 196 & 0 & 0 & 490560.984 & 1227806527.5 & 133092455 & 0\\\\\n\t Dehejia-Wahba Sample & 1 & 35 &  9 & 1 & 0 & 1 & 1 & 13602.4297 & 13830.640 & 12803.9697 & 1225 & 42875 &  81 & 0 & 0 & 122421.867 &  185026093.4 & 191286593 & 0\\\\\n\t Dehejia-Wahba Sample & 1 & 35 &  8 & 1 & 0 & 1 & 1 & 13732.0703 & 17976.150 &  3786.6279 & 1225 & 42875 &  64 & 0 & 0 & 109856.562 &  188569755.1 & 323141983 & 0\\\\\n\t Dehejia-Wahba Sample & 1 & 33 & 11 & 1 & 0 & 1 & 1 & 14660.7100 & 25142.240 &  4181.9419 & 1089 & 35937 & 121 & 0 & 0 & 161267.810 &  214936416.6 & 632132244 & 0\\\\\n\\end{tabular}\n",
            "text/plain": [
              "      data_id              treat age educ black hisp marr nodegree re74      \n",
              "1     CPS1                 0     45  11   0     0    1    1        21516.6699\n",
              "2     CPS1                 0     21  14   0     0    0    0         3175.9709\n",
              "3     CPS1                 0     38  12   0     0    1    0        23039.0195\n",
              "4     CPS1                 0     48   6   0     0    1    1        24994.3691\n",
              "5     CPS1                 0     18   8   0     0    1    1         1669.2950\n",
              "6     CPS1                 0     22  11   0     0    1    1        16365.7598\n",
              "7     CPS1                 0     48  10   0     0    1    1        16804.6309\n",
              "8     CPS1                 0     18  11   0     0    0    1         1144.2120\n",
              "9     CPS1                 0     48   9   0     0    1    1        25862.3203\n",
              "10    CPS1                 0     45  12   0     0    1    0        25862.3203\n",
              "11    CPS1                 0     34  14   0     0    1    0        25862.3203\n",
              "12    CPS1                 0     16  10   0     0    0    1         1026.6560\n",
              "13    CPS1                 0     53  10   0     0    1    1        25862.3203\n",
              "14    CPS1                 0     19  12   0     0    0    0          867.9552\n",
              "15    CPS1                 0     27  12   0     0    1    0        25862.3203\n",
              "16    CPS1                 0     32  10   0     0    1    1        20427.3203\n",
              "17    CPS1                 0     27  12   0     0    1    0        20983.7500\n",
              "18    CPS1                 0     46   7   0     0    1    1        19171.4297\n",
              "19    CPS1                 0     24  13   0     0    0    0        20830.9199\n",
              "20    CPS1                 0     22  13   0     0    0    0        11036.5498\n",
              "21    CPS1                 0     49  10   0     0    1    1          391.8534\n",
              "22    CPS1                 0     17  10   0     0    0    1            0.0000\n",
              "23    CPS1                 0     29  14   0     0    1    0        21499.0293\n",
              "24    CPS1                 0     28  16   0     0    1    0        16500.9492\n",
              "25    CPS1                 0     46  12   0     0    1    0        24814.1094\n",
              "26    CPS1                 0     26  17   1     0    1    0            0.0000\n",
              "27    CPS1                 0     49  12   0     0    0    0        25862.3203\n",
              "28    CPS1                 0     51  10   0     0    1    1        25862.3203\n",
              "29    CPS1                 0     51  10   0     0    1    1        22923.4199\n",
              "30    CPS1                 0     27  11   0     0    1    1        17022.1094\n",
              "⋮     ⋮                    ⋮     ⋮   ⋮    ⋮     ⋮    ⋮    ⋮        ⋮         \n",
              "16148 Dehejia-Wahba Sample 1     25  13   1     0    0    0        12362.9297\n",
              "16149 Dehejia-Wahba Sample 1     18   9   1     0    0    1            0.0000\n",
              "16150 Dehejia-Wahba Sample 1     21  12   1     0    0    0         6473.6831\n",
              "16151 Dehejia-Wahba Sample 1     27  10   1     0    0    1         1001.1460\n",
              "16152 Dehejia-Wahba Sample 1     21   8   1     0    0    1          989.2678\n",
              "16153 Dehejia-Wahba Sample 1     22   9   1     0    0    1         2192.8770\n",
              "16154 Dehejia-Wahba Sample 1     31   4   1     0    0    1         8517.5889\n",
              "16155 Dehejia-Wahba Sample 1     24  10   1     0    1    1        11703.2002\n",
              "16156 Dehejia-Wahba Sample 1     29  10   1     0    0    1            0.0000\n",
              "16157 Dehejia-Wahba Sample 1     29  12   1     0    0    0         9748.3867\n",
              "16158 Dehejia-Wahba Sample 1     19  10   0     0    0    1            0.0000\n",
              "16159 Dehejia-Wahba Sample 1     19  11   0     1    1    1         5424.4849\n",
              "16160 Dehejia-Wahba Sample 1     31   9   1     0    0    1        10717.0303\n",
              "16161 Dehejia-Wahba Sample 1     22  10   1     0    1    1         1468.3480\n",
              "16162 Dehejia-Wahba Sample 1     21   9   1     0    0    1         6416.4702\n",
              "16163 Dehejia-Wahba Sample 1     17  10   1     0    0    1         1291.4680\n",
              "16164 Dehejia-Wahba Sample 1     26  12   1     0    1    0         8408.7617\n",
              "16165 Dehejia-Wahba Sample 1     20   9   0     1    0    1        12260.7803\n",
              "16166 Dehejia-Wahba Sample 1     19  10   1     0    0    1         4121.9492\n",
              "16167 Dehejia-Wahba Sample 1     26  10   1     0    0    1        25929.6797\n",
              "16168 Dehejia-Wahba Sample 1     28  11   1     0    0    1         1929.0291\n",
              "16169 Dehejia-Wahba Sample 1     22  12   0     1    1    0          492.2305\n",
              "16170 Dehejia-Wahba Sample 1     33  11   1     0    0    1            0.0000\n",
              "16171 Dehejia-Wahba Sample 1     22  12   0     0    0    0         6759.9941\n",
              "16172 Dehejia-Wahba Sample 1     29  10   0     1    0    1            0.0000\n",
              "16173 Dehejia-Wahba Sample 1     33  12   1     0    1    0        20279.9492\n",
              "16174 Dehejia-Wahba Sample 1     25  14   1     0    1    0        35040.0703\n",
              "16175 Dehejia-Wahba Sample 1     35   9   1     0    1    1        13602.4297\n",
              "16176 Dehejia-Wahba Sample 1     35   8   1     0    1    1        13732.0703\n",
              "16177 Dehejia-Wahba Sample 1     33  11   1     0    1    1        14660.7100\n",
              "      re75      re78       agesq agecube educsq u74 u75 interaction1\n",
              "1     25243.551 25564.670  2025   91125  121    0   0   236683.369  \n",
              "2      5852.565 13496.080   441    9261  196    0   0    44463.593  \n",
              "3     25130.760 25564.670  1444   54872  144    0   0   276468.234  \n",
              "4     25243.551 25564.670  2304  110592   36    0   0   149966.215  \n",
              "5     10727.610  9860.869   324    5832   64    0   0    13354.360  \n",
              "6     18449.270 25564.670   484   10648  121    0   0   180023.357  \n",
              "7     16354.600 18059.301  2304  110592  100    0   0   168046.309  \n",
              "8      3620.032 15739.270   324    5832  121    0   0    12586.332  \n",
              "9     25243.551 25564.670  2304  110592   81    0   0   232760.883  \n",
              "10        0.000  3924.842  2025   91125  144    0   1   310347.844  \n",
              "11    23746.840 25564.670  1156   39304  196    0   0   362072.484  \n",
              "12     1224.581  6847.785   256    4096  100    0   0    10266.560  \n",
              "13    25243.551 25564.670  2809  148877  100    0   0   258623.203  \n",
              "14     4386.290  8777.696   361    6859  144    0   0    10415.462  \n",
              "15    19047.240 19214.881   729   19683  144    0   0   310347.844  \n",
              "16    23374.449  9179.637  1024   32768  100    0   0   204273.203  \n",
              "17    14822.080 25564.670   729   19683  144    0   0   251805.000  \n",
              "18     1317.677     0.000  2116   97336   49    0   0   134200.008  \n",
              "19    25243.551 23903.711   576   13824  169    0   0   270801.959  \n",
              "20    10351.650  6556.673   484   10648  169    0   0   143475.147  \n",
              "21        0.000     0.000  2401  117649  100    0   1     3918.534  \n",
              "22        0.000  4755.324   289    4913  100    1   1        0.000  \n",
              "23    22586.711 20923.131   841   24389  196    0   0   300986.410  \n",
              "24        0.000 10267.240   784   21952  256    0   1   264015.188  \n",
              "25    24967.840 19339.010  2116   97336  144    0   0   297769.312  \n",
              "26        0.000  4753.846   676   17576  289    1   1        0.000  \n",
              "27    25243.551 25564.670  2401  117649  144    0   0   310347.844  \n",
              "28    25243.551 25564.670  2601  132651  100    0   0   258623.203  \n",
              "29    21725.561 10348.520  2601  132651  100    0   0   229234.199  \n",
              "30    18123.439 18490.789   729   19683  121    0   0   187243.203  \n",
              "⋮     ⋮         ⋮          ⋮     ⋮       ⋮      ⋮   ⋮   ⋮           \n",
              "16148  3090.732     0.0000  625  15625   169    0   0   160718.086  \n",
              "16149  3287.375  5010.3418  324   5832    81    1   0        0.000  \n",
              "16150  3332.409  9371.0371  441   9261   144    0   0    77684.197  \n",
              "16151  3550.075     0.0000  729  19683   100    0   0    10011.460  \n",
              "16152  3695.897  4279.6128  441   9261    64    0   0     7914.143  \n",
              "16153  3836.986  3462.5640  484  10648    81    0   0    19735.893  \n",
              "16154  4023.211  7382.5488  961  29791    16    0   0    34070.355  \n",
              "16155  4078.152     0.0000  576  13824   100    0   0   117032.002  \n",
              "16156  4398.950     0.0000  841  24389   100    1   0        0.000  \n",
              "16157  4878.937 10976.5098  841  24389   144    0   0   116980.641  \n",
              "16158  5324.109 13829.6201  361   6859   100    1   0        0.000  \n",
              "16159  5463.803  6788.4629  361   6859   121    0   0    59669.333  \n",
              "16160  5517.841  9558.5010  961  29791    81    0   0    96453.272  \n",
              "16161  5588.664 13228.2803  484  10648   100    0   0    14683.480  \n",
              "16162  5749.331   743.6666  441   9261    81    0   0    57748.232  \n",
              "16163  5793.852  5522.7881  289   4913   100    0   0    12914.680  \n",
              "16164  5794.831  1424.9440  676  17576   144    0   0   100905.141  \n",
              "16165  5875.049  1358.6429  400   8000    81    0   0   110347.022  \n",
              "16166  6056.754     0.0000  361   6859   100    0   0    41219.492  \n",
              "16167  6788.958   672.8773  676  17576   100    0   0   259296.797  \n",
              "16168  6871.856     0.0000  784  21952   121    0   0    21219.320  \n",
              "16169  7055.702 10092.8301  484  10648   144    0   0     5906.766  \n",
              "16170  7867.916  6281.4331 1089  35937   121    1   0        0.000  \n",
              "16171  8455.504 12590.7100  484  10648   144    0   0    81119.930  \n",
              "16172  8853.674  5112.0142  841  24389   100    1   0        0.000  \n",
              "16173 10941.350 15952.5996 1089  35937   144    0   0   243359.391  \n",
              "16174 11536.570 36646.9492  625  15625   196    0   0   490560.984  \n",
              "16175 13830.640 12803.9697 1225  42875    81    0   0   122421.867  \n",
              "16176 17976.150  3786.6279 1225  42875    64    0   0   109856.562  \n",
              "16177 25142.240  4181.9419 1089  35937   121    0   0   161267.810  \n",
              "      re74sq       re75sq    interaction2\n",
              "1     462967084.5  637236856 0           \n",
              "2      10086791.5   34252516 0           \n",
              "3     530796421.0  631555086 0           \n",
              "4     624718488.7  637236856 0           \n",
              "5       2786545.9  115081624 0           \n",
              "6     267838092.7  340375546 0           \n",
              "7     282395618.3  267472928 0           \n",
              "8       1309221.2   13104632 0           \n",
              "9     668859611.9  637236856 0           \n",
              "10    668859611.9          0 0           \n",
              "11    668859611.9  563912403 0           \n",
              "12      1054022.6    1499599 0           \n",
              "13    668859611.9  637236856 0           \n",
              "14       753346.2   19239540 0           \n",
              "15    668859611.9  362797361 0           \n",
              "16    417275415.1  546364876 0           \n",
              "17    440317764.1  219694058 0           \n",
              "18    367543716.3    1736273 0           \n",
              "19    433927224.8  637236856 0           \n",
              "20    121805431.6  107156666 0           \n",
              "21       153549.1          0 0           \n",
              "22            0.0          0 0           \n",
              "23    462208260.7  510159511 0           \n",
              "24    272281325.1          0 0           \n",
              "25    615740024.1  623393026 0           \n",
              "26            0.0          0 0           \n",
              "27    668859611.9  637236856 0           \n",
              "28    668859611.9  637236856 0           \n",
              "29    525483180.9  471999981 0           \n",
              "30    289752207.6  328459058 0           \n",
              "⋮     ⋮            ⋮         ⋮           \n",
              "16148  152842030.5   9552624 0           \n",
              "16149          0.0  10806834 0           \n",
              "16150   41908573.0  11104949 0           \n",
              "16151    1002293.3  12603032 0           \n",
              "16152     978650.8  13659654 0           \n",
              "16153    4808709.3  14722462 0           \n",
              "16154   72549320.1  16186226 0           \n",
              "16155  136964894.8  16631325 0           \n",
              "16156          0.0  19350763 0           \n",
              "16157   95031043.6  23804026 0           \n",
              "16158          0.0  28346135 0           \n",
              "16159   29425036.0  29853146 0           \n",
              "16160  114854737.9  30446567 0           \n",
              "16161    2156045.9  31233166 0           \n",
              "16162   41171090.0  33054808 0           \n",
              "16163    1667889.6  33568722 0           \n",
              "16164   70707273.6  33580067 0           \n",
              "16165  150326732.9  34516199 0           \n",
              "16166   16990465.4  36684268 0           \n",
              "16167  672348288.7  46089951 0           \n",
              "16168    3721153.1  47222404 0           \n",
              "16169     242290.9  49782933 0           \n",
              "16170          0.0  61904102 0           \n",
              "16171   45697520.8  71495546 0           \n",
              "16172          0.0  78387540 1           \n",
              "16173  411276340.3 119713131 0           \n",
              "16174 1227806527.5 133092455 0           \n",
              "16175  185026093.4 191286593 0           \n",
              "16176  188569755.1 323141983 0           \n",
              "16177  214936416.6 632132244 0           "
            ]
          },
          "metadata": {}
        },
        {
          "output_type": "stream",
          "name": "stderr",
          "text": [
            "\u001b[1m\u001b[22m`stat_bin()` using `bins = 30`. Pick better value with `binwidth`.\n",
            "\u001b[1m\u001b[22m`stat_bin()` using `bins = 30`. Pick better value with `binwidth`.\n"
          ]
        },
        {
          "output_type": "display_data",
          "data": {
            "text/plain": [
              "plot without title"
            ],
            "image/png": "[encoded data removed]"
          },
          "metadata": {
            "image/png": {
              "width": 420,
              "height": 420
            }
          }
        },
        {
          "output_type": "display_data",
          "data": {
            "text/plain": [
              "plot without title"
            ],
            "image/png": "[encoded data removed]"
          },
          "metadata": {
            "image/png": {
              "width": 420,
              "height": 420
            }
          }
        }
      ]
    },
    {
      "cell_type": "code",
      "source": [
        "summary(logit_nsw)"
      ],
      "metadata": {
        "id": "JYs-RDmQHLl-",
        "outputId": "1ed06d4d-7bcc-4c88-cac7-560071af57e6",
        "colab": {
          "base_uri": "https://localhost:8080/",
          "height": 590
        }
      },
      "execution_count": null,
      "outputs": [
        {
          "output_type": "display_data",
          "data": {
            "text/plain": [
              "\n",
              "Call:\n",
              "glm(formula = treat ~ age + agesq + agecube + educ + educsq + \n",
              "    marr + nodegree + black + hisp + re74 + re75 + u74 + u75 + \n",
              "    interaction1, family = binomial(link = \"logit\"), data = nsw_dw_cpscontrol)\n",
              "\n",
              "Coefficients:\n",
              "               Estimate Std. Error z value Pr(>|z|)    \n",
              "(Intercept)  -3.522e+01  3.798e+00  -9.274  < 2e-16 ***\n",
              "age           2.425e+00  3.501e-01   6.928 4.27e-12 ***\n",
              "agesq        -6.724e-02  1.113e-02  -6.041 1.53e-09 ***\n",
              "agecube       5.685e-04  1.113e-04   5.110 3.21e-07 ***\n",
              "educ          9.248e-01  2.500e-01   3.698 0.000217 ***\n",
              "educsq       -5.720e-02  1.362e-02  -4.200 2.67e-05 ***\n",
              "marr         -1.556e+00  2.518e-01  -6.182 6.31e-10 ***\n",
              "nodegree      9.271e-01  3.254e-01   2.849 0.004391 ** \n",
              "black         3.851e+00  2.663e-01  14.461  < 2e-16 ***\n",
              "hisp          1.674e+00  4.099e-01   4.084 4.43e-05 ***\n",
              "re74         -2.203e-04  1.086e-04  -2.028 0.042520 *  \n",
              "re75         -1.969e-04  3.780e-05  -5.209 1.90e-07 ***\n",
              "u74           1.750e+00  2.897e-01   6.039 1.56e-09 ***\n",
              "u75           9.440e-03  2.575e-01   0.037 0.970758    \n",
              "interaction1  2.222e-05  9.076e-06   2.449 0.014344 *  \n",
              "---\n",
              "Signif. codes:  0 ‘***’ 0.001 ‘**’ 0.01 ‘*’ 0.05 ‘.’ 0.1 ‘ ’ 1\n",
              "\n",
              "(Dispersion parameter for binomial family taken to be 1)\n",
              "\n",
              "    Null deviance: 2022.14  on 16176  degrees of freedom\n",
              "Residual deviance:  808.32  on 16162  degrees of freedom\n",
              "AIC: 838.32\n",
              "\n",
              "Number of Fisher Scoring iterations: 10\n"
            ]
          },
          "metadata": {}
        }
      ]
    },
    {
      "cell_type": "code",
      "source": [
        "nsw_dw_cpscontrol"
      ],
      "metadata": {
        "id": "g6nl7qEWHoa8",
        "outputId": "07bfd464-0a4e-4cc9-948f-70bff7847ffc",
        "colab": {
          "base_uri": "https://localhost:8080/",
          "height": 1000
        }
      },
      "execution_count": null,
      "outputs": [
        {
          "output_type": "display_data",
          "data": {
            "text/html": [
              "<table class=\"dataframe\">\n",
              "<caption>A tibble: 16177 × 21</caption>\n",
              "<thead>\n",
              "\t<tr><th scope=col>data_id</th><th scope=col>treat</th><th scope=col>age</th><th scope=col>educ</th><th scope=col>black</th><th scope=col>hisp</th><th scope=col>marr</th><th scope=col>nodegree</th><th scope=col>re74</th><th scope=col>re75</th><th scope=col>⋯</th><th scope=col>agesq</th><th scope=col>agecube</th><th scope=col>educsq</th><th scope=col>u74</th><th scope=col>u75</th><th scope=col>interaction1</th><th scope=col>re74sq</th><th scope=col>re75sq</th><th scope=col>interaction2</th><th scope=col>pscore</th></tr>\n",
              "\t<tr><th scope=col>&lt;chr&gt;</th><th scope=col>&lt;dbl&gt;</th><th scope=col>&lt;dbl&gt;</th><th scope=col>&lt;dbl&gt;</th><th scope=col>&lt;dbl&gt;</th><th scope=col>&lt;dbl&gt;</th><th scope=col>&lt;dbl&gt;</th><th scope=col>&lt;dbl&gt;</th><th scope=col>&lt;dbl&gt;</th><th scope=col>&lt;dbl&gt;</th><th scope=col>⋯</th><th scope=col>&lt;dbl&gt;</th><th scope=col>&lt;dbl&gt;</th><th scope=col>&lt;dbl&gt;</th><th scope=col>&lt;dbl&gt;</th><th scope=col>&lt;dbl&gt;</th><th scope=col>&lt;dbl&gt;</th><th scope=col>&lt;dbl&gt;</th><th scope=col>&lt;dbl&gt;</th><th scope=col>&lt;dbl&gt;</th><th scope=col>&lt;dbl&gt;</th></tr>\n",
              "</thead>\n",
              "<tbody>\n",
              "\t<tr><td>CPS1</td><td>0</td><td>45</td><td>11</td><td>0</td><td>0</td><td>1</td><td>1</td><td>21516.6699</td><td>25243.551</td><td>⋯</td><td>2025</td><td> 91125</td><td>121</td><td>0</td><td>0</td><td>236683.369</td><td>462967084.5</td><td>637236856</td><td>0</td><td>4.709117e-06</td></tr>\n",
              "\t<tr><td>CPS1</td><td>0</td><td>21</td><td>14</td><td>0</td><td>0</td><td>0</td><td>0</td><td> 3175.9709</td><td> 5852.565</td><td>⋯</td><td> 441</td><td>  9261</td><td>196</td><td>0</td><td>0</td><td> 44463.593</td><td> 10086791.5</td><td> 34252516</td><td>0</td><td>4.066875e-04</td></tr>\n",
              "\t<tr><td>CPS1</td><td>0</td><td>38</td><td>12</td><td>0</td><td>0</td><td>1</td><td>0</td><td>23039.0195</td><td>25130.760</td><td>⋯</td><td>1444</td><td> 54872</td><td>144</td><td>0</td><td>0</td><td>276468.234</td><td>530796421.0</td><td>631555086</td><td>0</td><td>9.781579e-06</td></tr>\n",
              "\t<tr><td>CPS1</td><td>0</td><td>48</td><td> 6</td><td>0</td><td>0</td><td>1</td><td>1</td><td>24994.3691</td><td>25243.551</td><td>⋯</td><td>2304</td><td>110592</td><td> 36</td><td>0</td><td>0</td><td>149966.215</td><td>624718488.7</td><td>637236856</td><td>0</td><td>2.667018e-07</td></tr>\n",
              "\t<tr><td>CPS1</td><td>0</td><td>18</td><td> 8</td><td>0</td><td>0</td><td>1</td><td>1</td><td> 1669.2950</td><td>10727.610</td><td>⋯</td><td> 324</td><td>  5832</td><td> 64</td><td>0</td><td>0</td><td> 13354.360</td><td>  2786545.9</td><td>115081624</td><td>0</td><td>1.103196e-04</td></tr>\n",
              "\t<tr><td>CPS1</td><td>0</td><td>22</td><td>11</td><td>0</td><td>0</td><td>1</td><td>1</td><td>16365.7598</td><td>18449.270</td><td>⋯</td><td> 484</td><td> 10648</td><td>121</td><td>0</td><td>0</td><td>180023.357</td><td>267838092.7</td><td>340375546</td><td>0</td><td>1.269277e-04</td></tr>\n",
              "\t<tr><td>CPS1</td><td>0</td><td>48</td><td>10</td><td>0</td><td>0</td><td>1</td><td>1</td><td>16804.6309</td><td>16354.600</td><td>⋯</td><td>2304</td><td>110592</td><td>100</td><td>0</td><td>0</td><td>168046.309</td><td>282395618.3</td><td>267472928</td><td>0</td><td>1.448031e-05</td></tr>\n",
              "\t<tr><td>CPS1</td><td>0</td><td>18</td><td>11</td><td>0</td><td>0</td><td>0</td><td>1</td><td> 1144.2120</td><td> 3620.032</td><td>⋯</td><td> 324</td><td>  5832</td><td>121</td><td>0</td><td>0</td><td> 12586.332</td><td>  1309221.2</td><td> 13104632</td><td>0</td><td>1.437221e-03</td></tr>\n",
              "\t<tr><td>CPS1</td><td>0</td><td>48</td><td> 9</td><td>0</td><td>0</td><td>1</td><td>1</td><td>25862.3203</td><td>25243.551</td><td>⋯</td><td>2304</td><td>110592</td><td> 81</td><td>0</td><td>0</td><td>232760.883</td><td>668859611.9</td><td>637236856</td><td>0</td><td>1.694336e-06</td></tr>\n",
              "\t<tr><td>CPS1</td><td>0</td><td>45</td><td>12</td><td>0</td><td>0</td><td>1</td><td>0</td><td>25862.3203</td><td>    0.000</td><td>⋯</td><td>2025</td><td> 91125</td><td>144</td><td>0</td><td>1</td><td>310347.844</td><td>668859611.9</td><td>        0</td><td>0</td><td>3.616981e-04</td></tr>\n",
              "\t<tr><td>CPS1</td><td>0</td><td>34</td><td>14</td><td>0</td><td>0</td><td>1</td><td>0</td><td>25862.3203</td><td>23746.840</td><td>⋯</td><td>1156</td><td> 39304</td><td>196</td><td>0</td><td>0</td><td>362072.484</td><td>668859611.9</td><td>563912403</td><td>0</td><td>3.382750e-05</td></tr>\n",
              "\t<tr><td>CPS1</td><td>0</td><td>16</td><td>10</td><td>0</td><td>0</td><td>0</td><td>1</td><td> 1026.6560</td><td> 1224.581</td><td>⋯</td><td> 256</td><td>  4096</td><td>100</td><td>0</td><td>0</td><td> 10266.560</td><td>  1054022.6</td><td>  1499599</td><td>0</td><td>8.357869e-04</td></tr>\n",
              "\t<tr><td>CPS1</td><td>0</td><td>53</td><td>10</td><td>0</td><td>0</td><td>1</td><td>1</td><td>25862.3203</td><td>25243.551</td><td>⋯</td><td>2809</td><td>148877</td><td>100</td><td>0</td><td>0</td><td>258623.203</td><td>668859611.9</td><td>637236856</td><td>0</td><td>2.403644e-06</td></tr>\n",
              "\t<tr><td>CPS1</td><td>0</td><td>19</td><td>12</td><td>0</td><td>0</td><td>0</td><td>0</td><td>  867.9552</td><td> 4386.290</td><td>⋯</td><td> 361</td><td>  6859</td><td>144</td><td>0</td><td>0</td><td> 10415.462</td><td>   753346.2</td><td> 19239540</td><td>0</td><td>5.647730e-04</td></tr>\n",
              "\t<tr><td>CPS1</td><td>0</td><td>27</td><td>12</td><td>0</td><td>0</td><td>1</td><td>0</td><td>25862.3203</td><td>19047.240</td><td>⋯</td><td> 729</td><td> 19683</td><td>144</td><td>0</td><td>0</td><td>310347.844</td><td>668859611.9</td><td>362797361</td><td>0</td><td>1.485947e-04</td></tr>\n",
              "\t<tr><td>CPS1</td><td>0</td><td>32</td><td>10</td><td>0</td><td>0</td><td>1</td><td>1</td><td>20427.3203</td><td>23374.449</td><td>⋯</td><td>1024</td><td> 32768</td><td>100</td><td>0</td><td>0</td><td>204273.203</td><td>417275415.1</td><td>546364876</td><td>0</td><td>7.471734e-05</td></tr>\n",
              "\t<tr><td>CPS1</td><td>0</td><td>27</td><td>12</td><td>0</td><td>0</td><td>1</td><td>0</td><td>20983.7500</td><td>14822.080</td><td>⋯</td><td> 729</td><td> 19683</td><td>144</td><td>0</td><td>0</td><td>251805.000</td><td>440317764.1</td><td>219694058</td><td>0</td><td>2.722841e-04</td></tr>\n",
              "\t<tr><td>CPS1</td><td>0</td><td>46</td><td> 7</td><td>0</td><td>0</td><td>1</td><td>1</td><td>19171.4297</td><td> 1317.677</td><td>⋯</td><td>2116</td><td> 97336</td><td> 49</td><td>0</td><td>0</td><td>134200.008</td><td>367543716.3</td><td>  1736273</td><td>0</td><td>1.163745e-04</td></tr>\n",
              "\t<tr><td>CPS1</td><td>0</td><td>24</td><td>13</td><td>0</td><td>0</td><td>0</td><td>0</td><td>20830.9199</td><td>25243.551</td><td>⋯</td><td> 576</td><td> 13824</td><td>169</td><td>0</td><td>0</td><td>270801.959</td><td>433927224.8</td><td>637236856</td><td>0</td><td>1.147605e-04</td></tr>\n",
              "\t<tr><td>CPS1</td><td>0</td><td>22</td><td>13</td><td>0</td><td>0</td><td>0</td><td>0</td><td>11036.5498</td><td>10351.650</td><td>⋯</td><td> 484</td><td> 10648</td><td>169</td><td>0</td><td>0</td><td>143475.147</td><td>121805431.6</td><td>107156666</td><td>0</td><td>6.871982e-04</td></tr>\n",
              "\t<tr><td>CPS1</td><td>0</td><td>49</td><td>10</td><td>0</td><td>0</td><td>1</td><td>1</td><td>  391.8534</td><td>    0.000</td><td>⋯</td><td>2401</td><td>117649</td><td>100</td><td>0</td><td>1</td><td>  3918.534</td><td>   153549.1</td><td>        0</td><td>0</td><td>3.256693e-04</td></tr>\n",
              "\t<tr><td>CPS1</td><td>0</td><td>17</td><td>10</td><td>0</td><td>0</td><td>0</td><td>1</td><td>    0.0000</td><td>    0.000</td><td>⋯</td><td> 289</td><td>  4913</td><td>100</td><td>1</td><td>1</td><td>     0.000</td><td>        0.0</td><td>        0</td><td>0</td><td>1.192221e-02</td></tr>\n",
              "\t<tr><td>CPS1</td><td>0</td><td>29</td><td>14</td><td>0</td><td>0</td><td>1</td><td>0</td><td>21499.0293</td><td>22586.711</td><td>⋯</td><td> 841</td><td> 24389</td><td>196</td><td>0</td><td>0</td><td>300986.410</td><td>462208260.7</td><td>510159511</td><td>0</td><td>5.079859e-05</td></tr>\n",
              "\t<tr><td>CPS1</td><td>0</td><td>28</td><td>16</td><td>0</td><td>0</td><td>1</td><td>0</td><td>16500.9492</td><td>    0.000</td><td>⋯</td><td> 784</td><td> 21952</td><td>256</td><td>0</td><td>1</td><td>264015.188</td><td>272281325.1</td><td>        0</td><td>0</td><td>1.214799e-03</td></tr>\n",
              "\t<tr><td>CPS1</td><td>0</td><td>46</td><td>12</td><td>0</td><td>0</td><td>1</td><td>0</td><td>24814.1094</td><td>24967.840</td><td>⋯</td><td>2116</td><td> 97336</td><td>144</td><td>0</td><td>0</td><td>297769.312</td><td>615740024.1</td><td>623393026</td><td>0</td><td>2.126724e-06</td></tr>\n",
              "\t<tr><td>CPS1</td><td>0</td><td>26</td><td>17</td><td>1</td><td>0</td><td>1</td><td>0</td><td>    0.0000</td><td>    0.000</td><td>⋯</td><td> 676</td><td> 17576</td><td>289</td><td>1</td><td>1</td><td>     0.000</td><td>        0.0</td><td>        0</td><td>0</td><td>1.233351e-02</td></tr>\n",
              "\t<tr><td>CPS1</td><td>0</td><td>49</td><td>12</td><td>0</td><td>0</td><td>0</td><td>0</td><td>25862.3203</td><td>25243.551</td><td>⋯</td><td>2401</td><td>117649</td><td>144</td><td>0</td><td>0</td><td>310347.844</td><td>668859611.9</td><td>637236856</td><td>0</td><td>7.147028e-06</td></tr>\n",
              "\t<tr><td>CPS1</td><td>0</td><td>51</td><td>10</td><td>0</td><td>0</td><td>1</td><td>1</td><td>25862.3203</td><td>25243.551</td><td>⋯</td><td>2601</td><td>132651</td><td>100</td><td>0</td><td>0</td><td>258623.203</td><td>668859611.9</td><td>637236856</td><td>0</td><td>2.197001e-06</td></tr>\n",
              "\t<tr><td>CPS1</td><td>0</td><td>51</td><td>10</td><td>0</td><td>0</td><td>1</td><td>1</td><td>22923.4199</td><td>21725.561</td><td>⋯</td><td>2601</td><td>132651</td><td>100</td><td>0</td><td>0</td><td>229234.199</td><td>525483180.9</td><td>471999981</td><td>0</td><td>4.367302e-06</td></tr>\n",
              "\t<tr><td>CPS1</td><td>0</td><td>27</td><td>11</td><td>0</td><td>0</td><td>1</td><td>1</td><td>17022.1094</td><td>18123.439</td><td>⋯</td><td> 729</td><td> 19683</td><td>121</td><td>0</td><td>0</td><td>187243.203</td><td>289752207.6</td><td>328459058</td><td>0</td><td>3.027005e-04</td></tr>\n",
              "\t<tr><td>⋮</td><td>⋮</td><td>⋮</td><td>⋮</td><td>⋮</td><td>⋮</td><td>⋮</td><td>⋮</td><td>⋮</td><td>⋮</td><td>⋱</td><td>⋮</td><td>⋮</td><td>⋮</td><td>⋮</td><td>⋮</td><td>⋮</td><td>⋮</td><td>⋮</td><td>⋮</td><td>⋮</td></tr>\n",
              "\t<tr><td>Dehejia-Wahba Sample</td><td>1</td><td>25</td><td>13</td><td>1</td><td>0</td><td>0</td><td>0</td><td>12362.9297</td><td> 3090.732</td><td>⋯</td><td> 625</td><td>15625</td><td>169</td><td>0</td><td>0</td><td>160718.086</td><td> 152842030.5</td><td>  9552624</td><td>0</td><td>0.216482148</td></tr>\n",
              "\t<tr><td>Dehejia-Wahba Sample</td><td>1</td><td>18</td><td> 9</td><td>1</td><td>0</td><td>0</td><td>1</td><td>    0.0000</td><td> 3287.375</td><td>⋯</td><td> 324</td><td> 5832</td><td> 81</td><td>1</td><td>0</td><td>     0.000</td><td>         0.0</td><td> 10806834</td><td>0</td><td>0.385320672</td></tr>\n",
              "\t<tr><td>Dehejia-Wahba Sample</td><td>1</td><td>21</td><td>12</td><td>1</td><td>0</td><td>0</td><td>0</td><td> 6473.6831</td><td> 3332.409</td><td>⋯</td><td> 441</td><td> 9261</td><td>144</td><td>0</td><td>0</td><td> 77684.197</td><td>  41908573.0</td><td> 11104949</td><td>0</td><td>0.089196976</td></tr>\n",
              "\t<tr><td>Dehejia-Wahba Sample</td><td>1</td><td>27</td><td>10</td><td>1</td><td>0</td><td>0</td><td>1</td><td> 1001.1460</td><td> 3550.075</td><td>⋯</td><td> 729</td><td>19683</td><td>100</td><td>0</td><td>0</td><td> 10011.460</td><td>   1002293.3</td><td> 12603032</td><td>0</td><td>0.510403043</td></tr>\n",
              "\t<tr><td>Dehejia-Wahba Sample</td><td>1</td><td>21</td><td> 8</td><td>1</td><td>0</td><td>0</td><td>1</td><td>  989.2678</td><td> 3695.897</td><td>⋯</td><td> 441</td><td> 9261</td><td> 64</td><td>0</td><td>0</td><td>  7914.143</td><td>    978650.8</td><td> 13659654</td><td>0</td><td>0.282279225</td></tr>\n",
              "\t<tr><td>Dehejia-Wahba Sample</td><td>1</td><td>22</td><td> 9</td><td>1</td><td>0</td><td>0</td><td>1</td><td> 2192.8770</td><td> 3836.986</td><td>⋯</td><td> 484</td><td>10648</td><td> 81</td><td>0</td><td>0</td><td> 19735.893</td><td>   4808709.3</td><td> 14722462</td><td>0</td><td>0.334353609</td></tr>\n",
              "\t<tr><td>Dehejia-Wahba Sample</td><td>1</td><td>31</td><td> 4</td><td>1</td><td>0</td><td>0</td><td>1</td><td> 8517.5889</td><td> 4023.211</td><td>⋯</td><td> 961</td><td>29791</td><td> 16</td><td>0</td><td>0</td><td> 34070.355</td><td>  72549320.1</td><td> 16186226</td><td>0</td><td>0.112219418</td></tr>\n",
              "\t<tr><td>Dehejia-Wahba Sample</td><td>1</td><td>24</td><td>10</td><td>1</td><td>0</td><td>1</td><td>1</td><td>11703.2002</td><td> 4078.152</td><td>⋯</td><td> 576</td><td>13824</td><td>100</td><td>0</td><td>0</td><td>117032.002</td><td> 136964894.8</td><td> 16631325</td><td>0</td><td>0.128147690</td></tr>\n",
              "\t<tr><td>Dehejia-Wahba Sample</td><td>1</td><td>29</td><td>10</td><td>1</td><td>0</td><td>0</td><td>1</td><td>    0.0000</td><td> 4398.950</td><td>⋯</td><td> 841</td><td>24389</td><td>100</td><td>1</td><td>0</td><td>     0.000</td><td>         0.0</td><td> 19350763</td><td>0</td><td>0.834421300</td></tr>\n",
              "\t<tr><td>Dehejia-Wahba Sample</td><td>1</td><td>29</td><td>12</td><td>1</td><td>0</td><td>0</td><td>0</td><td> 9748.3867</td><td> 4878.937</td><td>⋯</td><td> 841</td><td>24389</td><td>144</td><td>0</td><td>0</td><td>116980.641</td><td>  95031043.6</td><td> 23804026</td><td>0</td><td>0.202759531</td></tr>\n",
              "\t<tr><td>Dehejia-Wahba Sample</td><td>1</td><td>19</td><td>10</td><td>0</td><td>0</td><td>0</td><td>1</td><td>    0.0000</td><td> 5324.109</td><td>⋯</td><td> 361</td><td> 6859</td><td>100</td><td>1</td><td>0</td><td>     0.000</td><td>         0.0</td><td> 28346135</td><td>0</td><td>0.012623155</td></tr>\n",
              "\t<tr><td>Dehejia-Wahba Sample</td><td>1</td><td>19</td><td>11</td><td>0</td><td>1</td><td>1</td><td>1</td><td> 5424.4849</td><td> 5463.803</td><td>⋯</td><td> 361</td><td> 6859</td><td>121</td><td>0</td><td>0</td><td> 59669.333</td><td>  29425036.0</td><td> 29853146</td><td>0</td><td>0.002098090</td></tr>\n",
              "\t<tr><td>Dehejia-Wahba Sample</td><td>1</td><td>31</td><td> 9</td><td>1</td><td>0</td><td>0</td><td>1</td><td>10717.0303</td><td> 5517.841</td><td>⋯</td><td> 961</td><td>29791</td><td> 81</td><td>0</td><td>0</td><td> 96453.272</td><td> 114854737.9</td><td> 30446567</td><td>0</td><td>0.364696448</td></tr>\n",
              "\t<tr><td>Dehejia-Wahba Sample</td><td>1</td><td>22</td><td>10</td><td>1</td><td>0</td><td>1</td><td>1</td><td> 1468.3480</td><td> 5588.664</td><td>⋯</td><td> 484</td><td>10648</td><td>100</td><td>0</td><td>0</td><td> 14683.480</td><td>   2156045.9</td><td> 31233166</td><td>0</td><td>0.062699089</td></tr>\n",
              "\t<tr><td>Dehejia-Wahba Sample</td><td>1</td><td>21</td><td> 9</td><td>1</td><td>0</td><td>0</td><td>1</td><td> 6416.4702</td><td> 5749.331</td><td>⋯</td><td> 441</td><td> 9261</td><td> 81</td><td>0</td><td>0</td><td> 57748.232</td><td>  41171090.0</td><td> 33054808</td><td>0</td><td>0.186433416</td></tr>\n",
              "\t<tr><td>Dehejia-Wahba Sample</td><td>1</td><td>17</td><td>10</td><td>1</td><td>0</td><td>0</td><td>1</td><td> 1291.4680</td><td> 5793.852</td><td>⋯</td><td> 289</td><td> 4913</td><td>100</td><td>0</td><td>0</td><td> 12914.680</td><td>   1667889.6</td><td> 33568722</td><td>0</td><td>0.030354221</td></tr>\n",
              "\t<tr><td>Dehejia-Wahba Sample</td><td>1</td><td>26</td><td>12</td><td>1</td><td>0</td><td>1</td><td>0</td><td> 8408.7617</td><td> 5794.831</td><td>⋯</td><td> 676</td><td>17576</td><td>144</td><td>0</td><td>0</td><td>100905.141</td><td>  70707273.6</td><td> 33580067</td><td>0</td><td>0.038318620</td></tr>\n",
              "\t<tr><td>Dehejia-Wahba Sample</td><td>1</td><td>20</td><td> 9</td><td>0</td><td>1</td><td>0</td><td>1</td><td>12260.7803</td><td> 5875.049</td><td>⋯</td><td> 400</td><td> 8000</td><td> 81</td><td>0</td><td>0</td><td>110347.022</td><td> 150326732.9</td><td> 34516199</td><td>0</td><td>0.015084579</td></tr>\n",
              "\t<tr><td>Dehejia-Wahba Sample</td><td>1</td><td>19</td><td>10</td><td>1</td><td>0</td><td>0</td><td>1</td><td> 4121.9492</td><td> 6056.754</td><td>⋯</td><td> 361</td><td> 6859</td><td>100</td><td>0</td><td>0</td><td> 41219.492</td><td>  16990465.4</td><td> 36684268</td><td>0</td><td>0.083576693</td></tr>\n",
              "\t<tr><td>Dehejia-Wahba Sample</td><td>1</td><td>26</td><td>10</td><td>1</td><td>0</td><td>0</td><td>1</td><td>25929.6797</td><td> 6788.958</td><td>⋯</td><td> 676</td><td>17576</td><td>100</td><td>0</td><td>0</td><td>259296.797</td><td> 672348288.7</td><td> 46089951</td><td>0</td><td>0.352584977</td></tr>\n",
              "\t<tr><td>Dehejia-Wahba Sample</td><td>1</td><td>28</td><td>11</td><td>1</td><td>0</td><td>0</td><td>1</td><td> 1929.0291</td><td> 6871.856</td><td>⋯</td><td> 784</td><td>21952</td><td>121</td><td>0</td><td>0</td><td> 21219.320</td><td>   3721153.1</td><td> 47222404</td><td>0</td><td>0.304244485</td></tr>\n",
              "\t<tr><td>Dehejia-Wahba Sample</td><td>1</td><td>22</td><td>12</td><td>0</td><td>1</td><td>1</td><td>0</td><td>  492.2305</td><td> 7055.702</td><td>⋯</td><td> 484</td><td>10648</td><td>144</td><td>0</td><td>0</td><td>  5906.766</td><td>    242290.9</td><td> 49782933</td><td>0</td><td>0.001175736</td></tr>\n",
              "\t<tr><td>Dehejia-Wahba Sample</td><td>1</td><td>33</td><td>11</td><td>1</td><td>0</td><td>0</td><td>1</td><td>    0.0000</td><td> 7867.916</td><td>⋯</td><td>1089</td><td>35937</td><td>121</td><td>1</td><td>0</td><td>     0.000</td><td>         0.0</td><td> 61904102</td><td>0</td><td>0.561904353</td></tr>\n",
              "\t<tr><td>Dehejia-Wahba Sample</td><td>1</td><td>22</td><td>12</td><td>0</td><td>0</td><td>0</td><td>0</td><td> 6759.9941</td><td> 8455.504</td><td>⋯</td><td> 484</td><td>10648</td><td>144</td><td>0</td><td>0</td><td> 81119.930</td><td>  45697520.8</td><td> 71495546</td><td>0</td><td>0.001061388</td></tr>\n",
              "\t<tr><td>Dehejia-Wahba Sample</td><td>1</td><td>29</td><td>10</td><td>0</td><td>1</td><td>0</td><td>1</td><td>    0.0000</td><td> 8853.674</td><td>⋯</td><td> 841</td><td>24389</td><td>100</td><td>1</td><td>0</td><td>     0.000</td><td>         0.0</td><td> 78387540</td><td>1</td><td>0.192066692</td></tr>\n",
              "\t<tr><td>Dehejia-Wahba Sample</td><td>1</td><td>33</td><td>12</td><td>1</td><td>0</td><td>1</td><td>0</td><td>20279.9492</td><td>10941.350</td><td>⋯</td><td>1089</td><td>35937</td><td>144</td><td>0</td><td>0</td><td>243359.391</td><td> 411276340.3</td><td>119713131</td><td>0</td><td>0.017294844</td></tr>\n",
              "\t<tr><td>Dehejia-Wahba Sample</td><td>1</td><td>25</td><td>14</td><td>1</td><td>0</td><td>1</td><td>0</td><td>35040.0703</td><td>11536.570</td><td>⋯</td><td> 625</td><td>15625</td><td>196</td><td>0</td><td>0</td><td>490560.984</td><td>1227806527.5</td><td>133092455</td><td>0</td><td>0.057790307</td></tr>\n",
              "\t<tr><td>Dehejia-Wahba Sample</td><td>1</td><td>35</td><td> 9</td><td>1</td><td>0</td><td>1</td><td>1</td><td>13602.4297</td><td>13830.640</td><td>⋯</td><td>1225</td><td>42875</td><td> 81</td><td>0</td><td>0</td><td>122421.867</td><td> 185026093.4</td><td>191286593</td><td>0</td><td>0.011910791</td></tr>\n",
              "\t<tr><td>Dehejia-Wahba Sample</td><td>1</td><td>35</td><td> 8</td><td>1</td><td>0</td><td>1</td><td>1</td><td>13732.0703</td><td>17976.150</td><td>⋯</td><td>1225</td><td>42875</td><td> 64</td><td>0</td><td>0</td><td>109856.562</td><td> 188569755.1</td><td>323141983</td><td>0</td><td>0.004091577</td></tr>\n",
              "\t<tr><td>Dehejia-Wahba Sample</td><td>1</td><td>33</td><td>11</td><td>1</td><td>0</td><td>1</td><td>1</td><td>14660.7100</td><td>25142.240</td><td>⋯</td><td>1089</td><td>35937</td><td>121</td><td>0</td><td>0</td><td>161267.810</td><td> 214936416.6</td><td>632132244</td><td>0</td><td>0.002227829</td></tr>\n",
              "</tbody>\n",
              "</table>\n"
            ],
            "text/markdown": "\nA tibble: 16177 × 21\n\n| data_id &lt;chr&gt; | treat &lt;dbl&gt; | age &lt;dbl&gt; | educ &lt;dbl&gt; | black &lt;dbl&gt; | hisp &lt;dbl&gt; | marr &lt;dbl&gt; | nodegree &lt;dbl&gt; | re74 &lt;dbl&gt; | re75 &lt;dbl&gt; | ⋯ ⋯ | agesq &lt;dbl&gt; | agecube &lt;dbl&gt; | educsq &lt;dbl&gt; | u74 &lt;dbl&gt; | u75 &lt;dbl&gt; | interaction1 &lt;dbl&gt; | re74sq &lt;dbl&gt; | re75sq &lt;dbl&gt; | interaction2 &lt;dbl&gt; | pscore &lt;dbl&gt; |\n|---|---|---|---|---|---|---|---|---|---|---|---|---|---|---|---|---|---|---|---|---|\n| CPS1 | 0 | 45 | 11 | 0 | 0 | 1 | 1 | 21516.6699 | 25243.551 | ⋯ | 2025 |  91125 | 121 | 0 | 0 | 236683.369 | 462967084.5 | 637236856 | 0 | 4.709117e-06 |\n| CPS1 | 0 | 21 | 14 | 0 | 0 | 0 | 0 |  3175.9709 |  5852.565 | ⋯ |  441 |   9261 | 196 | 0 | 0 |  44463.593 |  10086791.5 |  34252516 | 0 | 4.066875e-04 |\n| CPS1 | 0 | 38 | 12 | 0 | 0 | 1 | 0 | 23039.0195 | 25130.760 | ⋯ | 1444 |  54872 | 144 | 0 | 0 | 276468.234 | 530796421.0 | 631555086 | 0 | 9.781579e-06 |\n| CPS1 | 0 | 48 |  6 | 0 | 0 | 1 | 1 | 24994.3691 | 25243.551 | ⋯ | 2304 | 110592 |  36 | 0 | 0 | 149966.215 | 624718488.7 | 637236856 | 0 | 2.667018e-07 |\n| CPS1 | 0 | 18 |  8 | 0 | 0 | 1 | 1 |  1669.2950 | 10727.610 | ⋯ |  324 |   5832 |  64 | 0 | 0 |  13354.360 |   2786545.9 | 115081624 | 0 | 1.103196e-04 |\n| CPS1 | 0 | 22 | 11 | 0 | 0 | 1 | 1 | 16365.7598 | 18449.270 | ⋯ |  484 |  10648 | 121 | 0 | 0 | 180023.357 | 267838092.7 | 340375546 | 0 | 1.269277e-04 |\n| CPS1 | 0 | 48 | 10 | 0 | 0 | 1 | 1 | 16804.6309 | 16354.600 | ⋯ | 2304 | 110592 | 100 | 0 | 0 | 168046.309 | 282395618.3 | 267472928 | 0 | 1.448031e-05 |\n| CPS1 | 0 | 18 | 11 | 0 | 0 | 0 | 1 |  1144.2120 |  3620.032 | ⋯ |  324 |   5832 | 121 | 0 | 0 |  12586.332 |   1309221.2 |  13104632 | 0 | 1.437221e-03 |\n| CPS1 | 0 | 48 |  9 | 0 | 0 | 1 | 1 | 25862.3203 | 25243.551 | ⋯ | 2304 | 110592 |  81 | 0 | 0 | 232760.883 | 668859611.9 | 637236856 | 0 | 1.694336e-06 |\n| CPS1 | 0 | 45 | 12 | 0 | 0 | 1 | 0 | 25862.3203 |     0.000 | ⋯ | 2025 |  91125 | 144 | 0 | 1 | 310347.844 | 668859611.9 |         0 | 0 | 3.616981e-04 |\n| CPS1 | 0 | 34 | 14 | 0 | 0 | 1 | 0 | 25862.3203 | 23746.840 | ⋯ | 1156 |  39304 | 196 | 0 | 0 | 362072.484 | 668859611.9 | 563912403 | 0 | 3.382750e-05 |\n| CPS1 | 0 | 16 | 10 | 0 | 0 | 0 | 1 |  1026.6560 |  1224.581 | ⋯ |  256 |   4096 | 100 | 0 | 0 |  10266.560 |   1054022.6 |   1499599 | 0 | 8.357869e-04 |\n| CPS1 | 0 | 53 | 10 | 0 | 0 | 1 | 1 | 25862.3203 | 25243.551 | ⋯ | 2809 | 148877 | 100 | 0 | 0 | 258623.203 | 668859611.9 | 637236856 | 0 | 2.403644e-06 |\n| CPS1 | 0 | 19 | 12 | 0 | 0 | 0 | 0 |   867.9552 |  4386.290 | ⋯ |  361 |   6859 | 144 | 0 | 0 |  10415.462 |    753346.2 |  19239540 | 0 | 5.647730e-04 |\n| CPS1 | 0 | 27 | 12 | 0 | 0 | 1 | 0 | 25862.3203 | 19047.240 | ⋯ |  729 |  19683 | 144 | 0 | 0 | 310347.844 | 668859611.9 | 362797361 | 0 | 1.485947e-04 |\n| CPS1 | 0 | 32 | 10 | 0 | 0 | 1 | 1 | 20427.3203 | 23374.449 | ⋯ | 1024 |  32768 | 100 | 0 | 0 | 204273.203 | 417275415.1 | 546364876 | 0 | 7.471734e-05 |\n| CPS1 | 0 | 27 | 12 | 0 | 0 | 1 | 0 | 20983.7500 | 14822.080 | ⋯ |  729 |  19683 | 144 | 0 | 0 | 251805.000 | 440317764.1 | 219694058 | 0 | 2.722841e-04 |\n| CPS1 | 0 | 46 |  7 | 0 | 0 | 1 | 1 | 19171.4297 |  1317.677 | ⋯ | 2116 |  97336 |  49 | 0 | 0 | 134200.008 | 367543716.3 |   1736273 | 0 | 1.163745e-04 |\n| CPS1 | 0 | 24 | 13 | 0 | 0 | 0 | 0 | 20830.9199 | 25243.551 | ⋯ |  576 |  13824 | 169 | 0 | 0 | 270801.959 | 433927224.8 | 637236856 | 0 | 1.147605e-04 |\n| CPS1 | 0 | 22 | 13 | 0 | 0 | 0 | 0 | 11036.5498 | 10351.650 | ⋯ |  484 |  10648 | 169 | 0 | 0 | 143475.147 | 121805431.6 | 107156666 | 0 | 6.871982e-04 |\n| CPS1 | 0 | 49 | 10 | 0 | 0 | 1 | 1 |   391.8534 |     0.000 | ⋯ | 2401 | 117649 | 100 | 0 | 1 |   3918.534 |    153549.1 |         0 | 0 | 3.256693e-04 |\n| CPS1 | 0 | 17 | 10 | 0 | 0 | 0 | 1 |     0.0000 |     0.000 | ⋯ |  289 |   4913 | 100 | 1 | 1 |      0.000 |         0.0 |         0 | 0 | 1.192221e-02 |\n| CPS1 | 0 | 29 | 14 | 0 | 0 | 1 | 0 | 21499.0293 | 22586.711 | ⋯ |  841 |  24389 | 196 | 0 | 0 | 300986.410 | 462208260.7 | 510159511 | 0 | 5.079859e-05 |\n| CPS1 | 0 | 28 | 16 | 0 | 0 | 1 | 0 | 16500.9492 |     0.000 | ⋯ |  784 |  21952 | 256 | 0 | 1 | 264015.188 | 272281325.1 |         0 | 0 | 1.214799e-03 |\n| CPS1 | 0 | 46 | 12 | 0 | 0 | 1 | 0 | 24814.1094 | 24967.840 | ⋯ | 2116 |  97336 | 144 | 0 | 0 | 297769.312 | 615740024.1 | 623393026 | 0 | 2.126724e-06 |\n| CPS1 | 0 | 26 | 17 | 1 | 0 | 1 | 0 |     0.0000 |     0.000 | ⋯ |  676 |  17576 | 289 | 1 | 1 |      0.000 |         0.0 |         0 | 0 | 1.233351e-02 |\n| CPS1 | 0 | 49 | 12 | 0 | 0 | 0 | 0 | 25862.3203 | 25243.551 | ⋯ | 2401 | 117649 | 144 | 0 | 0 | 310347.844 | 668859611.9 | 637236856 | 0 | 7.147028e-06 |\n| CPS1 | 0 | 51 | 10 | 0 | 0 | 1 | 1 | 25862.3203 | 25243.551 | ⋯ | 2601 | 132651 | 100 | 0 | 0 | 258623.203 | 668859611.9 | 637236856 | 0 | 2.197001e-06 |\n| CPS1 | 0 | 51 | 10 | 0 | 0 | 1 | 1 | 22923.4199 | 21725.561 | ⋯ | 2601 | 132651 | 100 | 0 | 0 | 229234.199 | 525483180.9 | 471999981 | 0 | 4.367302e-06 |\n| CPS1 | 0 | 27 | 11 | 0 | 0 | 1 | 1 | 17022.1094 | 18123.439 | ⋯ |  729 |  19683 | 121 | 0 | 0 | 187243.203 | 289752207.6 | 328459058 | 0 | 3.027005e-04 |\n| ⋮ | ⋮ | ⋮ | ⋮ | ⋮ | ⋮ | ⋮ | ⋮ | ⋮ | ⋮ | ⋱ | ⋮ | ⋮ | ⋮ | ⋮ | ⋮ | ⋮ | ⋮ | ⋮ | ⋮ | ⋮ |\n| Dehejia-Wahba Sample | 1 | 25 | 13 | 1 | 0 | 0 | 0 | 12362.9297 |  3090.732 | ⋯ |  625 | 15625 | 169 | 0 | 0 | 160718.086 |  152842030.5 |   9552624 | 0 | 0.216482148 |\n| Dehejia-Wahba Sample | 1 | 18 |  9 | 1 | 0 | 0 | 1 |     0.0000 |  3287.375 | ⋯ |  324 |  5832 |  81 | 1 | 0 |      0.000 |          0.0 |  10806834 | 0 | 0.385320672 |\n| Dehejia-Wahba Sample | 1 | 21 | 12 | 1 | 0 | 0 | 0 |  6473.6831 |  3332.409 | ⋯ |  441 |  9261 | 144 | 0 | 0 |  77684.197 |   41908573.0 |  11104949 | 0 | 0.089196976 |\n| Dehejia-Wahba Sample | 1 | 27 | 10 | 1 | 0 | 0 | 1 |  1001.1460 |  3550.075 | ⋯ |  729 | 19683 | 100 | 0 | 0 |  10011.460 |    1002293.3 |  12603032 | 0 | 0.510403043 |\n| Dehejia-Wahba Sample | 1 | 21 |  8 | 1 | 0 | 0 | 1 |   989.2678 |  3695.897 | ⋯ |  441 |  9261 |  64 | 0 | 0 |   7914.143 |     978650.8 |  13659654 | 0 | 0.282279225 |\n| Dehejia-Wahba Sample | 1 | 22 |  9 | 1 | 0 | 0 | 1 |  2192.8770 |  3836.986 | ⋯ |  484 | 10648 |  81 | 0 | 0 |  19735.893 |    4808709.3 |  14722462 | 0 | 0.334353609 |\n| Dehejia-Wahba Sample | 1 | 31 |  4 | 1 | 0 | 0 | 1 |  8517.5889 |  4023.211 | ⋯ |  961 | 29791 |  16 | 0 | 0 |  34070.355 |   72549320.1 |  16186226 | 0 | 0.112219418 |\n| Dehejia-Wahba Sample | 1 | 24 | 10 | 1 | 0 | 1 | 1 | 11703.2002 |  4078.152 | ⋯ |  576 | 13824 | 100 | 0 | 0 | 117032.002 |  136964894.8 |  16631325 | 0 | 0.128147690 |\n| Dehejia-Wahba Sample | 1 | 29 | 10 | 1 | 0 | 0 | 1 |     0.0000 |  4398.950 | ⋯ |  841 | 24389 | 100 | 1 | 0 |      0.000 |          0.0 |  19350763 | 0 | 0.834421300 |\n| Dehejia-Wahba Sample | 1 | 29 | 12 | 1 | 0 | 0 | 0 |  9748.3867 |  4878.937 | ⋯ |  841 | 24389 | 144 | 0 | 0 | 116980.641 |   95031043.6 |  23804026 | 0 | 0.202759531 |\n| Dehejia-Wahba Sample | 1 | 19 | 10 | 0 | 0 | 0 | 1 |     0.0000 |  5324.109 | ⋯ |  361 |  6859 | 100 | 1 | 0 |      0.000 |          0.0 |  28346135 | 0 | 0.012623155 |\n| Dehejia-Wahba Sample | 1 | 19 | 11 | 0 | 1 | 1 | 1 |  5424.4849 |  5463.803 | ⋯ |  361 |  6859 | 121 | 0 | 0 |  59669.333 |   29425036.0 |  29853146 | 0 | 0.002098090 |\n| Dehejia-Wahba Sample | 1 | 31 |  9 | 1 | 0 | 0 | 1 | 10717.0303 |  5517.841 | ⋯ |  961 | 29791 |  81 | 0 | 0 |  96453.272 |  114854737.9 |  30446567 | 0 | 0.364696448 |\n| Dehejia-Wahba Sample | 1 | 22 | 10 | 1 | 0 | 1 | 1 |  1468.3480 |  5588.664 | ⋯ |  484 | 10648 | 100 | 0 | 0 |  14683.480 |    2156045.9 |  31233166 | 0 | 0.062699089 |\n| Dehejia-Wahba Sample | 1 | 21 |  9 | 1 | 0 | 0 | 1 |  6416.4702 |  5749.331 | ⋯ |  441 |  9261 |  81 | 0 | 0 |  57748.232 |   41171090.0 |  33054808 | 0 | 0.186433416 |\n| Dehejia-Wahba Sample | 1 | 17 | 10 | 1 | 0 | 0 | 1 |  1291.4680 |  5793.852 | ⋯ |  289 |  4913 | 100 | 0 | 0 |  12914.680 |    1667889.6 |  33568722 | 0 | 0.030354221 |\n| Dehejia-Wahba Sample | 1 | 26 | 12 | 1 | 0 | 1 | 0 |  8408.7617 |  5794.831 | ⋯ |  676 | 17576 | 144 | 0 | 0 | 100905.141 |   70707273.6 |  33580067 | 0 | 0.038318620 |\n| Dehejia-Wahba Sample | 1 | 20 |  9 | 0 | 1 | 0 | 1 | 12260.7803 |  5875.049 | ⋯ |  400 |  8000 |  81 | 0 | 0 | 110347.022 |  150326732.9 |  34516199 | 0 | 0.015084579 |\n| Dehejia-Wahba Sample | 1 | 19 | 10 | 1 | 0 | 0 | 1 |  4121.9492 |  6056.754 | ⋯ |  361 |  6859 | 100 | 0 | 0 |  41219.492 |   16990465.4 |  36684268 | 0 | 0.083576693 |\n| Dehejia-Wahba Sample | 1 | 26 | 10 | 1 | 0 | 0 | 1 | 25929.6797 |  6788.958 | ⋯ |  676 | 17576 | 100 | 0 | 0 | 259296.797 |  672348288.7 |  46089951 | 0 | 0.352584977 |\n| Dehejia-Wahba Sample | 1 | 28 | 11 | 1 | 0 | 0 | 1 |  1929.0291 |  6871.856 | ⋯ |  784 | 21952 | 121 | 0 | 0 |  21219.320 |    3721153.1 |  47222404 | 0 | 0.304244485 |\n| Dehejia-Wahba Sample | 1 | 22 | 12 | 0 | 1 | 1 | 0 |   492.2305 |  7055.702 | ⋯ |  484 | 10648 | 144 | 0 | 0 |   5906.766 |     242290.9 |  49782933 | 0 | 0.001175736 |\n| Dehejia-Wahba Sample | 1 | 33 | 11 | 1 | 0 | 0 | 1 |     0.0000 |  7867.916 | ⋯ | 1089 | 35937 | 121 | 1 | 0 |      0.000 |          0.0 |  61904102 | 0 | 0.561904353 |\n| Dehejia-Wahba Sample | 1 | 22 | 12 | 0 | 0 | 0 | 0 |  6759.9941 |  8455.504 | ⋯ |  484 | 10648 | 144 | 0 | 0 |  81119.930 |   45697520.8 |  71495546 | 0 | 0.001061388 |\n| Dehejia-Wahba Sample | 1 | 29 | 10 | 0 | 1 | 0 | 1 |     0.0000 |  8853.674 | ⋯ |  841 | 24389 | 100 | 1 | 0 |      0.000 |          0.0 |  78387540 | 1 | 0.192066692 |\n| Dehejia-Wahba Sample | 1 | 33 | 12 | 1 | 0 | 1 | 0 | 20279.9492 | 10941.350 | ⋯ | 1089 | 35937 | 144 | 0 | 0 | 243359.391 |  411276340.3 | 119713131 | 0 | 0.017294844 |\n| Dehejia-Wahba Sample | 1 | 25 | 14 | 1 | 0 | 1 | 0 | 35040.0703 | 11536.570 | ⋯ |  625 | 15625 | 196 | 0 | 0 | 490560.984 | 1227806527.5 | 133092455 | 0 | 0.057790307 |\n| Dehejia-Wahba Sample | 1 | 35 |  9 | 1 | 0 | 1 | 1 | 13602.4297 | 13830.640 | ⋯ | 1225 | 42875 |  81 | 0 | 0 | 122421.867 |  185026093.4 | 191286593 | 0 | 0.011910791 |\n| Dehejia-Wahba Sample | 1 | 35 |  8 | 1 | 0 | 1 | 1 | 13732.0703 | 17976.150 | ⋯ | 1225 | 42875 |  64 | 0 | 0 | 109856.562 |  188569755.1 | 323141983 | 0 | 0.004091577 |\n| Dehejia-Wahba Sample | 1 | 33 | 11 | 1 | 0 | 1 | 1 | 14660.7100 | 25142.240 | ⋯ | 1089 | 35937 | 121 | 0 | 0 | 161267.810 |  214936416.6 | 632132244 | 0 | 0.002227829 |\n\n",
            "text/latex": "A tibble: 16177 × 21\n\\begin{tabular}{lllllllllllllllllllll}\n data\\_id & treat & age & educ & black & hisp & marr & nodegree & re74 & re75 & ⋯ & agesq & agecube & educsq & u74 & u75 & interaction1 & re74sq & re75sq & interaction2 & pscore\\\\\n <chr> & <dbl> & <dbl> & <dbl> & <dbl> & <dbl> & <dbl> & <dbl> & <dbl> & <dbl> & ⋯ & <dbl> & <dbl> & <dbl> & <dbl> & <dbl> & <dbl> & <dbl> & <dbl> & <dbl> & <dbl>\\\\\n\\hline\n\t CPS1 & 0 & 45 & 11 & 0 & 0 & 1 & 1 & 21516.6699 & 25243.551 & ⋯ & 2025 &  91125 & 121 & 0 & 0 & 236683.369 & 462967084.5 & 637236856 & 0 & 4.709117e-06\\\\\n\t CPS1 & 0 & 21 & 14 & 0 & 0 & 0 & 0 &  3175.9709 &  5852.565 & ⋯ &  441 &   9261 & 196 & 0 & 0 &  44463.593 &  10086791.5 &  34252516 & 0 & 4.066875e-04\\\\\n\t CPS1 & 0 & 38 & 12 & 0 & 0 & 1 & 0 & 23039.0195 & 25130.760 & ⋯ & 1444 &  54872 & 144 & 0 & 0 & 276468.234 & 530796421.0 & 631555086 & 0 & 9.781579e-06\\\\\n\t CPS1 & 0 & 48 &  6 & 0 & 0 & 1 & 1 & 24994.3691 & 25243.551 & ⋯ & 2304 & 110592 &  36 & 0 & 0 & 149966.215 & 624718488.7 & 637236856 & 0 & 2.667018e-07\\\\\n\t CPS1 & 0 & 18 &  8 & 0 & 0 & 1 & 1 &  1669.2950 & 10727.610 & ⋯ &  324 &   5832 &  64 & 0 & 0 &  13354.360 &   2786545.9 & 115081624 & 0 & 1.103196e-04\\\\\n\t CPS1 & 0 & 22 & 11 & 0 & 0 & 1 & 1 & 16365.7598 & 18449.270 & ⋯ &  484 &  10648 & 121 & 0 & 0 & 180023.357 & 267838092.7 & 340375546 & 0 & 1.269277e-04\\\\\n\t CPS1 & 0 & 48 & 10 & 0 & 0 & 1 & 1 & 16804.6309 & 16354.600 & ⋯ & 2304 & 110592 & 100 & 0 & 0 & 168046.309 & 282395618.3 & 267472928 & 0 & 1.448031e-05\\\\\n\t CPS1 & 0 & 18 & 11 & 0 & 0 & 0 & 1 &  1144.2120 &  3620.032 & ⋯ &  324 &   5832 & 121 & 0 & 0 &  12586.332 &   1309221.2 &  13104632 & 0 & 1.437221e-03\\\\\n\t CPS1 & 0 & 48 &  9 & 0 & 0 & 1 & 1 & 25862.3203 & 25243.551 & ⋯ & 2304 & 110592 &  81 & 0 & 0 & 232760.883 & 668859611.9 & 637236856 & 0 & 1.694336e-06\\\\\n\t CPS1 & 0 & 45 & 12 & 0 & 0 & 1 & 0 & 25862.3203 &     0.000 & ⋯ & 2025 &  91125 & 144 & 0 & 1 & 310347.844 & 668859611.9 &         0 & 0 & 3.616981e-04\\\\\n\t CPS1 & 0 & 34 & 14 & 0 & 0 & 1 & 0 & 25862.3203 & 23746.840 & ⋯ & 1156 &  39304 & 196 & 0 & 0 & 362072.484 & 668859611.9 & 563912403 & 0 & 3.382750e-05\\\\\n\t CPS1 & 0 & 16 & 10 & 0 & 0 & 0 & 1 &  1026.6560 &  1224.581 & ⋯ &  256 &   4096 & 100 & 0 & 0 &  10266.560 &   1054022.6 &   1499599 & 0 & 8.357869e-04\\\\\n\t CPS1 & 0 & 53 & 10 & 0 & 0 & 1 & 1 & 25862.3203 & 25243.551 & ⋯ & 2809 & 148877 & 100 & 0 & 0 & 258623.203 & 668859611.9 & 637236856 & 0 & 2.403644e-06\\\\\n\t CPS1 & 0 & 19 & 12 & 0 & 0 & 0 & 0 &   867.9552 &  4386.290 & ⋯ &  361 &   6859 & 144 & 0 & 0 &  10415.462 &    753346.2 &  19239540 & 0 & 5.647730e-04\\\\\n\t CPS1 & 0 & 27 & 12 & 0 & 0 & 1 & 0 & 25862.3203 & 19047.240 & ⋯ &  729 &  19683 & 144 & 0 & 0 & 310347.844 & 668859611.9 & 362797361 & 0 & 1.485947e-04\\\\\n\t CPS1 & 0 & 32 & 10 & 0 & 0 & 1 & 1 & 20427.3203 & 23374.449 & ⋯ & 1024 &  32768 & 100 & 0 & 0 & 204273.203 & 417275415.1 & 546364876 & 0 & 7.471734e-05\\\\\n\t CPS1 & 0 & 27 & 12 & 0 & 0 & 1 & 0 & 20983.7500 & 14822.080 & ⋯ &  729 &  19683 & 144 & 0 & 0 & 251805.000 & 440317764.1 & 219694058 & 0 & 2.722841e-04\\\\\n\t CPS1 & 0 & 46 &  7 & 0 & 0 & 1 & 1 & 19171.4297 &  1317.677 & ⋯ & 2116 &  97336 &  49 & 0 & 0 & 134200.008 & 367543716.3 &   1736273 & 0 & 1.163745e-04\\\\\n\t CPS1 & 0 & 24 & 13 & 0 & 0 & 0 & 0 & 20830.9199 & 25243.551 & ⋯ &  576 &  13824 & 169 & 0 & 0 & 270801.959 & 433927224.8 & 637236856 & 0 & 1.147605e-04\\\\\n\t CPS1 & 0 & 22 & 13 & 0 & 0 & 0 & 0 & 11036.5498 & 10351.650 & ⋯ &  484 &  10648 & 169 & 0 & 0 & 143475.147 & 121805431.6 & 107156666 & 0 & 6.871982e-04\\\\\n\t CPS1 & 0 & 49 & 10 & 0 & 0 & 1 & 1 &   391.8534 &     0.000 & ⋯ & 2401 & 117649 & 100 & 0 & 1 &   3918.534 &    153549.1 &         0 & 0 & 3.256693e-04\\\\\n\t CPS1 & 0 & 17 & 10 & 0 & 0 & 0 & 1 &     0.0000 &     0.000 & ⋯ &  289 &   4913 & 100 & 1 & 1 &      0.000 &         0.0 &         0 & 0 & 1.192221e-02\\\\\n\t CPS1 & 0 & 29 & 14 & 0 & 0 & 1 & 0 & 21499.0293 & 22586.711 & ⋯ &  841 &  24389 & 196 & 0 & 0 & 300986.410 & 462208260.7 & 510159511 & 0 & 5.079859e-05\\\\\n\t CPS1 & 0 & 28 & 16 & 0 & 0 & 1 & 0 & 16500.9492 &     0.000 & ⋯ &  784 &  21952 & 256 & 0 & 1 & 264015.188 & 272281325.1 &         0 & 0 & 1.214799e-03\\\\\n\t CPS1 & 0 & 46 & 12 & 0 & 0 & 1 & 0 & 24814.1094 & 24967.840 & ⋯ & 2116 &  97336 & 144 & 0 & 0 & 297769.312 & 615740024.1 & 623393026 & 0 & 2.126724e-06\\\\\n\t CPS1 & 0 & 26 & 17 & 1 & 0 & 1 & 0 &     0.0000 &     0.000 & ⋯ &  676 &  17576 & 289 & 1 & 1 &      0.000 &         0.0 &         0 & 0 & 1.233351e-02\\\\\n\t CPS1 & 0 & 49 & 12 & 0 & 0 & 0 & 0 & 25862.3203 & 25243.551 & ⋯ & 2401 & 117649 & 144 & 0 & 0 & 310347.844 & 668859611.9 & 637236856 & 0 & 7.147028e-06\\\\\n\t CPS1 & 0 & 51 & 10 & 0 & 0 & 1 & 1 & 25862.3203 & 25243.551 & ⋯ & 2601 & 132651 & 100 & 0 & 0 & 258623.203 & 668859611.9 & 637236856 & 0 & 2.197001e-06\\\\\n\t CPS1 & 0 & 51 & 10 & 0 & 0 & 1 & 1 & 22923.4199 & 21725.561 & ⋯ & 2601 & 132651 & 100 & 0 & 0 & 229234.199 & 525483180.9 & 471999981 & 0 & 4.367302e-06\\\\\n\t CPS1 & 0 & 27 & 11 & 0 & 0 & 1 & 1 & 17022.1094 & 18123.439 & ⋯ &  729 &  19683 & 121 & 0 & 0 & 187243.203 & 289752207.6 & 328459058 & 0 & 3.027005e-04\\\\\n\t ⋮ & ⋮ & ⋮ & ⋮ & ⋮ & ⋮ & ⋮ & ⋮ & ⋮ & ⋮ & ⋱ & ⋮ & ⋮ & ⋮ & ⋮ & ⋮ & ⋮ & ⋮ & ⋮ & ⋮ & ⋮\\\\\n\t Dehejia-Wahba Sample & 1 & 25 & 13 & 1 & 0 & 0 & 0 & 12362.9297 &  3090.732 & ⋯ &  625 & 15625 & 169 & 0 & 0 & 160718.086 &  152842030.5 &   9552624 & 0 & 0.216482148\\\\\n\t Dehejia-Wahba Sample & 1 & 18 &  9 & 1 & 0 & 0 & 1 &     0.0000 &  3287.375 & ⋯ &  324 &  5832 &  81 & 1 & 0 &      0.000 &          0.0 &  10806834 & 0 & 0.385320672\\\\\n\t Dehejia-Wahba Sample & 1 & 21 & 12 & 1 & 0 & 0 & 0 &  6473.6831 &  3332.409 & ⋯ &  441 &  9261 & 144 & 0 & 0 &  77684.197 &   41908573.0 &  11104949 & 0 & 0.089196976\\\\\n\t Dehejia-Wahba Sample & 1 & 27 & 10 & 1 & 0 & 0 & 1 &  1001.1460 &  3550.075 & ⋯ &  729 & 19683 & 100 & 0 & 0 &  10011.460 &    1002293.3 &  12603032 & 0 & 0.510403043\\\\\n\t Dehejia-Wahba Sample & 1 & 21 &  8 & 1 & 0 & 0 & 1 &   989.2678 &  3695.897 & ⋯ &  441 &  9261 &  64 & 0 & 0 &   7914.143 &     978650.8 &  13659654 & 0 & 0.282279225\\\\\n\t Dehejia-Wahba Sample & 1 & 22 &  9 & 1 & 0 & 0 & 1 &  2192.8770 &  3836.986 & ⋯ &  484 & 10648 &  81 & 0 & 0 &  19735.893 &    4808709.3 &  14722462 & 0 & 0.334353609\\\\\n\t Dehejia-Wahba Sample & 1 & 31 &  4 & 1 & 0 & 0 & 1 &  8517.5889 &  4023.211 & ⋯ &  961 & 29791 &  16 & 0 & 0 &  34070.355 &   72549320.1 &  16186226 & 0 & 0.112219418\\\\\n\t Dehejia-Wahba Sample & 1 & 24 & 10 & 1 & 0 & 1 & 1 & 11703.2002 &  4078.152 & ⋯ &  576 & 13824 & 100 & 0 & 0 & 117032.002 &  136964894.8 &  16631325 & 0 & 0.128147690\\\\\n\t Dehejia-Wahba Sample & 1 & 29 & 10 & 1 & 0 & 0 & 1 &     0.0000 &  4398.950 & ⋯ &  841 & 24389 & 100 & 1 & 0 &      0.000 &          0.0 &  19350763 & 0 & 0.834421300\\\\\n\t Dehejia-Wahba Sample & 1 & 29 & 12 & 1 & 0 & 0 & 0 &  9748.3867 &  4878.937 & ⋯ &  841 & 24389 & 144 & 0 & 0 & 116980.641 &   95031043.6 &  23804026 & 0 & 0.202759531\\\\\n\t Dehejia-Wahba Sample & 1 & 19 & 10 & 0 & 0 & 0 & 1 &     0.0000 &  5324.109 & ⋯ &  361 &  6859 & 100 & 1 & 0 &      0.000 &          0.0 &  28346135 & 0 & 0.012623155\\\\\n\t Dehejia-Wahba Sample & 1 & 19 & 11 & 0 & 1 & 1 & 1 &  5424.4849 &  5463.803 & ⋯ &  361 &  6859 & 121 & 0 & 0 &  59669.333 &   29425036.0 &  29853146 & 0 & 0.002098090\\\\\n\t Dehejia-Wahba Sample & 1 & 31 &  9 & 1 & 0 & 0 & 1 & 10717.0303 &  5517.841 & ⋯ &  961 & 29791 &  81 & 0 & 0 &  96453.272 &  114854737.9 &  30446567 & 0 & 0.364696448\\\\\n\t Dehejia-Wahba Sample & 1 & 22 & 10 & 1 & 0 & 1 & 1 &  1468.3480 &  5588.664 & ⋯ &  484 & 10648 & 100 & 0 & 0 &  14683.480 &    2156045.9 &  31233166 & 0 & 0.062699089\\\\\n\t Dehejia-Wahba Sample & 1 & 21 &  9 & 1 & 0 & 0 & 1 &  6416.4702 &  5749.331 & ⋯ &  441 &  9261 &  81 & 0 & 0 &  57748.232 &   41171090.0 &  33054808 & 0 & 0.186433416\\\\\n\t Dehejia-Wahba Sample & 1 & 17 & 10 & 1 & 0 & 0 & 1 &  1291.4680 &  5793.852 & ⋯ &  289 &  4913 & 100 & 0 & 0 &  12914.680 &    1667889.6 &  33568722 & 0 & 0.030354221\\\\\n\t Dehejia-Wahba Sample & 1 & 26 & 12 & 1 & 0 & 1 & 0 &  8408.7617 &  5794.831 & ⋯ &  676 & 17576 & 144 & 0 & 0 & 100905.141 &   70707273.6 &  33580067 & 0 & 0.038318620\\\\\n\t Dehejia-Wahba Sample & 1 & 20 &  9 & 0 & 1 & 0 & 1 & 12260.7803 &  5875.049 & ⋯ &  400 &  8000 &  81 & 0 & 0 & 110347.022 &  150326732.9 &  34516199 & 0 & 0.015084579\\\\\n\t Dehejia-Wahba Sample & 1 & 19 & 10 & 1 & 0 & 0 & 1 &  4121.9492 &  6056.754 & ⋯ &  361 &  6859 & 100 & 0 & 0 &  41219.492 &   16990465.4 &  36684268 & 0 & 0.083576693\\\\\n\t Dehejia-Wahba Sample & 1 & 26 & 10 & 1 & 0 & 0 & 1 & 25929.6797 &  6788.958 & ⋯ &  676 & 17576 & 100 & 0 & 0 & 259296.797 &  672348288.7 &  46089951 & 0 & 0.352584977\\\\\n\t Dehejia-Wahba Sample & 1 & 28 & 11 & 1 & 0 & 0 & 1 &  1929.0291 &  6871.856 & ⋯ &  784 & 21952 & 121 & 0 & 0 &  21219.320 &    3721153.1 &  47222404 & 0 & 0.304244485\\\\\n\t Dehejia-Wahba Sample & 1 & 22 & 12 & 0 & 1 & 1 & 0 &   492.2305 &  7055.702 & ⋯ &  484 & 10648 & 144 & 0 & 0 &   5906.766 &     242290.9 &  49782933 & 0 & 0.001175736\\\\\n\t Dehejia-Wahba Sample & 1 & 33 & 11 & 1 & 0 & 0 & 1 &     0.0000 &  7867.916 & ⋯ & 1089 & 35937 & 121 & 1 & 0 &      0.000 &          0.0 &  61904102 & 0 & 0.561904353\\\\\n\t Dehejia-Wahba Sample & 1 & 22 & 12 & 0 & 0 & 0 & 0 &  6759.9941 &  8455.504 & ⋯ &  484 & 10648 & 144 & 0 & 0 &  81119.930 &   45697520.8 &  71495546 & 0 & 0.001061388\\\\\n\t Dehejia-Wahba Sample & 1 & 29 & 10 & 0 & 1 & 0 & 1 &     0.0000 &  8853.674 & ⋯ &  841 & 24389 & 100 & 1 & 0 &      0.000 &          0.0 &  78387540 & 1 & 0.192066692\\\\\n\t Dehejia-Wahba Sample & 1 & 33 & 12 & 1 & 0 & 1 & 0 & 20279.9492 & 10941.350 & ⋯ & 1089 & 35937 & 144 & 0 & 0 & 243359.391 &  411276340.3 & 119713131 & 0 & 0.017294844\\\\\n\t Dehejia-Wahba Sample & 1 & 25 & 14 & 1 & 0 & 1 & 0 & 35040.0703 & 11536.570 & ⋯ &  625 & 15625 & 196 & 0 & 0 & 490560.984 & 1227806527.5 & 133092455 & 0 & 0.057790307\\\\\n\t Dehejia-Wahba Sample & 1 & 35 &  9 & 1 & 0 & 1 & 1 & 13602.4297 & 13830.640 & ⋯ & 1225 & 42875 &  81 & 0 & 0 & 122421.867 &  185026093.4 & 191286593 & 0 & 0.011910791\\\\\n\t Dehejia-Wahba Sample & 1 & 35 &  8 & 1 & 0 & 1 & 1 & 13732.0703 & 17976.150 & ⋯ & 1225 & 42875 &  64 & 0 & 0 & 109856.562 &  188569755.1 & 323141983 & 0 & 0.004091577\\\\\n\t Dehejia-Wahba Sample & 1 & 33 & 11 & 1 & 0 & 1 & 1 & 14660.7100 & 25142.240 & ⋯ & 1089 & 35937 & 121 & 0 & 0 & 161267.810 &  214936416.6 & 632132244 & 0 & 0.002227829\\\\\n\\end{tabular}\n",
            "text/plain": [
              "      data_id              treat age educ black hisp marr nodegree re74      \n",
              "1     CPS1                 0     45  11   0     0    1    1        21516.6699\n",
              "2     CPS1                 0     21  14   0     0    0    0         3175.9709\n",
              "3     CPS1                 0     38  12   0     0    1    0        23039.0195\n",
              "4     CPS1                 0     48   6   0     0    1    1        24994.3691\n",
              "5     CPS1                 0     18   8   0     0    1    1         1669.2950\n",
              "6     CPS1                 0     22  11   0     0    1    1        16365.7598\n",
              "7     CPS1                 0     48  10   0     0    1    1        16804.6309\n",
              "8     CPS1                 0     18  11   0     0    0    1         1144.2120\n",
              "9     CPS1                 0     48   9   0     0    1    1        25862.3203\n",
              "10    CPS1                 0     45  12   0     0    1    0        25862.3203\n",
              "11    CPS1                 0     34  14   0     0    1    0        25862.3203\n",
              "12    CPS1                 0     16  10   0     0    0    1         1026.6560\n",
              "13    CPS1                 0     53  10   0     0    1    1        25862.3203\n",
              "14    CPS1                 0     19  12   0     0    0    0          867.9552\n",
              "15    CPS1                 0     27  12   0     0    1    0        25862.3203\n",
              "16    CPS1                 0     32  10   0     0    1    1        20427.3203\n",
              "17    CPS1                 0     27  12   0     0    1    0        20983.7500\n",
              "18    CPS1                 0     46   7   0     0    1    1        19171.4297\n",
              "19    CPS1                 0     24  13   0     0    0    0        20830.9199\n",
              "20    CPS1                 0     22  13   0     0    0    0        11036.5498\n",
              "21    CPS1                 0     49  10   0     0    1    1          391.8534\n",
              "22    CPS1                 0     17  10   0     0    0    1            0.0000\n",
              "23    CPS1                 0     29  14   0     0    1    0        21499.0293\n",
              "24    CPS1                 0     28  16   0     0    1    0        16500.9492\n",
              "25    CPS1                 0     46  12   0     0    1    0        24814.1094\n",
              "26    CPS1                 0     26  17   1     0    1    0            0.0000\n",
              "27    CPS1                 0     49  12   0     0    0    0        25862.3203\n",
              "28    CPS1                 0     51  10   0     0    1    1        25862.3203\n",
              "29    CPS1                 0     51  10   0     0    1    1        22923.4199\n",
              "30    CPS1                 0     27  11   0     0    1    1        17022.1094\n",
              "⋮     ⋮                    ⋮     ⋮   ⋮    ⋮     ⋮    ⋮    ⋮        ⋮         \n",
              "16148 Dehejia-Wahba Sample 1     25  13   1     0    0    0        12362.9297\n",
              "16149 Dehejia-Wahba Sample 1     18   9   1     0    0    1            0.0000\n",
              "16150 Dehejia-Wahba Sample 1     21  12   1     0    0    0         6473.6831\n",
              "16151 Dehejia-Wahba Sample 1     27  10   1     0    0    1         1001.1460\n",
              "16152 Dehejia-Wahba Sample 1     21   8   1     0    0    1          989.2678\n",
              "16153 Dehejia-Wahba Sample 1     22   9   1     0    0    1         2192.8770\n",
              "16154 Dehejia-Wahba Sample 1     31   4   1     0    0    1         8517.5889\n",
              "16155 Dehejia-Wahba Sample 1     24  10   1     0    1    1        11703.2002\n",
              "16156 Dehejia-Wahba Sample 1     29  10   1     0    0    1            0.0000\n",
              "16157 Dehejia-Wahba Sample 1     29  12   1     0    0    0         9748.3867\n",
              "16158 Dehejia-Wahba Sample 1     19  10   0     0    0    1            0.0000\n",
              "16159 Dehejia-Wahba Sample 1     19  11   0     1    1    1         5424.4849\n",
              "16160 Dehejia-Wahba Sample 1     31   9   1     0    0    1        10717.0303\n",
              "16161 Dehejia-Wahba Sample 1     22  10   1     0    1    1         1468.3480\n",
              "16162 Dehejia-Wahba Sample 1     21   9   1     0    0    1         6416.4702\n",
              "16163 Dehejia-Wahba Sample 1     17  10   1     0    0    1         1291.4680\n",
              "16164 Dehejia-Wahba Sample 1     26  12   1     0    1    0         8408.7617\n",
              "16165 Dehejia-Wahba Sample 1     20   9   0     1    0    1        12260.7803\n",
              "16166 Dehejia-Wahba Sample 1     19  10   1     0    0    1         4121.9492\n",
              "16167 Dehejia-Wahba Sample 1     26  10   1     0    0    1        25929.6797\n",
              "16168 Dehejia-Wahba Sample 1     28  11   1     0    0    1         1929.0291\n",
              "16169 Dehejia-Wahba Sample 1     22  12   0     1    1    0          492.2305\n",
              "16170 Dehejia-Wahba Sample 1     33  11   1     0    0    1            0.0000\n",
              "16171 Dehejia-Wahba Sample 1     22  12   0     0    0    0         6759.9941\n",
              "16172 Dehejia-Wahba Sample 1     29  10   0     1    0    1            0.0000\n",
              "16173 Dehejia-Wahba Sample 1     33  12   1     0    1    0        20279.9492\n",
              "16174 Dehejia-Wahba Sample 1     25  14   1     0    1    0        35040.0703\n",
              "16175 Dehejia-Wahba Sample 1     35   9   1     0    1    1        13602.4297\n",
              "16176 Dehejia-Wahba Sample 1     35   8   1     0    1    1        13732.0703\n",
              "16177 Dehejia-Wahba Sample 1     33  11   1     0    1    1        14660.7100\n",
              "      re75      ⋯ agesq agecube educsq u74 u75 interaction1 re74sq      \n",
              "1     25243.551 ⋯ 2025   91125  121    0   0   236683.369   462967084.5 \n",
              "2      5852.565 ⋯  441    9261  196    0   0    44463.593    10086791.5 \n",
              "3     25130.760 ⋯ 1444   54872  144    0   0   276468.234   530796421.0 \n",
              "4     25243.551 ⋯ 2304  110592   36    0   0   149966.215   624718488.7 \n",
              "5     10727.610 ⋯  324    5832   64    0   0    13354.360     2786545.9 \n",
              "6     18449.270 ⋯  484   10648  121    0   0   180023.357   267838092.7 \n",
              "7     16354.600 ⋯ 2304  110592  100    0   0   168046.309   282395618.3 \n",
              "8      3620.032 ⋯  324    5832  121    0   0    12586.332     1309221.2 \n",
              "9     25243.551 ⋯ 2304  110592   81    0   0   232760.883   668859611.9 \n",
              "10        0.000 ⋯ 2025   91125  144    0   1   310347.844   668859611.9 \n",
              "11    23746.840 ⋯ 1156   39304  196    0   0   362072.484   668859611.9 \n",
              "12     1224.581 ⋯  256    4096  100    0   0    10266.560     1054022.6 \n",
              "13    25243.551 ⋯ 2809  148877  100    0   0   258623.203   668859611.9 \n",
              "14     4386.290 ⋯  361    6859  144    0   0    10415.462      753346.2 \n",
              "15    19047.240 ⋯  729   19683  144    0   0   310347.844   668859611.9 \n",
              "16    23374.449 ⋯ 1024   32768  100    0   0   204273.203   417275415.1 \n",
              "17    14822.080 ⋯  729   19683  144    0   0   251805.000   440317764.1 \n",
              "18     1317.677 ⋯ 2116   97336   49    0   0   134200.008   367543716.3 \n",
              "19    25243.551 ⋯  576   13824  169    0   0   270801.959   433927224.8 \n",
              "20    10351.650 ⋯  484   10648  169    0   0   143475.147   121805431.6 \n",
              "21        0.000 ⋯ 2401  117649  100    0   1     3918.534      153549.1 \n",
              "22        0.000 ⋯  289    4913  100    1   1        0.000           0.0 \n",
              "23    22586.711 ⋯  841   24389  196    0   0   300986.410   462208260.7 \n",
              "24        0.000 ⋯  784   21952  256    0   1   264015.188   272281325.1 \n",
              "25    24967.840 ⋯ 2116   97336  144    0   0   297769.312   615740024.1 \n",
              "26        0.000 ⋯  676   17576  289    1   1        0.000           0.0 \n",
              "27    25243.551 ⋯ 2401  117649  144    0   0   310347.844   668859611.9 \n",
              "28    25243.551 ⋯ 2601  132651  100    0   0   258623.203   668859611.9 \n",
              "29    21725.561 ⋯ 2601  132651  100    0   0   229234.199   525483180.9 \n",
              "30    18123.439 ⋯  729   19683  121    0   0   187243.203   289752207.6 \n",
              "⋮     ⋮         ⋱ ⋮     ⋮       ⋮      ⋮   ⋮   ⋮            ⋮           \n",
              "16148  3090.732 ⋯  625  15625   169    0   0   160718.086    152842030.5\n",
              "16149  3287.375 ⋯  324   5832    81    1   0        0.000            0.0\n",
              "16150  3332.409 ⋯  441   9261   144    0   0    77684.197     41908573.0\n",
              "16151  3550.075 ⋯  729  19683   100    0   0    10011.460      1002293.3\n",
              "16152  3695.897 ⋯  441   9261    64    0   0     7914.143       978650.8\n",
              "16153  3836.986 ⋯  484  10648    81    0   0    19735.893      4808709.3\n",
              "16154  4023.211 ⋯  961  29791    16    0   0    34070.355     72549320.1\n",
              "16155  4078.152 ⋯  576  13824   100    0   0   117032.002    136964894.8\n",
              "16156  4398.950 ⋯  841  24389   100    1   0        0.000            0.0\n",
              "16157  4878.937 ⋯  841  24389   144    0   0   116980.641     95031043.6\n",
              "16158  5324.109 ⋯  361   6859   100    1   0        0.000            0.0\n",
              "16159  5463.803 ⋯  361   6859   121    0   0    59669.333     29425036.0\n",
              "16160  5517.841 ⋯  961  29791    81    0   0    96453.272    114854737.9\n",
              "16161  5588.664 ⋯  484  10648   100    0   0    14683.480      2156045.9\n",
              "16162  5749.331 ⋯  441   9261    81    0   0    57748.232     41171090.0\n",
              "16163  5793.852 ⋯  289   4913   100    0   0    12914.680      1667889.6\n",
              "16164  5794.831 ⋯  676  17576   144    0   0   100905.141     70707273.6\n",
              "16165  5875.049 ⋯  400   8000    81    0   0   110347.022    150326732.9\n",
              "16166  6056.754 ⋯  361   6859   100    0   0    41219.492     16990465.4\n",
              "16167  6788.958 ⋯  676  17576   100    0   0   259296.797    672348288.7\n",
              "16168  6871.856 ⋯  784  21952   121    0   0    21219.320      3721153.1\n",
              "16169  7055.702 ⋯  484  10648   144    0   0     5906.766       242290.9\n",
              "16170  7867.916 ⋯ 1089  35937   121    1   0        0.000            0.0\n",
              "16171  8455.504 ⋯  484  10648   144    0   0    81119.930     45697520.8\n",
              "16172  8853.674 ⋯  841  24389   100    1   0        0.000            0.0\n",
              "16173 10941.350 ⋯ 1089  35937   144    0   0   243359.391    411276340.3\n",
              "16174 11536.570 ⋯  625  15625   196    0   0   490560.984   1227806527.5\n",
              "16175 13830.640 ⋯ 1225  42875    81    0   0   122421.867    185026093.4\n",
              "16176 17976.150 ⋯ 1225  42875    64    0   0   109856.562    188569755.1\n",
              "16177 25142.240 ⋯ 1089  35937   121    0   0   161267.810    214936416.6\n",
              "      re75sq    interaction2 pscore      \n",
              "1     637236856 0            4.709117e-06\n",
              "2      34252516 0            4.066875e-04\n",
              "3     631555086 0            9.781579e-06\n",
              "4     637236856 0            2.667018e-07\n",
              "5     115081624 0            1.103196e-04\n",
              "6     340375546 0            1.269277e-04\n",
              "7     267472928 0            1.448031e-05\n",
              "8      13104632 0            1.437221e-03\n",
              "9     637236856 0            1.694336e-06\n",
              "10            0 0            3.616981e-04\n",
              "11    563912403 0            3.382750e-05\n",
              "12      1499599 0            8.357869e-04\n",
              "13    637236856 0            2.403644e-06\n",
              "14     19239540 0            5.647730e-04\n",
              "15    362797361 0            1.485947e-04\n",
              "16    546364876 0            7.471734e-05\n",
              "17    219694058 0            2.722841e-04\n",
              "18      1736273 0            1.163745e-04\n",
              "19    637236856 0            1.147605e-04\n",
              "20    107156666 0            6.871982e-04\n",
              "21            0 0            3.256693e-04\n",
              "22            0 0            1.192221e-02\n",
              "23    510159511 0            5.079859e-05\n",
              "24            0 0            1.214799e-03\n",
              "25    623393026 0            2.126724e-06\n",
              "26            0 0            1.233351e-02\n",
              "27    637236856 0            7.147028e-06\n",
              "28    637236856 0            2.197001e-06\n",
              "29    471999981 0            4.367302e-06\n",
              "30    328459058 0            3.027005e-04\n",
              "⋮     ⋮         ⋮            ⋮           \n",
              "16148   9552624 0            0.216482148 \n",
              "16149  10806834 0            0.385320672 \n",
              "16150  11104949 0            0.089196976 \n",
              "16151  12603032 0            0.510403043 \n",
              "16152  13659654 0            0.282279225 \n",
              "16153  14722462 0            0.334353609 \n",
              "16154  16186226 0            0.112219418 \n",
              "16155  16631325 0            0.128147690 \n",
              "16156  19350763 0            0.834421300 \n",
              "16157  23804026 0            0.202759531 \n",
              "16158  28346135 0            0.012623155 \n",
              "16159  29853146 0            0.002098090 \n",
              "16160  30446567 0            0.364696448 \n",
              "16161  31233166 0            0.062699089 \n",
              "16162  33054808 0            0.186433416 \n",
              "16163  33568722 0            0.030354221 \n",
              "16164  33580067 0            0.038318620 \n",
              "16165  34516199 0            0.015084579 \n",
              "16166  36684268 0            0.083576693 \n",
              "16167  46089951 0            0.352584977 \n",
              "16168  47222404 0            0.304244485 \n",
              "16169  49782933 0            0.001175736 \n",
              "16170  61904102 0            0.561904353 \n",
              "16171  71495546 0            0.001061388 \n",
              "16172  78387540 1            0.192066692 \n",
              "16173 119713131 0            0.017294844 \n",
              "16174 133092455 0            0.057790307 \n",
              "16175 191286593 0            0.011910791 \n",
              "16176 323141983 0            0.004091577 \n",
              "16177 632132244 0            0.002227829 "
            ]
          },
          "metadata": {}
        }
      ]
    },
    {
      "cell_type": "code",
      "source": [
        "## Inverse Propensity Weighting\n",
        "\n",
        "library(tidyverse)\n",
        "library(haven)\n",
        "\n",
        "#continuation\n",
        "N <- nrow(nsw_dw_cpscontrol)\n",
        "#- Manual with non-normalized weights using all data\n",
        "nsw_dw_cpscontrol <- nsw_dw_cpscontrol %>% \n",
        "  mutate(d1 = treat/pscore,\n",
        "         d0 = (1-treat)/(1-pscore))\n",
        "\n",
        "s1 <- sum(nsw_dw_cpscontrol$d1)\n",
        "s0 <- sum(nsw_dw_cpscontrol$d0)\n",
        "\n",
        "\n",
        "nsw_dw_cpscontrol <- nsw_dw_cpscontrol %>% \n",
        "  mutate(y1 = treat * re78/pscore,\n",
        "         y0 = (1-treat) * re78/(1-pscore),\n",
        "         ht = y1 - y0)\n",
        "\n",
        "#- Manual with normalized weights\n",
        "nsw_dw_cpscontrol <- nsw_dw_cpscontrol %>% \n",
        "  mutate(y1 = (treat*re78/pscore)/(s1/N),\n",
        "         y0 = ((1-treat)*re78/(1-pscore))/(s0/N),\n",
        "         norm = y1 - y0)\n",
        "\n",
        "nsw_dw_cpscontrol %>% \n",
        "  pull(ht) %>% \n",
        "  mean()\n",
        "\n",
        "nsw_dw_cpscontrol %>% \n",
        "  pull(norm) %>% \n",
        "  mean()\n",
        "\n",
        "#-- trimming propensity score\n",
        "nsw_dw_cpscontrol <- nsw_dw_cpscontrol %>% \n",
        "  select(-d1, -d0, -y1, -y0, -ht, -norm) %>% \n",
        "  filter(!(pscore >= 0.9)) %>% \n",
        "  filter(!(pscore <= 0.1))\n",
        "\n",
        "N <- nrow(nsw_dw_cpscontrol)\n",
        "\n",
        "#- Manual with non-normalized weights using trimmed data\n",
        "nsw_dw_cpscontrol <- nsw_dw_cpscontrol %>% \n",
        "  mutate(d1 = treat/pscore,\n",
        "         d0 = (1-treat)/(1-pscore))\n",
        "\n",
        "s1 <- sum(nsw_dw_cpscontrol$d1)\n",
        "s0 <- sum(nsw_dw_cpscontrol$d0)\n",
        "\n",
        "nsw_dw_cpscontrol <- nsw_dw_cpscontrol %>% \n",
        "  mutate(y1 = treat * re78/pscore,\n",
        "         y0 = (1-treat) * re78/(1-pscore),\n",
        "         ht = y1 - y0)\n",
        "\n",
        "#- Manual with normalized weights with trimmed data\n",
        "nsw_dw_cpscontrol <- nsw_dw_cpscontrol %>% \n",
        "  mutate(y1 = (treat*re78/pscore)/(s1/N),\n",
        "         y0 = ((1-treat)*re78/(1-pscore))/(s0/N),\n",
        "         norm = y1 - y0)\n",
        "\n",
        "nsw_dw_cpscontrol %>% \n",
        "  pull(ht) %>% \n",
        "  mean()\n",
        "\n",
        "nsw_dw_cpscontrol %>% \n",
        "  pull(norm) %>% \n",
        "  mean()"
      ],
      "metadata": {
        "colab": {
          "base_uri": "https://localhost:8080/",
          "height": 86
        },
        "id": "ghxFLmjw99NA",
        "outputId": "84216d73-cb38-4cea-8649-149da60d3c6e"
      },
      "execution_count": null,
      "outputs": [
        {
          "output_type": "display_data",
          "data": {
            "text/html": [
              "-11876.7877393861"
            ],
            "text/markdown": "-11876.7877393861",
            "text/latex": "-11876.7877393861",
            "text/plain": [
              "[1] -11876.79"
            ]
          },
          "metadata": {}
        },
        {
          "output_type": "display_data",
          "data": {
            "text/html": [
              "-7238.14033740398"
            ],
            "text/markdown": "-7238.14033740398",
            "text/latex": "-7238.14033740398",
            "text/plain": [
              "[1] -7238.14"
            ]
          },
          "metadata": {}
        },
        {
          "output_type": "display_data",
          "data": {
            "text/html": [
              "2006.36525503975"
            ],
            "text/markdown": "2006.36525503975",
            "text/latex": "2006.36525503975",
            "text/plain": [
              "[1] 2006.365"
            ]
          },
          "metadata": {}
        },
        {
          "output_type": "display_data",
          "data": {
            "text/html": [
              "1806.73006902287"
            ],
            "text/markdown": "1806.73006902287",
            "text/latex": "1806.73006902287",
            "text/plain": [
              "[1] 1806.73"
            ]
          },
          "metadata": {}
        }
      ]
    },
    {
      "cell_type": "code",
      "source": [
        "## Nearest Neighbor Matching\n",
        "install.packages(c(\"MatchIt\"))\n",
        "devtools::install_github('IQSS/Zelig')\n",
        "\n",
        "library(MatchIt)\n",
        "library(Zelig)\n",
        "\n",
        "m_out <- matchit(treat ~ age + agesq + agecube + educ +\n",
        "                 educsq + marr + nodegree +\n",
        "                 black + hisp + re74 + re75 + u74 + u75 + interaction1,\n",
        "                 data = nsw_dw_cpscontrol, method = \"nearest\", \n",
        "                 distance = \"logit\", ratio =5)\n",
        "\n",
        "m_data <- match.data(m_out)\n",
        "\n",
        "z_out <- zelig(re78 ~ treat + age + agesq + agecube + educ +\n",
        "               educsq + marr + nodegree +\n",
        "               black + hisp + re74 + re75 + u74 + u75 + interaction1, \n",
        "               model = \"ls\", data = m_data)\n",
        "\n",
        "x_out <- setx(z_out, treat = 0)\n",
        "x1_out <- setx(z_out, treat = 1)\n",
        "\n",
        "s_out <- sim(z_out, x = x_out, x1 = x1_out)\n",
        "\n",
        "summary(s_out)"
      ],
      "metadata": {
        "colab": {
          "base_uri": "https://localhost:8080/"
        },
        "id": "2fE3jPC2-cj-",
        "outputId": "f7669ed1-7ce3-4526-a2c8-085c0f0b13dc"
      },
      "execution_count": null,
      "outputs": [
        {
          "output_type": "stream",
          "name": "stderr",
          "text": [
            "Installing package into ‘/usr/local/lib/R/site-library’\n",
            "(as ‘lib’ is unspecified)\n",
            "\n",
            "also installing the dependencies ‘chk’, ‘Rcpp’, ‘RcppProgress’\n",
            "\n",
            "\n",
            "Downloading GitHub repo IQSS/Zelig@HEAD\n",
            "\n"
          ]
        },
        {
          "output_type": "stream",
          "name": "stdout",
          "text": [
            "MatrixModels (NA     -> 0.5-1     ) [CRAN]\n",
            "SparseM      (NA     -> 1.81      ) [CRAN]\n",
            "zoo          (NA     -> 1.8-12    ) [CRAN]\n",
            "digest       (0.6.30 -> 0.6.31    ) [CRAN]\n",
            "pkgload      (1.3.1  -> 1.3.2     ) [CRAN]\n",
            "jsonlite     (1.8.3  -> 1.8.4     ) [CRAN]\n",
            "numDeriv     (NA     -> 2016.8-1.1) [CRAN]\n",
            "RcppEigen    (NA     -> 0.3.3.9.3 ) [CRAN]\n",
            "nloptr       (NA     -> 2.0.3     ) [CRAN]\n",
            "minqa        (NA     -> 1.2.5     ) [CRAN]\n",
            "lme4         (NA     -> 1.1-33    ) [CRAN]\n",
            "quantreg     (NA     -> 5.95      ) [CRAN]\n",
            "pbkrtest     (NA     -> 0.5.2     ) [CRAN]\n",
            "abind        (NA     -> 1.4-5     ) [CRAN]\n",
            "carData      (NA     -> 3.0-5     ) [CRAN]\n",
            "mitools      (NA     -> 2.4       ) [CRAN]\n",
            "mcmc         (NA     -> 0.9-7     ) [CRAN]\n",
            "coda         (NA     -> 0.19-4    ) [CRAN]\n",
            "sandwich     (NA     -> 3.0-2     ) [CRAN]\n",
            "miscTools    (NA     -> 0.6-28    ) [CRAN]\n",
            "RcppArmad... (NA     -> 0.12.2.0.0) [CRAN]\n",
            "Formula      (NA     -> 1.2-5     ) [CRAN]\n",
            "lmtest       (NA     -> 0.9-40    ) [CRAN]\n",
            "car          (NA     -> 3.1-2     ) [CRAN]\n",
            "VGAM         (NA     -> 1.1-8     ) [CRAN]\n",
            "survey       (NA     -> 4.2-1     ) [CRAN]\n",
            "MCMCpack     (NA     -> 1.6-3     ) [CRAN]\n",
            "maxLik       (NA     -> 1.5-2     ) [CRAN]\n",
            "geepack      (NA     -> 1.3.9     ) [CRAN]\n",
            "Amelia       (NA     -> 1.8.1     ) [CRAN]\n",
            "AER          (NA     -> 1.2-10    ) [CRAN]\n"
          ]
        },
        {
          "output_type": "stream",
          "name": "stderr",
          "text": [
            "Installing 31 packages: MatrixModels, SparseM, zoo, digest, pkgload, jsonlite, numDeriv, RcppEigen, nloptr, minqa, lme4, quantreg, pbkrtest, abind, carData, mitools, mcmc, coda, sandwich, miscTools, RcppArmadillo, Formula, lmtest, car, VGAM, survey, MCMCpack, maxLik, geepack, Amelia, AER\n",
            "\n",
            "Installing packages into ‘/usr/local/lib/R/site-library’\n",
            "(as ‘lib’ is unspecified)\n",
            "\n"
          ]
        },
        {
          "output_type": "stream",
          "name": "stdout",
          "text": [
            "\u001b[36m──\u001b[39m \u001b[36mR CMD build\u001b[39m \u001b[36m─────────────────────────────────────────────────────────────────\u001b[39m\n",
            "* checking for file ‘/tmp/RtmpbTvmu9/remotes1a71da0e924/IQSS-Zelig-4774793/DESCRIPTION’ ... OK\n",
            "* preparing ‘Zelig’:\n",
            "* checking DESCRIPTION meta-information ... OK\n",
            "* checking for LF line-endings in source and make files and shell scripts\n",
            "* checking for empty or unneeded directories\n",
            "* looking to see if a ‘data/datalist’ file should be added\n",
            "* building ‘Zelig_5.1.7.tar.gz’\n",
            "\n"
          ]
        },
        {
          "output_type": "stream",
          "name": "stderr",
          "text": [
            "Installing package into ‘/usr/local/lib/R/site-library’\n",
            "(as ‘lib’ is unspecified)\n",
            "\n",
            "Loading required package: survival\n",
            "\n",
            "\n",
            "Attaching package: ‘Zelig’\n",
            "\n",
            "\n",
            "The following object is masked from ‘package:purrr’:\n",
            "\n",
            "    reduce\n",
            "\n",
            "\n",
            "The following object is masked from ‘package:ggplot2’:\n",
            "\n",
            "    stat\n",
            "\n",
            "\n",
            "Warning message:\n",
            "“\u001b[1m\u001b[22m`tbl_df()` was deprecated in dplyr 1.0.0.\n",
            "\u001b[36mℹ\u001b[39m Please use `tibble::as_tibble()` instead.\n",
            "\u001b[36mℹ\u001b[39m The deprecated feature was likely used in the \u001b[34mZelig\u001b[39m package.\n",
            "  Please report the issue at \u001b[3m\u001b[34m<https://github.com/IQSS/Zelig/issues>\u001b[39m\u001b[23m.”\n",
            "Warning message:\n",
            "“\u001b[1m\u001b[22m`group_by_()` was deprecated in dplyr 0.7.0.\n",
            "\u001b[36mℹ\u001b[39m Please use `group_by()` instead.\n",
            "\u001b[36mℹ\u001b[39m See vignette('programming') for more help\n",
            "\u001b[36mℹ\u001b[39m The deprecated feature was likely used in the \u001b[34mZelig\u001b[39m package.\n",
            "  Please report the issue at \u001b[3m\u001b[34m<https://github.com/IQSS/Zelig/issues>\u001b[39m\u001b[23m.”\n"
          ]
        },
        {
          "output_type": "stream",
          "name": "stdout",
          "text": [
            "How to cite this model in Zelig:\n",
            "  R Core Team. 2007.\n",
            "  ls: Least Squares Regression for Continuous Dependent Variables\n",
            "  in Christine Choirat, Christopher Gandrud, James Honaker, Kosuke Imai, Gary King, and Olivia Lau,\n",
            "  \"Zelig: Everyone's Statistical Software,\" https://zeligproject.org/\n",
            "\n",
            " sim x :\n",
            " -----\n",
            "ev\n",
            "      mean       sd      50%     2.5%    97.5%\n",
            "1 6391.294 220.6283 6382.425 5970.803 6802.652\n",
            "pv\n",
            "         mean       sd      50%      2.5%    97.5%\n",
            "[1,] 6381.186 6444.985 6388.922 -6390.432 18839.66\n",
            "\n",
            " sim x1 :\n",
            " -----\n",
            "ev\n",
            "      mean       sd     50%     2.5%    97.5%\n",
            "1 7684.726 534.6733 7666.87 6665.739 8768.576\n",
            "pv\n",
            "        mean       sd      50%      2.5%    97.5%\n",
            "[1,] 7954.82 6471.192 8099.283 -4507.698 20662.44\n",
            "fd\n",
            "      mean       sd      50%     2.5%    97.5%\n",
            "1 1293.432 596.5296 1269.316 147.1443 2469.948\n"
          ]
        }
      ]
    },
    {
      "cell_type": "code",
      "source": [
        "## Coarsened Exact Matching\n",
        "install.packages(c(\"cem\",\"estimatr\"))\n",
        "library(cem)\n",
        "library(MatchIt)\n",
        "library(Zelig)\n",
        "library(tidyverse)\n",
        "library(estimatr)\n",
        "\n",
        "\n",
        "m_out <- matchit(treat ~ age + agesq + agecube + educ +\n",
        "                   educsq + marr + nodegree +\n",
        "                   black + hisp + re74 + re75 + \n",
        "                   u74 + u75 + interaction1,\n",
        "                 data = nsw_dw_cpscontrol, \n",
        "                 method = \"cem\", \n",
        "                 distance = \"logit\")\n",
        "\n",
        "m_data <- match.data(m_out)\n",
        "\n",
        "m_ate <- lm_robust(re78 ~ treat, \n",
        "               data = m_data,\n",
        "               weights = m_data$weights)"
      ],
      "metadata": {
        "colab": {
          "base_uri": "https://localhost:8080/"
        },
        "id": "eEV4POSpB3fv",
        "outputId": "d386cf6c-9a4e-458b-bc02-bac25f87ae65"
      },
      "execution_count": null,
      "outputs": [
        {
          "output_type": "stream",
          "name": "stderr",
          "text": [
            "Installing packages into ‘/usr/local/lib/R/site-library’\n",
            "(as ‘lib’ is unspecified)\n",
            "\n",
            "Warning message:\n",
            "“The argument 'distance' is not used with `method = \"cem\"` and will be ignored.”\n"
          ]
        }
      ]
    },
    {
      "cell_type": "code",
      "source": [
        "summary(m_ate)"
      ],
      "metadata": {
        "id": "KlCALRzUMlz6",
        "outputId": "ada59952-8bf7-410c-a67b-1e7b5ff86aad",
        "colab": {
          "base_uri": "https://localhost:8080/",
          "height": 243
        }
      },
      "execution_count": null,
      "outputs": [
        {
          "output_type": "display_data",
          "data": {
            "text/plain": [
              "\n",
              "Call:\n",
              "lm_robust(formula = re78 ~ treat, data = m_data, weights = m_data$weights)\n",
              "\n",
              "Weighted, Standard error type:  HC2 \n",
              "\n",
              "Coefficients:\n",
              "            Estimate Std. Error t value  Pr(>|t|) CI Lower CI Upper  DF\n",
              "(Intercept)     4099      712.1   5.755 4.760e-08   2691.4     5506 149\n",
              "treat           2760     1187.4   2.324 2.146e-02    413.6     5106 149\n",
              "\n",
              "Multiple R-squared:  0.04735 ,\tAdjusted R-squared:  0.04095 \n",
              "F-statistic: 5.402 on 1 and 149 DF,  p-value: 0.02146"
            ]
          },
          "metadata": {}
        }
      ]
    },
    {
      "cell_type": "markdown",
      "source": [
        "Source: https://bookdown.org/paul/applied-causal-analysis/lab-1.html"
      ],
      "metadata": {
        "id": "pG-nDzBpDL2b"
      }
    },
    {
      "cell_type": "markdown",
      "source": [
        "Data Source: https://drive.google.com/drive/folders/1o4OD9QTNfmMJCfGpAWHOhPx824ucqmFb"
      ],
      "metadata": {
        "id": "5kSHoh27DUnn"
      }
    },
    {
      "cell_type": "code",
      "source": [
        "library(tidyverse)\n",
        "install.packages(c(\"Matching\",\"cem\",\"MatchIt\",\"cobalt\",\"quickmatch\",\"rgenoud\"))"
      ],
      "metadata": {
        "colab": {
          "base_uri": "https://localhost:8080/"
        },
        "id": "9cH0GDn5Eio4",
        "outputId": "2395d65c-8cb5-4d37-dce5-0894af6d6b5d"
      },
      "execution_count": null,
      "outputs": [
        {
          "output_type": "stream",
          "name": "stderr",
          "text": [
            "Installing packages into ‘/usr/local/lib/R/site-library’\n",
            "(as ‘lib’ is unspecified)\n",
            "\n",
            "also installing the dependencies ‘gridExtra’, ‘distances’, ‘scclust’\n",
            "\n",
            "\n"
          ]
        }
      ]
    },
    {
      "cell_type": "code",
      "source": [
        "\n",
        "# Directly import data from shared google folder into R\n",
        "  data <- readr::read_csv(sprintf(\"https://docs.google.com/uc?id=%s&export=download\", \"1WifSODzbCzf0LlP09u9rG914LcUlL08_\"))\n",
        "  # Or download and import: data <- readr::read_csv(\"data-matching.csv\")\n",
        "\n",
        "fit1 <- lm(y_trust2006 ~ d_threat2006, data = data)\n",
        "fit2 <- lm(y_trust2006 ~ d_threat2006 + x_age2006 + x_male2006 + x_education2006, data = data)\n",
        "fit3 <- lm(y_trust2006 ~ d_threat2006 + x_age2006 + x_male2006 + x_education2006 + x_income2006, data = data)\n",
        "summary(fit1)\n",
        "summary(fit2)\n",
        "summary(fit3)"
      ],
      "metadata": {
        "colab": {
          "base_uri": "https://localhost:8080/",
          "height": 1000
        },
        "id": "10Z5hGMyD_HG",
        "outputId": "45a7734c-0e54-496b-f9a8-5bd60a3a22c7"
      },
      "execution_count": null,
      "outputs": [
        {
          "output_type": "stream",
          "name": "stderr",
          "text": [
            "\u001b[1mRows: \u001b[22m\u001b[34m23243\u001b[39m \u001b[1mColumns: \u001b[22m\u001b[34m25\u001b[39m\n",
            "\u001b[36m──\u001b[39m \u001b[1mColumn specification\u001b[22m \u001b[36m────────────────────────────────────────────────────────\u001b[39m\n",
            "\u001b[1mDelimiter:\u001b[22m \",\"\n",
            "\u001b[32mdbl\u001b[39m (25): y_trust2005, y_trust2006, y_trust2007, y_trust2008, x_age2005, x_a...\n",
            "\n",
            "\u001b[36mℹ\u001b[39m Use `spec()` to retrieve the full column specification for this data.\n",
            "\u001b[36mℹ\u001b[39m Specify the column types or set `show_col_types = FALSE` to quiet this message.\n"
          ]
        },
        {
          "output_type": "display_data",
          "data": {
            "text/plain": [
              "\n",
              "Call:\n",
              "lm(formula = y_trust2006 ~ d_threat2006, data = data)\n",
              "\n",
              "Residuals:\n",
              "    Min      1Q  Median      3Q     Max \n",
              "-6.2042 -1.2042  0.7958  1.7958  4.5217 \n",
              "\n",
              "Coefficients:\n",
              "             Estimate Std. Error t value Pr(>|t|)    \n",
              "(Intercept)   6.20416    0.02968 209.021  < 2e-16 ***\n",
              "d_threat2006 -0.72590    0.09360  -7.755 1.02e-14 ***\n",
              "---\n",
              "Signif. codes:  0 ‘***’ 0.001 ‘**’ 0.01 ‘*’ 0.05 ‘.’ 0.1 ‘ ’ 1\n",
              "\n",
              "Residual standard error: 2.293 on 6631 degrees of freedom\n",
              "  (16610 observations deleted due to missingness)\n",
              "Multiple R-squared:  0.008988,\tAdjusted R-squared:  0.008839 \n",
              "F-statistic: 60.14 on 1 and 6631 DF,  p-value: 1.015e-14\n"
            ]
          },
          "metadata": {}
        },
        {
          "output_type": "display_data",
          "data": {
            "text/plain": [
              "\n",
              "Call:\n",
              "lm(formula = y_trust2006 ~ d_threat2006 + x_age2006 + x_male2006 + \n",
              "    x_education2006, data = data)\n",
              "\n",
              "Residuals:\n",
              "    Min      1Q  Median      3Q     Max \n",
              "-6.8547 -1.1423  0.2436  1.5478  5.1913 \n",
              "\n",
              "Coefficients:\n",
              "                 Estimate Std. Error t value Pr(>|t|)    \n",
              "(Intercept)      5.734271   0.089054  64.391  < 2e-16 ***\n",
              "d_threat2006    -0.669070   0.093795  -7.133 1.08e-12 ***\n",
              "x_age2006       -0.002997   0.001590  -1.885  0.05948 .  \n",
              "x_male2006      -0.168975   0.056795  -2.975  0.00294 ** \n",
              "x_education2006  0.134221   0.009504  14.122  < 2e-16 ***\n",
              "---\n",
              "Signif. codes:  0 ‘***’ 0.001 ‘**’ 0.01 ‘*’ 0.05 ‘.’ 0.1 ‘ ’ 1\n",
              "\n",
              "Residual standard error: 2.259 on 6628 degrees of freedom\n",
              "  (16610 observations deleted due to missingness)\n",
              "Multiple R-squared:  0.03803,\tAdjusted R-squared:  0.03745 \n",
              "F-statistic:  65.5 on 4 and 6628 DF,  p-value: < 2.2e-16\n"
            ]
          },
          "metadata": {}
        },
        {
          "output_type": "display_data",
          "data": {
            "text/plain": [
              "\n",
              "Call:\n",
              "lm(formula = y_trust2006 ~ d_threat2006 + x_age2006 + x_male2006 + \n",
              "    x_education2006 + x_income2006, data = data)\n",
              "\n",
              "Residuals:\n",
              "    Min      1Q  Median      3Q     Max \n",
              "-7.4539 -1.2053  0.2528  1.4463  5.2247 \n",
              "\n",
              "Coefficients:\n",
              "                 Estimate Std. Error t value Pr(>|t|)    \n",
              "(Intercept)      5.308402   0.114759  46.257  < 2e-16 ***\n",
              "d_threat2006    -0.633480   0.102551  -6.177 7.12e-10 ***\n",
              "x_age2006        0.011507   0.002479   4.642 3.56e-06 ***\n",
              "x_male2006      -0.261041   0.070757  -3.689 0.000228 ***\n",
              "x_education2006  0.133029   0.012461  10.676  < 2e-16 ***\n",
              "x_income2006    -0.036245   0.035205  -1.030 0.303282    \n",
              "---\n",
              "Signif. codes:  0 ‘***’ 0.001 ‘**’ 0.01 ‘*’ 0.05 ‘.’ 0.1 ‘ ’ 1\n",
              "\n",
              "Residual standard error: 2.122 on 4388 degrees of freedom\n",
              "  (18849 observations deleted due to missingness)\n",
              "Multiple R-squared:  0.05462,\tAdjusted R-squared:  0.05354 \n",
              "F-statistic: 50.71 on 5 and 4388 DF,  p-value: < 2.2e-16\n"
            ]
          },
          "metadata": {}
        }
      ]
    },
    {
      "cell_type": "code",
      "source": [
        "# Load the data\n",
        "data <- readr::read_csv(sprintf(\"https://docs.google.com/uc?id=%s&export=download\", \"1WifSODzbCzf0LlP09u9rG914LcUlL08_\"))\n",
        "\n",
        "# Create a new dataset\n",
        "data2 <- data %>% dplyr::select(y_trust2006, d_threat2006, x_age2006,\n",
        "                          x_education2006, x_male2006, x_income2006) %>% \n",
        "                              na.omit() # delete missings"
      ],
      "metadata": {
        "colab": {
          "base_uri": "https://localhost:8080/"
        },
        "id": "tyCarklTEHCW",
        "outputId": "4ecbfb0a-7c39-4841-9cec-3baae3085bd1"
      },
      "execution_count": null,
      "outputs": [
        {
          "output_type": "stream",
          "name": "stderr",
          "text": [
            "\u001b[1mRows: \u001b[22m\u001b[34m23243\u001b[39m \u001b[1mColumns: \u001b[22m\u001b[34m25\u001b[39m\n",
            "\u001b[36m──\u001b[39m \u001b[1mColumn specification\u001b[22m \u001b[36m────────────────────────────────────────────────────────\u001b[39m\n",
            "\u001b[1mDelimiter:\u001b[22m \",\"\n",
            "\u001b[32mdbl\u001b[39m (25): y_trust2005, y_trust2006, y_trust2007, y_trust2008, x_age2005, x_a...\n",
            "\n",
            "\u001b[36mℹ\u001b[39m Use `spec()` to retrieve the full column specification for this data.\n",
            "\u001b[36mℹ\u001b[39m Specify the column types or set `show_col_types = FALSE` to quiet this message.\n"
          ]
        }
      ]
    },
    {
      "cell_type": "code",
      "source": [
        "# Estimate the propensity score\n",
        "# Prob. that someone is victimized as a function of covariates\n",
        "glm1  <- glm(d_threat2006 ~ x_age2006 + I(x_age2006^2) + x_education2006 + \n",
        "               I(x_education2006^2) + x_male2006 + x_income2006, \n",
        "             family=binomial, data=data2)\n",
        "summary(glm1)"
      ],
      "metadata": {
        "colab": {
          "base_uri": "https://localhost:8080/",
          "height": 451
        },
        "id": "aGelhqFbEKVC",
        "outputId": "682a6bbf-6897-49e6-e175-0b923f9fd102"
      },
      "execution_count": null,
      "outputs": [
        {
          "output_type": "display_data",
          "data": {
            "text/plain": [
              "\n",
              "Call:\n",
              "glm(formula = d_threat2006 ~ x_age2006 + I(x_age2006^2) + x_education2006 + \n",
              "    I(x_education2006^2) + x_male2006 + x_income2006, family = binomial, \n",
              "    data = data2)\n",
              "\n",
              "Coefficients:\n",
              "                       Estimate Std. Error z value Pr(>|z|)    \n",
              "(Intercept)          -0.3463729  0.3709073  -0.934  0.35038    \n",
              "x_age2006            -0.0676577  0.0229783  -2.944  0.00324 ** \n",
              "I(x_age2006^2)        0.0004567  0.0002749   1.661  0.09663 .  \n",
              "x_education2006      -0.0189138  0.0655368  -0.289  0.77289    \n",
              "I(x_education2006^2)  0.0003818  0.0055737   0.068  0.94539    \n",
              "x_male2006            0.4520637  0.1082699   4.175 2.98e-05 ***\n",
              "x_income2006         -0.0097880  0.0595634  -0.164  0.86947    \n",
              "---\n",
              "Signif. codes:  0 ‘***’ 0.001 ‘**’ 0.01 ‘*’ 0.05 ‘.’ 0.1 ‘ ’ 1\n",
              "\n",
              "(Dispersion parameter for binomial family taken to be 1)\n",
              "\n",
              "    Null deviance: 3101.9  on 4393  degrees of freedom\n",
              "Residual deviance: 2979.3  on 4387  degrees of freedom\n",
              "AIC: 2993.3\n",
              "\n",
              "Number of Fisher Scoring iterations: 5\n"
            ]
          },
          "metadata": {}
        }
      ]
    },
    {
      "cell_type": "code",
      "source": [
        "# Calculate (predict) propensity score for each unit and create dataframe\n",
        "data_treatment_propscore <- data.frame(pr_score = predict(glm1, type = \"response\"),\n",
        "                     treatment = glm1$model$d_threat2006)\n",
        "\n",
        "# Ideally, visualize prop scores by treatment status (histograms)\n",
        "# Continue using the prop score for matching...\n",
        "hist(data_treatment_propscore$pr_score[data_treatment_propscore$treatment==0], xlim=c(0,0.5), ylim=c(0,1000), \n",
        "     main = \"Propensity scores and treatment groups\", xlab = \"Propensity score (gray = treated, white = control)\")\n",
        "hist(data_treatment_propscore$pr_score[data_treatment_propscore$treatment==1], add = TRUE, col = \"gray\")"
      ],
      "metadata": {
        "colab": {
          "base_uri": "https://localhost:8080/",
          "height": 437
        },
        "id": "1Fm2INfiEMKG",
        "outputId": "eb4ac1bd-a936-45fa-d2f7-352b2b00bb6f"
      },
      "execution_count": null,
      "outputs": [
        {
          "output_type": "display_data",
          "data": {
            "text/plain": [
              "Plot with title “Propensity scores and treatment groups”"
            ],
            "image/png": "[encoded data removed]"
          },
          "metadata": {
            "image/png": {
              "width": 420,
              "height": 420
            }
          }
        }
      ]
    },
    {
      "cell_type": "code",
      "source": [
        "# save data objects\n",
        "X  <- glm1$fitted\n",
        "Y  <- data2$y_trust2006\n",
        "Tr  <- data2$d_threat2006\n",
        "\n",
        "# Estimating the treatment effect on the treated (the \"estimand\" option defaults to ATT).\n",
        "rr  <- Matching::Match(Y=Y, Tr=Tr, X=X, M=1)\n",
        "summary(rr)"
      ],
      "metadata": {
        "colab": {
          "base_uri": "https://localhost:8080/"
        },
        "id": "f2Fnz4inEXEH",
        "outputId": "0c2dc9c1-a775-4909-e047-74aa0fff5600"
      },
      "execution_count": null,
      "outputs": [
        {
          "output_type": "stream",
          "name": "stdout",
          "text": [
            "\n",
            "Estimate...  -0.65135 \n",
            "AI SE......  0.12558 \n",
            "T-stat.....  -5.1867 \n",
            "p.val......  2.14e-07 \n",
            "\n",
            "Original number of observations..............  4394 \n",
            "Original number of treated obs...............  497 \n",
            "Matched number of observations...............  497 \n",
            "Matched number of observations  (unweighted).  5901 \n",
            "\n"
          ]
        }
      ]
    },
    {
      "cell_type": "code",
      "source": [
        "mb  <- Matching::MatchBalance(d_threat2006 ~ x_age2006 + I(x_age2006^2) + x_education2006 + \n",
        "               I(x_education2006^2) + x_male2006 + x_income2006, \n",
        "               data=data2, match.out=rr, nboots=10) # use higher nboots in applications"
      ],
      "metadata": {
        "colab": {
          "base_uri": "https://localhost:8080/"
        },
        "id": "OvT7Urw4EcAw",
        "outputId": "c7080972-fd3e-480b-a16d-cdadf7283f49"
      },
      "execution_count": null,
      "outputs": [
        {
          "output_type": "stream",
          "name": "stdout",
          "text": [
            "\n",
            "***** (V1) x_age2006 *****\n",
            "                       Before Matching \t \t After Matching\n",
            "mean treatment........     35.714 \t \t     35.714 \n",
            "mean control..........     42.054 \t \t      35.99 \n",
            "std mean diff.........    -44.504 \t \t    -1.9355 \n",
            "\n",
            "mean raw eQQ diff.....     6.3581 \t \t    0.64769 \n",
            "med  raw eQQ diff.....          6 \t \t          0 \n",
            "max  raw eQQ diff.....         12 \t \t          6 \n",
            "\n",
            "mean eCDF diff........   0.090769 \t \t   0.009475 \n",
            "med  eCDF diff........   0.090635 \t \t  0.0033893 \n",
            "max  eCDF diff........    0.20444 \t \t   0.042196 \n",
            "\n",
            "var ratio (Tr/Co).....      1.113 \t \t     0.9632 \n",
            "T-test p-value........ < 2.22e-16 \t \t    0.39586 \n",
            "KS Bootstrap p-value.. < 2.22e-16 \t \t < 2.22e-16 \n",
            "KS Naive p-value...... 2.2204e-16 \t \t 5.4696e-05 \n",
            "KS Statistic..........    0.20444 \t \t   0.042196 \n",
            "\n",
            "\n",
            "***** (V2) I(x_age2006^2) *****\n",
            "                       Before Matching \t \t After Matching\n",
            "mean treatment........       1478 \t \t       1478 \n",
            "mean control..........     1950.8 \t \t     1505.5 \n",
            "std mean diff.........    -42.916 \t \t    -2.4968 \n",
            "\n",
            "mean raw eQQ diff.....     477.63 \t \t     66.572 \n",
            "med  raw eQQ diff.....        520 \t \t          0 \n",
            "max  raw eQQ diff.....       1680 \t \t        984 \n",
            "\n",
            "mean eCDF diff........   0.090769 \t \t   0.009475 \n",
            "med  eCDF diff........   0.090635 \t \t  0.0033893 \n",
            "max  eCDF diff........    0.20444 \t \t   0.042196 \n",
            "\n",
            "var ratio (Tr/Co).....    0.93602 \t \t     0.9635 \n",
            "T-test p-value........ < 2.22e-16 \t \t     0.3716 \n",
            "KS Bootstrap p-value.. < 2.22e-16 \t \t < 2.22e-16 \n",
            "KS Naive p-value...... 2.2204e-16 \t \t 5.4696e-05 \n",
            "KS Statistic..........    0.20444 \t \t   0.042196 \n",
            "\n",
            "\n",
            "***** (V3) x_education2006 *****\n",
            "                       Before Matching \t \t After Matching\n",
            "mean treatment........     4.9577 \t \t     4.9577 \n",
            "mean control..........     5.5486 \t \t     4.8675 \n",
            "std mean diff.........    -18.931 \t \t      2.891 \n",
            "\n",
            "mean raw eQQ diff.....    0.58551 \t \t   0.052364 \n",
            "med  raw eQQ diff.....          0 \t \t          0 \n",
            "max  raw eQQ diff.....          3 \t \t          1 \n",
            "\n",
            "mean eCDF diff........   0.053716 \t \t  0.0047604 \n",
            "med  eCDF diff........   0.047811 \t \t  0.0033893 \n",
            "max  eCDF diff........    0.10036 \t \t   0.016268 \n",
            "\n",
            "var ratio (Tr/Co).....     1.1602 \t \t     1.0032 \n",
            "T-test p-value........ 6.9401e-05 \t \t    0.50487 \n",
            "KS Bootstrap p-value.. < 2.22e-16 \t \t        0.3 \n",
            "KS Naive p-value...... 0.00027872 \t \t    0.41566 \n",
            "KS Statistic..........    0.10036 \t \t   0.016268 \n",
            "\n",
            "\n",
            "***** (V4) I(x_education2006^2) *****\n",
            "                       Before Matching \t \t After Matching\n",
            "mean treatment........     34.302 \t \t     34.302 \n",
            "mean control..........     39.182 \t \t     33.384 \n",
            "std mean diff.........    -14.429 \t \t     2.7127 \n",
            "\n",
            "mean raw eQQ diff.....     4.8551 \t \t    0.63057 \n",
            "med  raw eQQ diff.....          0 \t \t          0 \n",
            "max  raw eQQ diff.....         32 \t \t         19 \n",
            "\n",
            "mean eCDF diff........   0.053716 \t \t  0.0047604 \n",
            "med  eCDF diff........   0.047811 \t \t  0.0033893 \n",
            "max  eCDF diff........    0.10036 \t \t   0.016268 \n",
            "\n",
            "var ratio (Tr/Co).....    0.99376 \t \t      1.018 \n",
            "T-test p-value........  0.0025592 \t \t    0.57849 \n",
            "KS Bootstrap p-value.. < 2.22e-16 \t \t        0.3 \n",
            "KS Naive p-value...... 0.00027872 \t \t    0.41566 \n",
            "KS Statistic..........    0.10036 \t \t   0.016268 \n",
            "\n",
            "\n",
            "***** (V5) x_male2006 *****\n",
            "                       Before Matching \t \t After Matching\n",
            "mean treatment........     0.5835 \t \t     0.5835 \n",
            "mean control..........    0.47806 \t \t    0.59377 \n",
            "std mean diff.........     21.367 \t \t    -2.0816 \n",
            "\n",
            "mean raw eQQ diff.....    0.10463 \t \t   0.021352 \n",
            "med  raw eQQ diff.....          0 \t \t          0 \n",
            "max  raw eQQ diff.....          1 \t \t          1 \n",
            "\n",
            "mean eCDF diff........    0.05272 \t \t   0.010676 \n",
            "med  eCDF diff........    0.05272 \t \t   0.010676 \n",
            "max  eCDF diff........    0.10544 \t \t   0.021352 \n",
            "\n",
            "var ratio (Tr/Co).....     0.9757 \t \t     1.0075 \n",
            "T-test p-value........ 8.8711e-06 \t \t    0.60714 \n",
            "\n",
            "\n",
            "***** (V6) x_income2006 *****\n",
            "                       Before Matching \t \t After Matching\n",
            "mean treatment........     1.2636 \t \t     1.2636 \n",
            "mean control..........     1.4285 \t \t     1.2579 \n",
            "std mean diff.........    -14.494 \t \t    0.49732 \n",
            "\n",
            "mean raw eQQ diff.....    0.16298 \t \t   0.028809 \n",
            "med  raw eQQ diff.....          0 \t \t          0 \n",
            "max  raw eQQ diff.....          1 \t \t          1 \n",
            "\n",
            "mean eCDF diff........   0.041238 \t \t  0.0072022 \n",
            "med  eCDF diff........   0.050727 \t \t  0.0051686 \n",
            "max  eCDF diff........   0.063499 \t \t   0.018471 \n",
            "\n",
            "var ratio (Tr/Co).....    0.99178 \t \t    0.97733 \n",
            "T-test p-value........  0.0024519 \t \t    0.91047 \n",
            "KS Bootstrap p-value.. < 2.22e-16 \t \t < 2.22e-16 \n",
            "KS Naive p-value......   0.057186 \t \t    0.26644 \n",
            "KS Statistic..........   0.063499 \t \t   0.018471 \n",
            "\n",
            "\n",
            "Before Matching Minimum p.value: < 2.22e-16 \n",
            "Variable Name(s): x_age2006 I(x_age2006^2) x_education2006 I(x_education2006^2) x_income2006  Number(s): 1 2 3 4 6 \n",
            "\n",
            "After Matching Minimum p.value: < 2.22e-16 \n",
            "Variable Name(s): x_age2006 I(x_age2006^2) x_income2006  Number(s): 1 2 6 \n",
            "\n"
          ]
        }
      ]
    },
    {
      "cell_type": "code",
      "source": [
        "balance.table <- cobalt::bal.tab(rr, d_threat2006 ~ x_age2006 + I(x_age2006^2) + x_education2006 + \n",
        "               I(x_education2006^2) + x_male2006 + x_income2006, data = data2, un = TRUE, quick = FALSE)\n",
        "balance.table"
      ],
      "metadata": {
        "colab": {
          "base_uri": "https://localhost:8080/",
          "height": 277
        },
        "id": "JPhv6o2NFPuD",
        "outputId": "5602afb7-8d2c-4d4a-8320-ae0a5acc4a33"
      },
      "execution_count": null,
      "outputs": [
        {
          "output_type": "display_data",
          "data": {
            "text/plain": [
              "\u001b[4mBalance Measures\u001b[24m\n",
              "                        Type Diff.Un Diff.Adj\n",
              "x_age2006            Contin. -0.4450  -0.0194\n",
              "I(x_age2006^2)       Contin. -0.4292  -0.0250\n",
              "x_education2006      Contin. -0.1893   0.0289\n",
              "I(x_education2006^2) Contin. -0.1443   0.0271\n",
              "x_male2006            Binary  0.1054  -0.0103\n",
              "x_income2006         Contin. -0.1449   0.0050\n",
              "\n",
              "\u001b[4mSample sizes\u001b[24m\n",
              "                     Control Treated\n",
              "All                  3897.       497\n",
              "Matched (ESS)        1190.57     497\n",
              "Matched (Unweighted) 2759.       497\n",
              "Unmatched            1138.         0"
            ]
          },
          "metadata": {}
        }
      ]
    },
    {
      "cell_type": "code",
      "source": [
        "cobalt::love.plot(balance.table, \n",
        "          threshold =.1,\n",
        "          line = TRUE,\n",
        "          stars = \"std\")"
      ],
      "metadata": {
        "colab": {
          "base_uri": "https://localhost:8080/",
          "height": 437
        },
        "id": "pm6p3s3qFU21",
        "outputId": "bef4cea4-290c-49bf-bd31-d3219746a835"
      },
      "execution_count": null,
      "outputs": [
        {
          "output_type": "display_data",
          "data": {
            "text/plain": [
              "plot without title"
            ],
            "image/png": "[encoded data removed]"
          },
          "metadata": {
            "image/png": {
              "width": 420,
              "height": 420
            }
          }
        }
      ]
    },
    {
      "cell_type": "code",
      "source": [
        "## Genetic Matching\n",
        "\n",
        "# Load the data\n",
        "data <- readr::read_csv(sprintf(\"https://docs.google.com/uc?id=%s&export=download\", \"1WifSODzbCzf0LlP09u9rG914LcUlL08_\"))\n",
        "\n",
        "# Subset the data\n",
        "data2 <- data %>% dplyr::select(y_trust2006, d_threat2006, \n",
        "                          x_education2006)\n",
        "\n",
        "# then delete missings (Q: Why not the other way round?)\n",
        "data2 <- na.omit(data2)\n",
        "\n",
        "# ?GenMatch\n",
        "# Define covariat matrix, outcome, treatment\n",
        "  X  <- as.matrix(data2 %>% dplyr::select(x_education2006))\n",
        "  Y  <- data2$y_trust2006 # Define outcome/Response vector\n",
        "  Tr  <- data2$d_threat2006 # Define treatment vector\n",
        "\n",
        "# GenMatch() finds the optimal weight to give each\n",
        "# covariate in 'X' so as we have achieved balance on the covariates in\n",
        "# See description http://sekhon.berkeley.edu/papers/MatchingJSS.pdf\n",
        "  gen1 <- Matching::GenMatch(Tr = Tr, X = X, \n",
        "                   estimand = \"ATT\", \n",
        "                   M = 1, \n",
        "                   replace=FALSE,\n",
        "                   exact = TRUE,\n",
        "                   pop.size=16,\n",
        "                   max.generations=10, \n",
        "                   wait.generations=1)"
      ],
      "metadata": {
        "colab": {
          "base_uri": "https://localhost:8080/"
        },
        "id": "kHjKBi6eFYpd",
        "outputId": "f00bc0ef-34e5-48ca-9794-f0a302952e1d"
      },
      "execution_count": null,
      "outputs": [
        {
          "output_type": "stream",
          "name": "stderr",
          "text": [
            "\u001b[1mRows: \u001b[22m\u001b[34m23243\u001b[39m \u001b[1mColumns: \u001b[22m\u001b[34m25\u001b[39m\n",
            "\u001b[36m──\u001b[39m \u001b[1mColumn specification\u001b[22m \u001b[36m────────────────────────────────────────────────────────\u001b[39m\n",
            "\u001b[1mDelimiter:\u001b[22m \",\"\n",
            "\u001b[32mdbl\u001b[39m (25): y_trust2005, y_trust2006, y_trust2007, y_trust2008, x_age2005, x_a...\n",
            "\n",
            "\u001b[36mℹ\u001b[39m Use `spec()` to retrieve the full column specification for this data.\n",
            "\u001b[36mℹ\u001b[39m Specify the column types or set `show_col_types = FALSE` to quiet this message.\n",
            "Loading required namespace: rgenoud\n",
            "\n"
          ]
        },
        {
          "output_type": "stream",
          "name": "stdout",
          "text": [
            "\n",
            "\n",
            "Wed May  3 15:27:05 2023\n",
            "Domains:\n",
            " 0.000000e+00   <=  X1   <=    1.000000e+03 \n",
            "\n",
            "Data Type: Floating Point\n",
            "Operators (code number, name, population) \n",
            "\t(1) Cloning........................... \t1\n",
            "\t(2) Uniform Mutation.................. \t2\n",
            "\t(3) Boundary Mutation................. \t2\n",
            "\t(4) Non-Uniform Mutation.............. \t2\n",
            "\t(5) Polytope Crossover................ \t2\n",
            "\t(6) Simple Crossover.................. \t2\n",
            "\t(7) Whole Non-Uniform Mutation........ \t2\n",
            "\t(8) Heuristic Crossover............... \t2\n",
            "\t(9) Local-Minimum Crossover........... \t0\n",
            "\n",
            "SOFT Maximum Number of Generations: 10\n",
            "Maximum Nonchanging Generations: 1\n",
            "Population size       : 16\n",
            "Convergence Tolerance: 1.000000e-03\n",
            "\n",
            "Not Using the BFGS Derivative Based Optimizer on the Best Individual Each Generation.\n",
            "Not Checking Gradients before Stopping.\n",
            "Using Out of Bounds Individuals.\n",
            "\n",
            "Maximization Problem.\n",
            "GENERATION: 0 (initializing the population)\n",
            "Lexical Fit..... 1.000000e+00  1.000000e+00  \n",
            "#unique......... 16, #Total UniqueCount: 16\n",
            "var 1:\n",
            "best............ 1.000000e+00\n",
            "mean............ 3.711387e+02\n",
            "variance........ 8.604526e+04\n",
            "\n",
            "GENERATION: 1\n",
            "Lexical Fit..... 1.000000e+00  1.000000e+00  \n",
            "#unique......... 9, #Total UniqueCount: 25\n",
            "var 1:\n",
            "best............ 1.000000e+00\n",
            "mean............ 3.581337e+02\n",
            "variance........ 1.007791e+05\n",
            "\n",
            "GENERATION: 2\n",
            "Lexical Fit..... 1.000000e+00  1.000000e+00  \n",
            "#unique......... 9, #Total UniqueCount: 34\n",
            "var 1:\n",
            "best............ 1.000000e+00\n",
            "mean............ 2.289528e+02\n",
            "variance........ 8.265245e+04\n",
            "\n",
            "'wait.generations' limit reached.\n",
            "No significant improvement in 1 generations.\n",
            "\n",
            "Solution Lexical Fitness Value:\n",
            "1.000000e+00  1.000000e+00  \n",
            "\n",
            "Parameters at the Solution:\n",
            "\n",
            " X[ 1] :\t1.000000e+00\n",
            "\n",
            "Solution Found Generation 1\n",
            "Number of Generations Run 2\n",
            "\n",
            "Wed May  3 15:27:15 2023\n",
            "Total run time : 0 hours 0 minutes and 10 seconds\n"
          ]
        }
      ]
    },
    {
      "cell_type": "code",
      "source": [
        "  mgens <- Match(Y=Y, Tr= Tr, X = X, \n",
        "                 estimand=\"ATT\",\n",
        "                 M = 1,\n",
        "                 replace=FALSE,\n",
        "                 exact = TRUE,\n",
        "                 Weight.matrix = gen1)\n",
        "  summary(mgens)"
      ],
      "metadata": {
        "id": "SQN76JqhFrg5"
      },
      "execution_count": null,
      "outputs": []
    },
    {
      "cell_type": "code",
      "source": [
        "  mb <- MatchBalance(Tr ~  x_education2006,\n",
        "                     match.out = mgens, nboots = 10, data = data2)"
      ],
      "metadata": {
        "id": "2E39SuR-Ft7f"
      },
      "execution_count": null,
      "outputs": []
    },
    {
      "cell_type": "code",
      "source": [
        "data.matched <- bind_rows(data2 %>% slice(mgens$index.treated), # subset data\n",
        "                          data2 %>% slice(mgens$index.control))\n",
        "\n",
        "data.matched <- bind_cols(data.matched, # Add vector of weights\n",
        "                          weights = rep(mgens$weights, 2))"
      ],
      "metadata": {
        "id": "J-pPgKkqFwB9"
      },
      "execution_count": null,
      "outputs": []
    },
    {
      "cell_type": "code",
      "source": [
        "summary(lm(y_trust2006 ~ d_threat2006 + x_education2006, data = data.matched))"
      ],
      "metadata": {
        "id": "Eg-zeXFRFycG"
      },
      "execution_count": null,
      "outputs": []
    },
    {
      "cell_type": "code",
      "source": [
        "  # Create original dataset with dummy for matching   \n",
        "    data3 <- data2\n",
        "    data3$matched <- FALSE\n",
        "    data3$matched[mgens$index.treated] <- TRUE\n",
        "    data3$matched[mgens$index.control] <- TRUE"
      ],
      "metadata": {
        "id": "ZxI9M7V-F1Ji"
      },
      "execution_count": null,
      "outputs": []
    },
    {
      "cell_type": "code",
      "source": [
        "### Matching on more variables and polynomials..\n",
        "\n",
        "data <- readr::read_csv(sprintf(\"https://docs.google.com/uc?id=%s&export=download\", \"1WifSODzbCzf0LlP09u9rG914LcUlL08_\"))\n",
        "\n",
        "data2 <- data %>% dplyr::select(y_trust2006, d_threat2006, \n",
        "                          x_age2006, x_education2006, \n",
        "                          x_male2006, x_income2006)\n",
        "data2 <- na.omit(data2)\n",
        "\n",
        "X  <- data2 %>% dplyr::select(x_age2006, x_education2006, \n",
        "                          x_male2006, x_income2006) # Define covariates\n",
        "Y  <- data2$y_trust2006 # Define outcome/Response vector\n",
        "Tr  <- data2$d_threat2006 # Define treatment vector\n",
        "\n",
        "# A matrix containing the variables we wish to achieve balance on. \n",
        "# Default = X\n",
        "BalanceMat <- cbind(data2$x_age2006, data2$x_education2006, \n",
        "                    data2$x_male2006, data2$x_income2006, \n",
        "                    I(data2$x_age2006^2), I(data2$x_education2006^2),\n",
        "                    I(data2$x_income2006^2))\n",
        "\n",
        "# GenMatch() finds the optimal weight to give each\n",
        "# covariate in 'X' so as we have achieved balance on the covariates in\n",
        "# 'BalanceMat'. Quick example with 'pop.size = 16'\n",
        "# Should much bigger see\n",
        "# http://sekhon.berkeley.edu/papers/MatchingJSS.pdf\n",
        "\n",
        "gen1 <- GenMatch(Tr = Tr, X = X, \n",
        "                 BalanceMatrix = BalanceMat, \n",
        "                 estimand = \"ATT\", \n",
        "                   M = 1, \n",
        "                   replace=FALSE,\n",
        "                   exact = TRUE,\n",
        "                   pop.size=16,\n",
        "                   max.generations=10, \n",
        "                   wait.generations=1)"
      ],
      "metadata": {
        "id": "cUyUqTwoF5yU"
      },
      "execution_count": null,
      "outputs": []
    },
    {
      "cell_type": "code",
      "source": [
        "mgens <- Match(Y=Y, Tr= Tr, X = X, \n",
        "                 estimand = \"ATT\", \n",
        "                   M = 1, \n",
        "                   replace=FALSE,\n",
        "                   exact = TRUE,\n",
        "               Weight.matrix = gen1)\n",
        "summary(mgens)"
      ],
      "metadata": {
        "id": "g1-ZKc3IGB3a"
      },
      "execution_count": null,
      "outputs": []
    },
    {
      "cell_type": "code",
      "source": [
        "#Let's determine if balance has actually been obtained on the variables of interest\n",
        "mb <- MatchBalance(Tr ~ x_age2006 + x_education2006 + \n",
        "                     x_male2006 + x_income2006 + \n",
        "                     I(x_age2006^2) + I(x_education2006^2) + \n",
        "                     I(x_income2006^2),\n",
        "                   match.out = mgens, nboots = 10, data = data2) "
      ],
      "metadata": {
        "id": "eybEhOufGJFf"
      },
      "execution_count": null,
      "outputs": []
    },
    {
      "cell_type": "code",
      "source": [
        "# Visualize balance with bal.tab (cobalt package)\n",
        "balance.table <- bal.tab(mgens, d_threat2006 ~ x_age2006 + x_education2006 + \n",
        "                     x_male2006 + x_income2006 + \n",
        "                     I(x_age2006^2) + I(x_education2006^2) + \n",
        "                     I(x_income2006^2), data = data2)\n",
        "\n",
        "love.plot(balance.table, \n",
        "          threshold =.1,\n",
        "          line = TRUE,\n",
        "          stars = \"std\") # check ?love.plot; * variables have been standardized"
      ],
      "metadata": {
        "id": "dca7yMRGGLwm"
      },
      "execution_count": null,
      "outputs": []
    },
    {
      "cell_type": "markdown",
      "source": [
        "Source: https://bookdown.org/mike/data_analysis/matching-methods.html"
      ],
      "metadata": {
        "id": "o9os-khNGmAZ"
      }
    },
    {
      "cell_type": "markdown",
      "source": [
        "Using MatchIt"
      ],
      "metadata": {
        "id": "fddb4gKIIjE2"
      }
    },
    {
      "cell_type": "code",
      "source": [
        "## Using MatchIt\n",
        "\n",
        "library(MatchIt)\n",
        "data(\"lalonde\")"
      ],
      "metadata": {
        "id": "sYYgk_6_HRBI"
      },
      "execution_count": null,
      "outputs": []
    },
    {
      "cell_type": "code",
      "source": [
        "# No matching; constructing a pre-match matchit object\n",
        "m.out0 <- matchit(\n",
        "    formula(treat ~ age + educ + race + married + nodegree + re74 + re75, env = lalonde),\n",
        "    data = data.frame(lalonde),\n",
        "    method = NULL,\n",
        "    # assess balance before matching\n",
        "    distance = \"glm\" # logistic regression\n",
        ")\n",
        "\n",
        "# Checking balance prior to matching\n",
        "summary(m.out0)"
      ],
      "metadata": {
        "id": "7zBokZ47HUQB"
      },
      "execution_count": null,
      "outputs": []
    },
    {
      "cell_type": "code",
      "source": [
        "# 1:1 NN PS matching w/o replacement\n",
        "m.out1 <- matchit(\n",
        "    treat ~ age + educ, #+ race + married + nodegree + re74 + re75,\n",
        "    data = lalonde,\n",
        "    method = \"nearest\",\n",
        "    distance = \"glm\"\n",
        ")\n",
        "m.out1\n",
        "#> A matchit object\n",
        "#>  - method: 1:1 nearest neighbor matching without replacement\n",
        "#>  - distance: Propensity score\n",
        "#>              - estimated with logistic regression\n",
        "#>  - number of obs.: 614 (original), 370 (matched)\n",
        "#>  - target estimand: ATT\n",
        "#>  - covariates: age, educ"
      ],
      "metadata": {
        "id": "ZhQUaQi-HrUx"
      },
      "execution_count": null,
      "outputs": []
    },
    {
      "cell_type": "code",
      "source": [
        "# Checking balance after NN matching\n",
        "summary(m.out1, un = FALSE)\n",
        "#> \n",
        "#> Call:\n",
        "#> matchit(formula = treat ~ age + educ, data = lalonde, method = \"nearest\", \n",
        "#>     distance = \"glm\")\n",
        "#> \n",
        "#> Summary of Balance for Matched Data:\n",
        "#>          Means Treated Means Control Std. Mean Diff. Var. Ratio eCDF Mean\n",
        "#> distance        0.3080        0.3077          0.0094     0.9963    0.0033\n",
        "#> age            25.8162       25.8649         -0.0068     1.0300    0.0050\n",
        "#> educ           10.3459       10.2865          0.0296     0.5886    0.0253\n",
        "#>          eCDF Max Std. Pair Dist.\n",
        "#> distance   0.0432          0.0146\n",
        "#> age        0.0162          0.0597\n",
        "#> educ       0.1189          0.8146\n",
        "#> \n",
        "#> Sample Sizes:\n",
        "#>           Control Treated\n",
        "#> All           429     185\n",
        "#> Matched       185     185\n",
        "#> Unmatched     244       0\n",
        "#> Discarded       0       0\n",
        "\n",
        "# examine visually\n",
        "plot(m.out1, type = \"jitter\", interactive = FALSE)"
      ],
      "metadata": {
        "id": "x8CXXFFUHwzW"
      },
      "execution_count": null,
      "outputs": []
    },
    {
      "cell_type": "code",
      "source": [
        "\n",
        "plot(\n",
        "    m.out1,\n",
        "    type = \"qq\",\n",
        "    interactive = FALSE,\n",
        "    which.xs = c(\"age\")#, \"married\", \"re75\")\n",
        ")"
      ],
      "metadata": {
        "id": "-AZFRdQ4H3X2"
      },
      "execution_count": null,
      "outputs": []
    },
    {
      "cell_type": "code",
      "source": [
        "# Full matching on a probit PS\n",
        "m.out2 <- matchit(treat ~ age + educ, # + race + married + nodegree + re74 + re75, \n",
        "                  data = lalonde,\n",
        "                  method = \"full\", \n",
        "                  distance = \"glm\", \n",
        "                  link = \"probit\")\n",
        "m.out2\n",
        "#> A matchit object\n",
        "#>  - method: Optimal full matching\n",
        "#>  - distance: Propensity score\n",
        "#>              - estimated with probit regression\n",
        "#>  - number of obs.: 614 (original), 614 (matched)\n",
        "#>  - target estimand: ATT\n",
        "#>  - covariates: age, educ"
      ],
      "metadata": {
        "id": "9VG09N_aH5bP"
      },
      "execution_count": null,
      "outputs": []
    },
    {
      "cell_type": "code",
      "source": [
        "# Checking balance after full matching\n",
        "summary(m.out2, un = FALSE)\n",
        "#> \n",
        "#> Call:\n",
        "#> matchit(formula = treat ~ age + educ, data = lalonde, method = \"full\", \n",
        "#>     distance = \"glm\", link = \"probit\")\n",
        "#> \n",
        "#> Summary of Balance for Matched Data:\n",
        "#>          Means Treated Means Control Std. Mean Diff. Var. Ratio eCDF Mean\n",
        "#> distance        0.3082        0.3082          0.0015     0.9837    0.0042\n",
        "#> age            25.8162       25.8670         -0.0071     0.9966    0.0064\n",
        "#> educ           10.3459       10.4669         -0.0602     0.4703    0.0416\n",
        "#>          eCDF Max Std. Pair Dist.\n",
        "#> distance   0.0270          0.0453\n",
        "#> age        0.0264          0.1369\n",
        "#> educ       0.1613          1.3057\n",
        "#> \n",
        "#> Sample Sizes:\n",
        "#>               Control Treated\n",
        "#> All            429.       185\n",
        "#> Matched (ESS)  216.09     185\n",
        "#> Matched        429.       185\n",
        "#> Unmatched        0.         0\n",
        "#> Discarded        0.         0\n",
        "\n",
        "plot(summary(m.out2))"
      ],
      "metadata": {
        "id": "J3BZnP8qH9Nc"
      },
      "execution_count": null,
      "outputs": []
    },
    {
      "cell_type": "code",
      "source": [
        "# Full matching on a probit PS\n",
        "m.out3 <-\n",
        "    matchit(\n",
        "        treat ~ age + educ, # + race + married + nodegree + re74 + re75,\n",
        "        data = lalonde,\n",
        "        method = \"exact\"\n",
        "    )\n",
        "m.out3\n",
        "#> A matchit object\n",
        "#>  - method: Exact matching\n",
        "#>  - number of obs.: 614 (original), 332 (matched)\n",
        "#>  - target estimand: ATT\n",
        "#>  - covariates: age, educ"
      ],
      "metadata": {
        "id": "CcGZKUqAIBkU"
      },
      "execution_count": null,
      "outputs": []
    },
    {
      "cell_type": "code",
      "source": [
        "m.out4 <- matchit(\n",
        "    treat ~ age + educ, # + race + married + nodegree + re74 + re75,\n",
        "    data = lalonde,\n",
        "    method = \"subclass\"\n",
        ")\n",
        "m.out4\n",
        "#> A matchit object\n",
        "#>  - method: Subclassification (6 subclasses)\n",
        "#>  - distance: Propensity score\n",
        "#>              - estimated with logistic regression\n",
        "#>  - number of obs.: 614 (original), 614 (matched)\n",
        "#>  - target estimand: ATT\n",
        "#>  - covariates: age, educ\n",
        "\n",
        "# Or you can use in conjunction with \"nearest\"\n",
        "m.out4 <- matchit(\n",
        "    treat ~ age + educ, # + race + married +  nodegree + re74 + re75,\n",
        "    data = lalonde,\n",
        "    method = \"nearest\",\n",
        "    option = \"subclass\"\n",
        ")\n",
        "m.out4\n",
        "#> A matchit object\n",
        "#>  - method: 1:1 nearest neighbor matching without replacement\n",
        "#>  - distance: Propensity score\n",
        "#>              - estimated with logistic regression\n",
        "#>  - number of obs.: 614 (original), 370 (matched)\n",
        "#>  - target estimand: ATT\n",
        "#>  - covariates: age, educ"
      ],
      "metadata": {
        "id": "1pwfxoUbIF2d"
      },
      "execution_count": null,
      "outputs": []
    },
    {
      "cell_type": "code",
      "source": [
        "m.out5 <- matchit(\n",
        "    treat ~ age + educ, # + race + married + nodegree + re74 + re75,\n",
        "    data = lalonde,\n",
        "    method = \"optimal\",\n",
        "    ratio = 2\n",
        ")\n",
        "m.out5\n",
        "#> A matchit object\n",
        "#>  - method: 2:1 optimal pair matching\n",
        "#>  - distance: Propensity score\n",
        "#>              - estimated with logistic regression\n",
        "#>  - number of obs.: 614 (original), 555 (matched)\n",
        "#>  - target estimand: ATT\n",
        "#>  - covariates: age, educ"
      ],
      "metadata": {
        "id": "S8HMEPY0ILQZ"
      },
      "execution_count": null,
      "outputs": []
    },
    {
      "cell_type": "code",
      "source": [
        "m.out6 <- matchit(\n",
        "    treat ~ age + educ, # + race + married + nodegree + re74 + re75,\n",
        "    data = lalonde,\n",
        "    method = \"genetic\"\n",
        ")\n",
        "m.out6\n",
        "#> A matchit object\n",
        "#>  - method: 1:1 genetic matching without replacement\n",
        "#>  - distance: Propensity score\n",
        "#>              - estimated with logistic regression\n",
        "#>  - number of obs.: 614 (original), 370 (matched)\n",
        "#>  - target estimand: ATT\n",
        "#>  - covariates: age, educ"
      ],
      "metadata": {
        "id": "cK20bTvDIPXw"
      },
      "execution_count": null,
      "outputs": []
    },
    {
      "cell_type": "code",
      "source": [
        "# get matched data\n",
        "m.data1 <- match.data(m.out1)\n",
        "\n",
        "head(m.data1)\n",
        "#>      treat age educ   race married nodegree re74 re75       re78  distance\n",
        "#> NSW1     1  37   11  black       1        1    0    0  9930.0460 0.2536942\n",
        "#> NSW2     1  22    9 hispan       0        1    0    0  3595.8940 0.3245468\n",
        "#> NSW3     1  30   12  black       0        0    0    0 24909.4500 0.2881139\n",
        "#> NSW4     1  27   11  black       0        1    0    0  7506.1460 0.3016672\n",
        "#> NSW5     1  33    8  black       0        1    0    0   289.7899 0.2683025\n",
        "#> NSW6     1  22    9  black       0        1    0    0  4056.4940 0.3245468\n",
        "#>      weights subclass\n",
        "#> NSW1       1        1\n",
        "#> NSW2       1       98\n",
        "#> NSW3       1      109\n",
        "#> NSW4       1      120\n",
        "#> NSW5       1      131\n",
        "#> NSW6       1      142"
      ],
      "metadata": {
        "id": "xOpKo3CgISlX"
      },
      "execution_count": null,
      "outputs": []
    },
    {
      "cell_type": "code",
      "source": [
        "library(\"lmtest\") #coeftest\n",
        "library(\"sandwich\") #vcovCL\n",
        "\n",
        "# imbalance matched dataset\n",
        "fit1 <- lm(re78 ~ treat + age + educ , #+ race + married + nodegree + re74 + re75, \n",
        "           data = m.data1, \n",
        "           weights = weights)\n",
        "\n",
        "coeftest(fit1, vcov. = vcovCL, cluster = ~subclass)\n",
        "#> \n",
        "#> t test of coefficients:\n",
        "#> \n",
        "#>              Estimate Std. Error t value Pr(>|t|)   \n",
        "#> (Intercept)  -106.555   2464.875 -0.0432 0.965542   \n",
        "#> treat       -1221.832    785.492 -1.5555 0.120691   \n",
        "#> age           152.118     53.241  2.8571 0.004519 **\n",
        "#> educ          362.502    171.893  2.1089 0.035634 * \n",
        "#> ---\n",
        "#> Signif. codes:  0 '***' 0.001 '**' 0.01 '*' 0.05 '.' 0.1 ' ' 1"
      ],
      "metadata": {
        "id": "mcmqnUOWIVwL"
      },
      "execution_count": null,
      "outputs": []
    },
    {
      "cell_type": "code",
      "source": [
        "# balance matched dataset \n",
        "m.data2 <- match.data(m.out2)\n",
        "\n",
        "fit2 <- lm(re78 ~ treat + age + educ , #+ race + married + nodegree + re74 + re75, \n",
        "           data = m.data2, weights = weights)\n",
        "\n",
        "coeftest(fit2, vcov. = vcovCL, cluster = ~subclass)\n",
        "#> \n",
        "#> t test of coefficients:\n",
        "#> \n",
        "#>             Estimate Std. Error t value Pr(>|t|)   \n",
        "#> (Intercept) -588.890   2890.500 -0.2037 0.838630   \n",
        "#> treat       -380.494    685.482 -0.5551 0.579047   \n",
        "#> age          169.097     53.592  3.1553 0.001682 **\n",
        "#> educ         285.433    206.986  1.3790 0.168400   \n",
        "#> ---\n",
        "#> Signif. codes:  0 '***' 0.001 '**' 0.01 '*' 0.05 '.' 0.1 ' ' 1"
      ],
      "metadata": {
        "id": "PPASCH3KIb0y"
      },
      "execution_count": null,
      "outputs": []
    },
    {
      "cell_type": "markdown",
      "source": [
        "Using MatchingFrontier"
      ],
      "metadata": {
        "id": "PS0fowJiJhNA"
      }
    },
    {
      "cell_type": "code",
      "source": [
        "# library(devtools)\n",
        "# install_github('ChristopherLucas/MatchingFrontier')\n",
        "library(MatchingFrontier)\n",
        "data(\"lalonde\")\n",
        "# choose var to match on\n",
        "match.on <- colnames(lalonde)[!(colnames(lalonde) %in% c('re78', 'treat'))]\n",
        "match.on\n",
        "\n",
        "# Mahanlanobis frontier (default)\n",
        "mahal.frontier <-\n",
        "    makeFrontier(\n",
        "        dataset = lalonde,\n",
        "        treatment = \"treat\",\n",
        "        match.on = match.on\n",
        "    )\n",
        "mahal.frontier\n",
        "\n",
        "# L1 frontier\n",
        "L1.frontier <-\n",
        "    makeFrontier(\n",
        "        dataset = lalonde,\n",
        "        treatment = 'treat',\n",
        "        match.on = match.on,\n",
        "        QOI = 'SATT',\n",
        "        metric = 'L1',\n",
        "        ratio = 'fixed'\n",
        "    )\n",
        "L1.frontier\n",
        "\n",
        "# estimate effects along the frontier\n",
        "\n",
        "# Set base form\n",
        "my.form <-\n",
        "    as.formula(re78 ~ treat + age + black + education + hispanic + married + nodegree + re74 + re75)\n",
        "\n",
        "# Estimate effects for the mahalanobis frontier\n",
        "mahal.estimates <-\n",
        "    estimateEffects(\n",
        "        mahal.frontier,\n",
        "        're78 ~ treat',\n",
        "        mod.dependence.formula = my.form,\n",
        "        continuous.vars = c('age', 'education', 're74', 're75'),\n",
        "        prop.estimated = .1,\n",
        "        means.as.cutpoints = TRUE\n",
        "    )\n",
        "\n",
        "# Estimate effects for the L1 frontier\n",
        "L1.estimates <-\n",
        "    estimateEffects(\n",
        "        L1.frontier,\n",
        "        're78 ~ treat',\n",
        "        mod.dependence.formula = my.form,\n",
        "        continuous.vars = c('age', 'education', 're74', 're75'),\n",
        "        prop.estimated = .1,\n",
        "        means.as.cutpoints = TRUE\n",
        "    )\n",
        "\n",
        "# Plot covariates means \n",
        "# plotPrunedMeans()\n",
        "\n",
        "\n",
        "# Plot estimates (deprecated)\n",
        "# plotEstimates(\n",
        "#     L1.estimates,\n",
        "#     ylim = c(-10000, 3000),\n",
        "#     cex.lab = 1.4,\n",
        "#     cex.axis = 1.4,\n",
        "#     panel.first = grid(NULL, NULL, lwd = 2,)\n",
        "# )\n",
        "\n",
        "# Plot estimates\n",
        "plotMeans(L1.frontier)\n",
        "\n",
        "\n",
        "# parallel plot\n",
        "parallelPlot(\n",
        "    L1.frontier,\n",
        "    N = 400,\n",
        "    variables = c('age', 're74', 're75', 'black'),\n",
        "    treated.col = 'blue',\n",
        "    control.col = 'gray'\n",
        ")\n",
        "\n",
        "# export matched dataset\n",
        "matched.data <- generateDataset(L1.frontier, N = 400) # take 400 units"
      ],
      "metadata": {
        "id": "ji-GyutdKhMu"
      },
      "execution_count": null,
      "outputs": []
    },
    {
      "cell_type": "markdown",
      "source": [
        "Using cem for Coarsened Exact Matching"
      ],
      "metadata": {
        "id": "51VcFy9gKlvi"
      }
    },
    {
      "cell_type": "code",
      "source": [
        "library(cem)\n",
        "data(LeLonde)\n",
        "\n",
        "Le <- data.frame(na.omit(LeLonde)) # remove missing data\n",
        "# treated and control groups\n",
        "tr <- which(Le$treated==1)\n",
        "ct <- which(Le$treated==0)\n",
        "ntr <- length(tr)\n",
        "nct <- length(ct)\n",
        "\n",
        "# unadjusted, biased difference in means\n",
        "mean(Le$re78[tr]) - mean(Le$re78[ct])\n",
        "#> [1] 759.0479\n",
        "\n",
        "# pre-treatment covariates\n",
        "vars <-\n",
        "    c(\n",
        "        \"age\",\n",
        "        \"education\",\n",
        "        \"black\",\n",
        "        \"married\",\n",
        "        \"nodegree\",\n",
        "        \"re74\",\n",
        "        \"re75\",\n",
        "        \"hispanic\",\n",
        "        \"u74\",\n",
        "        \"u75\",\n",
        "        \"q1\"\n",
        "    )\n",
        "\n",
        "# overall imbalance statistics\n",
        "imbalance(group=Le$treated, data=Le[vars]) # L1 = 0.902\n",
        "#> \n",
        "#> Multivariate Imbalance Measure: L1=0.902\n",
        "#> Percentage of local common support: LCS=5.8%\n",
        "#> \n",
        "#> Univariate Imbalance Measures:\n",
        "#> \n",
        "#>               statistic   type           L1 min 25%      50%       75%\n",
        "#> age        -0.252373042 (diff) 5.102041e-03   0   0   0.0000   -1.0000\n",
        "#> education   0.153634710 (diff) 8.463851e-02   1   0   1.0000    1.0000\n",
        "#> black      -0.010322734 (diff) 1.032273e-02   0   0   0.0000    0.0000\n",
        "#> married    -0.009551495 (diff) 9.551495e-03   0   0   0.0000    0.0000\n",
        "#> nodegree   -0.081217371 (diff) 8.121737e-02   0  -1   0.0000    0.0000\n",
        "#> re74      -18.160446880 (diff) 5.551115e-17   0   0 284.0715  806.3452\n",
        "#> re75      101.501761679 (diff) 5.551115e-17   0   0 485.6310 1238.4114\n",
        "#> hispanic   -0.010144756 (diff) 1.014476e-02   0   0   0.0000    0.0000\n",
        "#> u74        -0.045582186 (diff) 4.558219e-02   0   0   0.0000    0.0000\n",
        "#> u75        -0.065555292 (diff) 6.555529e-02   0   0   0.0000    0.0000\n",
        "#> q1          7.494021189 (Chi2) 1.067078e-01  NA  NA       NA        NA\n",
        "#>                  max\n",
        "#> age          -6.0000\n",
        "#> education     1.0000\n",
        "#> black         0.0000\n",
        "#> married       0.0000\n",
        "#> nodegree      0.0000\n",
        "#> re74      -2139.0195\n",
        "#> re75        490.3945\n",
        "#> hispanic      0.0000\n",
        "#> u74           0.0000\n",
        "#> u75           0.0000\n",
        "#> q1                NA\n",
        "\n",
        "# drop other variables that are not pre-treatmentt matching variables\n",
        "todrop <- c(\"treated\", \"re78\")\n",
        "imbalance(group=Le$treated, data=Le, drop=todrop)\n",
        "#> \n",
        "#> Multivariate Imbalance Measure: L1=0.902\n",
        "#> Percentage of local common support: LCS=5.8%\n",
        "#> \n",
        "#> Univariate Imbalance Measures:\n",
        "#> \n",
        "#>               statistic   type           L1 min 25%      50%       75%\n",
        "#> age        -0.252373042 (diff) 5.102041e-03   0   0   0.0000   -1.0000\n",
        "#> education   0.153634710 (diff) 8.463851e-02   1   0   1.0000    1.0000\n",
        "#> black      -0.010322734 (diff) 1.032273e-02   0   0   0.0000    0.0000\n",
        "#> married    -0.009551495 (diff) 9.551495e-03   0   0   0.0000    0.0000\n",
        "#> nodegree   -0.081217371 (diff) 8.121737e-02   0  -1   0.0000    0.0000\n",
        "#> re74      -18.160446880 (diff) 5.551115e-17   0   0 284.0715  806.3452\n",
        "#> re75      101.501761679 (diff) 5.551115e-17   0   0 485.6310 1238.4114\n",
        "#> hispanic   -0.010144756 (diff) 1.014476e-02   0   0   0.0000    0.0000\n",
        "#> u74        -0.045582186 (diff) 4.558219e-02   0   0   0.0000    0.0000\n",
        "#> u75        -0.065555292 (diff) 6.555529e-02   0   0   0.0000    0.0000\n",
        "#> q1          7.494021189 (Chi2) 1.067078e-01  NA  NA       NA        NA\n",
        "#>                  max\n",
        "#> age          -6.0000\n",
        "#> education     1.0000\n",
        "#> black         0.0000\n",
        "#> married       0.0000\n",
        "#> nodegree      0.0000\n",
        "#> re74      -2139.0195\n",
        "#> re75        490.3945\n",
        "#> hispanic      0.0000\n",
        "#> u74           0.0000\n",
        "#> u75           0.0000\n",
        "#> q1                NA"
      ],
      "metadata": {
        "id": "O_wCAxYSKjXS"
      },
      "execution_count": null,
      "outputs": []
    },
    {
      "cell_type": "code",
      "source": [
        "## Automated Coarsening\n",
        "\n",
        "mat <- cem(treatment = \"treated\", data = Le, drop = \"re78\",keep.all=TRUE)\n",
        "#> \n",
        "#> Using 'treated'='1' as baseline group\n",
        "mat\n",
        "#>            G0  G1\n",
        "#> All       392 258\n",
        "#> Matched    95  84\n",
        "#> Unmatched 297 174\n",
        "\n",
        "# mat$w"
      ],
      "metadata": {
        "id": "5fzmXYksKuyi"
      },
      "execution_count": null,
      "outputs": []
    },
    {
      "cell_type": "code",
      "source": [
        "## Coarsening by Explicit User Choice\n",
        "\n",
        "# categorial variables\n",
        "levels(Le$q1) # grouping option\n",
        "#> [1] \"agree\"             \"disagree\"          \"neutral\"          \n",
        "#> [4] \"no opinion\"        \"strongly agree\"    \"strongly disagree\"\n",
        "q1.grp <- list(c(\"strongly agree\", \"agree\"), c(\"neutral\", \"no opinion\"), c(\"strongly disagree\",\"disagree\")) # if you want ordered categories\n",
        "\n",
        "# continuous variables \n",
        "table(Le$education)\n",
        "#> \n",
        "#>   3   4   5   6   7   8   9  10  11  12  13  14  15 \n",
        "#>   1   5   4   6  12  55 106 146 173 113  19   9   1\n",
        "educut <- c(0, 6.5, 8.5, 12.5, 17)  # use cutpoints\n",
        "\n",
        "mat1 <- cem(treatment = \"treated\", data = Le, drop = \"re78\", cutpoints = list(education=educut), grouping=list(q1=q1.grp))\n",
        "#> \n",
        "#> Using 'treated'='1' as baseline group\n",
        "mat1\n",
        "#>            G0  G1\n",
        "#> All       392 258\n",
        "#> Matched   158 115\n",
        "#> Unmatched 234 143"
      ],
      "metadata": {
        "id": "tzQqUlWTKwpq"
      },
      "execution_count": null,
      "outputs": []
    },
    {
      "cell_type": "markdown",
      "source": [
        "Genetic Matching"
      ],
      "metadata": {
        "id": "WdZZBrMHK1CG"
      }
    },
    {
      "cell_type": "code",
      "source": [
        "library(Matching)\n",
        "data(lalonde)\n",
        "attach(lalonde)\n",
        "\n",
        "#The covariates we want to match on\n",
        "X = cbind(age, educ, black, hisp, married, nodegr, u74, u75, re75, re74)\n",
        "\n",
        "#The covariates we want to obtain balance on\n",
        "BalanceMat <- cbind(age, educ, black, hisp, married, nodegr, u74, u75, re75, re74,\n",
        "                    I(re74*re75))\n",
        "\n",
        "#\n",
        "#Let's call GenMatch() to find the optimal weight to give each\n",
        "#covariate in 'X' so as we have achieved balance on the covariates in\n",
        "#'BalanceMat'. This is only an example so we want GenMatch to be quick\n",
        "#so the population size has been set to be only 16 via the 'pop.size'\n",
        "#option. This is *WAY* too small for actual problems.\n",
        "#For details see http://sekhon.berkeley.edu/papers/MatchingJSS.pdf.\n",
        "#\n",
        "genout <- GenMatch(Tr=treat, X=X, BalanceMatrix=BalanceMat, estimand=\"ATE\", M=1,\n",
        "                   pop.size=16, max.generations=10, wait.generations=1)\n",
        "\n",
        "#The outcome variable\n",
        "Y=re78/1000\n",
        "\n",
        "#\n",
        "# Now that GenMatch() has found the optimal weights, let's estimate\n",
        "# our causal effect of interest using those weights\n",
        "#\n",
        "mout <- Match(Y=Y, Tr=treat, X=X, estimand=\"ATE\", Weight.matrix=genout)\n",
        "summary(mout)\n",
        "\n",
        "#                        \n",
        "#Let's determine if balance has actually been obtained on the variables of interest\n",
        "#                        \n",
        "mb <- MatchBalance(treat~age +educ+black+ hisp+ married+ nodegr+ u74+ u75+\n",
        "                   re75+ re74+ I(re74*re75),\n",
        "                   match.out=mout, nboots=500)"
      ],
      "metadata": {
        "id": "vzaJciD6LHn3"
      },
      "execution_count": null,
      "outputs": []
    }
  ]
}